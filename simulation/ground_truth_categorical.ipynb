{
 "cells": [
  {
   "cell_type": "code",
   "execution_count": 83,
   "metadata": {},
   "outputs": [
    {
     "name": "stdout",
     "output_type": "stream",
     "text": [
      "The autoreload extension is already loaded. To reload it, use:\n",
      "  %reload_ext autoreload\n"
     ]
    }
   ],
   "source": [
    "import pandas as pd\n",
    "import numpy as np\n",
    "from tqdm import tqdm\n",
    "\n",
    "import matplotlib.pyplot as plt\n",
    "\n",
    "import sklearn\n",
    "from sklearn.model_selection import train_test_split\n",
    "import sklearn.preprocessing as preprocessing\n",
    "from sklearn import linear_model\n",
    "import sklearn.metrics as metrics\n",
    "\n",
    "%matplotlib inline\n",
    "%load_ext autoreload\n",
    "%autoreload 2\n",
    "from plotnine import *\n",
    "import scienceplots\n",
    "plt.style.use(['science','nature', 'no-latex'])\n",
    "\n",
    "import sys\n",
    "sys.path.append('../src')\n",
    "sys.path.append('../slicefinder')\n",
    "import utils\n",
    "from stability_analysis import LatentSubgroupShiftEstimator\n",
    "from clustering_analysis import ClusteringEstimator\n",
    "import sirus\n",
    "import subprocess\n",
    "from slice_finder import SliceFinder\n",
    "from statsmodels.stats.weightstats import ztest, ttest_ind\n"
   ]
  },
  {
   "cell_type": "markdown",
   "metadata": {},
   "source": [
    "# Generate Synthetic Data"
   ]
  },
  {
   "cell_type": "code",
   "execution_count": 6,
   "metadata": {},
   "outputs": [],
   "source": [
    "def sigmoid(x):\n",
    "    return(1./(1. + np.exp(-x)))\n",
    "\n",
    "def generate_data(n=10000, dim=10, cardinality=2):\n",
    "    # categorical data\n",
    "    # for now let's assume binary\n",
    "    if cardinality > 2:\n",
    "        raise NotImplementedError(\"Currently only supports binary features 'cardinality == 2'\")\n",
    "    X = np.random.randint(low=0, high=cardinality, size=(n, dim))\n",
    "    # bernoulli to rademacher\n",
    "    X = 2*X - 1\n",
    "    \n",
    "    logit = 1.6 * X[:, 0] + 1.4 * X[:, 2] + 1.2 * X[:, 3]\n",
    "    probs = sigmoid(logit)\n",
    "    y = np.random.binomial(1, probs)\n",
    "    \n",
    "    return X, y\n",
    "\n",
    "def generate_random_data(n=10000, dim=10, features=None, coeffs=None, cardinality=2):\n",
    "    if cardinality > 2:\n",
    "        raise NotImplementedError(\"Currently only supports binary features 'cardinality == 2'\")\n",
    "    X = np.random.randint(low=0, high=cardinality, size=(n, dim))\n",
    "    # bernoulli to rademacher\n",
    "    X = 2*X - 1\n",
    "\n",
    "    if features is None:\n",
    "        num_relevant_features = max(1, min(np.random.poisson(3), dim))\n",
    "        features = sorted(np.random.choice(range(dim), num_relevant_features, replace=False))\n",
    "    if coeffs is None:\n",
    "        signs = np.random.binomial(1, 0.6, num_relevant_features)\n",
    "        signs = 2*signs - 1\n",
    "        # signs *= 2\n",
    "        coeffs = np.random.randn(num_relevant_features)*0.5**2 + signs\n",
    "    print(coeffs)\n",
    "    logit = np.dot(X[:, features], coeffs)\n",
    "    probs = sigmoid(logit)\n",
    "    y = np.random.binomial(1, probs)\n",
    "    \n",
    "    return X, y"
   ]
  },
  {
   "cell_type": "code",
   "execution_count": 7,
   "metadata": {},
   "outputs": [],
   "source": [
    "# measure performance\n",
    "# Recall, precision, FDR\n",
    "def ground_truth_performance(true_mask, rules, df):\n",
    "    if len(rules) > 0:\n",
    "        \n",
    "        masks = []\n",
    "        for rule in rules:\n",
    "            masks.append(df.eval(rule))\n",
    "        \n",
    "        estimated_mask = masks[0]\n",
    "        for i in range(1, len(masks)):\n",
    "            estimated_mask = estimated_mask | masks[i]\n",
    "    else:\n",
    "        estimated_mask = true_mask & False\n",
    "        return(0, 0, 0)\n",
    "    \n",
    "    # recall\n",
    "    true_inds = true_mask == True\n",
    "    recall = (true_mask[true_inds] == estimated_mask[true_inds]).mean()\n",
    "\n",
    "    # precision\n",
    "    pred_pos_inds = estimated_mask == True\n",
    "    precision = (true_mask[pred_pos_inds] == estimated_mask[pred_pos_inds]).mean()\n",
    "\n",
    "    fdr = 1 - precision\n",
    "\n",
    "    return(recall, precision, fdr)"
   ]
  },
  {
   "cell_type": "code",
   "execution_count": 8,
   "metadata": {},
   "outputs": [],
   "source": [
    "def run_clustering(X_test, test_loss, subgroup_mask, depth=2):\n",
    "    cl = ClusteringEstimator(verbose=False)\n",
    "    cl.fit(X_test, test_loss)\n",
    "    \n",
    "    phenotype_df = pd.DataFrame(X_test)\n",
    "    phenotype_df = phenotype_df.add_prefix('X')\n",
    "    \n",
    "    phenotype_df['subset_label'] = cl.masks_*1\n",
    "    \n",
    "    df_fname = f\"tmp/cl_ground_truth.csv\"\n",
    "    \n",
    "    phenotype_df.to_csv(df_fname, index=False)\n",
    "\n",
    "    print(\"Running Clustering\")\n",
    "    cl_rules_fname = f\"tmp/groundtruth_cl_rules.txt\"\n",
    "    subprocess.call((f\"/home/adarsh.subbaswamy/anaconda3/envs/afisp/bin/Rscript\" \n",
    "    f\" run_sirus.r\" \n",
    "    f\" --input {df_fname} \"\n",
    "    f\" --output {cl_rules_fname}\"\n",
    "    f\" --depth {depth}\"\n",
    "    f\" \"),\n",
    "    shell=True)\n",
    "    \n",
    "    cl_rules = sirus.get_sirus_rules(cl_rules_fname)\n",
    "    cl_rule_p_values = sirus.precompute_p_values(cl_rules, phenotype_df, test_loss)\n",
    "    cl_significant_rules = sirus.holm_bonferroni_correction(cl_rule_p_values)\n",
    "    \n",
    "    cl_extracted_rules = sirus.effect_size_filtering(cl_significant_rules, phenotype_df, test_loss, \n",
    "                                                  effect_threshold=0.4)\n",
    "    \n",
    "    cl_recall, cl_precision, cl_fdr = ground_truth_performance(subgroup_mask, \n",
    "                                                               cl_extracted_rules, \n",
    "                                                               phenotype_df)\n",
    "    cl_recall_top, cl_precision_top, cl_fdr_top = ground_truth_performance(subgroup_mask, \n",
    "                                                           cl_extracted_rules[0:1], \n",
    "                                                           phenotype_df)\n",
    "\n",
    "    return(( cl_recall, cl_precision, cl_fdr), (cl_recall_top, cl_precision_top, cl_fdr_top))"
   ]
  },
  {
   "cell_type": "code",
   "execution_count": 9,
   "metadata": {},
   "outputs": [],
   "source": [
    "# Correctly specified\n",
    "def well_specified(plot=True, misspecified=False, depth=2):\n",
    "    # X, y = generate_data(50000)\n",
    "    X_all, y_all = generate_random_data(60000)\n",
    "    X = X_all[:50000]\n",
    "    y = y_all [:50000]\n",
    "\n",
    "    model = linear_model.LogisticRegression(C=1e6, fit_intercept=False)\n",
    "    model.fit(X, y)\n",
    "\n",
    "    X_test = X_all[50000:]\n",
    "    y_test = y_all[50000:]\n",
    "    # X_test, y_test = generate_data(10000)\n",
    "\n",
    "    subgroup_mask =  (X_test[:, 2] == -1) & (X_test[:, 3] == 1)\n",
    "    if misspecified:\n",
    "        subgroup_mask = (X_test[:, 8] == 1) & (X_test[:, 2] == -1) & (X_test[:, 3] == 1)\n",
    "    \n",
    "    print(f\"Subgroup size is {sum(subgroup_mask)/len(y_test):.1%}\")\n",
    "\n",
    "    flipped_inds = []\n",
    "    for i in range(len(y_test)):\n",
    "        if subgroup_mask[i]:\n",
    "            if np.random.binomial(1, 0.5) == 1:\n",
    "                if y_test[i] == 1:\n",
    "                    y_test[i] = 0\n",
    "                else:\n",
    "                    y_test[i] = 1\n",
    "                flipped_inds.append(i)\n",
    "            \n",
    "    test_preds = model.predict_proba(X_test)[:, 1]\n",
    "\n",
    "    print(f\"Avg Brier Score on Dataset = {metrics.brier_score_loss(y_test, test_preds):.3f}\")\n",
    "    print(f\"Brier Score in Subgroup = {metrics.brier_score_loss(y_test[subgroup_mask], test_preds[subgroup_mask]):.3f}\")\n",
    "    print(f\"Brier Score out of Subgroup = {metrics.brier_score_loss(y_test[~subgroup_mask], test_preds[~subgroup_mask]):.3f}\")\n",
    "\n",
    "    loss_fn = utils.brier\n",
    "    test_loss = loss_fn(y_test, test_preds)\n",
    "    phenotype_df = pd.DataFrame(X_test)\n",
    "    phenotype_df = phenotype_df.add_prefix('X')\n",
    "    # adding noise (eps > 0) because most of our features are discrete\n",
    "    stability_analysis = LatentSubgroupShiftEstimator(cv=5,\n",
    "                                                     verbose=False,\n",
    "                                                     eps=1e-5,\n",
    "                                                     subset_fractions=np.arange(0.05, 1, 0.05))\n",
    "    sa_risks = stability_analysis.fit(X_test, test_loss, feature_names=list(phenotype_df.columns))\n",
    "    print(\"done fitting worst-case\")\n",
    "    sa_masks = stability_analysis.subset_masks()\n",
    "    if plot:\n",
    "        # can also compute bootstrap confidence intervals\n",
    "        bootstrap_cis = np.zeros((len(sa_masks), 2))\n",
    "        for i, alpha in tqdm(enumerate(stability_analysis.subset_fractions)):\n",
    "            mask = sa_masks[i]\n",
    "            mean, upper, lower = utils.bootstrap_ci(y_test[mask], \n",
    "                                                    test_preds[mask], \n",
    "                                                    loss=metrics.brier_score_loss)\n",
    "            bootstrap_cis[i, 0] = lower\n",
    "            bootstrap_cis[i, 1] = upper\n",
    "    \n",
    "        plt.plot(stability_analysis.subset_fractions, np.array(sa_risks))\n",
    "        plt.fill_between(stability_analysis.subset_fractions,\n",
    "                         bootstrap_cis[:, 0], \n",
    "                         bootstrap_cis[:, 1], \n",
    "                         alpha=0.25, \n",
    "                         label='Bootstrap')\n",
    "        plt.xlabel('Subset Fraction')\n",
    "        plt.ylabel('Brier Score')\n",
    "        plt.legend(loc='best')\n",
    "        plt.show()\n",
    "\n",
    "\n",
    "    cds = []\n",
    "    p_vals = []\n",
    "    \n",
    "    for i, a in enumerate(stability_analysis.subset_fractions):\n",
    "        idxs = sa_masks[i]\n",
    "        odxs = ~sa_masks[i]\n",
    "        cds.append(sirus.cohens_d(test_loss[idxs], test_loss[odxs]))\n",
    "        pval = ttest_ind(test_loss[idxs], \n",
    "                             x2=test_loss[odxs], \n",
    "                             value=0.,\n",
    "                             alternative='larger',\n",
    "                             usevar='unequal')[1]\n",
    "        p_vals.append(pval)\n",
    "        \n",
    "    if plot:\n",
    "        plt.plot(stability_analysis.subset_fractions, cds)\n",
    "        plt.xlabel('Subset Fraction')\n",
    "        plt.ylabel('Cohens d (Effect Size)')\n",
    "        plt.show()\n",
    "\n",
    "    max_ind, max_cd = sirus.find_max_effect_size(sa_masks, test_loss)\n",
    "    print(max_ind, stability_analysis.subset_fractions[max_ind], max_cd)\n",
    "\n",
    "    \n",
    "    phenotype_df['subset_label'] = sa_masks[max_ind]*1\n",
    "    \n",
    "    df_fname = f\"tmp/ground_truth.csv\"\n",
    "    \n",
    "    phenotype_df.to_csv(df_fname, index=False)\n",
    "    print(\"AFISP\")\n",
    "    sirus_rules_fname = f\"tmp/groundtruth_sirus_rules.txt\"\n",
    "    subprocess.call((f\"/home/adarsh.subbaswamy/anaconda3/envs/afisp/bin/Rscript\" \n",
    "    f\" run_sirus.r\" \n",
    "    f\" --input {df_fname} \"\n",
    "    f\" --output {sirus_rules_fname}\"\n",
    "    f\" --depth {depth}\"\n",
    "    f\" \"), # --cv\n",
    "    shell=True)\n",
    "\n",
    "    \n",
    "    sirus_rules = sirus.get_sirus_rules(sirus_rules_fname)\n",
    "    rule_p_values = sirus.precompute_p_values(sirus_rules, phenotype_df, test_loss)\n",
    "    significant_rules = sirus.holm_bonferroni_correction(rule_p_values)\n",
    "    \n",
    "    extracted_rules = sirus.effect_size_filtering(significant_rules, phenotype_df, test_loss, \n",
    "                                                  effect_threshold=0.4)\n",
    "    afisp_recall, afisp_precision, afisp_fdr = ground_truth_performance(subgroup_mask, \n",
    "                                                                        extracted_rules, \n",
    "                                                                        phenotype_df)\n",
    "    afisp_recall_top, afisp_precision_top, afisp_fdr_top = ground_truth_performance(subgroup_mask, \n",
    "                                                                        extracted_rules[0:1], \n",
    "                                                                        phenotype_df)\n",
    "    (cl_recall, cl_precision, cl_fdr), ( cl_recall_top, cl_precision_top, cl_fdr_top) = run_clustering(X_test, \n",
    "                                                                                                       test_loss,\n",
    "                                                                                                       subgroup_mask,\n",
    "                                                                                                       depth\n",
    "                                                                                                      )\n",
    "    \n",
    "    sfX = pd.DataFrame(X_test)\n",
    "    sfX = sfX.add_prefix('X')\n",
    "    sf = SliceFinder(model, (sfX, pd.DataFrame({'y': y_test})))\n",
    "    d1_slices = sf.slicing()\n",
    "    d2_slices = sf.crossing(d1_slices, 2)\n",
    "    candidate_slices = d1_slices + d2_slices\n",
    "    candidate_rules = [sirus.slice_to_equality_rule(s) for s in candidate_slices]\n",
    "    \n",
    "    rule_p_values = sirus.precompute_p_values(candidate_rules, sfX, test_loss)\n",
    "    significant_rules = sirus.holm_bonferroni_correction(rule_p_values)\n",
    "    \n",
    "    sf_extracted_rules = sirus.effect_size_filtering(significant_rules, sfX, test_loss, \n",
    "                                                  effect_threshold=0.4)\n",
    "\n",
    "    sf_recall, sf_precision, sf_fdr = ground_truth_performance(subgroup_mask, \n",
    "                                                                        sf_extracted_rules, \n",
    "                                                                        phenotype_df)\n",
    "    sf_recall_top, sf_precision_top, sf_fdr_top = ground_truth_performance(subgroup_mask, \n",
    "                                                                        sf_extracted_rules[0:1], \n",
    "                                                                        phenotype_df)\n",
    "\n",
    "    \n",
    "    # recommendations = sf.find_slice(k=100, epsilon=0.2, degree=depth, max_workers=32)\n",
    "    # sf_rules = [sirus.slice_to_equality_rule(s) for s in recommendations]\n",
    "\n",
    "    # sf_recall, sf_precision, sf_fdr = ground_truth_performance(subgroup_mask, \n",
    "    #                                                            sf_rules,\n",
    "    #                                                            phenotype_df)\n",
    "    # sf_recall_top, sf_precision_top, sf_fdr_top = ground_truth_performance(subgroup_mask, \n",
    "    #                                                        sf_rules[0:1],\n",
    "    #                                                        phenotype_df)\n",
    "\n",
    "    print(afisp_recall, afisp_precision)\n",
    "    print(sf_recall, sf_precision)\n",
    "    print(cl_recall, cl_precision)\n",
    "\n",
    "    return((afisp_recall, afisp_precision), \n",
    "           (sf_recall, sf_precision), \n",
    "           (cl_recall, cl_precision),\n",
    "           (afisp_recall_top, afisp_precision_top), \n",
    "           (sf_recall_top, sf_precision_top), \n",
    "           (cl_recall_top, cl_precision_top)\n",
    "          )"
   ]
  },
  {
   "cell_type": "code",
   "execution_count": 10,
   "metadata": {
    "scrolled": true
   },
   "outputs": [
    {
     "name": "stderr",
     "output_type": "stream",
     "text": [
      "  0%|                                                                                                         | 0/50 [00:00<?, ?it/s]"
     ]
    },
    {
     "name": "stdout",
     "output_type": "stream",
     "text": [
      "[0.65730985 0.81546643 0.88371288]\n",
      "Subgroup size is 25.4%\n",
      "Avg Brier Score on Dataset = 0.217\n",
      "Brier Score in Subgroup = 0.320\n",
      "Brier Score out of Subgroup = 0.182\n",
      "done fitting worst-case\n",
      "16 0.8500000000000001 0.6855733729042168\n",
      "AFISP\n"
     ]
    },
    {
     "name": "stderr",
     "output_type": "stream",
     "text": [
      "During startup - Warning messages:\n",
      "1: Setting LC_CTYPE failed, using \"C\" \n",
      "2: Setting LC_COLLATE failed, using \"C\" \n",
      "3: Setting LC_TIME failed, using \"C\" \n",
      "4: Setting LC_MESSAGES failed, using \"C\" \n",
      "5: Setting LC_MONETARY failed, using \"C\" \n",
      "6: Setting LC_PAPER failed, using \"C\" \n",
      "7: Setting LC_MEASUREMENT failed, using \"C\" \n"
     ]
    },
    {
     "name": "stdout",
     "output_type": "stream",
     "text": [
      "[1] 2\n",
      "[1] \"Number of trees:  1000  - Stability  91.92  %.\"\n",
      "[1] \"Number of trees:  2000  - Stability  93.7  %.\"\n",
      "[1] \"Number of trees:  3000  - Stability  94.43  %.\"\n",
      "[1] \"Number of trees:  4000  - Stability  94.87  %.\"\n",
      "[1] \"Number of trees:  5000  - Stability  95.44  %.\"\n"
     ]
    },
    {
     "name": "stderr",
     "output_type": "stream",
     "text": [
      "\n",
      "100%|███████████████████████████████████████████████████████████████████████████████████████████████| 10/10 [00:00<00:00, 149.73it/s]\u001b[A\n"
     ]
    },
    {
     "name": "stdout",
     "output_type": "stream",
     "text": [
      "5 ('X8 >= 1', 0.02397436865894105, 5016) 0.008333333333333333\n"
     ]
    },
    {
     "name": "stderr",
     "output_type": "stream",
     "text": [
      "\n",
      "100%|█████████████████████████████████████████████████████████████████████████████████████████████████| 4/4 [00:00<00:00, 161.59it/s]\u001b[A\n"
     ]
    },
    {
     "name": "stdout",
     "output_type": "stream",
     "text": [
      "Running Clustering\n"
     ]
    },
    {
     "name": "stderr",
     "output_type": "stream",
     "text": [
      "During startup - Warning messages:\n",
      "1: Setting LC_CTYPE failed, using \"C\" \n",
      "2: Setting LC_COLLATE failed, using \"C\" \n",
      "3: Setting LC_TIME failed, using \"C\" \n",
      "4: Setting LC_MESSAGES failed, using \"C\" \n",
      "5: Setting LC_MONETARY failed, using \"C\" \n",
      "6: Setting LC_PAPER failed, using \"C\" \n",
      "7: Setting LC_MEASUREMENT failed, using \"C\" \n"
     ]
    },
    {
     "name": "stdout",
     "output_type": "stream",
     "text": [
      "[1] 2\n",
      "[1] \"Number of trees:  1000  - Stability  90.32  %.\"\n",
      "[1] \"Number of trees:  2000  - Stability  92.6  %.\"\n",
      "[1] \"Number of trees:  3000  - Stability  93.9  %.\"\n",
      "[1] \"Number of trees:  4000  - Stability  94.42  %.\"\n",
      "[1] \"Number of trees:  5000  - Stability  94.65  %.\"\n",
      "[1] \"Number of trees:  6000  - Stability  94.87  %.\"\n",
      "[1] \"Number of trees:  7000  - Stability  95.21  %.\"\n"
     ]
    },
    {
     "name": "stderr",
     "output_type": "stream",
     "text": [
      "\n",
      "100%|███████████████████████████████████████████████████████████████████████████████████████████████| 10/10 [00:00<00:00, 140.05it/s]\u001b[A\n"
     ]
    },
    {
     "name": "stdout",
     "output_type": "stream",
     "text": [
      "5 ('X5 >= 1', 0.30031929909828925, 5056) 0.008333333333333333\n"
     ]
    },
    {
     "name": "stderr",
     "output_type": "stream",
     "text": [
      "\n",
      "100%|█████████████████████████████████████████████████████████████████████████████████████████████████| 4/4 [00:00<00:00, 176.01it/s]\u001b[A\n",
      "\n",
      "  0%|                                                                                                        | 0/210 [00:00<?, ?it/s]\u001b[A\n",
      " 10%|█████████▍                                                                                    | 21/210 [00:00<00:00, 206.30it/s]\u001b[A\n",
      " 20%|██████████████████▊                                                                           | 42/210 [00:00<00:00, 181.42it/s]\u001b[A\n",
      " 29%|███████████████████████████▎                                                                  | 61/210 [00:00<00:00, 176.38it/s]\u001b[A\n",
      " 38%|███████████████████████████████████▎                                                          | 79/210 [00:00<00:00, 173.06it/s]\u001b[A\n",
      " 46%|███████████████████████████████████████████▍                                                  | 97/210 [00:00<00:00, 172.49it/s]\u001b[A\n",
      " 55%|██████████████████████████████████████████████████▉                                          | 115/210 [00:00<00:00, 171.05it/s]\u001b[A\n",
      " 63%|██████████████████████████████████████████████████████████▉                                  | 133/210 [00:00<00:00, 171.16it/s]\u001b[A\n",
      " 72%|██████████████████████████████████████████████████████████████████▊                          | 151/210 [00:00<00:00, 165.18it/s]\u001b[A\n",
      " 80%|██████████████████████████████████████████████████████████████████████████▍                  | 168/210 [00:00<00:00, 159.35it/s]\u001b[A\n",
      " 88%|█████████████████████████████████████████████████████████████████████████████████▍           | 184/210 [00:01<00:00, 157.78it/s]\u001b[A\n",
      "100%|█████████████████████████████████████████████████████████████████████████████████████████████| 210/210 [00:01<00:00, 164.34it/s]\u001b[A\n"
     ]
    },
    {
     "name": "stdout",
     "output_type": "stream",
     "text": [
      "42 ('(X5 == 1) and (X8 == 1)', 0.007273842797540529, 2546) 0.0002958579881656805\n"
     ]
    },
    {
     "name": "stderr",
     "output_type": "stream",
     "text": [
      "\n",
      "  0%|                                                                                                         | 0/41 [00:00<?, ?it/s]\u001b[A\n",
      " 51%|████████████████████████████████████████████████▋                                              | 21/41 [00:00<00:00, 199.87it/s]\u001b[A\n",
      "100%|███████████████████████████████████████████████████████████████████████████████████████████████| 41/41 [00:00<00:00, 186.21it/s]\u001b[A\n",
      "  2%|█▉                                                                                               | 1/50 [00:44<35:57, 44.04s/it]"
     ]
    },
    {
     "name": "stdout",
     "output_type": "stream",
     "text": [
      "0 0\n",
      "1.0 1.0\n",
      "0 0\n",
      "[1.0174135  0.42365344]\n",
      "Subgroup size is 25.3%\n",
      "Avg Brier Score on Dataset = 0.221\n",
      "Brier Score in Subgroup = 0.305\n",
      "Brier Score out of Subgroup = 0.192\n",
      "done fitting worst-case\n",
      "4 0.25 0.5268488424783976\n",
      "AFISP\n"
     ]
    },
    {
     "name": "stderr",
     "output_type": "stream",
     "text": [
      "During startup - Warning messages:\n",
      "1: Setting LC_CTYPE failed, using \"C\" \n",
      "2: Setting LC_COLLATE failed, using \"C\" \n",
      "3: Setting LC_TIME failed, using \"C\" \n",
      "4: Setting LC_MESSAGES failed, using \"C\" \n",
      "5: Setting LC_MONETARY failed, using \"C\" \n",
      "6: Setting LC_PAPER failed, using \"C\" \n",
      "7: Setting LC_MEASUREMENT failed, using \"C\" \n"
     ]
    },
    {
     "name": "stdout",
     "output_type": "stream",
     "text": [
      "[1] 2\n",
      "[1] \"Number of trees:  1000  - Stability  90.56  %.\"\n",
      "[1] \"Number of trees:  2000  - Stability  92.77  %.\"\n",
      "[1] \"Number of trees:  3000  - Stability  93.7  %.\"\n",
      "[1] \"Number of trees:  4000  - Stability  94.17  %.\"\n",
      "[1] \"Number of trees:  5000  - Stability  94.85  %.\"\n",
      "[1] \"Number of trees:  6000  - Stability  95.09  %.\"\n"
     ]
    },
    {
     "name": "stderr",
     "output_type": "stream",
     "text": [
      "\n",
      "100%|███████████████████████████████████████████████████████████████████████████████████████████████| 10/10 [00:00<00:00, 165.70it/s]\u001b[A\n"
     ]
    },
    {
     "name": "stdout",
     "output_type": "stream",
     "text": [
      "6 ('X7 >= 1', 0.17447374134707822, 4959) 0.01\n"
     ]
    },
    {
     "name": "stderr",
     "output_type": "stream",
     "text": [
      "\n",
      "100%|█████████████████████████████████████████████████████████████████████████████████████████████████| 5/5 [00:00<00:00, 167.23it/s]\u001b[A\n"
     ]
    },
    {
     "name": "stdout",
     "output_type": "stream",
     "text": [
      "Running Clustering\n"
     ]
    },
    {
     "name": "stderr",
     "output_type": "stream",
     "text": [
      "During startup - Warning messages:\n",
      "1: Setting LC_CTYPE failed, using \"C\" \n",
      "2: Setting LC_COLLATE failed, using \"C\" \n",
      "3: Setting LC_TIME failed, using \"C\" \n",
      "4: Setting LC_MESSAGES failed, using \"C\" \n",
      "5: Setting LC_MONETARY failed, using \"C\" \n",
      "6: Setting LC_PAPER failed, using \"C\" \n",
      "7: Setting LC_MEASUREMENT failed, using \"C\" \n"
     ]
    },
    {
     "name": "stdout",
     "output_type": "stream",
     "text": [
      "[1] 2\n",
      "[1] \"Number of trees:  1000  - Stability  90.85  %.\"\n",
      "[1] \"Number of trees:  2000  - Stability  91.21  %.\"\n",
      "[1] \"Number of trees:  3000  - Stability  92.73  %.\"\n",
      "[1] \"Number of trees:  4000  - Stability  92.38  %.\"\n",
      "[1] \"Number of trees:  5000  - Stability  93.68  %.\"\n",
      "[1] \"Number of trees:  6000  - Stability  93.54  %.\"\n",
      "[1] \"Number of trees:  7000  - Stability  93.84  %.\"\n",
      "[1] \"Number of trees:  8000  - Stability  94.15  %.\"\n",
      "[1] \"Number of trees:  9000  - Stability  94.8  %.\"\n",
      "[1] \"Number of trees:  10000  - Stability  94.69  %.\"\n",
      "[1] \"Number of trees:  11000  - Stability  95.04  %.\"\n"
     ]
    },
    {
     "name": "stderr",
     "output_type": "stream",
     "text": [
      "\n",
      "100%|███████████████████████████████████████████████████████████████████████████████████████████████| 10/10 [00:00<00:00, 168.59it/s]\u001b[A\n"
     ]
    },
    {
     "name": "stdout",
     "output_type": "stream",
     "text": [
      "6 ('X7 >= 1', 0.17447374134707822, 4959) 0.01\n"
     ]
    },
    {
     "name": "stderr",
     "output_type": "stream",
     "text": [
      "\n",
      "100%|█████████████████████████████████████████████████████████████████████████████████████████████████| 5/5 [00:00<00:00, 190.42it/s]\u001b[A\n",
      "\n",
      "  0%|                                                                                                        | 0/210 [00:00<?, ?it/s]\u001b[A\n",
      " 10%|█████████▊                                                                                    | 22/210 [00:00<00:00, 216.49it/s]\u001b[A\n",
      " 21%|███████████████████▋                                                                          | 44/210 [00:00<00:00, 197.47it/s]\u001b[A\n",
      " 30%|████████████████████████████▋                                                                 | 64/210 [00:00<00:00, 191.75it/s]\u001b[A\n",
      " 40%|█████████████████████████████████████▌                                                        | 84/210 [00:00<00:00, 188.52it/s]\u001b[A\n",
      " 49%|█████████████████████████████████████████████▌                                               | 103/210 [00:00<00:00, 187.85it/s]\u001b[A\n",
      " 58%|██████████████████████████████████████████████████████                                       | 122/210 [00:00<00:00, 187.44it/s]\u001b[A\n",
      " 67%|██████████████████████████████████████████████████████████████▍                              | 141/210 [00:00<00:00, 188.22it/s]\u001b[A\n",
      " 76%|██████████████████████████████████████████████████████████████████████▊                      | 160/210 [00:00<00:00, 183.12it/s]\u001b[A\n",
      " 85%|███████████████████████████████████████████████████████████████████████████████▎             | 179/210 [00:00<00:00, 183.86it/s]\u001b[A\n",
      "100%|█████████████████████████████████████████████████████████████████████████████████████████████| 210/210 [00:01<00:00, 185.51it/s]\u001b[A\n"
     ]
    },
    {
     "name": "stdout",
     "output_type": "stream",
     "text": [
      "39 ('(X5 == 1) and (X8 == 1)', 0.03654129241651203, 2540) 0.00029069767441860465\n"
     ]
    },
    {
     "name": "stderr",
     "output_type": "stream",
     "text": [
      "\n",
      "  0%|                                                                                                         | 0/38 [00:00<?, ?it/s]\u001b[A\n",
      " 47%|█████████████████████████████████████████████                                                  | 18/38 [00:00<00:00, 179.15it/s]\u001b[A\n",
      "100%|███████████████████████████████████████████████████████████████████████████████████████████████| 38/38 [00:00<00:00, 171.74it/s]\u001b[A\n",
      "  4%|███▉                                                                                             | 2/50 [01:08<26:05, 32.61s/it]"
     ]
    },
    {
     "name": "stdout",
     "output_type": "stream",
     "text": [
      "0 0\n",
      "1.0 1.0\n",
      "0 0\n",
      "[1.23673885 1.35800221]\n",
      "Subgroup size is 25.0%\n",
      "Avg Brier Score on Dataset = 0.205\n",
      "Brier Score in Subgroup = 0.352\n",
      "Brier Score out of Subgroup = 0.157\n",
      "done fitting worst-case\n",
      "1 0.1 1.272563006087717\n",
      "AFISP\n"
     ]
    },
    {
     "name": "stderr",
     "output_type": "stream",
     "text": [
      "During startup - Warning messages:\n",
      "1: Setting LC_CTYPE failed, using \"C\" \n",
      "2: Setting LC_COLLATE failed, using \"C\" \n",
      "3: Setting LC_TIME failed, using \"C\" \n",
      "4: Setting LC_MESSAGES failed, using \"C\" \n",
      "5: Setting LC_MONETARY failed, using \"C\" \n",
      "6: Setting LC_PAPER failed, using \"C\" \n",
      "7: Setting LC_MEASUREMENT failed, using \"C\" \n"
     ]
    },
    {
     "name": "stdout",
     "output_type": "stream",
     "text": [
      "[1] 2\n",
      "[1] \"Number of trees:  1000  - Stability  91.64  %.\"\n",
      "[1] \"Number of trees:  2000  - Stability  93.11  %.\"\n",
      "[1] \"Number of trees:  3000  - Stability  94.02  %.\"\n",
      "[1] \"Number of trees:  4000  - Stability  94.45  %.\"\n",
      "[1] \"Number of trees:  5000  - Stability  95.01  %.\"\n"
     ]
    },
    {
     "name": "stderr",
     "output_type": "stream",
     "text": [
      "\n",
      "100%|███████████████████████████████████████████████████████████████████████████████████████████████| 10/10 [00:00<00:00, 163.62it/s]\u001b[A\n"
     ]
    },
    {
     "name": "stdout",
     "output_type": "stream",
     "text": [
      "9 ('X8 < 1', 0.22315164993901693, 4998) 0.025\n"
     ]
    },
    {
     "name": "stderr",
     "output_type": "stream",
     "text": [
      "\n",
      "100%|█████████████████████████████████████████████████████████████████████████████████████████████████| 8/8 [00:00<00:00, 171.37it/s]\u001b[A\n"
     ]
    },
    {
     "name": "stdout",
     "output_type": "stream",
     "text": [
      "Running Clustering\n"
     ]
    },
    {
     "name": "stderr",
     "output_type": "stream",
     "text": [
      "During startup - Warning messages:\n",
      "1: Setting LC_CTYPE failed, using \"C\" \n",
      "2: Setting LC_COLLATE failed, using \"C\" \n",
      "3: Setting LC_TIME failed, using \"C\" \n",
      "4: Setting LC_MESSAGES failed, using \"C\" \n",
      "5: Setting LC_MONETARY failed, using \"C\" \n",
      "6: Setting LC_PAPER failed, using \"C\" \n",
      "7: Setting LC_MEASUREMENT failed, using \"C\" \n"
     ]
    },
    {
     "name": "stdout",
     "output_type": "stream",
     "text": [
      "[1] 2\n",
      "[1] \"Number of trees:  1000  - Stability  90.27  %.\"\n",
      "[1] \"Number of trees:  2000  - Stability  91.99  %.\"\n",
      "[1] \"Number of trees:  3000  - Stability  93  %.\"\n",
      "[1] \"Number of trees:  4000  - Stability  94.05  %.\"\n",
      "[1] \"Number of trees:  5000  - Stability  94.7  %.\"\n",
      "[1] \"Number of trees:  6000  - Stability  95.12  %.\"\n"
     ]
    },
    {
     "name": "stderr",
     "output_type": "stream",
     "text": [
      "\n",
      "100%|█████████████████████████████████████████████████████████████████████████████████████████████████| 9/9 [00:00<00:00, 158.98it/s]\u001b[A\n"
     ]
    },
    {
     "name": "stdout",
     "output_type": "stream",
     "text": [
      "7 ('X8 < 1', 0.22315164993901693, 4998) 0.016666666666666666\n"
     ]
    },
    {
     "name": "stderr",
     "output_type": "stream",
     "text": [
      "\n",
      "100%|█████████████████████████████████████████████████████████████████████████████████████████████████| 6/6 [00:00<00:00, 170.38it/s]\u001b[A\n",
      "\n",
      "  0%|                                                                                                        | 0/210 [00:00<?, ?it/s]\u001b[A\n",
      " 11%|██████████▋                                                                                   | 24/210 [00:00<00:00, 231.92it/s]\u001b[A\n",
      " 23%|█████████████████████▍                                                                        | 48/210 [00:00<00:00, 214.43it/s]\u001b[A\n",
      " 33%|███████████████████████████████▎                                                              | 70/210 [00:00<00:00, 210.29it/s]\u001b[A\n",
      " 44%|█████████████████████████████████████████▏                                                    | 92/210 [00:00<00:00, 208.35it/s]\u001b[A\n",
      " 54%|██████████████████████████████████████████████████                                           | 113/210 [00:00<00:00, 206.49it/s]\u001b[A\n",
      " 64%|███████████████████████████████████████████████████████████▎                                 | 134/210 [00:00<00:00, 206.03it/s]\u001b[A\n",
      " 74%|████████████████████████████████████████████████████████████████████▋                        | 155/210 [00:00<00:00, 205.58it/s]\u001b[A\n",
      " 84%|█████████████████████████████████████████████████████████████████████████████▉               | 176/210 [00:00<00:00, 205.58it/s]\u001b[A\n",
      "100%|█████████████████████████████████████████████████████████████████████████████████████████████| 210/210 [00:01<00:00, 207.09it/s]\u001b[A\n"
     ]
    },
    {
     "name": "stdout",
     "output_type": "stream",
     "text": [
      "53 ('(X8 == -1) and (X9 == -1)', 0.02923262696439493, 2483) 0.00031645569620253165\n"
     ]
    },
    {
     "name": "stderr",
     "output_type": "stream",
     "text": [
      "\n",
      "  0%|                                                                                                         | 0/52 [00:00<?, ?it/s]\u001b[A\n",
      " 46%|███████████████████████████████████████████▊                                                   | 24/52 [00:00<00:00, 238.52it/s]\u001b[A\n",
      "100%|███████████████████████████████████████████████████████████████████████████████████████████████| 52/52 [00:00<00:00, 226.83it/s]\u001b[A\n",
      "  6%|█████▊                                                                                           | 3/50 [01:33<22:40, 28.94s/it]"
     ]
    },
    {
     "name": "stdout",
     "output_type": "stream",
     "text": [
      "1.0 0.28604118993135014\n",
      "1.0 0.28604118993135014\n",
      "1.0 0.3349859305909152\n",
      "[-0.59962237  1.00303407 -0.75682377]\n",
      "Subgroup size is 25.0%\n",
      "Avg Brier Score on Dataset = 0.215\n",
      "Brier Score in Subgroup = 0.316\n",
      "Brier Score out of Subgroup = 0.181\n",
      "done fitting worst-case\n",
      "16 0.8500000000000001 0.6505311514925175\n",
      "AFISP\n"
     ]
    },
    {
     "name": "stderr",
     "output_type": "stream",
     "text": [
      "During startup - Warning messages:\n",
      "1: Setting LC_CTYPE failed, using \"C\" \n",
      "2: Setting LC_COLLATE failed, using \"C\" \n",
      "3: Setting LC_TIME failed, using \"C\" \n",
      "4: Setting LC_MESSAGES failed, using \"C\" \n",
      "5: Setting LC_MONETARY failed, using \"C\" \n",
      "6: Setting LC_PAPER failed, using \"C\" \n",
      "7: Setting LC_MEASUREMENT failed, using \"C\" \n"
     ]
    },
    {
     "name": "stdout",
     "output_type": "stream",
     "text": [
      "[1] 2\n",
      "[1] \"Number of trees:  1000  - Stability  91.46  %.\"\n",
      "[1] \"Number of trees:  2000  - Stability  93.63  %.\"\n",
      "[1] \"Number of trees:  3000  - Stability  94.04  %.\"\n",
      "[1] \"Number of trees:  4000  - Stability  94.55  %.\"\n",
      "[1] \"Number of trees:  5000  - Stability  94.9  %.\"\n",
      "[1] \"Number of trees:  6000  - Stability  95.43  %.\"\n"
     ]
    },
    {
     "name": "stderr",
     "output_type": "stream",
     "text": [
      "\n",
      "100%|█████████████████████████████████████████████████████████████████████████████████████████████████| 9/9 [00:00<00:00, 159.89it/s]\u001b[A\n"
     ]
    },
    {
     "name": "stdout",
     "output_type": "stream",
     "text": [
      "6 ('X0 < 1', 0.10537191506155356, 4997) 0.0125\n"
     ]
    },
    {
     "name": "stderr",
     "output_type": "stream",
     "text": [
      "\n",
      "100%|█████████████████████████████████████████████████████████████████████████████████████████████████| 5/5 [00:00<00:00, 182.83it/s]\u001b[A\n"
     ]
    },
    {
     "name": "stdout",
     "output_type": "stream",
     "text": [
      "Running Clustering\n"
     ]
    },
    {
     "name": "stderr",
     "output_type": "stream",
     "text": [
      "During startup - Warning messages:\n",
      "1: Setting LC_CTYPE failed, using \"C\" \n",
      "2: Setting LC_COLLATE failed, using \"C\" \n",
      "3: Setting LC_TIME failed, using \"C\" \n",
      "4: Setting LC_MESSAGES failed, using \"C\" \n",
      "5: Setting LC_MONETARY failed, using \"C\" \n",
      "6: Setting LC_PAPER failed, using \"C\" \n",
      "7: Setting LC_MEASUREMENT failed, using \"C\" \n"
     ]
    },
    {
     "name": "stdout",
     "output_type": "stream",
     "text": [
      "[1] 2\n",
      "[1] \"Number of trees:  1000  - Stability  89.04  %.\"\n",
      "[1] \"Number of trees:  2000  - Stability  92.25  %.\"\n",
      "[1] \"Number of trees:  3000  - Stability  93.32  %.\"\n",
      "[1] \"Number of trees:  4000  - Stability  93.81  %.\"\n",
      "[1] \"Number of trees:  5000  - Stability  94.46  %.\"\n",
      "[1] \"Number of trees:  6000  - Stability  94.94  %.\"\n",
      "[1] \"Number of trees:  7000  - Stability  95.43  %.\"\n"
     ]
    },
    {
     "name": "stderr",
     "output_type": "stream",
     "text": [
      "\n",
      "100%|███████████████████████████████████████████████████████████████████████████████████████████████| 10/10 [00:00<00:00, 174.36it/s]\u001b[A\n"
     ]
    },
    {
     "name": "stdout",
     "output_type": "stream",
     "text": [
      "5 ('X9 >= 1', 0.4400941671547711, 4969) 0.008333333333333333\n"
     ]
    },
    {
     "name": "stderr",
     "output_type": "stream",
     "text": [
      "\n",
      "100%|█████████████████████████████████████████████████████████████████████████████████████████████████| 4/4 [00:00<00:00, 199.48it/s]\u001b[A\n",
      "\n",
      "  0%|                                                                                                        | 0/210 [00:00<?, ?it/s]\u001b[A\n",
      "  9%|████████▌                                                                                     | 19/210 [00:00<00:01, 189.67it/s]\u001b[A\n",
      " 18%|█████████████████                                                                             | 38/210 [00:00<00:00, 178.50it/s]\u001b[A\n",
      " 27%|█████████████████████████                                                                     | 56/210 [00:00<00:00, 178.50it/s]\u001b[A\n",
      " 35%|█████████████████████████████████                                                             | 74/210 [00:00<00:00, 173.28it/s]\u001b[A\n",
      " 44%|█████████████████████████████████████████▏                                                    | 92/210 [00:00<00:00, 172.05it/s]\u001b[A\n",
      " 52%|████████████████████████████████████████████████▋                                            | 110/210 [00:00<00:00, 168.58it/s]\u001b[A\n",
      " 61%|████████████████████████████████████████████████████████▋                                    | 128/210 [00:00<00:00, 171.96it/s]\u001b[A\n",
      " 70%|████████████████████████████████████████████████████████████████▋                            | 146/210 [00:00<00:00, 172.55it/s]\u001b[A\n",
      " 78%|████████████████████████████████████████████████████████████████████████▋                    | 164/210 [00:00<00:00, 169.73it/s]\u001b[A\n",
      " 87%|█████████████████████████████████████████████████████████████████████████████████            | 183/210 [00:01<00:00, 175.17it/s]\u001b[A\n",
      "100%|█████████████████████████████████████████████████████████████████████████████████████████████| 210/210 [00:01<00:00, 173.17it/s]\u001b[A\n"
     ]
    },
    {
     "name": "stdout",
     "output_type": "stream",
     "text": [
      "41 ('(X5 == -1) and (X8 == 1)', 0.015251483141616229, 2526) 0.00029411764705882356\n"
     ]
    },
    {
     "name": "stderr",
     "output_type": "stream",
     "text": [
      "\n",
      "  0%|                                                                                                         | 0/40 [00:00<?, ?it/s]\u001b[A\n",
      " 50%|███████████████████████████████████████████████▌                                               | 20/40 [00:00<00:00, 191.33it/s]\u001b[A\n",
      "100%|███████████████████████████████████████████████████████████████████████████████████████████████| 40/40 [00:00<00:00, 187.08it/s]\u001b[A\n",
      "  8%|███████▊                                                                                         | 4/50 [01:57<20:54, 27.26s/it]"
     ]
    },
    {
     "name": "stdout",
     "output_type": "stream",
     "text": [
      "0 0\n",
      "1.0 1.0\n",
      "0 0\n",
      "[1.27987803 0.65841237 0.72920539]\n",
      "Subgroup size is 24.8%\n",
      "Avg Brier Score on Dataset = 0.206\n",
      "Brier Score in Subgroup = 0.332\n",
      "Brier Score out of Subgroup = 0.165\n",
      "done fitting worst-case\n",
      "0 0.05 0.9131450519788578\n",
      "AFISP\n"
     ]
    },
    {
     "name": "stderr",
     "output_type": "stream",
     "text": [
      "During startup - Warning messages:\n",
      "1: Setting LC_CTYPE failed, using \"C\" \n",
      "2: Setting LC_COLLATE failed, using \"C\" \n",
      "3: Setting LC_TIME failed, using \"C\" \n",
      "4: Setting LC_MESSAGES failed, using \"C\" \n",
      "5: Setting LC_MONETARY failed, using \"C\" \n",
      "6: Setting LC_PAPER failed, using \"C\" \n",
      "7: Setting LC_MEASUREMENT failed, using \"C\" \n"
     ]
    },
    {
     "name": "stdout",
     "output_type": "stream",
     "text": [
      "[1] 2\n",
      "[1] \"Number of trees:  1000  - Stability  92.41  %.\"\n",
      "[1] \"Number of trees:  2000  - Stability  94.5  %.\"\n",
      "[1] \"Number of trees:  3000  - Stability  95.23  %.\"\n"
     ]
    },
    {
     "name": "stderr",
     "output_type": "stream",
     "text": [
      "\n",
      "100%|███████████████████████████████████████████████████████████████████████████████████████████████| 10/10 [00:00<00:00, 172.38it/s]\u001b[A\n"
     ]
    },
    {
     "name": "stdout",
     "output_type": "stream",
     "text": [
      "9 ('X6 >= 1', 0.3746195017416603, 5064) 0.025\n"
     ]
    },
    {
     "name": "stderr",
     "output_type": "stream",
     "text": [
      "\n",
      "100%|█████████████████████████████████████████████████████████████████████████████████████████████████| 8/8 [00:00<00:00, 192.44it/s]\u001b[A\n"
     ]
    },
    {
     "name": "stdout",
     "output_type": "stream",
     "text": [
      "Running Clustering\n"
     ]
    },
    {
     "name": "stderr",
     "output_type": "stream",
     "text": [
      "During startup - Warning messages:\n",
      "1: Setting LC_CTYPE failed, using \"C\" \n",
      "2: Setting LC_COLLATE failed, using \"C\" \n",
      "3: Setting LC_TIME failed, using \"C\" \n",
      "4: Setting LC_MESSAGES failed, using \"C\" \n",
      "5: Setting LC_MONETARY failed, using \"C\" \n",
      "6: Setting LC_PAPER failed, using \"C\" \n",
      "7: Setting LC_MEASUREMENT failed, using \"C\" \n"
     ]
    },
    {
     "name": "stdout",
     "output_type": "stream",
     "text": [
      "[1] 2\n",
      "[1] \"Number of trees:  1000  - Stability  90.05  %.\"\n",
      "[1] \"Number of trees:  2000  - Stability  92.83  %.\"\n",
      "[1] \"Number of trees:  3000  - Stability  93.97  %.\"\n",
      "[1] \"Number of trees:  4000  - Stability  94.54  %.\"\n",
      "[1] \"Number of trees:  5000  - Stability  94.91  %.\"\n",
      "[1] \"Number of trees:  6000  - Stability  95.36  %.\"\n"
     ]
    },
    {
     "name": "stderr",
     "output_type": "stream",
     "text": [
      "\n",
      "100%|███████████████████████████████████████████████████████████████████████████████████████████████| 10/10 [00:00<00:00, 150.79it/s]\u001b[A\n"
     ]
    },
    {
     "name": "stdout",
     "output_type": "stream",
     "text": [
      "6 ('X8 < 1', 0.30929699983413045, 5072) 0.01\n"
     ]
    },
    {
     "name": "stderr",
     "output_type": "stream",
     "text": [
      "\n",
      "100%|█████████████████████████████████████████████████████████████████████████████████████████████████| 5/5 [00:00<00:00, 154.58it/s]\u001b[A\n",
      "\n",
      "  0%|                                                                                                        | 0/210 [00:00<?, ?it/s]\u001b[A\n",
      " 11%|██████████▋                                                                                   | 24/210 [00:00<00:00, 233.00it/s]\u001b[A\n",
      " 23%|█████████████████████▍                                                                        | 48/210 [00:00<00:00, 211.46it/s]\u001b[A\n",
      " 33%|███████████████████████████████▎                                                              | 70/210 [00:00<00:00, 208.02it/s]\u001b[A\n",
      " 43%|████████████████████████████████████████▋                                                     | 91/210 [00:00<00:00, 206.47it/s]\u001b[A\n",
      " 53%|█████████████████████████████████████████████████▌                                           | 112/210 [00:00<00:00, 204.62it/s]\u001b[A\n",
      " 63%|██████████████████████████████████████████████████████████▉                                  | 133/210 [00:00<00:00, 203.89it/s]\u001b[A\n",
      " 73%|████████████████████████████████████████████████████████████████████▏                        | 154/210 [00:00<00:00, 200.58it/s]\u001b[A\n",
      " 83%|█████████████████████████████████████████████████████████████████████████████▌               | 175/210 [00:00<00:00, 199.34it/s]\u001b[A\n",
      "100%|█████████████████████████████████████████████████████████████████████████████████████████████| 210/210 [00:01<00:00, 199.10it/s]\u001b[A\n"
     ]
    },
    {
     "name": "stdout",
     "output_type": "stream",
     "text": [
      "61 ('(X1 == -1) and (X4 == 1)', 0.00035868104956910795, 2505) 0.0003333333333333334\n"
     ]
    },
    {
     "name": "stderr",
     "output_type": "stream",
     "text": [
      "\n",
      "  0%|                                                                                                         | 0/60 [00:00<?, ?it/s]\u001b[A\n",
      " 32%|██████████████████████████████                                                                 | 19/60 [00:00<00:00, 182.73it/s]\u001b[A\n",
      " 63%|████████████████████████████████████████████████████████████▏                                  | 38/60 [00:00<00:00, 182.42it/s]\u001b[A\n",
      "100%|███████████████████████████████████████████████████████████████████████████████████████████████| 60/60 [00:00<00:00, 179.04it/s]\u001b[A\n",
      " 10%|█████████▋                                                                                       | 5/50 [02:22<19:38, 26.19s/it]"
     ]
    },
    {
     "name": "stdout",
     "output_type": "stream",
     "text": [
      "1.0 0.6623965839338137\n",
      "1.0 0.562684198594423\n",
      "0.4935535858178888 0.48438117833135624\n",
      "[1.22573454 1.36965122 1.23376483]\n",
      "Subgroup size is 25.1%\n",
      "Avg Brier Score on Dataset = 0.188\n",
      "Brier Score in Subgroup = 0.354\n",
      "Brier Score out of Subgroup = 0.132\n",
      "done fitting worst-case\n",
      "4 0.25 0.8406245660983653\n",
      "AFISP\n"
     ]
    },
    {
     "name": "stderr",
     "output_type": "stream",
     "text": [
      "During startup - Warning messages:\n",
      "1: Setting LC_CTYPE failed, using \"C\" \n",
      "2: Setting LC_COLLATE failed, using \"C\" \n",
      "3: Setting LC_TIME failed, using \"C\" \n",
      "4: Setting LC_MESSAGES failed, using \"C\" \n",
      "5: Setting LC_MONETARY failed, using \"C\" \n",
      "6: Setting LC_PAPER failed, using \"C\" \n",
      "7: Setting LC_MEASUREMENT failed, using \"C\" \n"
     ]
    },
    {
     "name": "stdout",
     "output_type": "stream",
     "text": [
      "[1] 2\n",
      "[1] \"Number of trees:  1000  - Stability  92.44  %.\"\n",
      "[1] \"Number of trees:  2000  - Stability  94.35  %.\"\n",
      "[1] \"Number of trees:  3000  - Stability  95.11  %.\"\n"
     ]
    },
    {
     "name": "stderr",
     "output_type": "stream",
     "text": [
      "\n",
      "100%|█████████████████████████████████████████████████████████████████████████████████████████████████| 8/8 [00:00<00:00, 167.13it/s]\u001b[A\n",
      "\n",
      "100%|█████████████████████████████████████████████████████████████████████████████████████████████████| 8/8 [00:00<00:00, 201.87it/s]\u001b[A\n"
     ]
    },
    {
     "name": "stdout",
     "output_type": "stream",
     "text": [
      "Running Clustering\n"
     ]
    },
    {
     "name": "stderr",
     "output_type": "stream",
     "text": [
      "During startup - Warning messages:\n",
      "1: Setting LC_CTYPE failed, using \"C\" \n",
      "2: Setting LC_COLLATE failed, using \"C\" \n",
      "3: Setting LC_TIME failed, using \"C\" \n",
      "4: Setting LC_MESSAGES failed, using \"C\" \n",
      "5: Setting LC_MONETARY failed, using \"C\" \n",
      "6: Setting LC_PAPER failed, using \"C\" \n",
      "7: Setting LC_MEASUREMENT failed, using \"C\" \n"
     ]
    },
    {
     "name": "stdout",
     "output_type": "stream",
     "text": [
      "[1] 2\n",
      "[1] \"Number of trees:  1000  - Stability  89.61  %.\"\n",
      "[1] \"Number of trees:  2000  - Stability  92.25  %.\"\n",
      "[1] \"Number of trees:  3000  - Stability  93.11  %.\"\n",
      "[1] \"Number of trees:  4000  - Stability  94.25  %.\"\n",
      "[1] \"Number of trees:  5000  - Stability  94.59  %.\"\n",
      "[1] \"Number of trees:  6000  - Stability  94.74  %.\"\n",
      "[1] \"Number of trees:  7000  - Stability  95.16  %.\"\n"
     ]
    },
    {
     "name": "stderr",
     "output_type": "stream",
     "text": [
      "\n",
      "100%|███████████████████████████████████████████████████████████████████████████████████████████████| 10/10 [00:00<00:00, 172.47it/s]\u001b[A\n"
     ]
    },
    {
     "name": "stdout",
     "output_type": "stream",
     "text": [
      "6 ('X5 >= 1', 0.03348254585062677, 5097) 0.01\n"
     ]
    },
    {
     "name": "stderr",
     "output_type": "stream",
     "text": [
      "\n",
      "100%|█████████████████████████████████████████████████████████████████████████████████████████████████| 5/5 [00:00<00:00, 173.32it/s]\u001b[A\n",
      "\n",
      "  0%|                                                                                                        | 0/210 [00:00<?, ?it/s]\u001b[A\n",
      " 10%|█████████▍                                                                                    | 21/210 [00:00<00:00, 208.28it/s]\u001b[A\n",
      " 20%|██████████████████▊                                                                           | 42/210 [00:00<00:00, 193.54it/s]\u001b[A\n",
      " 30%|███████████████████████████▊                                                                  | 62/210 [00:00<00:00, 181.45it/s]\u001b[A\n",
      " 39%|████████████████████████████████████▎                                                         | 81/210 [00:00<00:00, 174.11it/s]\u001b[A\n",
      " 47%|████████████████████████████████████████████▎                                                 | 99/210 [00:00<00:00, 169.47it/s]\u001b[A\n",
      " 55%|███████████████████████████████████████████████████▎                                         | 116/210 [00:00<00:00, 169.40it/s]\u001b[A\n",
      " 63%|██████████████████████████████████████████████████████████▉                                  | 133/210 [00:00<00:00, 168.03it/s]\u001b[A\n",
      " 71%|██████████████████████████████████████████████████████████████████▍                          | 150/210 [00:00<00:00, 167.50it/s]\u001b[A\n",
      " 80%|█████████████████████████████████████████████████████████████████████████▉                   | 167/210 [00:00<00:00, 166.67it/s]\u001b[A\n",
      " 88%|█████████████████████████████████████████████████████████████████████████████████▍           | 184/210 [00:01<00:00, 166.59it/s]\u001b[A\n",
      "100%|█████████████████████████████████████████████████████████████████████████████████████████████| 210/210 [00:01<00:00, 169.79it/s]\u001b[A\n"
     ]
    },
    {
     "name": "stdout",
     "output_type": "stream",
     "text": [
      "52 ('(X0 == -1) and (X9 == -1)', 0.00032553600770397913, 2509) 0.0003144654088050315\n"
     ]
    },
    {
     "name": "stderr",
     "output_type": "stream",
     "text": [
      "\n",
      "  0%|                                                                                                         | 0/51 [00:00<?, ?it/s]\u001b[A\n",
      " 35%|█████████████████████████████████▌                                                             | 18/51 [00:00<00:00, 175.69it/s]\u001b[A\n",
      "100%|███████████████████████████████████████████████████████████████████████████████████████████████| 51/51 [00:00<00:00, 174.35it/s]\u001b[A\n",
      " 12%|███████████▋                                                                                     | 6/50 [02:47<18:57, 25.86s/it]"
     ]
    },
    {
     "name": "stdout",
     "output_type": "stream",
     "text": [
      "1.0 0.3356531049250535\n",
      "1.0 0.3356531049250535\n",
      "1.0 0.5066666666666667\n",
      "[-1.15490471 -1.18628878]\n",
      "Subgroup size is 24.6%\n",
      "Avg Brier Score on Dataset = 0.203\n",
      "Brier Score in Subgroup = 0.327\n",
      "Brier Score out of Subgroup = 0.162\n",
      "done fitting worst-case\n",
      "1 0.1 1.0724345865772755\n",
      "AFISP\n"
     ]
    },
    {
     "name": "stderr",
     "output_type": "stream",
     "text": [
      "During startup - Warning messages:\n",
      "1: Setting LC_CTYPE failed, using \"C\" \n",
      "2: Setting LC_COLLATE failed, using \"C\" \n",
      "3: Setting LC_TIME failed, using \"C\" \n",
      "4: Setting LC_MESSAGES failed, using \"C\" \n",
      "5: Setting LC_MONETARY failed, using \"C\" \n",
      "6: Setting LC_PAPER failed, using \"C\" \n",
      "7: Setting LC_MEASUREMENT failed, using \"C\" \n"
     ]
    },
    {
     "name": "stdout",
     "output_type": "stream",
     "text": [
      "[1] 2\n",
      "[1] \"Number of trees:  1000  - Stability  91.6  %.\"\n",
      "[1] \"Number of trees:  2000  - Stability  93.44  %.\"\n",
      "[1] \"Number of trees:  3000  - Stability  94.08  %.\"\n",
      "[1] \"Number of trees:  4000  - Stability  94.46  %.\"\n",
      "[1] \"Number of trees:  5000  - Stability  94.7  %.\"\n",
      "[1] \"Number of trees:  6000  - Stability  95.51  %.\"\n"
     ]
    },
    {
     "name": "stderr",
     "output_type": "stream",
     "text": [
      "\n",
      "100%|███████████████████████████████████████████████████████████████████████████████████████████████| 10/10 [00:00<00:00, 160.61it/s]\u001b[A\n"
     ]
    },
    {
     "name": "stdout",
     "output_type": "stream",
     "text": [
      "9 ('X4 >= 1', 0.053686929031429194, 4946) 0.025\n"
     ]
    },
    {
     "name": "stderr",
     "output_type": "stream",
     "text": [
      "\n",
      "100%|█████████████████████████████████████████████████████████████████████████████████████████████████| 8/8 [00:00<00:00, 174.93it/s]\u001b[A\n"
     ]
    },
    {
     "name": "stdout",
     "output_type": "stream",
     "text": [
      "Running Clustering\n"
     ]
    },
    {
     "name": "stderr",
     "output_type": "stream",
     "text": [
      "During startup - Warning messages:\n",
      "1: Setting LC_CTYPE failed, using \"C\" \n",
      "2: Setting LC_COLLATE failed, using \"C\" \n",
      "3: Setting LC_TIME failed, using \"C\" \n",
      "4: Setting LC_MESSAGES failed, using \"C\" \n",
      "5: Setting LC_MONETARY failed, using \"C\" \n",
      "6: Setting LC_PAPER failed, using \"C\" \n",
      "7: Setting LC_MEASUREMENT failed, using \"C\" \n"
     ]
    },
    {
     "name": "stdout",
     "output_type": "stream",
     "text": [
      "[1] 2\n",
      "[1] \"Number of trees:  1000  - Stability  89.94  %.\"\n",
      "[1] \"Number of trees:  2000  - Stability  92.44  %.\"\n",
      "[1] \"Number of trees:  3000  - Stability  94.02  %.\"\n",
      "[1] \"Number of trees:  4000  - Stability  94.81  %.\"\n",
      "[1] \"Number of trees:  5000  - Stability  94.75  %.\"\n",
      "[1] \"Number of trees:  6000  - Stability  95.02  %.\"\n"
     ]
    },
    {
     "name": "stderr",
     "output_type": "stream",
     "text": [
      "\n",
      "100%|███████████████████████████████████████████████████████████████████████████████████████████████| 10/10 [00:00<00:00, 156.41it/s]\u001b[A\n"
     ]
    },
    {
     "name": "stdout",
     "output_type": "stream",
     "text": [
      "5 ('X4 >= 1 & X5 < 1', 0.025976650905999363, 2500) 0.008333333333333333\n"
     ]
    },
    {
     "name": "stderr",
     "output_type": "stream",
     "text": [
      "\n",
      "100%|█████████████████████████████████████████████████████████████████████████████████████████████████| 4/4 [00:00<00:00, 154.44it/s]\u001b[A\n",
      "\n",
      "  0%|                                                                                                        | 0/210 [00:00<?, ?it/s]\u001b[A\n",
      " 10%|█████████▍                                                                                    | 21/210 [00:00<00:00, 207.16it/s]\u001b[A\n",
      " 20%|██████████████████▊                                                                           | 42/210 [00:00<00:00, 188.15it/s]\u001b[A\n",
      " 30%|███████████████████████████▊                                                                  | 62/210 [00:00<00:00, 188.41it/s]\u001b[A\n",
      " 39%|████████████████████████████████████▎                                                         | 81/210 [00:00<00:00, 182.74it/s]\u001b[A\n",
      " 48%|████████████████████████████████████████████▋                                                | 101/210 [00:00<00:00, 188.44it/s]\u001b[A\n",
      " 58%|█████████████████████████████████████████████████████▌                                       | 121/210 [00:00<00:00, 190.82it/s]\u001b[A\n",
      " 67%|██████████████████████████████████████████████████████████████▍                              | 141/210 [00:00<00:00, 190.51it/s]\u001b[A\n",
      " 77%|███████████████████████████████████████████████████████████████████████▎                     | 161/210 [00:00<00:00, 189.70it/s]\u001b[A\n",
      " 86%|████████████████████████████████████████████████████████████████████████████████▏            | 181/210 [00:00<00:00, 189.97it/s]\u001b[A\n",
      "100%|█████████████████████████████████████████████████████████████████████████████████████████████| 210/210 [00:01<00:00, 190.18it/s]\u001b[A\n"
     ]
    },
    {
     "name": "stdout",
     "output_type": "stream",
     "text": [
      "53 ('(X4 == 1) and (X7 == 1)', 0.014699674192528375, 2489) 0.00031645569620253165\n"
     ]
    },
    {
     "name": "stderr",
     "output_type": "stream",
     "text": [
      "\n",
      "  0%|                                                                                                         | 0/52 [00:00<?, ?it/s]\u001b[A\n",
      " 42%|████████████████████████████████████████▏                                                      | 22/52 [00:00<00:00, 218.63it/s]\u001b[A\n",
      "100%|███████████████████████████████████████████████████████████████████████████████████████████████| 52/52 [00:00<00:00, 211.29it/s]\u001b[A\n",
      " 14%|█████████████▌                                                                                   | 7/50 [03:12<18:20, 25.59s/it]"
     ]
    },
    {
     "name": "stdout",
     "output_type": "stream",
     "text": [
      "1.0 0.6673901247965274\n",
      "1.0 0.6673901247965274\n",
      "0 0\n",
      "[-0.73335943 -0.90767402  1.55483011]\n",
      "Subgroup size is 24.1%\n",
      "Avg Brier Score on Dataset = 0.194\n",
      "Brier Score in Subgroup = 0.363\n",
      "Brier Score out of Subgroup = 0.140\n",
      "done fitting worst-case\n",
      "1 0.1 0.9737840952449498\n",
      "AFISP\n"
     ]
    },
    {
     "name": "stderr",
     "output_type": "stream",
     "text": [
      "During startup - Warning messages:\n",
      "1: Setting LC_CTYPE failed, using \"C\" \n",
      "2: Setting LC_COLLATE failed, using \"C\" \n",
      "3: Setting LC_TIME failed, using \"C\" \n",
      "4: Setting LC_MESSAGES failed, using \"C\" \n",
      "5: Setting LC_MONETARY failed, using \"C\" \n",
      "6: Setting LC_PAPER failed, using \"C\" \n",
      "7: Setting LC_MEASUREMENT failed, using \"C\" \n"
     ]
    },
    {
     "name": "stdout",
     "output_type": "stream",
     "text": [
      "[1] 2\n",
      "[1] \"Number of trees:  1000  - Stability  92.59  %.\"\n",
      "[1] \"Number of trees:  2000  - Stability  94.51  %.\"\n",
      "[1] \"Number of trees:  3000  - Stability  95.4  %.\"\n"
     ]
    },
    {
     "name": "stderr",
     "output_type": "stream",
     "text": [
      "\n",
      "100%|███████████████████████████████████████████████████████████████████████████████████████████████| 10/10 [00:00<00:00, 163.94it/s]\u001b[A\n"
     ]
    },
    {
     "name": "stdout",
     "output_type": "stream",
     "text": [
      "9 ('X8 < 1', 0.10241315882581417, 4999) 0.025\n"
     ]
    },
    {
     "name": "stderr",
     "output_type": "stream",
     "text": [
      "\n",
      "100%|█████████████████████████████████████████████████████████████████████████████████████████████████| 8/8 [00:00<00:00, 190.52it/s]\u001b[A\n"
     ]
    },
    {
     "name": "stdout",
     "output_type": "stream",
     "text": [
      "Running Clustering\n"
     ]
    },
    {
     "name": "stderr",
     "output_type": "stream",
     "text": [
      "During startup - Warning messages:\n",
      "1: Setting LC_CTYPE failed, using \"C\" \n",
      "2: Setting LC_COLLATE failed, using \"C\" \n",
      "3: Setting LC_TIME failed, using \"C\" \n",
      "4: Setting LC_MESSAGES failed, using \"C\" \n",
      "5: Setting LC_MONETARY failed, using \"C\" \n",
      "6: Setting LC_PAPER failed, using \"C\" \n",
      "7: Setting LC_MEASUREMENT failed, using \"C\" \n"
     ]
    },
    {
     "name": "stdout",
     "output_type": "stream",
     "text": [
      "[1] 2\n",
      "[1] \"Number of trees:  1000  - Stability  89.53  %.\"\n",
      "[1] \"Number of trees:  2000  - Stability  91.47  %.\"\n",
      "[1] \"Number of trees:  3000  - Stability  92.88  %.\"\n",
      "[1] \"Number of trees:  4000  - Stability  93.96  %.\"\n",
      "[1] \"Number of trees:  5000  - Stability  94.27  %.\"\n",
      "[1] \"Number of trees:  6000  - Stability  94.92  %.\"\n",
      "[1] \"Number of trees:  7000  - Stability  95.24  %.\"\n"
     ]
    },
    {
     "name": "stderr",
     "output_type": "stream",
     "text": [
      "\n",
      "100%|███████████████████████████████████████████████████████████████████████████████████████████████| 10/10 [00:00<00:00, 154.93it/s]\u001b[A\n"
     ]
    },
    {
     "name": "stdout",
     "output_type": "stream",
     "text": [
      "5 ('X0 >= 1', 0.34343250131753056, 5011) 0.008333333333333333\n"
     ]
    },
    {
     "name": "stderr",
     "output_type": "stream",
     "text": [
      "\n",
      "100%|█████████████████████████████████████████████████████████████████████████████████████████████████| 4/4 [00:00<00:00, 153.85it/s]\u001b[A\n",
      "\n",
      "  0%|                                                                                                        | 0/210 [00:00<?, ?it/s]\u001b[A\n",
      " 10%|█████████▊                                                                                    | 22/210 [00:00<00:00, 212.49it/s]\u001b[A\n",
      " 21%|███████████████████▋                                                                          | 44/210 [00:00<00:00, 198.55it/s]\u001b[A\n",
      " 30%|████████████████████████████▋                                                                 | 64/210 [00:00<00:00, 191.59it/s]\u001b[A\n",
      " 40%|█████████████████████████████████████▌                                                        | 84/210 [00:00<00:00, 193.42it/s]\u001b[A\n",
      " 50%|██████████████████████████████████████████████                                               | 104/210 [00:00<00:00, 188.06it/s]\u001b[A\n",
      " 59%|██████████████████████████████████████████████████████▍                                      | 123/210 [00:00<00:00, 186.70it/s]\u001b[A\n",
      " 68%|███████████████████████████████████████████████████████████████▎                             | 143/210 [00:00<00:00, 190.38it/s]\u001b[A\n",
      " 78%|████████████████████████████████████████████████████████████████████████▏                    | 163/210 [00:00<00:00, 188.64it/s]\u001b[A\n",
      " 87%|█████████████████████████████████████████████████████████████████████████████████            | 183/210 [00:00<00:00, 189.40it/s]\u001b[A\n",
      "100%|█████████████████████████████████████████████████████████████████████████████████████████████| 210/210 [00:01<00:00, 189.22it/s]\u001b[A\n"
     ]
    },
    {
     "name": "stdout",
     "output_type": "stream",
     "text": [
      "50 ('(X2 == 1) and (X5 == 1)', 0.0032014117666525933, 2514) 0.00031055900621118014\n"
     ]
    },
    {
     "name": "stderr",
     "output_type": "stream",
     "text": [
      "\n",
      "  0%|                                                                                                         | 0/49 [00:00<?, ?it/s]\u001b[A\n",
      " 43%|████████████████████████████████████████▋                                                      | 21/49 [00:00<00:00, 204.29it/s]\u001b[A\n",
      "100%|███████████████████████████████████████████████████████████████████████████████████████████████| 49/49 [00:00<00:00, 196.05it/s]\u001b[A\n",
      " 16%|███████████████▌                                                                                 | 8/50 [03:36<17:35, 25.13s/it]"
     ]
    },
    {
     "name": "stdout",
     "output_type": "stream",
     "text": [
      "1.0 0.392862962359459\n",
      "1.0 0.392862962359459\n",
      "0 0\n",
      "[ 1.21904272  0.99725572 -1.13531698]\n",
      "Subgroup size is 25.3%\n",
      "Avg Brier Score on Dataset = 0.204\n",
      "Brier Score in Subgroup = 0.360\n",
      "Brier Score out of Subgroup = 0.152\n",
      "done fitting worst-case\n",
      "4 0.25 0.7925148736337925\n",
      "AFISP\n"
     ]
    },
    {
     "name": "stderr",
     "output_type": "stream",
     "text": [
      "During startup - Warning messages:\n",
      "1: Setting LC_CTYPE failed, using \"C\" \n",
      "2: Setting LC_COLLATE failed, using \"C\" \n",
      "3: Setting LC_TIME failed, using \"C\" \n",
      "4: Setting LC_MESSAGES failed, using \"C\" \n",
      "5: Setting LC_MONETARY failed, using \"C\" \n",
      "6: Setting LC_PAPER failed, using \"C\" \n",
      "7: Setting LC_MEASUREMENT failed, using \"C\" \n"
     ]
    },
    {
     "name": "stdout",
     "output_type": "stream",
     "text": [
      "[1] 2\n",
      "[1] \"Number of trees:  1000  - Stability  90.57  %.\"\n",
      "[1] \"Number of trees:  2000  - Stability  92.88  %.\"\n",
      "[1] \"Number of trees:  3000  - Stability  93.54  %.\"\n",
      "[1] \"Number of trees:  4000  - Stability  94.48  %.\"\n",
      "[1] \"Number of trees:  5000  - Stability  94.95  %.\"\n",
      "[1] \"Number of trees:  6000  - Stability  95.68  %.\"\n"
     ]
    },
    {
     "name": "stderr",
     "output_type": "stream",
     "text": [
      "\n",
      "100%|█████████████████████████████████████████████████████████████████████████████████████████████████| 9/9 [00:00<00:00, 164.86it/s]\u001b[A\n"
     ]
    },
    {
     "name": "stdout",
     "output_type": "stream",
     "text": [
      "7 ('X4 < 1', 0.10705547152023345, 4995) 0.016666666666666666\n"
     ]
    },
    {
     "name": "stderr",
     "output_type": "stream",
     "text": [
      "\n",
      "100%|█████████████████████████████████████████████████████████████████████████████████████████████████| 6/6 [00:00<00:00, 163.79it/s]\u001b[A\n"
     ]
    },
    {
     "name": "stdout",
     "output_type": "stream",
     "text": [
      "Running Clustering\n"
     ]
    },
    {
     "name": "stderr",
     "output_type": "stream",
     "text": [
      "During startup - Warning messages:\n",
      "1: Setting LC_CTYPE failed, using \"C\" \n",
      "2: Setting LC_COLLATE failed, using \"C\" \n",
      "3: Setting LC_TIME failed, using \"C\" \n",
      "4: Setting LC_MESSAGES failed, using \"C\" \n",
      "5: Setting LC_MONETARY failed, using \"C\" \n",
      "6: Setting LC_PAPER failed, using \"C\" \n",
      "7: Setting LC_MEASUREMENT failed, using \"C\" \n"
     ]
    },
    {
     "name": "stdout",
     "output_type": "stream",
     "text": [
      "[1] 2\n",
      "[1] \"Number of trees:  1000  - Stability  92.5  %.\"\n",
      "[1] \"Number of trees:  2000  - Stability  93.86  %.\"\n",
      "[1] \"Number of trees:  3000  - Stability  94.87  %.\"\n",
      "[1] \"Number of trees:  4000  - Stability  95.2  %.\"\n"
     ]
    },
    {
     "name": "stderr",
     "output_type": "stream",
     "text": [
      "\n",
      "100%|███████████████████████████████████████████████████████████████████████████████████████████████| 10/10 [00:00<00:00, 148.07it/s]\u001b[A\n"
     ]
    },
    {
     "name": "stdout",
     "output_type": "stream",
     "text": [
      "5 ('X1 >= 1', 0.10499722246783935, 4968) 0.008333333333333333\n"
     ]
    },
    {
     "name": "stderr",
     "output_type": "stream",
     "text": [
      "\n",
      "100%|█████████████████████████████████████████████████████████████████████████████████████████████████| 4/4 [00:00<00:00, 158.61it/s]\u001b[A\n",
      "\n",
      "  0%|                                                                                                        | 0/210 [00:00<?, ?it/s]\u001b[A\n",
      " 11%|██████████▎                                                                                   | 23/210 [00:00<00:00, 222.02it/s]\u001b[A\n",
      " 22%|████████████████████▌                                                                         | 46/210 [00:00<00:00, 181.02it/s]\u001b[A\n",
      " 31%|█████████████████████████████                                                                 | 65/210 [00:00<00:00, 176.40it/s]\u001b[A\n",
      " 40%|█████████████████████████████████████▏                                                        | 83/210 [00:00<00:00, 171.38it/s]\u001b[A\n",
      " 48%|████████████████████████████████████████████▋                                                | 101/210 [00:00<00:00, 171.03it/s]\u001b[A\n",
      " 57%|████████████████████████████████████████████████████▋                                        | 119/210 [00:00<00:00, 169.63it/s]\u001b[A\n",
      " 65%|████████████████████████████████████████████████████████████▋                                | 137/210 [00:00<00:00, 168.27it/s]\u001b[A\n",
      " 73%|████████████████████████████████████████████████████████████████████▏                        | 154/210 [00:00<00:00, 166.80it/s]\u001b[A\n",
      " 81%|███████████████████████████████████████████████████████████████████████████▋                 | 171/210 [00:01<00:00, 166.14it/s]\u001b[A\n",
      " 90%|███████████████████████████████████████████████████████████████████████████████████▎         | 188/210 [00:01<00:00, 165.09it/s]\u001b[A\n",
      "100%|█████████████████████████████████████████████████████████████████████████████████████████████| 210/210 [00:01<00:00, 169.00it/s]\u001b[A\n"
     ]
    },
    {
     "name": "stdout",
     "output_type": "stream",
     "text": [
      "41 ('(X7 == 1) and (X9 == 1)', 0.0010232543785605292, 2531) 0.00029411764705882356\n"
     ]
    },
    {
     "name": "stderr",
     "output_type": "stream",
     "text": [
      "\n",
      "  0%|                                                                                                         | 0/40 [00:00<?, ?it/s]\u001b[A\n",
      " 48%|█████████████████████████████████████████████▏                                                 | 19/40 [00:00<00:00, 187.02it/s]\u001b[A\n",
      "100%|███████████████████████████████████████████████████████████████████████████████████████████████| 40/40 [00:00<00:00, 179.24it/s]\u001b[A\n",
      " 18%|█████████████████▍                                                                               | 9/50 [04:01<17:10, 25.13s/it]"
     ]
    },
    {
     "name": "stdout",
     "output_type": "stream",
     "text": [
      "1.0 0.5045944866160608\n",
      "1.0 0.5045944866160608\n",
      "1.0 0.5045944866160608\n",
      "[ 1.27673335 -1.13144966]\n",
      "Subgroup size is 25.5%\n",
      "Avg Brier Score on Dataset = 0.205\n",
      "Brier Score in Subgroup = 0.334\n",
      "Brier Score out of Subgroup = 0.160\n",
      "done fitting worst-case\n",
      "11 0.6000000000000001 0.9410560388616304\n",
      "AFISP\n"
     ]
    },
    {
     "name": "stderr",
     "output_type": "stream",
     "text": [
      "During startup - Warning messages:\n",
      "1: Setting LC_CTYPE failed, using \"C\" \n",
      "2: Setting LC_COLLATE failed, using \"C\" \n",
      "3: Setting LC_TIME failed, using \"C\" \n",
      "4: Setting LC_MESSAGES failed, using \"C\" \n",
      "5: Setting LC_MONETARY failed, using \"C\" \n",
      "6: Setting LC_PAPER failed, using \"C\" \n",
      "7: Setting LC_MEASUREMENT failed, using \"C\" \n"
     ]
    },
    {
     "name": "stdout",
     "output_type": "stream",
     "text": [
      "[1] 2\n",
      "[1] \"Number of trees:  1000  - Stability  90.94  %.\"\n",
      "[1] \"Number of trees:  2000  - Stability  93.18  %.\"\n",
      "[1] \"Number of trees:  3000  - Stability  94.24  %.\"\n",
      "[1] \"Number of trees:  4000  - Stability  95.05  %.\"\n"
     ]
    },
    {
     "name": "stderr",
     "output_type": "stream",
     "text": [
      "\n",
      "100%|█████████████████████████████████████████████████████████████████████████████████████████████████| 9/9 [00:00<00:00, 164.76it/s]\u001b[A\n"
     ]
    },
    {
     "name": "stdout",
     "output_type": "stream",
     "text": [
      "6 ('X7 >= 1', 0.07751072379669988, 4955) 0.0125\n"
     ]
    },
    {
     "name": "stderr",
     "output_type": "stream",
     "text": [
      "\n",
      "100%|█████████████████████████████████████████████████████████████████████████████████████████████████| 5/5 [00:00<00:00, 191.31it/s]\u001b[A\n"
     ]
    },
    {
     "name": "stdout",
     "output_type": "stream",
     "text": [
      "Running Clustering\n"
     ]
    },
    {
     "name": "stderr",
     "output_type": "stream",
     "text": [
      "During startup - Warning messages:\n",
      "1: Setting LC_CTYPE failed, using \"C\" \n",
      "2: Setting LC_COLLATE failed, using \"C\" \n",
      "3: Setting LC_TIME failed, using \"C\" \n",
      "4: Setting LC_MESSAGES failed, using \"C\" \n",
      "5: Setting LC_MONETARY failed, using \"C\" \n",
      "6: Setting LC_PAPER failed, using \"C\" \n",
      "7: Setting LC_MEASUREMENT failed, using \"C\" \n"
     ]
    },
    {
     "name": "stdout",
     "output_type": "stream",
     "text": [
      "[1] 2\n",
      "[1] \"Number of trees:  1000  - Stability  87.31  %.\"\n",
      "[1] \"Number of trees:  2000  - Stability  89.11  %.\"\n",
      "[1] \"Number of trees:  3000  - Stability  91.09  %.\"\n",
      "[1] \"Number of trees:  4000  - Stability  92.32  %.\"\n",
      "[1] \"Number of trees:  5000  - Stability  92.97  %.\"\n",
      "[1] \"Number of trees:  6000  - Stability  92.86  %.\"\n",
      "[1] \"Number of trees:  7000  - Stability  93.36  %.\"\n",
      "[1] \"Number of trees:  8000  - Stability  93.61  %.\"\n",
      "[1] \"Number of trees:  9000  - Stability  94.1  %.\"\n",
      "[1] \"Number of trees:  10000  - Stability  94.47  %.\"\n",
      "[1] \"Number of trees:  11000  - Stability  94.83  %.\"\n",
      "[1] \"Number of trees:  12000  - Stability  94.81  %.\"\n",
      "[1] \"Number of trees:  13000  - Stability  94.92  %.\"\n",
      "[1] \"Number of trees:  14000  - Stability  95.14  %.\"\n"
     ]
    },
    {
     "name": "stderr",
     "output_type": "stream",
     "text": [
      "\n",
      "100%|███████████████████████████████████████████████████████████████████████████████████████████████| 10/10 [00:00<00:00, 171.01it/s]\u001b[A\n"
     ]
    },
    {
     "name": "stdout",
     "output_type": "stream",
     "text": [
      "2 ('X7 >= 1', 0.07751072379669988, 4955) 0.005555555555555556\n"
     ]
    },
    {
     "name": "stderr",
     "output_type": "stream",
     "text": [
      "\n",
      "100%|█████████████████████████████████████████████████████████████████████████████████████████████████| 1/1 [00:00<00:00, 151.15it/s]\u001b[A\n",
      "\n",
      "  0%|                                                                                                        | 0/210 [00:00<?, ?it/s]\u001b[A\n",
      " 10%|████████▉                                                                                     | 20/210 [00:00<00:00, 198.27it/s]\u001b[A\n",
      " 19%|█████████████████▉                                                                            | 40/210 [00:00<00:00, 179.55it/s]\u001b[A\n",
      " 28%|██████████████████████████▍                                                                   | 59/210 [00:00<00:00, 178.45it/s]\u001b[A\n",
      " 37%|██████████████████████████████████▍                                                           | 77/210 [00:00<00:00, 172.81it/s]\u001b[A\n",
      " 45%|██████████████████████████████████████████▌                                                   | 95/210 [00:00<00:00, 172.48it/s]\u001b[A\n",
      " 54%|██████████████████████████████████████████████████                                           | 113/210 [00:00<00:00, 172.38it/s]\u001b[A\n",
      " 62%|██████████████████████████████████████████████████████████                                   | 131/210 [00:00<00:00, 170.53it/s]\u001b[A\n",
      " 71%|█████████████████████████████████████████████████████████████████▉                           | 149/210 [00:00<00:00, 167.94it/s]\u001b[A\n",
      " 80%|█████████████████████████████████████████████████████████████████████████▉                   | 167/210 [00:00<00:00, 169.21it/s]\u001b[A\n",
      " 88%|█████████████████████████████████████████████████████████████████████████████████▉           | 185/210 [00:01<00:00, 170.04it/s]\u001b[A\n",
      "100%|█████████████████████████████████████████████████████████████████████████████████████████████| 210/210 [00:01<00:00, 172.02it/s]\u001b[A\n"
     ]
    },
    {
     "name": "stdout",
     "output_type": "stream",
     "text": [
      "39 ('(X1 == 1)', 0.004231255245854352, 4943) 0.00029069767441860465\n"
     ]
    },
    {
     "name": "stderr",
     "output_type": "stream",
     "text": [
      "\n",
      "  0%|                                                                                                         | 0/38 [00:00<?, ?it/s]\u001b[A\n",
      " 50%|███████████████████████████████████████████████▌                                               | 19/38 [00:00<00:00, 188.71it/s]\u001b[A\n",
      "100%|███████████████████████████████████████████████████████████████████████████████████████████████| 38/38 [00:00<00:00, 186.27it/s]\u001b[A\n",
      " 20%|███████████████████▏                                                                            | 10/50 [04:26<16:40, 25.02s/it]"
     ]
    },
    {
     "name": "stdout",
     "output_type": "stream",
     "text": [
      "1.0 1.0\n",
      "1.0 1.0\n",
      "0 0\n",
      "[0.89029365 1.42049229 0.60636062]\n",
      "Subgroup size is 25.0%\n",
      "Avg Brier Score on Dataset = 0.169\n",
      "Brier Score in Subgroup = 0.286\n",
      "Brier Score out of Subgroup = 0.130\n",
      "done fitting worst-case\n",
      "7 0.4 0.8077946620873088\n",
      "AFISP\n"
     ]
    },
    {
     "name": "stderr",
     "output_type": "stream",
     "text": [
      "During startup - Warning messages:\n",
      "1: Setting LC_CTYPE failed, using \"C\" \n",
      "2: Setting LC_COLLATE failed, using \"C\" \n",
      "3: Setting LC_TIME failed, using \"C\" \n",
      "4: Setting LC_MESSAGES failed, using \"C\" \n",
      "5: Setting LC_MONETARY failed, using \"C\" \n",
      "6: Setting LC_PAPER failed, using \"C\" \n",
      "7: Setting LC_MEASUREMENT failed, using \"C\" \n"
     ]
    },
    {
     "name": "stdout",
     "output_type": "stream",
     "text": [
      "[1] 2\n",
      "[1] \"Number of trees:  1000  - Stability  91.72  %.\"\n",
      "[1] \"Number of trees:  2000  - Stability  93.14  %.\"\n",
      "[1] \"Number of trees:  3000  - Stability  94.27  %.\"\n",
      "[1] \"Number of trees:  4000  - Stability  94.58  %.\"\n",
      "[1] \"Number of trees:  5000  - Stability  95.01  %.\"\n"
     ]
    },
    {
     "name": "stderr",
     "output_type": "stream",
     "text": [
      "\n",
      "100%|█████████████████████████████████████████████████████████████████████████████████████████████████| 7/7 [00:00<00:00, 180.57it/s]\u001b[A\n"
     ]
    },
    {
     "name": "stdout",
     "output_type": "stream",
     "text": [
      "6 ('X5 >= 1', 0.0372339784708993, 5017) 0.025\n"
     ]
    },
    {
     "name": "stderr",
     "output_type": "stream",
     "text": [
      "\n",
      "100%|█████████████████████████████████████████████████████████████████████████████████████████████████| 5/5 [00:00<00:00, 191.34it/s]\u001b[A\n"
     ]
    },
    {
     "name": "stdout",
     "output_type": "stream",
     "text": [
      "Running Clustering\n"
     ]
    },
    {
     "name": "stderr",
     "output_type": "stream",
     "text": [
      "During startup - Warning messages:\n",
      "1: Setting LC_CTYPE failed, using \"C\" \n",
      "2: Setting LC_COLLATE failed, using \"C\" \n",
      "3: Setting LC_TIME failed, using \"C\" \n",
      "4: Setting LC_MESSAGES failed, using \"C\" \n",
      "5: Setting LC_MONETARY failed, using \"C\" \n",
      "6: Setting LC_PAPER failed, using \"C\" \n",
      "7: Setting LC_MEASUREMENT failed, using \"C\" \n"
     ]
    },
    {
     "name": "stdout",
     "output_type": "stream",
     "text": [
      "[1] 2\n",
      "[1] \"Number of trees:  1000  - Stability  88.72  %.\"\n",
      "[1] \"Number of trees:  2000  - Stability  92.26  %.\"\n",
      "[1] \"Number of trees:  3000  - Stability  93.92  %.\"\n",
      "[1] \"Number of trees:  4000  - Stability  94.94  %.\"\n",
      "[1] \"Number of trees:  5000  - Stability  95.14  %.\"\n"
     ]
    },
    {
     "name": "stderr",
     "output_type": "stream",
     "text": [
      "\n",
      "100%|███████████████████████████████████████████████████████████████████████████████████████████████| 10/10 [00:00<00:00, 165.12it/s]\u001b[A\n"
     ]
    },
    {
     "name": "stdout",
     "output_type": "stream",
     "text": [
      "6 ('X5 >= 1', 0.0372339784708993, 5017) 0.01\n"
     ]
    },
    {
     "name": "stderr",
     "output_type": "stream",
     "text": [
      "\n",
      "100%|█████████████████████████████████████████████████████████████████████████████████████████████████| 5/5 [00:00<00:00, 188.64it/s]\u001b[A\n",
      "\n",
      "  0%|                                                                                                        | 0/210 [00:00<?, ?it/s]\u001b[A\n",
      " 10%|█████████▊                                                                                    | 22/210 [00:00<00:00, 217.61it/s]\u001b[A\n",
      " 21%|███████████████████▋                                                                          | 44/210 [00:00<00:00, 191.56it/s]\u001b[A\n",
      " 30%|████████████████████████████▉                                                                  | 64/210 [00:00<00:01, 74.58it/s]\u001b[A\n",
      " 37%|███████████████████████████████████▎                                                           | 78/210 [00:00<00:01, 86.48it/s]\u001b[A\n",
      " 44%|██████████████████████████████████████████                                                     | 93/210 [00:00<00:01, 99.67it/s]\u001b[A\n",
      " 51%|███████████████████████████████████████████████▍                                             | 107/210 [00:01<00:00, 108.22it/s]\u001b[A\n",
      " 58%|██████████████████████████████████████████████████████                                       | 122/210 [00:01<00:00, 117.78it/s]\u001b[A\n",
      " 65%|████████████████████████████████████████████████████████████▋                                | 137/210 [00:01<00:00, 125.18it/s]\u001b[A\n",
      " 72%|███████████████████████████████████████████████████████████████████▎                         | 152/210 [00:01<00:00, 130.49it/s]\u001b[A\n",
      " 80%|█████████████████████████████████████████████████████████████████████████▉                   | 167/210 [00:01<00:00, 135.19it/s]\u001b[A\n",
      " 87%|████████████████████████████████████████████████████████████████████████████████▌            | 182/210 [00:01<00:00, 137.54it/s]\u001b[A\n",
      "100%|█████████████████████████████████████████████████████████████████████████████████████████████| 210/210 [00:01<00:00, 122.39it/s]\u001b[A\n"
     ]
    },
    {
     "name": "stdout",
     "output_type": "stream",
     "text": [
      "49 ('(X3 == 1) and (X4 == -1)', 0.0003548448393317739, 2497) 0.00030864197530864197\n"
     ]
    },
    {
     "name": "stderr",
     "output_type": "stream",
     "text": [
      "\n",
      "  0%|                                                                                                         | 0/48 [00:00<?, ?it/s]\u001b[A\n",
      " 42%|███████████████████████████████████████▌                                                       | 20/48 [00:00<00:00, 192.43it/s]\u001b[A\n",
      "100%|███████████████████████████████████████████████████████████████████████████████████████████████| 48/48 [00:00<00:00, 176.32it/s]\u001b[A\n",
      " 22%|█████████████████████                                                                           | 11/50 [04:51<16:13, 24.96s/it]"
     ]
    },
    {
     "name": "stdout",
     "output_type": "stream",
     "text": [
      "0 0\n",
      "1.0 1.0\n",
      "1.0 1.0\n",
      "[-0.83054488]\n",
      "Subgroup size is 24.5%\n",
      "Avg Brier Score on Dataset = 0.232\n",
      "Brier Score in Subgroup = 0.295\n",
      "Brier Score out of Subgroup = 0.212\n",
      "done fitting worst-case\n",
      "3 0.2 0.4575743917756199\n",
      "AFISP\n"
     ]
    },
    {
     "name": "stderr",
     "output_type": "stream",
     "text": [
      "During startup - Warning messages:\n",
      "1: Setting LC_CTYPE failed, using \"C\" \n",
      "2: Setting LC_COLLATE failed, using \"C\" \n",
      "3: Setting LC_TIME failed, using \"C\" \n",
      "4: Setting LC_MESSAGES failed, using \"C\" \n",
      "5: Setting LC_MONETARY failed, using \"C\" \n",
      "6: Setting LC_PAPER failed, using \"C\" \n",
      "7: Setting LC_MEASUREMENT failed, using \"C\" \n"
     ]
    },
    {
     "name": "stdout",
     "output_type": "stream",
     "text": [
      "[1] 2\n",
      "[1] \"Number of trees:  1000  - Stability  92.28  %.\"\n",
      "[1] \"Number of trees:  2000  - Stability  94.08  %.\"\n",
      "[1] \"Number of trees:  3000  - Stability  95.18  %.\"\n"
     ]
    },
    {
     "name": "stderr",
     "output_type": "stream",
     "text": [
      "\n",
      "100%|███████████████████████████████████████████████████████████████████████████████████████████████| 10/10 [00:00<00:00, 163.89it/s]\u001b[A\n"
     ]
    },
    {
     "name": "stdout",
     "output_type": "stream",
     "text": [
      "9 ('X7 < 1', 0.11081078783417424, 4975) 0.025\n"
     ]
    },
    {
     "name": "stderr",
     "output_type": "stream",
     "text": [
      "\n",
      "100%|█████████████████████████████████████████████████████████████████████████████████████████████████| 8/8 [00:00<00:00, 199.29it/s]\u001b[A\n"
     ]
    },
    {
     "name": "stdout",
     "output_type": "stream",
     "text": [
      "Running Clustering\n"
     ]
    },
    {
     "name": "stderr",
     "output_type": "stream",
     "text": [
      "During startup - Warning messages:\n",
      "1: Setting LC_CTYPE failed, using \"C\" \n",
      "2: Setting LC_COLLATE failed, using \"C\" \n",
      "3: Setting LC_TIME failed, using \"C\" \n",
      "4: Setting LC_MESSAGES failed, using \"C\" \n",
      "5: Setting LC_MONETARY failed, using \"C\" \n",
      "6: Setting LC_PAPER failed, using \"C\" \n",
      "7: Setting LC_MEASUREMENT failed, using \"C\" \n"
     ]
    },
    {
     "name": "stdout",
     "output_type": "stream",
     "text": [
      "[1] 2\n",
      "[1] \"Number of trees:  1000  - Stability  87.81  %.\"\n",
      "[1] \"Number of trees:  2000  - Stability  90.08  %.\"\n",
      "[1] \"Number of trees:  3000  - Stability  91.29  %.\"\n",
      "[1] \"Number of trees:  4000  - Stability  92.5  %.\"\n",
      "[1] \"Number of trees:  5000  - Stability  92.51  %.\"\n",
      "[1] \"Number of trees:  6000  - Stability  92.95  %.\"\n",
      "[1] \"Number of trees:  7000  - Stability  93  %.\"\n",
      "[1] \"Number of trees:  8000  - Stability  93.27  %.\"\n",
      "[1] \"Number of trees:  9000  - Stability  93.31  %.\"\n",
      "[1] \"Number of trees:  10000  - Stability  93.55  %.\"\n",
      "[1] \"Number of trees:  11000  - Stability  93.72  %.\"\n",
      "[1] \"Number of trees:  12000  - Stability  94.12  %.\"\n",
      "[1] \"Number of trees:  13000  - Stability  94.33  %.\"\n",
      "[1] \"Number of trees:  14000  - Stability  94.64  %.\"\n",
      "[1] \"Number of trees:  15000  - Stability  94.95  %.\"\n",
      "[1] \"Number of trees:  16000  - Stability  95.25  %.\"\n"
     ]
    },
    {
     "name": "stderr",
     "output_type": "stream",
     "text": [
      "\n",
      "100%|███████████████████████████████████████████████████████████████████████████████████████████████| 10/10 [00:00<00:00, 153.02it/s]\u001b[A\n"
     ]
    },
    {
     "name": "stdout",
     "output_type": "stream",
     "text": [
      "2 ('X9 >= 1', 0.01656656482299924, 4887) 0.005555555555555556\n"
     ]
    },
    {
     "name": "stderr",
     "output_type": "stream",
     "text": [
      "\n",
      "100%|█████████████████████████████████████████████████████████████████████████████████████████████████| 1/1 [00:00<00:00, 143.57it/s]\u001b[A\n",
      "\n",
      "  0%|                                                                                                        | 0/210 [00:00<?, ?it/s]\u001b[A\n",
      " 10%|█████████▍                                                                                    | 21/210 [00:00<00:00, 203.65it/s]\u001b[A\n",
      " 20%|██████████████████▊                                                                           | 42/210 [00:00<00:00, 190.59it/s]\u001b[A\n",
      " 30%|███████████████████████████▊                                                                  | 62/210 [00:00<00:00, 177.55it/s]\u001b[A\n",
      " 38%|███████████████████████████████████▊                                                          | 80/210 [00:00<00:00, 169.61it/s]\u001b[A\n",
      " 47%|███████████████████████████████████████████▊                                                  | 98/210 [00:00<00:00, 165.72it/s]\u001b[A\n",
      " 55%|███████████████████████████████████████████████████▎                                         | 116/210 [00:00<00:00, 166.94it/s]\u001b[A\n",
      " 63%|██████████████████████████████████████████████████████████▉                                  | 133/210 [00:00<00:00, 166.23it/s]\u001b[A\n",
      " 72%|██████████████████████████████████████████████████████████████████▊                          | 151/210 [00:00<00:00, 167.39it/s]\u001b[A\n",
      " 80%|██████████████████████████████████████████████████████████████████████████▍                  | 168/210 [00:00<00:00, 166.01it/s]\u001b[A\n",
      " 88%|█████████████████████████████████████████████████████████████████████████████████▉           | 185/210 [00:01<00:00, 165.44it/s]\u001b[A\n",
      "100%|█████████████████████████████████████████████████████████████████████████████████████████████| 210/210 [00:01<00:00, 168.56it/s]\u001b[A\n"
     ]
    },
    {
     "name": "stdout",
     "output_type": "stream",
     "text": [
      "37 ('(X0 == 1) and (X9 == 1)', 0.010482531115307617, 2433) 0.00028735632183908046\n"
     ]
    },
    {
     "name": "stderr",
     "output_type": "stream",
     "text": [
      "\n",
      "  0%|                                                                                                         | 0/36 [00:00<?, ?it/s]\u001b[A\n",
      "100%|███████████████████████████████████████████████████████████████████████████████████████████████| 36/36 [00:00<00:00, 183.19it/s]\u001b[A\n",
      " 24%|███████████████████████                                                                         | 12/50 [05:15<15:41, 24.78s/it]"
     ]
    },
    {
     "name": "stdout",
     "output_type": "stream",
     "text": [
      "1.0 1.0\n",
      "1.0 1.0\n",
      "0 0\n",
      "[1.37177206]\n",
      "Subgroup size is 24.9%\n",
      "Avg Brier Score on Dataset = 0.209\n",
      "Brier Score in Subgroup = 0.346\n",
      "Brier Score out of Subgroup = 0.163\n",
      "done fitting worst-case\n",
      "4 0.25 0.6955051334970197\n",
      "AFISP\n"
     ]
    },
    {
     "name": "stderr",
     "output_type": "stream",
     "text": [
      "During startup - Warning messages:\n",
      "1: Setting LC_CTYPE failed, using \"C\" \n",
      "2: Setting LC_COLLATE failed, using \"C\" \n",
      "3: Setting LC_TIME failed, using \"C\" \n",
      "4: Setting LC_MESSAGES failed, using \"C\" \n",
      "5: Setting LC_MONETARY failed, using \"C\" \n",
      "6: Setting LC_PAPER failed, using \"C\" \n",
      "7: Setting LC_MEASUREMENT failed, using \"C\" \n"
     ]
    },
    {
     "name": "stdout",
     "output_type": "stream",
     "text": [
      "[1] 2\n",
      "[1] \"Number of trees:  1000  - Stability  90.99  %.\"\n",
      "[1] \"Number of trees:  2000  - Stability  93.82  %.\"\n",
      "[1] \"Number of trees:  3000  - Stability  94.98  %.\"\n",
      "[1] \"Number of trees:  4000  - Stability  95.55  %.\"\n"
     ]
    },
    {
     "name": "stderr",
     "output_type": "stream",
     "text": [
      "\n",
      "100%|█████████████████████████████████████████████████████████████████████████████████████████████████| 9/9 [00:00<00:00, 164.02it/s]\u001b[A\n"
     ]
    },
    {
     "name": "stdout",
     "output_type": "stream",
     "text": [
      "6 ('X0 < 1', 0.20913346951475587, 4946) 0.0125\n"
     ]
    },
    {
     "name": "stderr",
     "output_type": "stream",
     "text": [
      "\n",
      "100%|█████████████████████████████████████████████████████████████████████████████████████████████████| 5/5 [00:00<00:00, 183.68it/s]\u001b[A\n"
     ]
    },
    {
     "name": "stdout",
     "output_type": "stream",
     "text": [
      "Running Clustering\n"
     ]
    },
    {
     "name": "stderr",
     "output_type": "stream",
     "text": [
      "During startup - Warning messages:\n",
      "1: Setting LC_CTYPE failed, using \"C\" \n",
      "2: Setting LC_COLLATE failed, using \"C\" \n",
      "3: Setting LC_TIME failed, using \"C\" \n",
      "4: Setting LC_MESSAGES failed, using \"C\" \n",
      "5: Setting LC_MONETARY failed, using \"C\" \n",
      "6: Setting LC_PAPER failed, using \"C\" \n",
      "7: Setting LC_MEASUREMENT failed, using \"C\" \n"
     ]
    },
    {
     "name": "stdout",
     "output_type": "stream",
     "text": [
      "[1] 2\n",
      "[1] \"Number of trees:  1000  - Stability  90.17  %.\"\n",
      "[1] \"Number of trees:  2000  - Stability  92.85  %.\"\n",
      "[1] \"Number of trees:  3000  - Stability  93.79  %.\"\n",
      "[1] \"Number of trees:  4000  - Stability  94.25  %.\"\n",
      "[1] \"Number of trees:  5000  - Stability  94.95  %.\"\n",
      "[1] \"Number of trees:  6000  - Stability  95.22  %.\"\n"
     ]
    },
    {
     "name": "stderr",
     "output_type": "stream",
     "text": [
      "\n",
      "100%|███████████████████████████████████████████████████████████████████████████████████████████████| 10/10 [00:00<00:00, 152.73it/s]\u001b[A\n"
     ]
    },
    {
     "name": "stdout",
     "output_type": "stream",
     "text": [
      "5 ('X0 < 1 & X9 >= 1', 0.019638768968962245, 2479) 0.008333333333333333\n"
     ]
    },
    {
     "name": "stderr",
     "output_type": "stream",
     "text": [
      "\n",
      "100%|█████████████████████████████████████████████████████████████████████████████████████████████████| 4/4 [00:00<00:00, 174.50it/s]\u001b[A\n",
      "\n",
      "  0%|                                                                                                        | 0/210 [00:00<?, ?it/s]\u001b[A\n",
      " 10%|█████████▊                                                                                    | 22/210 [00:00<00:00, 210.74it/s]\u001b[A\n",
      " 21%|███████████████████▋                                                                          | 44/210 [00:00<00:00, 187.68it/s]\u001b[A\n",
      " 30%|████████████████████████████▏                                                                 | 63/210 [00:00<00:00, 181.36it/s]\u001b[A\n",
      " 39%|████████████████████████████████████▋                                                         | 82/210 [00:00<00:00, 179.19it/s]\u001b[A\n",
      " 48%|████████████████████████████████████████████▎                                                | 100/210 [00:00<00:00, 178.71it/s]\u001b[A\n",
      " 57%|████████████████████████████████████████████████████▋                                        | 119/210 [00:00<00:00, 179.68it/s]\u001b[A\n",
      " 65%|████████████████████████████████████████████████████████████▋                                | 137/210 [00:00<00:00, 175.19it/s]\u001b[A\n",
      " 74%|████████████████████████████████████████████████████████████████████▋                        | 155/210 [00:00<00:00, 173.84it/s]\u001b[A\n",
      " 82%|████████████████████████████████████████████████████████████████████████████▌                | 173/210 [00:00<00:00, 175.09it/s]\u001b[A\n",
      " 91%|████████████████████████████████████████████████████████████████████████████████████▌        | 191/210 [00:01<00:00, 173.16it/s]\u001b[A\n",
      "100%|█████████████████████████████████████████████████████████████████████████████████████████████| 210/210 [00:01<00:00, 176.02it/s]\u001b[A\n"
     ]
    },
    {
     "name": "stdout",
     "output_type": "stream",
     "text": [
      "37 ('(X8 == -1)', 0.0035618354549551883, 4994) 0.00028735632183908046\n"
     ]
    },
    {
     "name": "stderr",
     "output_type": "stream",
     "text": [
      "\n",
      "  0%|                                                                                                         | 0/36 [00:00<?, ?it/s]\u001b[A\n",
      "100%|███████████████████████████████████████████████████████████████████████████████████████████████| 36/36 [00:00<00:00, 188.80it/s]\u001b[A\n",
      " 26%|████████████████████████▉                                                                       | 13/50 [05:40<15:14, 24.72s/it]"
     ]
    },
    {
     "name": "stdout",
     "output_type": "stream",
     "text": [
      "1.0 1.0\n",
      "1.0 1.0\n",
      "0 0\n",
      "[ 1.64396609  0.69247539  1.26794652 -1.05613585 -1.13101787  0.90220749\n",
      "  1.07385435]\n",
      "Subgroup size is 25.1%\n",
      "Avg Brier Score on Dataset = 0.184\n",
      "Brier Score in Subgroup = 0.396\n",
      "Brier Score out of Subgroup = 0.113\n",
      "done fitting worst-case\n",
      "4 0.25 1.0490771876955716\n",
      "AFISP\n"
     ]
    },
    {
     "name": "stderr",
     "output_type": "stream",
     "text": [
      "During startup - Warning messages:\n",
      "1: Setting LC_CTYPE failed, using \"C\" \n",
      "2: Setting LC_COLLATE failed, using \"C\" \n",
      "3: Setting LC_TIME failed, using \"C\" \n",
      "4: Setting LC_MESSAGES failed, using \"C\" \n",
      "5: Setting LC_MONETARY failed, using \"C\" \n",
      "6: Setting LC_PAPER failed, using \"C\" \n",
      "7: Setting LC_MEASUREMENT failed, using \"C\" \n"
     ]
    },
    {
     "name": "stdout",
     "output_type": "stream",
     "text": [
      "[1] 2\n",
      "[1] \"Number of trees:  1000  - Stability  90.28  %.\"\n",
      "[1] \"Number of trees:  2000  - Stability  92.53  %.\"\n",
      "[1] \"Number of trees:  3000  - Stability  93.57  %.\"\n",
      "[1] \"Number of trees:  4000  - Stability  94  %.\"\n",
      "[1] \"Number of trees:  5000  - Stability  94.42  %.\"\n",
      "[1] \"Number of trees:  6000  - Stability  94.89  %.\"\n",
      "[1] \"Number of trees:  7000  - Stability  95.13  %.\"\n"
     ]
    },
    {
     "name": "stderr",
     "output_type": "stream",
     "text": [
      "\n",
      "100%|███████████████████████████████████████████████████████████████████████████████████████████████| 10/10 [00:00<00:00, 166.10it/s]\u001b[A\n"
     ]
    },
    {
     "name": "stdout",
     "output_type": "stream",
     "text": [
      "4 ('X1 < 1', 0.007592140257584344, 4941) 0.0071428571428571435\n"
     ]
    },
    {
     "name": "stderr",
     "output_type": "stream",
     "text": [
      "\n",
      "100%|█████████████████████████████████████████████████████████████████████████████████████████████████| 3/3 [00:00<00:00, 168.90it/s]\u001b[A\n"
     ]
    },
    {
     "name": "stdout",
     "output_type": "stream",
     "text": [
      "Running Clustering\n"
     ]
    },
    {
     "name": "stderr",
     "output_type": "stream",
     "text": [
      "During startup - Warning messages:\n",
      "1: Setting LC_CTYPE failed, using \"C\" \n",
      "2: Setting LC_COLLATE failed, using \"C\" \n",
      "3: Setting LC_TIME failed, using \"C\" \n",
      "4: Setting LC_MESSAGES failed, using \"C\" \n",
      "5: Setting LC_MONETARY failed, using \"C\" \n",
      "6: Setting LC_PAPER failed, using \"C\" \n",
      "7: Setting LC_MEASUREMENT failed, using \"C\" \n"
     ]
    },
    {
     "name": "stdout",
     "output_type": "stream",
     "text": [
      "[1] 2\n",
      "[1] \"Number of trees:  1000  - Stability  91.91  %.\"\n",
      "[1] \"Number of trees:  2000  - Stability  94.72  %.\"\n",
      "[1] \"Number of trees:  3000  - Stability  96.03  %.\"\n"
     ]
    },
    {
     "name": "stderr",
     "output_type": "stream",
     "text": [
      "\n",
      "100%|█████████████████████████████████████████████████████████████████████████████████████████████████| 9/9 [00:00<00:00, 168.24it/s]\u001b[A\n"
     ]
    },
    {
     "name": "stdout",
     "output_type": "stream",
     "text": [
      "5 ('X8 < 1', 0.13592419308169393, 5058) 0.01\n"
     ]
    },
    {
     "name": "stderr",
     "output_type": "stream",
     "text": [
      "\n",
      "100%|█████████████████████████████████████████████████████████████████████████████████████████████████| 4/4 [00:00<00:00, 165.46it/s]\u001b[A\n",
      "\n",
      "  0%|                                                                                                        | 0/210 [00:00<?, ?it/s]\u001b[A\n",
      " 10%|████████▉                                                                                     | 20/210 [00:00<00:00, 191.82it/s]\u001b[A\n",
      " 19%|█████████████████▉                                                                            | 40/210 [00:00<00:00, 171.60it/s]\u001b[A\n",
      " 28%|█████████████████████████▉                                                                    | 58/210 [00:00<00:00, 169.56it/s]\u001b[A\n",
      " 36%|██████████████████████████████████                                                            | 76/210 [00:00<00:00, 166.03it/s]\u001b[A\n",
      " 44%|█████████████████████████████████████████▋                                                    | 93/210 [00:00<00:00, 166.94it/s]\u001b[A\n",
      " 52%|████████████████████████████████████████████████▋                                            | 110/210 [00:00<00:00, 163.95it/s]\u001b[A\n",
      " 60%|████████████████████████████████████████████████████████▏                                    | 127/210 [00:00<00:00, 164.44it/s]\u001b[A\n",
      " 69%|███████████████████████████████████████████████████████████████▊                             | 144/210 [00:00<00:00, 162.36it/s]\u001b[A\n",
      " 77%|███████████████████████████████████████████████████████████████████████▎                     | 161/210 [00:00<00:00, 161.51it/s]\u001b[A\n",
      " 85%|██████████████████████████████████████████████████████████████████████████████▊              | 178/210 [00:01<00:00, 161.87it/s]\u001b[A\n",
      "100%|█████████████████████████████████████████████████████████████████████████████████████████████| 210/210 [00:01<00:00, 164.40it/s]\u001b[A\n"
     ]
    },
    {
     "name": "stdout",
     "output_type": "stream",
     "text": [
      "39 ('(X5 == 1) and (X9 == 1)', 0.005049695027585973, 2559) 0.00029069767441860465\n"
     ]
    },
    {
     "name": "stderr",
     "output_type": "stream",
     "text": [
      "\n",
      "  0%|                                                                                                         | 0/38 [00:00<?, ?it/s]\u001b[A\n",
      " 45%|██████████████████████████████████████████▌                                                    | 17/38 [00:00<00:00, 167.24it/s]\u001b[A\n",
      "100%|███████████████████████████████████████████████████████████████████████████████████████████████| 38/38 [00:00<00:00, 167.82it/s]\u001b[A\n",
      " 28%|██████████████████████████▉                                                                     | 14/50 [06:05<14:50, 24.74s/it]"
     ]
    },
    {
     "name": "stdout",
     "output_type": "stream",
     "text": [
      "1.0 0.336096256684492\n",
      "1.0 0.336096256684492\n",
      "1.0 0.49900754267566494\n",
      "[-1.24422158]\n",
      "Subgroup size is 23.9%\n",
      "Avg Brier Score on Dataset = 0.210\n",
      "Brier Score in Subgroup = 0.325\n",
      "Brier Score out of Subgroup = 0.173\n",
      "done fitting worst-case\n",
      "3 0.2 0.6120576415917459\n",
      "AFISP\n"
     ]
    },
    {
     "name": "stderr",
     "output_type": "stream",
     "text": [
      "During startup - Warning messages:\n",
      "1: Setting LC_CTYPE failed, using \"C\" \n",
      "2: Setting LC_COLLATE failed, using \"C\" \n",
      "3: Setting LC_TIME failed, using \"C\" \n",
      "4: Setting LC_MESSAGES failed, using \"C\" \n",
      "5: Setting LC_MONETARY failed, using \"C\" \n",
      "6: Setting LC_PAPER failed, using \"C\" \n",
      "7: Setting LC_MEASUREMENT failed, using \"C\" \n"
     ]
    },
    {
     "name": "stdout",
     "output_type": "stream",
     "text": [
      "[1] 2\n",
      "[1] \"Number of trees:  1000  - Stability  91.67  %.\"\n",
      "[1] \"Number of trees:  2000  - Stability  93.36  %.\"\n",
      "[1] \"Number of trees:  3000  - Stability  94.81  %.\"\n",
      "[1] \"Number of trees:  4000  - Stability  95.28  %.\"\n"
     ]
    },
    {
     "name": "stderr",
     "output_type": "stream",
     "text": [
      "\n",
      "100%|███████████████████████████████████████████████████████████████████████████████████████████████| 10/10 [00:00<00:00, 167.36it/s]\u001b[A\n"
     ]
    },
    {
     "name": "stdout",
     "output_type": "stream",
     "text": [
      "9 ('X4 >= 1', 0.03821083229013352, 4992) 0.025\n"
     ]
    },
    {
     "name": "stderr",
     "output_type": "stream",
     "text": [
      "\n",
      "100%|█████████████████████████████████████████████████████████████████████████████████████████████████| 8/8 [00:00<00:00, 198.16it/s]\u001b[A\n"
     ]
    },
    {
     "name": "stdout",
     "output_type": "stream",
     "text": [
      "Running Clustering\n"
     ]
    },
    {
     "name": "stderr",
     "output_type": "stream",
     "text": [
      "During startup - Warning messages:\n",
      "1: Setting LC_CTYPE failed, using \"C\" \n",
      "2: Setting LC_COLLATE failed, using \"C\" \n",
      "3: Setting LC_TIME failed, using \"C\" \n",
      "4: Setting LC_MESSAGES failed, using \"C\" \n",
      "5: Setting LC_MONETARY failed, using \"C\" \n",
      "6: Setting LC_PAPER failed, using \"C\" \n",
      "7: Setting LC_MEASUREMENT failed, using \"C\" \n"
     ]
    },
    {
     "name": "stdout",
     "output_type": "stream",
     "text": [
      "[1] 2\n",
      "[1] \"Number of trees:  1000  - Stability  90.28  %.\"\n",
      "[1] \"Number of trees:  2000  - Stability  92.81  %.\"\n",
      "[1] \"Number of trees:  3000  - Stability  94.35  %.\"\n",
      "[1] \"Number of trees:  4000  - Stability  94.97  %.\"\n",
      "[1] \"Number of trees:  5000  - Stability  95.64  %.\"\n"
     ]
    },
    {
     "name": "stderr",
     "output_type": "stream",
     "text": [
      "\n",
      "100%|███████████████████████████████████████████████████████████████████████████████████████████████| 10/10 [00:00<00:00, 170.38it/s]\u001b[A\n"
     ]
    },
    {
     "name": "stdout",
     "output_type": "stream",
     "text": [
      "5 ('X4 >= 1', 0.03821083229013352, 4992) 0.008333333333333333\n"
     ]
    },
    {
     "name": "stderr",
     "output_type": "stream",
     "text": [
      "\n",
      "100%|█████████████████████████████████████████████████████████████████████████████████████████████████| 4/4 [00:00<00:00, 155.25it/s]\u001b[A\n",
      "\n",
      "  0%|                                                                                                        | 0/210 [00:00<?, ?it/s]\u001b[A\n",
      " 10%|█████████▍                                                                                    | 21/210 [00:00<00:00, 206.17it/s]\u001b[A\n",
      " 20%|██████████████████▊                                                                           | 42/210 [00:00<00:00, 189.31it/s]\u001b[A\n",
      " 30%|███████████████████████████▊                                                                  | 62/210 [00:00<00:00, 182.09it/s]\u001b[A\n",
      " 39%|████████████████████████████████████▎                                                         | 81/210 [00:00<00:00, 175.69it/s]\u001b[A\n",
      " 47%|████████████████████████████████████████████▎                                                 | 99/210 [00:00<00:00, 172.87it/s]\u001b[A\n",
      " 56%|███████████████████████████████████████████████████▊                                         | 117/210 [00:00<00:00, 171.25it/s]\u001b[A\n",
      " 64%|███████████████████████████████████████████████████████████▊                                 | 135/210 [00:00<00:00, 169.92it/s]\u001b[A\n",
      " 72%|███████████████████████████████████████████████████████████████████▎                         | 152/210 [00:00<00:00, 168.85it/s]\u001b[A\n",
      " 80%|██████████████████████████████████████████████████████████████████████████▊                  | 169/210 [00:00<00:00, 166.83it/s]\u001b[A\n",
      " 89%|██████████████████████████████████████████████████████████████████████████████████▎          | 186/210 [00:01<00:00, 164.98it/s]\u001b[A\n",
      "100%|█████████████████████████████████████████████████████████████████████████████████████████████| 210/210 [00:01<00:00, 170.89it/s]\u001b[A\n"
     ]
    },
    {
     "name": "stdout",
     "output_type": "stream",
     "text": [
      "37 ('(X6 == 1) and (X8 == -1)', 0.0028415949671741587, 2527) 0.00028735632183908046\n"
     ]
    },
    {
     "name": "stderr",
     "output_type": "stream",
     "text": [
      "\n",
      "  0%|                                                                                                         | 0/36 [00:00<?, ?it/s]\u001b[A\n",
      "100%|███████████████████████████████████████████████████████████████████████████████████████████████| 36/36 [00:00<00:00, 179.94it/s]\u001b[A\n",
      " 30%|████████████████████████████▊                                                                   | 15/50 [06:28<14:16, 24.46s/it]"
     ]
    },
    {
     "name": "stdout",
     "output_type": "stream",
     "text": [
      "1.0 1.0\n",
      "1.0 1.0\n",
      "0 0\n",
      "[-0.72561948 -0.91166195 -1.29437742 -0.79399421]\n",
      "Subgroup size is 24.8%\n",
      "Avg Brier Score on Dataset = 0.204\n",
      "Brier Score in Subgroup = 0.362\n",
      "Brier Score out of Subgroup = 0.152\n",
      "done fitting worst-case\n",
      "4 0.25 0.8434262315165506\n",
      "AFISP\n"
     ]
    },
    {
     "name": "stderr",
     "output_type": "stream",
     "text": [
      "During startup - Warning messages:\n",
      "1: Setting LC_CTYPE failed, using \"C\" \n",
      "2: Setting LC_COLLATE failed, using \"C\" \n",
      "3: Setting LC_TIME failed, using \"C\" \n",
      "4: Setting LC_MESSAGES failed, using \"C\" \n",
      "5: Setting LC_MONETARY failed, using \"C\" \n",
      "6: Setting LC_PAPER failed, using \"C\" \n",
      "7: Setting LC_MEASUREMENT failed, using \"C\" \n"
     ]
    },
    {
     "name": "stdout",
     "output_type": "stream",
     "text": [
      "[1] 2\n",
      "[1] \"Number of trees:  1000  - Stability  90.44  %.\"\n",
      "[1] \"Number of trees:  2000  - Stability  92.58  %.\"\n",
      "[1] \"Number of trees:  3000  - Stability  93.37  %.\"\n",
      "[1] \"Number of trees:  4000  - Stability  94.1  %.\"\n",
      "[1] \"Number of trees:  5000  - Stability  94.22  %.\"\n",
      "[1] \"Number of trees:  6000  - Stability  94.25  %.\"\n",
      "[1] \"Number of trees:  7000  - Stability  94.87  %.\"\n",
      "[1] \"Number of trees:  8000  - Stability  95.19  %.\"\n"
     ]
    },
    {
     "name": "stderr",
     "output_type": "stream",
     "text": [
      "\n",
      "100%|█████████████████████████████████████████████████████████████████████████████████████████████████| 9/9 [00:00<00:00, 160.67it/s]\u001b[A\n"
     ]
    },
    {
     "name": "stdout",
     "output_type": "stream",
     "text": [
      "9 ('X6 >= 1', 0.2888274572853942, 4937) 0.05\n"
     ]
    },
    {
     "name": "stderr",
     "output_type": "stream",
     "text": [
      "\n",
      "100%|█████████████████████████████████████████████████████████████████████████████████████████████████| 8/8 [00:00<00:00, 184.70it/s]\u001b[A\n"
     ]
    },
    {
     "name": "stdout",
     "output_type": "stream",
     "text": [
      "Running Clustering\n"
     ]
    },
    {
     "name": "stderr",
     "output_type": "stream",
     "text": [
      "During startup - Warning messages:\n",
      "1: Setting LC_CTYPE failed, using \"C\" \n",
      "2: Setting LC_COLLATE failed, using \"C\" \n",
      "3: Setting LC_TIME failed, using \"C\" \n",
      "4: Setting LC_MESSAGES failed, using \"C\" \n",
      "5: Setting LC_MONETARY failed, using \"C\" \n",
      "6: Setting LC_PAPER failed, using \"C\" \n",
      "7: Setting LC_MEASUREMENT failed, using \"C\" \n"
     ]
    },
    {
     "name": "stdout",
     "output_type": "stream",
     "text": [
      "[1] 2\n",
      "[1] \"Number of trees:  1000  - Stability  91.36  %.\"\n",
      "[1] \"Number of trees:  2000  - Stability  93.47  %.\"\n",
      "[1] \"Number of trees:  3000  - Stability  94.4  %.\"\n",
      "[1] \"Number of trees:  4000  - Stability  95.01  %.\"\n"
     ]
    },
    {
     "name": "stderr",
     "output_type": "stream",
     "text": [
      "\n",
      "100%|█████████████████████████████████████████████████████████████████████████████████████████████████| 8/8 [00:00<00:00, 165.35it/s]\u001b[A\n"
     ]
    },
    {
     "name": "stdout",
     "output_type": "stream",
     "text": [
      "6 ('X1 >= 1', 0.19730872551823947, 4871) 0.016666666666666666\n"
     ]
    },
    {
     "name": "stderr",
     "output_type": "stream",
     "text": [
      "\n",
      "100%|█████████████████████████████████████████████████████████████████████████████████████████████████| 5/5 [00:00<00:00, 198.87it/s]\u001b[A\n",
      "\n",
      "  0%|                                                                                                        | 0/210 [00:00<?, ?it/s]\u001b[A\n",
      " 10%|█████████▊                                                                                    | 22/210 [00:00<00:00, 219.86it/s]\u001b[A\n",
      " 21%|███████████████████▋                                                                          | 44/210 [00:00<00:00, 183.32it/s]\u001b[A\n",
      " 30%|████████████████████████████▏                                                                 | 63/210 [00:00<00:00, 174.49it/s]\u001b[A\n",
      " 39%|████████████████████████████████████▎                                                         | 81/210 [00:00<00:00, 170.13it/s]\u001b[A\n",
      " 47%|████████████████████████████████████████████▎                                                 | 99/210 [00:00<00:00, 167.86it/s]\u001b[A\n",
      " 55%|███████████████████████████████████████████████████▎                                         | 116/210 [00:00<00:00, 165.92it/s]\u001b[A\n",
      " 63%|██████████████████████████████████████████████████████████▉                                  | 133/210 [00:00<00:00, 164.41it/s]\u001b[A\n",
      " 72%|██████████████████████████████████████████████████████████████████▊                          | 151/210 [00:00<00:00, 165.94it/s]\u001b[A\n",
      " 80%|██████████████████████████████████████████████████████████████████████████▍                  | 168/210 [00:00<00:00, 164.66it/s]\u001b[A\n",
      " 89%|██████████████████████████████████████████████████████████████████████████████████▎          | 186/210 [00:01<00:00, 166.54it/s]\u001b[A\n",
      "100%|█████████████████████████████████████████████████████████████████████████████████████████████| 210/210 [00:01<00:00, 167.97it/s]\u001b[A\n"
     ]
    },
    {
     "name": "stdout",
     "output_type": "stream",
     "text": [
      "45 ('(X0 == 1) and (X5 == 1)', 0.000323397699507972, 2539) 0.00030120481927710846\n"
     ]
    },
    {
     "name": "stderr",
     "output_type": "stream",
     "text": [
      "\n",
      "  0%|                                                                                                         | 0/44 [00:00<?, ?it/s]\u001b[A\n",
      " 43%|█████████████████████████████████████████                                                      | 19/44 [00:00<00:00, 184.57it/s]\u001b[A\n",
      "100%|███████████████████████████████████████████████████████████████████████████████████████████████| 44/44 [00:00<00:00, 176.61it/s]\u001b[A\n",
      " 32%|██████████████████████████████▋                                                                 | 16/50 [06:53<13:55, 24.59s/it]"
     ]
    },
    {
     "name": "stdout",
     "output_type": "stream",
     "text": [
      "1.0 0.3312382990104306\n",
      "1.0 0.3312382990104306\n",
      "1.0 0.49401675309134424\n",
      "[ 1.17796574 -0.63040824  1.30277172  0.96060287 -0.9444793   0.94770311\n",
      " -1.38297733  1.06268848]\n",
      "Subgroup size is 24.1%\n",
      "Avg Brier Score on Dataset = 0.179\n",
      "Brier Score in Subgroup = 0.395\n",
      "Brier Score out of Subgroup = 0.111\n",
      "done fitting worst-case\n",
      "0 0.05 1.126835190411155\n",
      "AFISP\n"
     ]
    },
    {
     "name": "stderr",
     "output_type": "stream",
     "text": [
      "During startup - Warning messages:\n",
      "1: Setting LC_CTYPE failed, using \"C\" \n",
      "2: Setting LC_COLLATE failed, using \"C\" \n",
      "3: Setting LC_TIME failed, using \"C\" \n",
      "4: Setting LC_MESSAGES failed, using \"C\" \n",
      "5: Setting LC_MONETARY failed, using \"C\" \n",
      "6: Setting LC_PAPER failed, using \"C\" \n",
      "7: Setting LC_MEASUREMENT failed, using \"C\" \n"
     ]
    },
    {
     "name": "stdout",
     "output_type": "stream",
     "text": [
      "[1] 2\n",
      "[1] \"Number of trees:  1000  - Stability  92.29  %.\"\n",
      "[1] \"Number of trees:  2000  - Stability  94.25  %.\"\n",
      "[1] \"Number of trees:  3000  - Stability  94.83  %.\"\n",
      "[1] \"Number of trees:  4000  - Stability  95.27  %.\"\n"
     ]
    },
    {
     "name": "stderr",
     "output_type": "stream",
     "text": [
      "\n",
      "100%|█████████████████████████████████████████████████████████████████████████████████████████████████| 9/9 [00:00<00:00, 177.60it/s]\u001b[A\n"
     ]
    },
    {
     "name": "stdout",
     "output_type": "stream",
     "text": [
      "9 ('X2 >= 1', 1.0, 5029) 0.05\n"
     ]
    },
    {
     "name": "stderr",
     "output_type": "stream",
     "text": [
      "\n",
      "100%|█████████████████████████████████████████████████████████████████████████████████████████████████| 8/8 [00:00<00:00, 199.79it/s]\u001b[A\n"
     ]
    },
    {
     "name": "stdout",
     "output_type": "stream",
     "text": [
      "Running Clustering\n"
     ]
    },
    {
     "name": "stderr",
     "output_type": "stream",
     "text": [
      "During startup - Warning messages:\n",
      "1: Setting LC_CTYPE failed, using \"C\" \n",
      "2: Setting LC_COLLATE failed, using \"C\" \n",
      "3: Setting LC_TIME failed, using \"C\" \n",
      "4: Setting LC_MESSAGES failed, using \"C\" \n",
      "5: Setting LC_MONETARY failed, using \"C\" \n",
      "6: Setting LC_PAPER failed, using \"C\" \n",
      "7: Setting LC_MEASUREMENT failed, using \"C\" \n"
     ]
    },
    {
     "name": "stdout",
     "output_type": "stream",
     "text": [
      "[1] 2\n",
      "[1] \"Number of trees:  1000  - Stability  89.65  %.\"\n",
      "[1] \"Number of trees:  2000  - Stability  92.1  %.\"\n",
      "[1] \"Number of trees:  3000  - Stability  93.29  %.\"\n",
      "[1] \"Number of trees:  4000  - Stability  94.09  %.\"\n",
      "[1] \"Number of trees:  5000  - Stability  94.28  %.\"\n",
      "[1] \"Number of trees:  6000  - Stability  94.61  %.\"\n",
      "[1] \"Number of trees:  7000  - Stability  94.83  %.\"\n",
      "[1] \"Number of trees:  8000  - Stability  94.99  %.\"\n",
      "[1] \"Number of trees:  9000  - Stability  95.91  %.\"\n"
     ]
    },
    {
     "name": "stderr",
     "output_type": "stream",
     "text": [
      "\n",
      "100%|███████████████████████████████████████████████████████████████████████████████████████████████| 10/10 [00:00<00:00, 167.04it/s]\u001b[A\n"
     ]
    },
    {
     "name": "stdout",
     "output_type": "stream",
     "text": [
      "6 ('X8 >= 1', 0.4018987536446973, 5029) 0.01\n"
     ]
    },
    {
     "name": "stderr",
     "output_type": "stream",
     "text": [
      "\n",
      "100%|█████████████████████████████████████████████████████████████████████████████████████████████████| 5/5 [00:00<00:00, 158.56it/s]\u001b[A\n",
      "\n",
      "  0%|                                                                                                        | 0/210 [00:00<?, ?it/s]\u001b[A\n",
      " 11%|██████████▎                                                                                   | 23/210 [00:00<00:00, 221.82it/s]\u001b[A\n",
      " 22%|████████████████████▌                                                                         | 46/210 [00:00<00:00, 199.43it/s]\u001b[A\n",
      " 32%|█████████████████████████████▉                                                                | 67/210 [00:00<00:00, 184.28it/s]\u001b[A\n",
      " 41%|██████████████████████████████████████▍                                                       | 86/210 [00:00<00:00, 181.00it/s]\u001b[A\n",
      " 50%|██████████████████████████████████████████████▌                                              | 105/210 [00:00<00:00, 177.29it/s]\u001b[A\n",
      " 59%|██████████████████████████████████████████████████████▍                                      | 123/210 [00:00<00:00, 176.17it/s]\u001b[A\n",
      " 67%|██████████████████████████████████████████████████████████████▍                              | 141/210 [00:00<00:00, 172.41it/s]\u001b[A\n",
      " 76%|██████████████████████████████████████████████████████████████████████▍                      | 159/210 [00:00<00:00, 171.28it/s]\u001b[A\n",
      " 84%|██████████████████████████████████████████████████████████████████████████████▍              | 177/210 [00:01<00:00, 170.27it/s]\u001b[A\n",
      "100%|█████████████████████████████████████████████████████████████████████████████████████████████| 210/210 [00:01<00:00, 175.62it/s]\u001b[A\n"
     ]
    },
    {
     "name": "stdout",
     "output_type": "stream",
     "text": [
      "45 ('(X1 == 1) and (X5 == 1)', 0.00035501289598401624, 2504) 0.00030120481927710846\n"
     ]
    },
    {
     "name": "stderr",
     "output_type": "stream",
     "text": [
      "\n",
      "  0%|                                                                                                         | 0/44 [00:00<?, ?it/s]\u001b[A\n",
      " 45%|███████████████████████████████████████████▏                                                   | 20/44 [00:00<00:00, 191.90it/s]\u001b[A\n",
      "100%|███████████████████████████████████████████████████████████████████████████████████████████████| 44/44 [00:00<00:00, 190.32it/s]\u001b[A\n",
      " 34%|████████████████████████████████▋                                                               | 17/50 [07:19<13:39, 24.82s/it]"
     ]
    },
    {
     "name": "stdout",
     "output_type": "stream",
     "text": [
      "1.0 0.3197287955331029\n",
      "1.0 0.3197287955331029\n",
      "1.0 0.4838060752363709\n",
      "[0.97324023]\n",
      "Subgroup size is 25.0%\n",
      "Avg Brier Score on Dataset = 0.227\n",
      "Brier Score in Subgroup = 0.301\n",
      "Brier Score out of Subgroup = 0.202\n",
      "done fitting worst-case\n",
      "4 0.25 0.47033414919012095\n",
      "AFISP\n"
     ]
    },
    {
     "name": "stderr",
     "output_type": "stream",
     "text": [
      "During startup - Warning messages:\n",
      "1: Setting LC_CTYPE failed, using \"C\" \n",
      "2: Setting LC_COLLATE failed, using \"C\" \n",
      "3: Setting LC_TIME failed, using \"C\" \n",
      "4: Setting LC_MESSAGES failed, using \"C\" \n",
      "5: Setting LC_MONETARY failed, using \"C\" \n",
      "6: Setting LC_PAPER failed, using \"C\" \n",
      "7: Setting LC_MEASUREMENT failed, using \"C\" \n"
     ]
    },
    {
     "name": "stdout",
     "output_type": "stream",
     "text": [
      "[1] 2\n",
      "[1] \"Number of trees:  1000  - Stability  90.36  %.\"\n",
      "[1] \"Number of trees:  2000  - Stability  92.74  %.\"\n",
      "[1] \"Number of trees:  3000  - Stability  94.04  %.\"\n",
      "[1] \"Number of trees:  4000  - Stability  94.92  %.\"\n",
      "[1] \"Number of trees:  5000  - Stability  95.71  %.\"\n"
     ]
    },
    {
     "name": "stderr",
     "output_type": "stream",
     "text": [
      "\n",
      "100%|█████████████████████████████████████████████████████████████████████████████████████████████████| 9/9 [00:00<00:00, 165.58it/s]\u001b[A\n"
     ]
    },
    {
     "name": "stdout",
     "output_type": "stream",
     "text": [
      "4 ('X4 >= 1', 0.05603880916845152, 4971) 0.008333333333333333\n"
     ]
    },
    {
     "name": "stderr",
     "output_type": "stream",
     "text": [
      "\n",
      "100%|█████████████████████████████████████████████████████████████████████████████████████████████████| 3/3 [00:00<00:00, 159.36it/s]\u001b[A\n"
     ]
    },
    {
     "name": "stdout",
     "output_type": "stream",
     "text": [
      "Running Clustering\n"
     ]
    },
    {
     "name": "stderr",
     "output_type": "stream",
     "text": [
      "During startup - Warning messages:\n",
      "1: Setting LC_CTYPE failed, using \"C\" \n",
      "2: Setting LC_COLLATE failed, using \"C\" \n",
      "3: Setting LC_TIME failed, using \"C\" \n",
      "4: Setting LC_MESSAGES failed, using \"C\" \n",
      "5: Setting LC_MONETARY failed, using \"C\" \n",
      "6: Setting LC_PAPER failed, using \"C\" \n",
      "7: Setting LC_MEASUREMENT failed, using \"C\" \n"
     ]
    },
    {
     "name": "stdout",
     "output_type": "stream",
     "text": [
      "[1] 2\n",
      "[1] \"Number of trees:  1000  - Stability  89.61  %.\"\n",
      "[1] \"Number of trees:  2000  - Stability  92.56  %.\"\n",
      "[1] \"Number of trees:  3000  - Stability  93.99  %.\"\n",
      "[1] \"Number of trees:  4000  - Stability  94.83  %.\"\n",
      "[1] \"Number of trees:  5000  - Stability  95.13  %.\"\n"
     ]
    },
    {
     "name": "stderr",
     "output_type": "stream",
     "text": [
      "\n",
      "100%|███████████████████████████████████████████████████████████████████████████████████████████████| 10/10 [00:00<00:00, 150.21it/s]\u001b[A\n"
     ]
    },
    {
     "name": "stdout",
     "output_type": "stream",
     "text": [
      "3 ('X4 >= 1', 0.05603880916845152, 4971) 0.00625\n"
     ]
    },
    {
     "name": "stderr",
     "output_type": "stream",
     "text": [
      "\n",
      "100%|█████████████████████████████████████████████████████████████████████████████████████████████████| 2/2 [00:00<00:00, 185.23it/s]\u001b[A\n",
      "\n",
      "  0%|                                                                                                        | 0/210 [00:00<?, ?it/s]\u001b[A\n",
      " 10%|████████▉                                                                                     | 20/210 [00:00<00:00, 199.90it/s]\u001b[A\n",
      " 19%|█████████████████▉                                                                            | 40/210 [00:00<00:00, 181.09it/s]\u001b[A\n",
      " 28%|██████████████████████████▍                                                                   | 59/210 [00:00<00:00, 173.69it/s]\u001b[A\n",
      " 37%|██████████████████████████████████▍                                                           | 77/210 [00:00<00:00, 170.38it/s]\u001b[A\n",
      " 45%|██████████████████████████████████████████▌                                                   | 95/210 [00:00<00:00, 167.91it/s]\u001b[A\n",
      " 54%|██████████████████████████████████████████████████                                           | 113/210 [00:00<00:00, 170.20it/s]\u001b[A\n",
      " 62%|██████████████████████████████████████████████████████████                                   | 131/210 [00:00<00:00, 167.67it/s]\u001b[A\n",
      " 70%|█████████████████████████████████████████████████████████████████▌                           | 148/210 [00:00<00:00, 165.01it/s]\u001b[A\n",
      " 79%|█████████████████████████████████████████████████████████████████████████                    | 165/210 [00:00<00:00, 163.89it/s]\u001b[A\n",
      " 87%|█████████████████████████████████████████████████████████████████████████████████            | 183/210 [00:01<00:00, 166.50it/s]\u001b[A\n",
      "100%|█████████████████████████████████████████████████████████████████████████████████████████████| 210/210 [00:01<00:00, 169.05it/s]\u001b[A\n"
     ]
    },
    {
     "name": "stdout",
     "output_type": "stream",
     "text": [
      "37 ('(X5 == 1) and (X7 == -1)', 0.016347703829249206, 2415) 0.00028735632183908046\n"
     ]
    },
    {
     "name": "stderr",
     "output_type": "stream",
     "text": [
      "\n",
      "  0%|                                                                                                         | 0/36 [00:00<?, ?it/s]\u001b[A\n",
      "100%|███████████████████████████████████████████████████████████████████████████████████████████████| 36/36 [00:00<00:00, 179.47it/s]\u001b[A\n",
      " 36%|██████████████████████████████████▌                                                             | 18/50 [07:42<13:04, 24.53s/it]"
     ]
    },
    {
     "name": "stdout",
     "output_type": "stream",
     "text": [
      "1.0 1.0\n",
      "1.0 1.0\n",
      "0 0\n",
      "[1.21955163 1.13106459 0.70537118]\n",
      "Subgroup size is 25.4%\n",
      "Avg Brier Score on Dataset = 0.202\n",
      "Brier Score in Subgroup = 0.350\n",
      "Brier Score out of Subgroup = 0.152\n",
      "done fitting worst-case\n",
      "15 0.8 0.8266695106774191\n",
      "AFISP\n"
     ]
    },
    {
     "name": "stderr",
     "output_type": "stream",
     "text": [
      "During startup - Warning messages:\n",
      "1: Setting LC_CTYPE failed, using \"C\" \n",
      "2: Setting LC_COLLATE failed, using \"C\" \n",
      "3: Setting LC_TIME failed, using \"C\" \n",
      "4: Setting LC_MESSAGES failed, using \"C\" \n",
      "5: Setting LC_MONETARY failed, using \"C\" \n",
      "6: Setting LC_PAPER failed, using \"C\" \n",
      "7: Setting LC_MEASUREMENT failed, using \"C\" \n"
     ]
    },
    {
     "name": "stdout",
     "output_type": "stream",
     "text": [
      "[1] 2\n",
      "[1] \"Number of trees:  1000  - Stability  90.71  %.\"\n",
      "[1] \"Number of trees:  2000  - Stability  92.12  %.\"\n",
      "[1] \"Number of trees:  3000  - Stability  92.93  %.\"\n",
      "[1] \"Number of trees:  4000  - Stability  93.64  %.\"\n",
      "[1] \"Number of trees:  5000  - Stability  94.07  %.\"\n",
      "[1] \"Number of trees:  6000  - Stability  94.45  %.\"\n",
      "[1] \"Number of trees:  7000  - Stability  95.27  %.\"\n"
     ]
    },
    {
     "name": "stderr",
     "output_type": "stream",
     "text": [
      "\n",
      "100%|█████████████████████████████████████████████████████████████████████████████████████████████████| 9/9 [00:00<00:00, 177.11it/s]\u001b[A\n"
     ]
    },
    {
     "name": "stdout",
     "output_type": "stream",
     "text": [
      "5 ('X6 < 1', 0.09074606290797947, 5086) 0.01\n"
     ]
    },
    {
     "name": "stderr",
     "output_type": "stream",
     "text": [
      "\n",
      "100%|█████████████████████████████████████████████████████████████████████████████████████████████████| 4/4 [00:00<00:00, 173.15it/s]\u001b[A\n"
     ]
    },
    {
     "name": "stdout",
     "output_type": "stream",
     "text": [
      "Running Clustering\n"
     ]
    },
    {
     "name": "stderr",
     "output_type": "stream",
     "text": [
      "During startup - Warning messages:\n",
      "1: Setting LC_CTYPE failed, using \"C\" \n",
      "2: Setting LC_COLLATE failed, using \"C\" \n",
      "3: Setting LC_TIME failed, using \"C\" \n",
      "4: Setting LC_MESSAGES failed, using \"C\" \n",
      "5: Setting LC_MONETARY failed, using \"C\" \n",
      "6: Setting LC_PAPER failed, using \"C\" \n",
      "7: Setting LC_MEASUREMENT failed, using \"C\" \n"
     ]
    },
    {
     "name": "stdout",
     "output_type": "stream",
     "text": [
      "[1] 2\n",
      "[1] \"Number of trees:  1000  - Stability  91.41  %.\"\n",
      "[1] \"Number of trees:  2000  - Stability  93.76  %.\"\n",
      "[1] \"Number of trees:  3000  - Stability  94.14  %.\"\n",
      "[1] \"Number of trees:  4000  - Stability  94.53  %.\"\n",
      "[1] \"Number of trees:  5000  - Stability  95.28  %.\"\n"
     ]
    },
    {
     "name": "stderr",
     "output_type": "stream",
     "text": [
      "\n",
      "100%|███████████████████████████████████████████████████████████████████████████████████████████████| 10/10 [00:00<00:00, 165.47it/s]\u001b[A\n"
     ]
    },
    {
     "name": "stdout",
     "output_type": "stream",
     "text": [
      "7 ('X8 >= 1', 0.08050576685661294, 5020) 0.0125\n"
     ]
    },
    {
     "name": "stderr",
     "output_type": "stream",
     "text": [
      "\n",
      "100%|█████████████████████████████████████████████████████████████████████████████████████████████████| 6/6 [00:00<00:00, 177.23it/s]\u001b[A\n",
      "\n",
      "  0%|                                                                                                        | 0/210 [00:00<?, ?it/s]\u001b[A\n",
      " 11%|██████████▋                                                                                   | 24/210 [00:00<00:00, 236.30it/s]\u001b[A\n",
      " 23%|█████████████████████▍                                                                        | 48/210 [00:00<00:00, 214.50it/s]\u001b[A\n",
      " 33%|███████████████████████████████▎                                                              | 70/210 [00:00<00:00, 202.98it/s]\u001b[A\n",
      " 43%|████████████████████████████████████████▋                                                     | 91/210 [00:00<00:00, 185.54it/s]\u001b[A\n",
      " 52%|████████████████████████████████████████████████▋                                            | 110/210 [00:00<00:00, 177.48it/s]\u001b[A\n",
      " 61%|████████████████████████████████████████████████████████▋                                    | 128/210 [00:00<00:00, 177.56it/s]\u001b[A\n",
      " 70%|████████████████████████████████████████████████████████████████▋                            | 146/210 [00:00<00:00, 173.34it/s]\u001b[A\n",
      " 78%|████████████████████████████████████████████████████████████████████████▋                    | 164/210 [00:00<00:00, 170.37it/s]\u001b[A\n",
      " 87%|████████████████████████████████████████████████████████████████████████████████▌            | 182/210 [00:01<00:00, 170.96it/s]\u001b[A\n",
      "100%|█████████████████████████████████████████████████████████████████████████████████████████████| 210/210 [00:01<00:00, 177.73it/s]\u001b[A\n"
     ]
    },
    {
     "name": "stdout",
     "output_type": "stream",
     "text": [
      "41 ('(X4 == 1) and (X8 == -1)', 0.0032571872444482194, 2537) 0.00029411764705882356\n"
     ]
    },
    {
     "name": "stderr",
     "output_type": "stream",
     "text": [
      "\n",
      "  0%|                                                                                                         | 0/40 [00:00<?, ?it/s]\u001b[A\n",
      "100%|███████████████████████████████████████████████████████████████████████████████████████████████| 40/40 [00:00<00:00, 199.38it/s]\u001b[A\n",
      " 38%|████████████████████████████████████▍                                                           | 19/50 [08:07<12:38, 24.48s/it]"
     ]
    },
    {
     "name": "stdout",
     "output_type": "stream",
     "text": [
      "1.0 0.5049800796812749\n",
      "1.0 0.5049800796812749\n",
      "1.0 0.5049800796812749\n",
      "[0.85129079]\n",
      "Subgroup size is 25.3%\n",
      "Avg Brier Score on Dataset = 0.226\n",
      "Brier Score in Subgroup = 0.289\n",
      "Brier Score out of Subgroup = 0.205\n",
      "done fitting worst-case\n",
      "4 0.25 0.44094727216210927\n",
      "AFISP\n"
     ]
    },
    {
     "name": "stderr",
     "output_type": "stream",
     "text": [
      "During startup - Warning messages:\n",
      "1: Setting LC_CTYPE failed, using \"C\" \n",
      "2: Setting LC_COLLATE failed, using \"C\" \n",
      "3: Setting LC_TIME failed, using \"C\" \n",
      "4: Setting LC_MESSAGES failed, using \"C\" \n",
      "5: Setting LC_MONETARY failed, using \"C\" \n",
      "6: Setting LC_PAPER failed, using \"C\" \n",
      "7: Setting LC_MEASUREMENT failed, using \"C\" \n"
     ]
    },
    {
     "name": "stdout",
     "output_type": "stream",
     "text": [
      "[1] 2\n",
      "[1] \"Number of trees:  1000  - Stability  89.34  %.\"\n",
      "[1] \"Number of trees:  2000  - Stability  91.38  %.\"\n",
      "[1] \"Number of trees:  3000  - Stability  91.66  %.\"\n",
      "[1] \"Number of trees:  4000  - Stability  92.99  %.\"\n",
      "[1] \"Number of trees:  5000  - Stability  94.37  %.\"\n",
      "[1] \"Number of trees:  6000  - Stability  94.48  %.\"\n",
      "[1] \"Number of trees:  7000  - Stability  94.87  %.\"\n",
      "[1] \"Number of trees:  8000  - Stability  95.08  %.\"\n"
     ]
    },
    {
     "name": "stderr",
     "output_type": "stream",
     "text": [
      "\n",
      "100%|█████████████████████████████████████████████████████████████████████████████████████████████████| 8/8 [00:00<00:00, 167.49it/s]\u001b[A\n"
     ]
    },
    {
     "name": "stdout",
     "output_type": "stream",
     "text": [
      "7 ('X4 < 1', 0.42694558561252893, 4985) 0.025\n"
     ]
    },
    {
     "name": "stderr",
     "output_type": "stream",
     "text": [
      "\n",
      "100%|█████████████████████████████████████████████████████████████████████████████████████████████████| 6/6 [00:00<00:00, 181.73it/s]\u001b[A\n"
     ]
    },
    {
     "name": "stdout",
     "output_type": "stream",
     "text": [
      "Running Clustering\n"
     ]
    },
    {
     "name": "stderr",
     "output_type": "stream",
     "text": [
      "During startup - Warning messages:\n",
      "1: Setting LC_CTYPE failed, using \"C\" \n",
      "2: Setting LC_COLLATE failed, using \"C\" \n",
      "3: Setting LC_TIME failed, using \"C\" \n",
      "4: Setting LC_MESSAGES failed, using \"C\" \n",
      "5: Setting LC_MONETARY failed, using \"C\" \n",
      "6: Setting LC_PAPER failed, using \"C\" \n",
      "7: Setting LC_MEASUREMENT failed, using \"C\" \n"
     ]
    },
    {
     "name": "stdout",
     "output_type": "stream",
     "text": [
      "[1] 2\n",
      "[1] \"Number of trees:  1000  - Stability  91.53  %.\"\n",
      "[1] \"Number of trees:  2000  - Stability  93.95  %.\"\n",
      "[1] \"Number of trees:  3000  - Stability  94.96  %.\"\n",
      "[1] \"Number of trees:  4000  - Stability  95.81  %.\"\n"
     ]
    },
    {
     "name": "stderr",
     "output_type": "stream",
     "text": [
      "\n",
      "100%|█████████████████████████████████████████████████████████████████████████████████████████████████| 7/7 [00:00<00:00, 170.72it/s]\u001b[A\n"
     ]
    },
    {
     "name": "stdout",
     "output_type": "stream",
     "text": [
      "3 ('X4 < 1', 0.42694558561252893, 4985) 0.01\n"
     ]
    },
    {
     "name": "stderr",
     "output_type": "stream",
     "text": [
      "\n",
      "100%|█████████████████████████████████████████████████████████████████████████████████████████████████| 2/2 [00:00<00:00, 168.25it/s]\u001b[A\n",
      "\n",
      "  0%|                                                                                                        | 0/210 [00:00<?, ?it/s]\u001b[A\n",
      " 11%|██████████▋                                                                                   | 24/210 [00:00<00:00, 238.94it/s]\u001b[A\n",
      " 23%|█████████████████████▍                                                                        | 48/210 [00:00<00:00, 215.47it/s]\u001b[A\n",
      " 33%|███████████████████████████████▎                                                              | 70/210 [00:00<00:00, 191.77it/s]\u001b[A\n",
      " 43%|████████████████████████████████████████▎                                                     | 90/210 [00:00<00:00, 183.58it/s]\u001b[A\n",
      " 52%|████████████████████████████████████████████████▎                                            | 109/210 [00:00<00:00, 177.97it/s]\u001b[A\n",
      " 60%|████████████████████████████████████████████████████████▏                                    | 127/210 [00:00<00:00, 172.85it/s]\u001b[A\n",
      " 69%|████████████████████████████████████████████████████████████████▏                            | 145/210 [00:00<00:00, 172.63it/s]\u001b[A\n",
      " 78%|████████████████████████████████████████████████████████████████████████▏                    | 163/210 [00:00<00:00, 171.94it/s]\u001b[A\n",
      " 86%|████████████████████████████████████████████████████████████████████████████████▏            | 181/210 [00:01<00:00, 170.50it/s]\u001b[A\n",
      "100%|█████████████████████████████████████████████████████████████████████████████████████████████| 210/210 [00:01<00:00, 177.59it/s]\u001b[A\n"
     ]
    },
    {
     "name": "stdout",
     "output_type": "stream",
     "text": [
      "36 ('(X1 == -1) and (X8 == 1)', 0.0010816383589833738, 2518) 0.00028571428571428574\n"
     ]
    },
    {
     "name": "stderr",
     "output_type": "stream",
     "text": [
      "\n",
      "  0%|                                                                                                         | 0/35 [00:00<?, ?it/s]\u001b[A\n",
      "100%|███████████████████████████████████████████████████████████████████████████████████████████████| 35/35 [00:00<00:00, 189.77it/s]\u001b[A\n",
      " 40%|██████████████████████████████████████▍                                                         | 20/50 [08:31<12:08, 24.28s/it]"
     ]
    },
    {
     "name": "stdout",
     "output_type": "stream",
     "text": [
      "1.0 1.0\n",
      "1.0 1.0\n",
      "0 0\n",
      "[-1.2186544]\n",
      "Subgroup size is 25.1%\n",
      "Avg Brier Score on Dataset = 0.213\n",
      "Brier Score in Subgroup = 0.323\n",
      "Brier Score out of Subgroup = 0.177\n",
      "done fitting worst-case\n",
      "4 0.25 0.5882676128683596\n",
      "AFISP\n"
     ]
    },
    {
     "name": "stderr",
     "output_type": "stream",
     "text": [
      "During startup - Warning messages:\n",
      "1: Setting LC_CTYPE failed, using \"C\" \n",
      "2: Setting LC_COLLATE failed, using \"C\" \n",
      "3: Setting LC_TIME failed, using \"C\" \n",
      "4: Setting LC_MESSAGES failed, using \"C\" \n",
      "5: Setting LC_MONETARY failed, using \"C\" \n",
      "6: Setting LC_PAPER failed, using \"C\" \n",
      "7: Setting LC_MEASUREMENT failed, using \"C\" \n"
     ]
    },
    {
     "name": "stdout",
     "output_type": "stream",
     "text": [
      "[1] 2\n",
      "[1] \"Number of trees:  1000  - Stability  90.49  %.\"\n",
      "[1] \"Number of trees:  2000  - Stability  93.03  %.\"\n",
      "[1] \"Number of trees:  3000  - Stability  94.03  %.\"\n",
      "[1] \"Number of trees:  4000  - Stability  95.23  %.\"\n"
     ]
    },
    {
     "name": "stderr",
     "output_type": "stream",
     "text": [
      "\n",
      "100%|█████████████████████████████████████████████████████████████████████████████████████████████████| 9/9 [00:00<00:00, 172.76it/s]\u001b[A\n"
     ]
    },
    {
     "name": "stdout",
     "output_type": "stream",
     "text": [
      "6 ('X1 >= 1', 0.033783602018124324, 4974) 0.0125\n"
     ]
    },
    {
     "name": "stderr",
     "output_type": "stream",
     "text": [
      "\n",
      "100%|█████████████████████████████████████████████████████████████████████████████████████████████████| 5/5 [00:00<00:00, 191.51it/s]\u001b[A\n"
     ]
    },
    {
     "name": "stdout",
     "output_type": "stream",
     "text": [
      "Running Clustering\n"
     ]
    },
    {
     "name": "stderr",
     "output_type": "stream",
     "text": [
      "During startup - Warning messages:\n",
      "1: Setting LC_CTYPE failed, using \"C\" \n",
      "2: Setting LC_COLLATE failed, using \"C\" \n",
      "3: Setting LC_TIME failed, using \"C\" \n",
      "4: Setting LC_MESSAGES failed, using \"C\" \n",
      "5: Setting LC_MONETARY failed, using \"C\" \n",
      "6: Setting LC_PAPER failed, using \"C\" \n",
      "7: Setting LC_MEASUREMENT failed, using \"C\" \n"
     ]
    },
    {
     "name": "stdout",
     "output_type": "stream",
     "text": [
      "[1] 2\n",
      "[1] \"Number of trees:  1000  - Stability  90.92  %.\"\n",
      "[1] \"Number of trees:  2000  - Stability  93.28  %.\"\n",
      "[1] \"Number of trees:  3000  - Stability  93.35  %.\"\n",
      "[1] \"Number of trees:  4000  - Stability  94.14  %.\"\n",
      "[1] \"Number of trees:  5000  - Stability  94.93  %.\"\n",
      "[1] \"Number of trees:  6000  - Stability  95.1  %.\"\n"
     ]
    },
    {
     "name": "stderr",
     "output_type": "stream",
     "text": [
      "\n",
      "100%|█████████████████████████████████████████████████████████████████████████████████████████████████| 9/9 [00:00<00:00, 158.59it/s]\u001b[A\n"
     ]
    },
    {
     "name": "stdout",
     "output_type": "stream",
     "text": [
      "2 ('X6 >= 1', 0.06890159166109243, 5012) 0.00625\n"
     ]
    },
    {
     "name": "stderr",
     "output_type": "stream",
     "text": [
      "\n",
      "100%|█████████████████████████████████████████████████████████████████████████████████████████████████| 1/1 [00:00<00:00, 123.40it/s]\u001b[A\n",
      "\n",
      "  0%|                                                                                                        | 0/210 [00:00<?, ?it/s]\u001b[A\n",
      " 12%|███████████▏                                                                                  | 25/210 [00:00<00:00, 241.18it/s]\u001b[A\n",
      " 24%|██████████████████████▍                                                                       | 50/210 [00:00<00:00, 218.08it/s]\u001b[A\n",
      " 34%|████████████████████████████████▏                                                             | 72/210 [00:00<00:00, 205.69it/s]\u001b[A\n",
      " 44%|█████████████████████████████████████████▋                                                    | 93/210 [00:00<00:00, 199.52it/s]\u001b[A\n",
      " 54%|██████████████████████████████████████████████████                                           | 113/210 [00:00<00:00, 194.79it/s]\u001b[A\n",
      " 63%|██████████████████████████████████████████████████████████▉                                  | 133/210 [00:00<00:00, 192.23it/s]\u001b[A\n",
      " 73%|████████████████████████████████████████████████████████████████████▏                        | 154/210 [00:00<00:00, 196.56it/s]\u001b[A\n",
      " 83%|█████████████████████████████████████████████████████████████████████████████                | 174/210 [00:00<00:00, 192.75it/s]\u001b[A\n",
      "100%|█████████████████████████████████████████████████████████████████████████████████████████████| 210/210 [00:01<00:00, 196.19it/s]\u001b[A\n"
     ]
    },
    {
     "name": "stdout",
     "output_type": "stream",
     "text": [
      "37 ('(X1 == 1) and (X6 == 1)', 0.003340940769553182, 2501) 0.00028735632183908046\n"
     ]
    },
    {
     "name": "stderr",
     "output_type": "stream",
     "text": [
      "\n",
      "  0%|                                                                                                         | 0/36 [00:00<?, ?it/s]\u001b[A\n",
      "100%|███████████████████████████████████████████████████████████████████████████████████████████████| 36/36 [00:00<00:00, 212.48it/s]\u001b[A\n",
      " 42%|████████████████████████████████████████▎                                                       | 21/50 [08:55<11:41, 24.19s/it]"
     ]
    },
    {
     "name": "stdout",
     "output_type": "stream",
     "text": [
      "1.0 1.0\n",
      "1.0 1.0\n",
      "0 0\n",
      "[ 0.95567924  0.25193193 -1.22349763]\n",
      "Subgroup size is 25.3%\n",
      "Avg Brier Score on Dataset = 0.208\n",
      "Brier Score in Subgroup = 0.337\n",
      "Brier Score out of Subgroup = 0.165\n",
      "done fitting worst-case\n",
      "1 0.1 0.9753519841169749\n",
      "AFISP\n"
     ]
    },
    {
     "name": "stderr",
     "output_type": "stream",
     "text": [
      "During startup - Warning messages:\n",
      "1: Setting LC_CTYPE failed, using \"C\" \n",
      "2: Setting LC_COLLATE failed, using \"C\" \n",
      "3: Setting LC_TIME failed, using \"C\" \n",
      "4: Setting LC_MESSAGES failed, using \"C\" \n",
      "5: Setting LC_MONETARY failed, using \"C\" \n",
      "6: Setting LC_PAPER failed, using \"C\" \n",
      "7: Setting LC_MEASUREMENT failed, using \"C\" \n"
     ]
    },
    {
     "name": "stdout",
     "output_type": "stream",
     "text": [
      "[1] 2\n",
      "[1] \"Number of trees:  1000  - Stability  91.92  %.\"\n",
      "[1] \"Number of trees:  2000  - Stability  94.26  %.\"\n",
      "[1] \"Number of trees:  3000  - Stability  94.95  %.\"\n",
      "[1] \"Number of trees:  4000  - Stability  95.31  %.\"\n"
     ]
    },
    {
     "name": "stderr",
     "output_type": "stream",
     "text": [
      "\n",
      "100%|███████████████████████████████████████████████████████████████████████████████████████████████| 10/10 [00:00<00:00, 159.76it/s]\u001b[A\n"
     ]
    },
    {
     "name": "stdout",
     "output_type": "stream",
     "text": [
      "9 ('X5 >= 1', 0.12231838407915409, 5022) 0.025\n"
     ]
    },
    {
     "name": "stderr",
     "output_type": "stream",
     "text": [
      "\n",
      "100%|█████████████████████████████████████████████████████████████████████████████████████████████████| 8/8 [00:00<00:00, 181.47it/s]\u001b[A\n"
     ]
    },
    {
     "name": "stdout",
     "output_type": "stream",
     "text": [
      "Running Clustering\n"
     ]
    },
    {
     "name": "stderr",
     "output_type": "stream",
     "text": [
      "During startup - Warning messages:\n",
      "1: Setting LC_CTYPE failed, using \"C\" \n",
      "2: Setting LC_COLLATE failed, using \"C\" \n",
      "3: Setting LC_TIME failed, using \"C\" \n",
      "4: Setting LC_MESSAGES failed, using \"C\" \n",
      "5: Setting LC_MONETARY failed, using \"C\" \n",
      "6: Setting LC_PAPER failed, using \"C\" \n",
      "7: Setting LC_MEASUREMENT failed, using \"C\" \n"
     ]
    },
    {
     "name": "stdout",
     "output_type": "stream",
     "text": [
      "[1] 2\n",
      "[1] \"Number of trees:  1000  - Stability  92.35  %.\"\n",
      "[1] \"Number of trees:  2000  - Stability  93.83  %.\"\n",
      "[1] \"Number of trees:  3000  - Stability  94.79  %.\"\n",
      "[1] \"Number of trees:  4000  - Stability  95.68  %.\"\n"
     ]
    },
    {
     "name": "stderr",
     "output_type": "stream",
     "text": [
      "\n",
      "100%|█████████████████████████████████████████████████████████████████████████████████████████████████| 9/9 [00:00<00:00, 162.83it/s]\u001b[A\n"
     ]
    },
    {
     "name": "stdout",
     "output_type": "stream",
     "text": [
      "3 ('X5 >= 1 & X8 < 1', 0.10143325506416033, 2442) 0.0071428571428571435\n"
     ]
    },
    {
     "name": "stderr",
     "output_type": "stream",
     "text": [
      "\n",
      "100%|█████████████████████████████████████████████████████████████████████████████████████████████████| 2/2 [00:00<00:00, 189.30it/s]\u001b[A\n",
      "\n",
      "  0%|                                                                                                        | 0/210 [00:00<?, ?it/s]\u001b[A\n",
      " 10%|████████▉                                                                                     | 20/210 [00:00<00:01, 189.28it/s]\u001b[A\n",
      " 19%|█████████████████▍                                                                            | 39/210 [00:00<00:00, 174.46it/s]\u001b[A\n",
      " 27%|█████████████████████████▌                                                                    | 57/210 [00:00<00:00, 169.92it/s]\u001b[A\n",
      " 36%|█████████████████████████████████▌                                                            | 75/210 [00:00<00:00, 168.80it/s]\u001b[A\n",
      " 44%|█████████████████████████████████████████▏                                                    | 92/210 [00:00<00:00, 166.65it/s]\u001b[A\n",
      " 52%|████████████████████████████████████████████████▎                                            | 109/210 [00:00<00:00, 164.68it/s]\u001b[A\n",
      " 60%|███████████████████████████████████████████████████████▊                                     | 126/210 [00:00<00:00, 164.05it/s]\u001b[A\n",
      " 69%|████████████████████████████████████████████████████████████████▏                            | 145/210 [00:00<00:00, 171.89it/s]\u001b[A\n",
      " 78%|████████████████████████████████████████████████████████████████████████▏                    | 163/210 [00:00<00:00, 171.33it/s]\u001b[A\n",
      " 86%|████████████████████████████████████████████████████████████████████████████████▏            | 181/210 [00:01<00:00, 169.02it/s]\u001b[A\n",
      "100%|█████████████████████████████████████████████████████████████████████████████████████████████| 210/210 [00:01<00:00, 169.32it/s]\u001b[A\n"
     ]
    },
    {
     "name": "stdout",
     "output_type": "stream",
     "text": [
      "52 ('(X0 == -1) and (X6 == -1)', 0.005413254927963377, 2497) 0.0003144654088050315\n"
     ]
    },
    {
     "name": "stderr",
     "output_type": "stream",
     "text": [
      "\n",
      "  0%|                                                                                                         | 0/51 [00:00<?, ?it/s]\u001b[A\n",
      " 39%|█████████████████████████████████████▎                                                         | 20/51 [00:00<00:00, 194.60it/s]\u001b[A\n",
      "100%|███████████████████████████████████████████████████████████████████████████████████████████████| 51/51 [00:00<00:00, 184.41it/s]\u001b[A\n",
      " 44%|██████████████████████████████████████████▏                                                     | 22/50 [09:20<11:24, 24.46s/it]"
     ]
    },
    {
     "name": "stdout",
     "output_type": "stream",
     "text": [
      "1.0 0.6783892617449664\n",
      "1.0 0.6783892617449664\n",
      "0 0\n",
      "[ 1.01211816  0.82365515  1.44873137 -0.78539195]\n",
      "Subgroup size is 25.2%\n",
      "Avg Brier Score on Dataset = 0.193\n",
      "Brier Score in Subgroup = 0.351\n",
      "Brier Score out of Subgroup = 0.139\n",
      "done fitting worst-case\n",
      "4 0.25 0.858252233027967\n",
      "AFISP\n"
     ]
    },
    {
     "name": "stderr",
     "output_type": "stream",
     "text": [
      "During startup - Warning messages:\n",
      "1: Setting LC_CTYPE failed, using \"C\" \n",
      "2: Setting LC_COLLATE failed, using \"C\" \n",
      "3: Setting LC_TIME failed, using \"C\" \n",
      "4: Setting LC_MESSAGES failed, using \"C\" \n",
      "5: Setting LC_MONETARY failed, using \"C\" \n",
      "6: Setting LC_PAPER failed, using \"C\" \n",
      "7: Setting LC_MEASUREMENT failed, using \"C\" \n"
     ]
    },
    {
     "name": "stdout",
     "output_type": "stream",
     "text": [
      "[1] 2\n",
      "[1] \"Number of trees:  1000  - Stability  90.42  %.\"\n",
      "[1] \"Number of trees:  2000  - Stability  93.28  %.\"\n",
      "[1] \"Number of trees:  3000  - Stability  94.23  %.\"\n",
      "[1] \"Number of trees:  4000  - Stability  95.07  %.\"\n"
     ]
    },
    {
     "name": "stderr",
     "output_type": "stream",
     "text": [
      "\n",
      "100%|█████████████████████████████████████████████████████████████████████████████████████████████████| 9/9 [00:00<00:00, 178.29it/s]\u001b[A\n"
     ]
    },
    {
     "name": "stdout",
     "output_type": "stream",
     "text": [
      "7 ('X0 < 1', 0.04627289216078918, 5074) 0.016666666666666666\n"
     ]
    },
    {
     "name": "stderr",
     "output_type": "stream",
     "text": [
      "\n",
      "100%|█████████████████████████████████████████████████████████████████████████████████████████████████| 6/6 [00:00<00:00, 194.25it/s]\u001b[A\n"
     ]
    },
    {
     "name": "stdout",
     "output_type": "stream",
     "text": [
      "Running Clustering\n"
     ]
    },
    {
     "name": "stderr",
     "output_type": "stream",
     "text": [
      "During startup - Warning messages:\n",
      "1: Setting LC_CTYPE failed, using \"C\" \n",
      "2: Setting LC_COLLATE failed, using \"C\" \n",
      "3: Setting LC_TIME failed, using \"C\" \n",
      "4: Setting LC_MESSAGES failed, using \"C\" \n",
      "5: Setting LC_MONETARY failed, using \"C\" \n",
      "6: Setting LC_PAPER failed, using \"C\" \n",
      "7: Setting LC_MEASUREMENT failed, using \"C\" \n"
     ]
    },
    {
     "name": "stdout",
     "output_type": "stream",
     "text": [
      "[1] 2\n",
      "[1] \"Number of trees:  1000  - Stability  89.55  %.\"\n",
      "[1] \"Number of trees:  2000  - Stability  92.93  %.\"\n",
      "[1] \"Number of trees:  3000  - Stability  94.36  %.\"\n",
      "[1] \"Number of trees:  4000  - Stability  94.94  %.\"\n",
      "[1] \"Number of trees:  5000  - Stability  94.98  %.\"\n",
      "[1] \"Number of trees:  6000  - Stability  95.65  %.\"\n"
     ]
    },
    {
     "name": "stderr",
     "output_type": "stream",
     "text": [
      "\n",
      "100%|███████████████████████████████████████████████████████████████████████████████████████████████| 10/10 [00:00<00:00, 176.91it/s]\u001b[A\n"
     ]
    },
    {
     "name": "stdout",
     "output_type": "stream",
     "text": [
      "6 ('X6 < 1 & X7 >= 1', 0.13820294391357338, 2468) 0.01\n"
     ]
    },
    {
     "name": "stderr",
     "output_type": "stream",
     "text": [
      "\n",
      "100%|█████████████████████████████████████████████████████████████████████████████████████████████████| 5/5 [00:00<00:00, 161.72it/s]\u001b[A\n",
      "\n",
      "  0%|                                                                                                        | 0/210 [00:00<?, ?it/s]\u001b[A\n",
      " 10%|█████████▍                                                                                    | 21/210 [00:00<00:00, 204.68it/s]\u001b[A\n",
      " 20%|██████████████████▊                                                                           | 42/210 [00:00<00:00, 184.12it/s]\u001b[A\n",
      " 29%|███████████████████████████▎                                                                  | 61/210 [00:00<00:00, 175.41it/s]\u001b[A\n",
      " 38%|███████████████████████████████████▎                                                          | 79/210 [00:00<00:00, 172.81it/s]\u001b[A\n",
      " 46%|███████████████████████████████████████████▍                                                  | 97/210 [00:00<00:00, 170.76it/s]\u001b[A\n",
      " 55%|██████████████████████████████████████████████████▉                                          | 115/210 [00:00<00:00, 167.79it/s]\u001b[A\n",
      " 63%|██████████████████████████████████████████████████████████▍                                  | 132/210 [00:00<00:00, 165.95it/s]\u001b[A\n",
      " 71%|█████████████████████████████████████████████████████████████████▉                           | 149/210 [00:00<00:00, 166.95it/s]\u001b[A\n",
      " 79%|█████████████████████████████████████████████████████████████████████████▌                   | 166/210 [00:00<00:00, 165.94it/s]\u001b[A\n",
      " 87%|█████████████████████████████████████████████████████████████████████████████████            | 183/210 [00:01<00:00, 164.59it/s]\u001b[A\n",
      "100%|█████████████████████████████████████████████████████████████████████████████████████████████| 210/210 [00:01<00:00, 168.68it/s]\u001b[A\n"
     ]
    },
    {
     "name": "stdout",
     "output_type": "stream",
     "text": [
      "43 ('(X0 == -1) and (X7 == -1)', 0.0015295671832555077, 2537) 0.00029761904761904765\n"
     ]
    },
    {
     "name": "stderr",
     "output_type": "stream",
     "text": [
      "\n",
      "  0%|                                                                                                         | 0/42 [00:00<?, ?it/s]\u001b[A\n",
      " 48%|█████████████████████████████████████████████▏                                                 | 20/42 [00:00<00:00, 191.31it/s]\u001b[A\n",
      "100%|███████████████████████████████████████████████████████████████████████████████████████████████| 42/42 [00:00<00:00, 176.75it/s]\u001b[A\n",
      " 46%|████████████████████████████████████████████▏                                                   | 23/50 [09:45<11:04, 24.62s/it]"
     ]
    },
    {
     "name": "stdout",
     "output_type": "stream",
     "text": [
      "1.0 0.3361299773605007\n",
      "1.0 0.3361299773605007\n",
      "1.0 0.3361299773605007\n",
      "[1.30828765 1.48829865 0.85537219 1.10136134]\n",
      "Subgroup size is 25.3%\n",
      "Avg Brier Score on Dataset = 0.170\n",
      "Brier Score in Subgroup = 0.329\n",
      "Brier Score out of Subgroup = 0.116\n",
      "done fitting worst-case\n",
      "1 0.1 1.0595632878134835\n",
      "AFISP\n"
     ]
    },
    {
     "name": "stderr",
     "output_type": "stream",
     "text": [
      "During startup - Warning messages:\n",
      "1: Setting LC_CTYPE failed, using \"C\" \n",
      "2: Setting LC_COLLATE failed, using \"C\" \n",
      "3: Setting LC_TIME failed, using \"C\" \n",
      "4: Setting LC_MESSAGES failed, using \"C\" \n",
      "5: Setting LC_MONETARY failed, using \"C\" \n",
      "6: Setting LC_PAPER failed, using \"C\" \n",
      "7: Setting LC_MEASUREMENT failed, using \"C\" \n"
     ]
    },
    {
     "name": "stdout",
     "output_type": "stream",
     "text": [
      "[1] 2\n",
      "[1] \"Number of trees:  1000  - Stability  92.11  %.\"\n",
      "[1] \"Number of trees:  2000  - Stability  94.71  %.\"\n",
      "[1] \"Number of trees:  3000  - Stability  95.8  %.\"\n"
     ]
    },
    {
     "name": "stderr",
     "output_type": "stream",
     "text": [
      "\n",
      "100%|███████████████████████████████████████████████████████████████████████████████████████████████| 10/10 [00:00<00:00, 174.51it/s]\u001b[A\n"
     ]
    },
    {
     "name": "stdout",
     "output_type": "stream",
     "text": [
      "9 ('X6 >= 1', 0.1482629842602503, 5013) 0.025\n"
     ]
    },
    {
     "name": "stderr",
     "output_type": "stream",
     "text": [
      "\n",
      "100%|█████████████████████████████████████████████████████████████████████████████████████████████████| 8/8 [00:00<00:00, 179.95it/s]\u001b[A\n"
     ]
    },
    {
     "name": "stdout",
     "output_type": "stream",
     "text": [
      "Running Clustering\n"
     ]
    },
    {
     "name": "stderr",
     "output_type": "stream",
     "text": [
      "During startup - Warning messages:\n",
      "1: Setting LC_CTYPE failed, using \"C\" \n",
      "2: Setting LC_COLLATE failed, using \"C\" \n",
      "3: Setting LC_TIME failed, using \"C\" \n",
      "4: Setting LC_MESSAGES failed, using \"C\" \n",
      "5: Setting LC_MONETARY failed, using \"C\" \n",
      "6: Setting LC_PAPER failed, using \"C\" \n",
      "7: Setting LC_MEASUREMENT failed, using \"C\" \n"
     ]
    },
    {
     "name": "stdout",
     "output_type": "stream",
     "text": [
      "[1] 2\n",
      "[1] \"Number of trees:  1000  - Stability  92.07  %.\"\n",
      "[1] \"Number of trees:  2000  - Stability  94  %.\"\n",
      "[1] \"Number of trees:  3000  - Stability  95.04  %.\"\n"
     ]
    },
    {
     "name": "stderr",
     "output_type": "stream",
     "text": [
      "\n",
      "100%|█████████████████████████████████████████████████████████████████████████████████████████████████| 9/9 [00:00<00:00, 170.55it/s]\u001b[A\n"
     ]
    },
    {
     "name": "stdout",
     "output_type": "stream",
     "text": [
      "4 ('X0 >= 1', 0.11223467127632393, 4948) 0.008333333333333333\n"
     ]
    },
    {
     "name": "stderr",
     "output_type": "stream",
     "text": [
      "\n",
      "100%|█████████████████████████████████████████████████████████████████████████████████████████████████| 3/3 [00:00<00:00, 194.88it/s]\u001b[A\n",
      "\n",
      "  0%|                                                                                                        | 0/210 [00:00<?, ?it/s]\u001b[A\n",
      "  9%|████████▌                                                                                     | 19/210 [00:00<00:01, 188.42it/s]\u001b[A\n",
      " 18%|█████████████████                                                                             | 38/210 [00:00<00:00, 181.73it/s]\u001b[A\n",
      " 27%|█████████████████████████▌                                                                    | 57/210 [00:00<00:00, 184.88it/s]\u001b[A\n",
      " 36%|██████████████████████████████████                                                            | 76/210 [00:00<00:00, 186.36it/s]\u001b[A\n",
      " 45%|██████████████████████████████████████████▌                                                   | 95/210 [00:00<00:00, 187.26it/s]\u001b[A\n",
      " 55%|██████████████████████████████████████████████████▉                                          | 115/210 [00:00<00:00, 189.02it/s]\u001b[A\n",
      " 64%|███████████████████████████████████████████████████████████▎                                 | 134/210 [00:00<00:00, 188.91it/s]\u001b[A\n",
      " 73%|███████████████████████████████████████████████████████████████████▊                         | 153/210 [00:00<00:00, 186.37it/s]\u001b[A\n",
      " 82%|████████████████████████████████████████████████████████████████████████████▏                | 172/210 [00:00<00:00, 187.36it/s]\u001b[A\n",
      " 91%|████████████████████████████████████████████████████████████████████████████████████▌        | 191/210 [00:01<00:00, 187.91it/s]\u001b[A\n",
      "100%|█████████████████████████████████████████████████████████████████████████████████████████████| 210/210 [00:01<00:00, 186.00it/s]\u001b[A\n"
     ]
    },
    {
     "name": "stdout",
     "output_type": "stream",
     "text": [
      "36 ('(X2 == -1) and (X6 == -1)', 0.0005532776336003469, 2476) 0.00028571428571428574\n"
     ]
    },
    {
     "name": "stderr",
     "output_type": "stream",
     "text": [
      "\n",
      "  0%|                                                                                                         | 0/35 [00:00<?, ?it/s]\u001b[A\n",
      "100%|███████████████████████████████████████████████████████████████████████████████████████████████| 35/35 [00:00<00:00, 205.58it/s]\u001b[A\n",
      " 48%|██████████████████████████████████████████████                                                  | 24/50 [10:09<10:35, 24.43s/it]"
     ]
    },
    {
     "name": "stdout",
     "output_type": "stream",
     "text": [
      "1.0 0.6716141001855288\n",
      "1.0 0.6716141001855288\n",
      "0 0\n",
      "[1.12763302 0.856924   0.91180258]\n",
      "Subgroup size is 24.4%\n",
      "Avg Brier Score on Dataset = 0.206\n",
      "Brier Score in Subgroup = 0.354\n",
      "Brier Score out of Subgroup = 0.159\n",
      "done fitting worst-case\n",
      "0 0.05 1.1325045192640126\n",
      "AFISP\n"
     ]
    },
    {
     "name": "stderr",
     "output_type": "stream",
     "text": [
      "During startup - Warning messages:\n",
      "1: Setting LC_CTYPE failed, using \"C\" \n",
      "2: Setting LC_COLLATE failed, using \"C\" \n",
      "3: Setting LC_TIME failed, using \"C\" \n",
      "4: Setting LC_MESSAGES failed, using \"C\" \n",
      "5: Setting LC_MONETARY failed, using \"C\" \n",
      "6: Setting LC_PAPER failed, using \"C\" \n",
      "7: Setting LC_MEASUREMENT failed, using \"C\" \n"
     ]
    },
    {
     "name": "stdout",
     "output_type": "stream",
     "text": [
      "[1] 2\n",
      "[1] \"Number of trees:  1000  - Stability  92.16  %.\"\n",
      "[1] \"Number of trees:  2000  - Stability  94.34  %.\"\n",
      "[1] \"Number of trees:  3000  - Stability  94.56  %.\"\n",
      "[1] \"Number of trees:  4000  - Stability  95.06  %.\"\n"
     ]
    },
    {
     "name": "stderr",
     "output_type": "stream",
     "text": [
      "\n",
      "100%|███████████████████████████████████████████████████████████████████████████████████████████████| 10/10 [00:00<00:00, 175.03it/s]\u001b[A\n"
     ]
    },
    {
     "name": "stdout",
     "output_type": "stream",
     "text": [
      "10 ('X9 < 1', 0.06046608667429033, 5035) 0.05\n"
     ]
    },
    {
     "name": "stderr",
     "output_type": "stream",
     "text": [
      "\n",
      "100%|█████████████████████████████████████████████████████████████████████████████████████████████████| 9/9 [00:00<00:00, 169.99it/s]\u001b[A\n"
     ]
    },
    {
     "name": "stdout",
     "output_type": "stream",
     "text": [
      "Running Clustering\n"
     ]
    },
    {
     "name": "stderr",
     "output_type": "stream",
     "text": [
      "During startup - Warning messages:\n",
      "1: Setting LC_CTYPE failed, using \"C\" \n",
      "2: Setting LC_COLLATE failed, using \"C\" \n",
      "3: Setting LC_TIME failed, using \"C\" \n",
      "4: Setting LC_MESSAGES failed, using \"C\" \n",
      "5: Setting LC_MONETARY failed, using \"C\" \n",
      "6: Setting LC_PAPER failed, using \"C\" \n",
      "7: Setting LC_MEASUREMENT failed, using \"C\" \n"
     ]
    },
    {
     "name": "stdout",
     "output_type": "stream",
     "text": [
      "[1] 2\n",
      "[1] \"Number of trees:  1000  - Stability  88.85  %.\"\n",
      "[1] \"Number of trees:  2000  - Stability  91.65  %.\"\n",
      "[1] \"Number of trees:  3000  - Stability  93.21  %.\"\n",
      "[1] \"Number of trees:  4000  - Stability  93.65  %.\"\n",
      "[1] \"Number of trees:  5000  - Stability  94.49  %.\"\n",
      "[1] \"Number of trees:  6000  - Stability  94.38  %.\"\n",
      "[1] \"Number of trees:  7000  - Stability  94.68  %.\"\n",
      "[1] \"Number of trees:  8000  - Stability  94.9  %.\"\n",
      "[1] \"Number of trees:  9000  - Stability  95.14  %.\"\n"
     ]
    },
    {
     "name": "stderr",
     "output_type": "stream",
     "text": [
      "\n",
      "100%|███████████████████████████████████████████████████████████████████████████████████████████████| 10/10 [00:00<00:00, 179.16it/s]\u001b[A\n"
     ]
    },
    {
     "name": "stdout",
     "output_type": "stream",
     "text": [
      "6 ('X4 < 1', 0.16184417788774663, 4956) 0.01\n"
     ]
    },
    {
     "name": "stderr",
     "output_type": "stream",
     "text": [
      "\n",
      "100%|█████████████████████████████████████████████████████████████████████████████████████████████████| 5/5 [00:00<00:00, 185.94it/s]\u001b[A\n",
      "\n",
      "  0%|                                                                                                        | 0/210 [00:00<?, ?it/s]\u001b[A\n",
      " 10%|█████████▊                                                                                    | 22/210 [00:00<00:00, 212.76it/s]\u001b[A\n",
      " 21%|███████████████████▋                                                                          | 44/210 [00:00<00:00, 179.50it/s]\u001b[A\n",
      " 30%|████████████████████████████▏                                                                 | 63/210 [00:00<00:00, 165.46it/s]\u001b[A\n",
      " 38%|███████████████████████████████████▊                                                          | 80/210 [00:00<00:00, 158.99it/s]\u001b[A\n",
      " 46%|██████████████████████████████████████████▉                                                   | 96/210 [00:00<00:00, 156.35it/s]\u001b[A\n",
      " 53%|█████████████████████████████████████████████████▌                                           | 112/210 [00:00<00:00, 153.03it/s]\u001b[A\n",
      " 61%|████████████████████████████████████████████████████████▋                                    | 128/210 [00:00<00:00, 149.78it/s]\u001b[A\n",
      " 69%|███████████████████████████████████████████████████████████████▊                             | 144/210 [00:00<00:00, 149.83it/s]\u001b[A\n",
      " 76%|██████████████████████████████████████████████████████████████████████▍                      | 159/210 [00:01<00:00, 149.13it/s]\u001b[A\n",
      " 83%|█████████████████████████████████████████████████████████████████████████████▌               | 175/210 [00:01<00:00, 149.78it/s]\u001b[A\n",
      " 90%|████████████████████████████████████████████████████████████████████████████████████▏        | 190/210 [00:01<00:00, 148.73it/s]\u001b[A\n",
      "100%|█████████████████████████████████████████████████████████████████████████████████████████████| 210/210 [00:01<00:00, 154.18it/s]\u001b[A\n"
     ]
    },
    {
     "name": "stdout",
     "output_type": "stream",
     "text": [
      "63 ('(X5 == -1) and (X9 == 1)', 0.0014878881509996094, 2486) 0.00033783783783783786\n"
     ]
    },
    {
     "name": "stderr",
     "output_type": "stream",
     "text": [
      "\n",
      "  0%|                                                                                                         | 0/62 [00:00<?, ?it/s]\u001b[A\n",
      " 32%|██████████████████████████████▋                                                                | 20/62 [00:00<00:00, 199.11it/s]\u001b[A\n",
      " 65%|█████████████████████████████████████████████████████████████▎                                 | 40/62 [00:00<00:00, 194.88it/s]\u001b[A\n",
      "100%|███████████████████████████████████████████████████████████████████████████████████████████████| 62/62 [00:00<00:00, 190.14it/s]\u001b[A\n",
      " 50%|████████████████████████████████████████████████                                                | 25/50 [10:34<10:18, 24.75s/it]"
     ]
    },
    {
     "name": "stdout",
     "output_type": "stream",
     "text": [
      "1.0 0.4882882882882883\n",
      "1.0 0.4882882882882883\n",
      "1.0 1.0\n",
      "[ 1.18144455 -1.04613481  0.89266222  0.90900384  1.34218559  0.84703423]\n",
      "Subgroup size is 25.0%\n",
      "Avg Brier Score on Dataset = 0.187\n",
      "Brier Score in Subgroup = 0.373\n",
      "Brier Score out of Subgroup = 0.126\n",
      "done fitting worst-case\n",
      "1 0.1 0.9909191867148152\n",
      "AFISP\n"
     ]
    },
    {
     "name": "stderr",
     "output_type": "stream",
     "text": [
      "During startup - Warning messages:\n",
      "1: Setting LC_CTYPE failed, using \"C\" \n",
      "2: Setting LC_COLLATE failed, using \"C\" \n",
      "3: Setting LC_TIME failed, using \"C\" \n",
      "4: Setting LC_MESSAGES failed, using \"C\" \n",
      "5: Setting LC_MONETARY failed, using \"C\" \n",
      "6: Setting LC_PAPER failed, using \"C\" \n",
      "7: Setting LC_MEASUREMENT failed, using \"C\" \n"
     ]
    },
    {
     "name": "stdout",
     "output_type": "stream",
     "text": [
      "[1] 2\n",
      "[1] \"Number of trees:  1000  - Stability  91.86  %.\"\n",
      "[1] \"Number of trees:  2000  - Stability  94.16  %.\"\n",
      "[1] \"Number of trees:  3000  - Stability  94.32  %.\"\n",
      "[1] \"Number of trees:  4000  - Stability  94.88  %.\"\n",
      "[1] \"Number of trees:  5000  - Stability  95.64  %.\"\n"
     ]
    },
    {
     "name": "stderr",
     "output_type": "stream",
     "text": [
      "\n",
      "100%|███████████████████████████████████████████████████████████████████████████████████████████████| 10/10 [00:00<00:00, 168.81it/s]\u001b[A\n",
      "\n",
      "100%|███████████████████████████████████████████████████████████████████████████████████████████████| 10/10 [00:00<00:00, 187.74it/s]\u001b[A\n"
     ]
    },
    {
     "name": "stdout",
     "output_type": "stream",
     "text": [
      "Running Clustering\n"
     ]
    },
    {
     "name": "stderr",
     "output_type": "stream",
     "text": [
      "During startup - Warning messages:\n",
      "1: Setting LC_CTYPE failed, using \"C\" \n",
      "2: Setting LC_COLLATE failed, using \"C\" \n",
      "3: Setting LC_TIME failed, using \"C\" \n",
      "4: Setting LC_MESSAGES failed, using \"C\" \n",
      "5: Setting LC_MONETARY failed, using \"C\" \n",
      "6: Setting LC_PAPER failed, using \"C\" \n",
      "7: Setting LC_MEASUREMENT failed, using \"C\" \n"
     ]
    },
    {
     "name": "stdout",
     "output_type": "stream",
     "text": [
      "[1] 2\n",
      "[1] \"Number of trees:  1000  - Stability  90.35  %.\"\n",
      "[1] \"Number of trees:  2000  - Stability  92.82  %.\"\n",
      "[1] \"Number of trees:  3000  - Stability  93.7  %.\"\n",
      "[1] \"Number of trees:  4000  - Stability  94.43  %.\"\n",
      "[1] \"Number of trees:  5000  - Stability  95.09  %.\"\n"
     ]
    },
    {
     "name": "stderr",
     "output_type": "stream",
     "text": [
      "\n",
      "100%|███████████████████████████████████████████████████████████████████████████████████████████████| 10/10 [00:00<00:00, 158.50it/s]\u001b[A\n"
     ]
    },
    {
     "name": "stdout",
     "output_type": "stream",
     "text": [
      "6 ('X1 >= 1 & X7 >= 1', 0.01082211362848092, 2474) 0.01\n"
     ]
    },
    {
     "name": "stderr",
     "output_type": "stream",
     "text": [
      "\n",
      "100%|█████████████████████████████████████████████████████████████████████████████████████████████████| 5/5 [00:00<00:00, 195.53it/s]\u001b[A\n",
      "\n",
      "  0%|                                                                                                        | 0/210 [00:00<?, ?it/s]\u001b[A\n",
      " 11%|██████████▋                                                                                   | 24/210 [00:00<00:00, 237.41it/s]\u001b[A\n",
      " 23%|█████████████████████▍                                                                        | 48/210 [00:00<00:00, 201.25it/s]\u001b[A\n",
      " 33%|██████████████████████████████▉                                                               | 69/210 [00:00<00:00, 187.15it/s]\u001b[A\n",
      " 42%|███████████████████████████████████████▍                                                      | 88/210 [00:00<00:00, 180.88it/s]\u001b[A\n",
      " 51%|███████████████████████████████████████████████▍                                             | 107/210 [00:00<00:00, 178.14it/s]\u001b[A\n",
      " 60%|███████████████████████████████████████████████████████▎                                     | 125/210 [00:00<00:00, 175.66it/s]\u001b[A\n",
      " 68%|███████████████████████████████████████████████████████████████▎                             | 143/210 [00:00<00:00, 172.51it/s]\u001b[A\n",
      " 77%|███████████████████████████████████████████████████████████████████████▎                     | 161/210 [00:00<00:00, 170.71it/s]\u001b[A\n",
      " 85%|███████████████████████████████████████████████████████████████████████████████▎             | 179/210 [00:01<00:00, 171.32it/s]\u001b[A\n",
      "100%|█████████████████████████████████████████████████████████████████████████████████████████████| 210/210 [00:01<00:00, 177.13it/s]\u001b[A\n"
     ]
    },
    {
     "name": "stdout",
     "output_type": "stream",
     "text": [
      "48 ('(X7 == 1) and (X9 == -1)', 0.0004611705702750313, 2466) 0.00030674846625766873\n"
     ]
    },
    {
     "name": "stderr",
     "output_type": "stream",
     "text": [
      "\n",
      "  0%|                                                                                                         | 0/47 [00:00<?, ?it/s]\u001b[A\n",
      " 47%|████████████████████████████████████████████▍                                                  | 22/47 [00:00<00:00, 209.01it/s]\u001b[A\n",
      "100%|███████████████████████████████████████████████████████████████████████████████████████████████| 47/47 [00:00<00:00, 194.51it/s]\u001b[A\n",
      " 52%|█████████████████████████████████████████████████▉                                              | 26/50 [10:59<09:54, 24.76s/it]"
     ]
    },
    {
     "name": "stdout",
     "output_type": "stream",
     "text": [
      "1.0 0.33293333333333336\n",
      "1.0 0.33293333333333336\n",
      "1.0 0.49445544554455445\n",
      "[ 0.84896465 -1.48981276  1.01760035]\n",
      "Subgroup size is 25.6%\n",
      "Avg Brier Score on Dataset = 0.200\n",
      "Brier Score in Subgroup = 0.349\n",
      "Brier Score out of Subgroup = 0.149\n",
      "done fitting worst-case\n",
      "4 0.25 0.7844473049405509\n",
      "AFISP\n"
     ]
    },
    {
     "name": "stderr",
     "output_type": "stream",
     "text": [
      "During startup - Warning messages:\n",
      "1: Setting LC_CTYPE failed, using \"C\" \n",
      "2: Setting LC_COLLATE failed, using \"C\" \n",
      "3: Setting LC_TIME failed, using \"C\" \n",
      "4: Setting LC_MESSAGES failed, using \"C\" \n",
      "5: Setting LC_MONETARY failed, using \"C\" \n",
      "6: Setting LC_PAPER failed, using \"C\" \n",
      "7: Setting LC_MEASUREMENT failed, using \"C\" \n"
     ]
    },
    {
     "name": "stdout",
     "output_type": "stream",
     "text": [
      "[1] 2\n",
      "[1] \"Number of trees:  1000  - Stability  91.3  %.\"\n",
      "[1] \"Number of trees:  2000  - Stability  93.47  %.\"\n",
      "[1] \"Number of trees:  3000  - Stability  94.5  %.\"\n",
      "[1] \"Number of trees:  4000  - Stability  94.97  %.\"\n",
      "[1] \"Number of trees:  5000  - Stability  95.23  %.\"\n"
     ]
    },
    {
     "name": "stderr",
     "output_type": "stream",
     "text": [
      "\n",
      "100%|███████████████████████████████████████████████████████████████████████████████████████████████| 10/10 [00:00<00:00, 171.57it/s]\u001b[A\n"
     ]
    },
    {
     "name": "stdout",
     "output_type": "stream",
     "text": [
      "7 ('X0 < 1', 0.03733452373648753, 5002) 0.0125\n"
     ]
    },
    {
     "name": "stderr",
     "output_type": "stream",
     "text": [
      "\n",
      "100%|█████████████████████████████████████████████████████████████████████████████████████████████████| 6/6 [00:00<00:00, 189.43it/s]\u001b[A\n"
     ]
    },
    {
     "name": "stdout",
     "output_type": "stream",
     "text": [
      "Running Clustering\n"
     ]
    },
    {
     "name": "stderr",
     "output_type": "stream",
     "text": [
      "During startup - Warning messages:\n",
      "1: Setting LC_CTYPE failed, using \"C\" \n",
      "2: Setting LC_COLLATE failed, using \"C\" \n",
      "3: Setting LC_TIME failed, using \"C\" \n",
      "4: Setting LC_MESSAGES failed, using \"C\" \n",
      "5: Setting LC_MONETARY failed, using \"C\" \n",
      "6: Setting LC_PAPER failed, using \"C\" \n",
      "7: Setting LC_MEASUREMENT failed, using \"C\" \n"
     ]
    },
    {
     "name": "stdout",
     "output_type": "stream",
     "text": [
      "[1] 2\n",
      "[1] \"Number of trees:  1000  - Stability  89.21  %.\"\n",
      "[1] \"Number of trees:  2000  - Stability  92.47  %.\"\n",
      "[1] \"Number of trees:  3000  - Stability  93.84  %.\"\n",
      "[1] \"Number of trees:  4000  - Stability  94.73  %.\"\n",
      "[1] \"Number of trees:  5000  - Stability  95.11  %.\"\n"
     ]
    },
    {
     "name": "stderr",
     "output_type": "stream",
     "text": [
      "\n",
      "100%|███████████████████████████████████████████████████████████████████████████████████████████████| 10/10 [00:00<00:00, 178.65it/s]\u001b[A\n"
     ]
    },
    {
     "name": "stdout",
     "output_type": "stream",
     "text": [
      "7 ('X0 < 1', 0.03733452373648753, 5002) 0.0125\n"
     ]
    },
    {
     "name": "stderr",
     "output_type": "stream",
     "text": [
      "\n",
      "100%|█████████████████████████████████████████████████████████████████████████████████████████████████| 6/6 [00:00<00:00, 184.47it/s]\u001b[A\n",
      "\n",
      "  0%|                                                                                                        | 0/210 [00:00<?, ?it/s]\u001b[A\n",
      " 12%|███████████▏                                                                                  | 25/210 [00:00<00:00, 239.25it/s]\u001b[A\n",
      " 23%|█████████████████████▉                                                                        | 49/210 [00:00<00:00, 203.46it/s]\u001b[A\n",
      " 33%|███████████████████████████████▎                                                              | 70/210 [00:00<00:00, 190.81it/s]\u001b[A\n",
      " 43%|████████████████████████████████████████▎                                                     | 90/210 [00:00<00:00, 186.34it/s]\u001b[A\n",
      " 52%|████████████████████████████████████████████████▎                                            | 109/210 [00:00<00:00, 181.93it/s]\u001b[A\n",
      " 61%|████████████████████████████████████████████████████████▋                                    | 128/210 [00:00<00:00, 182.49it/s]\u001b[A\n",
      " 70%|█████████████████████████████████████████████████████████████████                            | 147/210 [00:00<00:00, 180.65it/s]\u001b[A\n",
      " 79%|█████████████████████████████████████████████████████████████████████████▌                   | 166/210 [00:00<00:00, 180.09it/s]\u001b[A\n",
      " 88%|█████████████████████████████████████████████████████████████████████████████████▉           | 185/210 [00:01<00:00, 177.21it/s]\u001b[A\n",
      "100%|█████████████████████████████████████████████████████████████████████████████████████████████| 210/210 [00:01<00:00, 182.06it/s]\u001b[A\n"
     ]
    },
    {
     "name": "stdout",
     "output_type": "stream",
     "text": [
      "41 ('(X0 == -1) and (X7 == 1)', 0.0038392838448255756, 2497) 0.00029411764705882356\n"
     ]
    },
    {
     "name": "stderr",
     "output_type": "stream",
     "text": [
      "\n",
      "  0%|                                                                                                         | 0/40 [00:00<?, ?it/s]\u001b[A\n",
      " 48%|█████████████████████████████████████████████▏                                                 | 19/40 [00:00<00:00, 189.88it/s]\u001b[A\n",
      "100%|███████████████████████████████████████████████████████████████████████████████████████████████| 40/40 [00:00<00:00, 180.58it/s]\u001b[A\n",
      " 54%|███████████████████████████████████████████████████▊                                            | 27/50 [11:24<09:29, 24.78s/it]"
     ]
    },
    {
     "name": "stdout",
     "output_type": "stream",
     "text": [
      "1.0 0.5081252477209671\n",
      "1.0 0.5081252477209671\n",
      "1.0 0.5081252477209671\n",
      "[-0.68869919 -1.13769798  1.34191584]\n",
      "Subgroup size is 24.5%\n",
      "Avg Brier Score on Dataset = 0.202\n",
      "Brier Score in Subgroup = 0.366\n",
      "Brier Score out of Subgroup = 0.149\n",
      "done fitting worst-case\n",
      "4 0.25 0.8883895810407173\n",
      "AFISP\n"
     ]
    },
    {
     "name": "stderr",
     "output_type": "stream",
     "text": [
      "During startup - Warning messages:\n",
      "1: Setting LC_CTYPE failed, using \"C\" \n",
      "2: Setting LC_COLLATE failed, using \"C\" \n",
      "3: Setting LC_TIME failed, using \"C\" \n",
      "4: Setting LC_MESSAGES failed, using \"C\" \n",
      "5: Setting LC_MONETARY failed, using \"C\" \n",
      "6: Setting LC_PAPER failed, using \"C\" \n",
      "7: Setting LC_MEASUREMENT failed, using \"C\" \n"
     ]
    },
    {
     "name": "stdout",
     "output_type": "stream",
     "text": [
      "[1] 2\n",
      "[1] \"Number of trees:  1000  - Stability  91.58  %.\"\n",
      "[1] \"Number of trees:  2000  - Stability  93.71  %.\"\n",
      "[1] \"Number of trees:  3000  - Stability  94.81  %.\"\n",
      "[1] \"Number of trees:  4000  - Stability  95.38  %.\"\n"
     ]
    },
    {
     "name": "stderr",
     "output_type": "stream",
     "text": [
      "\n",
      "100%|█████████████████████████████████████████████████████████████████████████████████████████████████| 8/8 [00:00<00:00, 175.79it/s]\u001b[A\n"
     ]
    },
    {
     "name": "stdout",
     "output_type": "stream",
     "text": [
      "7 ('X6 < 1', 0.4394741285366296, 4955) 0.025\n"
     ]
    },
    {
     "name": "stderr",
     "output_type": "stream",
     "text": [
      "\n",
      "100%|█████████████████████████████████████████████████████████████████████████████████████████████████| 6/6 [00:00<00:00, 189.00it/s]\u001b[A\n"
     ]
    },
    {
     "name": "stdout",
     "output_type": "stream",
     "text": [
      "Running Clustering\n"
     ]
    },
    {
     "name": "stderr",
     "output_type": "stream",
     "text": [
      "During startup - Warning messages:\n",
      "1: Setting LC_CTYPE failed, using \"C\" \n",
      "2: Setting LC_COLLATE failed, using \"C\" \n",
      "3: Setting LC_TIME failed, using \"C\" \n",
      "4: Setting LC_MESSAGES failed, using \"C\" \n",
      "5: Setting LC_MONETARY failed, using \"C\" \n",
      "6: Setting LC_PAPER failed, using \"C\" \n",
      "7: Setting LC_MEASUREMENT failed, using \"C\" \n"
     ]
    },
    {
     "name": "stdout",
     "output_type": "stream",
     "text": [
      "[1] 2\n",
      "[1] \"Number of trees:  1000  - Stability  88.78  %.\"\n",
      "[1] \"Number of trees:  2000  - Stability  91.53  %.\"\n",
      "[1] \"Number of trees:  3000  - Stability  93.11  %.\"\n",
      "[1] \"Number of trees:  4000  - Stability  94.02  %.\"\n",
      "[1] \"Number of trees:  5000  - Stability  94.36  %.\"\n",
      "[1] \"Number of trees:  6000  - Stability  94.43  %.\"\n",
      "[1] \"Number of trees:  7000  - Stability  95  %.\"\n",
      "[1] \"Number of trees:  8000  - Stability  95.16  %.\"\n"
     ]
    },
    {
     "name": "stderr",
     "output_type": "stream",
     "text": [
      "\n",
      "100%|███████████████████████████████████████████████████████████████████████████████████████████████| 10/10 [00:00<00:00, 179.57it/s]\u001b[A\n"
     ]
    },
    {
     "name": "stdout",
     "output_type": "stream",
     "text": [
      "7 ('X0 < 1', 0.05656240490206114, 5025) 0.0125\n"
     ]
    },
    {
     "name": "stderr",
     "output_type": "stream",
     "text": [
      "\n",
      "100%|█████████████████████████████████████████████████████████████████████████████████████████████████| 6/6 [00:00<00:00, 185.11it/s]\u001b[A\n",
      "\n",
      "  0%|                                                                                                        | 0/210 [00:00<?, ?it/s]\u001b[A\n",
      " 10%|█████████▍                                                                                    | 21/210 [00:00<00:00, 205.05it/s]\u001b[A\n",
      " 20%|██████████████████▊                                                                           | 42/210 [00:00<00:00, 187.52it/s]\u001b[A\n",
      " 29%|███████████████████████████▎                                                                  | 61/210 [00:00<00:00, 180.08it/s]\u001b[A\n",
      " 38%|███████████████████████████████████▊                                                          | 80/210 [00:00<00:00, 176.95it/s]\u001b[A\n",
      " 47%|███████████████████████████████████████████▊                                                  | 98/210 [00:00<00:00, 175.43it/s]\u001b[A\n",
      " 55%|███████████████████████████████████████████████████▎                                         | 116/210 [00:00<00:00, 173.73it/s]\u001b[A\n",
      " 64%|███████████████████████████████████████████████████████████▎                                 | 134/210 [00:00<00:00, 171.06it/s]\u001b[A\n",
      " 73%|███████████████████████████████████████████████████████████████████▊                         | 153/210 [00:00<00:00, 174.98it/s]\u001b[A\n",
      " 81%|███████████████████████████████████████████████████████████████████████████▋                 | 171/210 [00:00<00:00, 176.14it/s]\u001b[A\n",
      " 90%|████████████████████████████████████████████████████████████████████████████████████▏        | 190/210 [00:01<00:00, 178.60it/s]\u001b[A\n",
      "100%|█████████████████████████████████████████████████████████████████████████████████████████████| 210/210 [00:01<00:00, 176.84it/s]\u001b[A\n"
     ]
    },
    {
     "name": "stdout",
     "output_type": "stream",
     "text": [
      "48 ('(X5 == -1)', 0.00031810521156074375, 4997) 0.00030674846625766873\n"
     ]
    },
    {
     "name": "stderr",
     "output_type": "stream",
     "text": [
      "\n",
      "  0%|                                                                                                         | 0/47 [00:00<?, ?it/s]\u001b[A\n",
      " 43%|████████████████████████████████████████▍                                                      | 20/47 [00:00<00:00, 193.43it/s]\u001b[A\n",
      "100%|███████████████████████████████████████████████████████████████████████████████████████████████| 47/47 [00:00<00:00, 187.33it/s]\u001b[A\n",
      " 56%|█████████████████████████████████████████████████████▊                                          | 28/50 [11:49<09:08, 24.92s/it]"
     ]
    },
    {
     "name": "stdout",
     "output_type": "stream",
     "text": [
      "1.0 0.3291649858814038\n",
      "1.0 0.3291649858814038\n",
      "1.0 0.3291649858814038\n",
      "[ 1.00460729  1.16905854 -1.06899192 -1.42339924  1.24053284  1.78560001]\n",
      "Subgroup size is 25.1%\n",
      "Avg Brier Score on Dataset = 0.179\n",
      "Brier Score in Subgroup = 0.393\n",
      "Brier Score out of Subgroup = 0.107\n",
      "done fitting worst-case\n",
      "4 0.25 1.014281782230755\n",
      "AFISP\n"
     ]
    },
    {
     "name": "stderr",
     "output_type": "stream",
     "text": [
      "During startup - Warning messages:\n",
      "1: Setting LC_CTYPE failed, using \"C\" \n",
      "2: Setting LC_COLLATE failed, using \"C\" \n",
      "3: Setting LC_TIME failed, using \"C\" \n",
      "4: Setting LC_MESSAGES failed, using \"C\" \n",
      "5: Setting LC_MONETARY failed, using \"C\" \n",
      "6: Setting LC_PAPER failed, using \"C\" \n",
      "7: Setting LC_MEASUREMENT failed, using \"C\" \n"
     ]
    },
    {
     "name": "stdout",
     "output_type": "stream",
     "text": [
      "[1] 2\n",
      "[1] \"Number of trees:  1000  - Stability  89.57  %.\"\n",
      "[1] \"Number of trees:  2000  - Stability  92.38  %.\"\n",
      "[1] \"Number of trees:  3000  - Stability  92.91  %.\"\n",
      "[1] \"Number of trees:  4000  - Stability  93.26  %.\"\n",
      "[1] \"Number of trees:  5000  - Stability  93.76  %.\"\n",
      "[1] \"Number of trees:  6000  - Stability  94.37  %.\"\n",
      "[1] \"Number of trees:  7000  - Stability  94.56  %.\"\n",
      "[1] \"Number of trees:  8000  - Stability  94.75  %.\"\n",
      "[1] \"Number of trees:  9000  - Stability  95.04  %.\"\n"
     ]
    },
    {
     "name": "stderr",
     "output_type": "stream",
     "text": [
      "\n",
      "100%|█████████████████████████████████████████████████████████████████████████████████████████████████| 8/8 [00:00<00:00, 177.94it/s]\u001b[A\n"
     ]
    },
    {
     "name": "stdout",
     "output_type": "stream",
     "text": [
      "4 ('X8 < 1', 0.1445080750598678, 4987) 0.01\n"
     ]
    },
    {
     "name": "stderr",
     "output_type": "stream",
     "text": [
      "\n",
      "100%|█████████████████████████████████████████████████████████████████████████████████████████████████| 3/3 [00:00<00:00, 164.70it/s]\u001b[A\n"
     ]
    },
    {
     "name": "stdout",
     "output_type": "stream",
     "text": [
      "Running Clustering\n"
     ]
    },
    {
     "name": "stderr",
     "output_type": "stream",
     "text": [
      "During startup - Warning messages:\n",
      "1: Setting LC_CTYPE failed, using \"C\" \n",
      "2: Setting LC_COLLATE failed, using \"C\" \n",
      "3: Setting LC_TIME failed, using \"C\" \n",
      "4: Setting LC_MESSAGES failed, using \"C\" \n",
      "5: Setting LC_MONETARY failed, using \"C\" \n",
      "6: Setting LC_PAPER failed, using \"C\" \n",
      "7: Setting LC_MEASUREMENT failed, using \"C\" \n"
     ]
    },
    {
     "name": "stdout",
     "output_type": "stream",
     "text": [
      "[1] 2\n",
      "[1] \"Number of trees:  1000  - Stability  92.06  %.\"\n",
      "[1] \"Number of trees:  2000  - Stability  93.47  %.\"\n",
      "[1] \"Number of trees:  3000  - Stability  93.82  %.\"\n",
      "[1] \"Number of trees:  4000  - Stability  93.26  %.\"\n",
      "[1] \"Number of trees:  5000  - Stability  94.27  %.\"\n",
      "[1] \"Number of trees:  6000  - Stability  94.61  %.\"\n",
      "[1] \"Number of trees:  7000  - Stability  95.13  %.\"\n"
     ]
    },
    {
     "name": "stderr",
     "output_type": "stream",
     "text": [
      "\n",
      "100%|█████████████████████████████████████████████████████████████████████████████████████████████████| 8/8 [00:00<00:00, 169.21it/s]\u001b[A\n"
     ]
    },
    {
     "name": "stdout",
     "output_type": "stream",
     "text": [
      "3 ('X8 < 1', 0.1445080750598678, 4987) 0.008333333333333333\n"
     ]
    },
    {
     "name": "stderr",
     "output_type": "stream",
     "text": [
      "\n",
      "100%|█████████████████████████████████████████████████████████████████████████████████████████████████| 2/2 [00:00<00:00, 137.34it/s]\u001b[A\n",
      "\n",
      "  0%|                                                                                                        | 0/210 [00:00<?, ?it/s]\u001b[A\n",
      " 12%|███████████▏                                                                                  | 25/210 [00:00<00:00, 245.89it/s]\u001b[A\n",
      " 24%|██████████████████████▍                                                                       | 50/210 [00:00<00:00, 226.33it/s]\u001b[A\n",
      " 35%|████████████████████████████████▋                                                             | 73/210 [00:00<00:00, 221.81it/s]\u001b[A\n",
      " 46%|██████████████████████████████████████████▉                                                   | 96/210 [00:00<00:00, 218.99it/s]\u001b[A\n",
      " 56%|████████████████████████████████████████████████████▎                                        | 118/210 [00:00<00:00, 217.38it/s]\u001b[A\n",
      " 67%|██████████████████████████████████████████████████████████████                               | 140/210 [00:00<00:00, 214.41it/s]\u001b[A\n",
      " 77%|███████████████████████████████████████████████████████████████████████▋                     | 162/210 [00:00<00:00, 196.51it/s]\u001b[A\n",
      " 87%|████████████████████████████████████████████████████████████████████████████████▌            | 182/210 [00:00<00:00, 187.77it/s]\u001b[A\n",
      "100%|█████████████████████████████████████████████████████████████████████████████████████████████| 210/210 [00:01<00:00, 197.78it/s]\u001b[A\n"
     ]
    },
    {
     "name": "stdout",
     "output_type": "stream",
     "text": [
      "39 ('(X1 == -1) and (X9 == 1)', 0.000312621817257794, 2464) 0.00029069767441860465\n"
     ]
    },
    {
     "name": "stderr",
     "output_type": "stream",
     "text": [
      "\n",
      "  0%|                                                                                                         | 0/38 [00:00<?, ?it/s]\u001b[A\n",
      "100%|███████████████████████████████████████████████████████████████████████████████████████████████| 38/38 [00:00<00:00, 196.04it/s]\u001b[A\n",
      " 58%|███████████████████████████████████████████████████████▋                                        | 29/50 [12:15<08:47, 25.10s/it]"
     ]
    },
    {
     "name": "stdout",
     "output_type": "stream",
     "text": [
      "1.0 0.33596467754883597\n",
      "1.0 0.33596467754883597\n",
      "1.0 0.5065563849102279\n",
      "[ 0.75731312 -0.75587407]\n",
      "Subgroup size is 25.0%\n",
      "Avg Brier Score on Dataset = 0.222\n",
      "Brier Score in Subgroup = 0.302\n",
      "Brier Score out of Subgroup = 0.195\n",
      "done fitting worst-case\n",
      "1 0.1 0.7626537232027404\n",
      "AFISP\n"
     ]
    },
    {
     "name": "stderr",
     "output_type": "stream",
     "text": [
      "During startup - Warning messages:\n",
      "1: Setting LC_CTYPE failed, using \"C\" \n",
      "2: Setting LC_COLLATE failed, using \"C\" \n",
      "3: Setting LC_TIME failed, using \"C\" \n",
      "4: Setting LC_MESSAGES failed, using \"C\" \n",
      "5: Setting LC_MONETARY failed, using \"C\" \n",
      "6: Setting LC_PAPER failed, using \"C\" \n",
      "7: Setting LC_MEASUREMENT failed, using \"C\" \n"
     ]
    },
    {
     "name": "stdout",
     "output_type": "stream",
     "text": [
      "[1] 2\n",
      "[1] \"Number of trees:  1000  - Stability  92.11  %.\"\n",
      "[1] \"Number of trees:  2000  - Stability  93.98  %.\"\n",
      "[1] \"Number of trees:  3000  - Stability  95.08  %.\"\n"
     ]
    },
    {
     "name": "stderr",
     "output_type": "stream",
     "text": [
      "\n",
      "100%|███████████████████████████████████████████████████████████████████████████████████████████████| 10/10 [00:00<00:00, 174.97it/s]\u001b[A\n"
     ]
    },
    {
     "name": "stdout",
     "output_type": "stream",
     "text": [
      "9 ('X0 < 1', 0.29688854947563625, 4991) 0.025\n"
     ]
    },
    {
     "name": "stderr",
     "output_type": "stream",
     "text": [
      "\n",
      "100%|█████████████████████████████████████████████████████████████████████████████████████████████████| 8/8 [00:00<00:00, 188.18it/s]\u001b[A\n"
     ]
    },
    {
     "name": "stdout",
     "output_type": "stream",
     "text": [
      "Running Clustering\n"
     ]
    },
    {
     "name": "stderr",
     "output_type": "stream",
     "text": [
      "During startup - Warning messages:\n",
      "1: Setting LC_CTYPE failed, using \"C\" \n",
      "2: Setting LC_COLLATE failed, using \"C\" \n",
      "3: Setting LC_TIME failed, using \"C\" \n",
      "4: Setting LC_MESSAGES failed, using \"C\" \n",
      "5: Setting LC_MONETARY failed, using \"C\" \n",
      "6: Setting LC_PAPER failed, using \"C\" \n",
      "7: Setting LC_MEASUREMENT failed, using \"C\" \n"
     ]
    },
    {
     "name": "stdout",
     "output_type": "stream",
     "text": [
      "[1] 2\n",
      "[1] \"Number of trees:  1000  - Stability  88.87  %.\"\n",
      "[1] \"Number of trees:  2000  - Stability  91.54  %.\"\n",
      "[1] \"Number of trees:  3000  - Stability  92.7  %.\"\n",
      "[1] \"Number of trees:  4000  - Stability  93.69  %.\"\n",
      "[1] \"Number of trees:  5000  - Stability  94.03  %.\"\n",
      "[1] \"Number of trees:  6000  - Stability  94.47  %.\"\n",
      "[1] \"Number of trees:  7000  - Stability  94.92  %.\"\n",
      "[1] \"Number of trees:  8000  - Stability  95.31  %.\"\n"
     ]
    },
    {
     "name": "stderr",
     "output_type": "stream",
     "text": [
      "\n",
      "100%|███████████████████████████████████████████████████████████████████████████████████████████████| 10/10 [00:00<00:00, 175.54it/s]\u001b[A\n"
     ]
    },
    {
     "name": "stdout",
     "output_type": "stream",
     "text": [
      "5 ('X6 >= 1', 0.11169980621211527, 5013) 0.008333333333333333\n"
     ]
    },
    {
     "name": "stderr",
     "output_type": "stream",
     "text": [
      "\n",
      "100%|█████████████████████████████████████████████████████████████████████████████████████████████████| 4/4 [00:00<00:00, 196.03it/s]\u001b[A\n",
      "\n",
      "  0%|                                                                                                        | 0/210 [00:00<?, ?it/s]\u001b[A\n",
      " 10%|█████████▍                                                                                    | 21/210 [00:00<00:00, 202.95it/s]\u001b[A\n",
      " 20%|██████████████████▊                                                                           | 42/210 [00:00<00:00, 185.37it/s]\u001b[A\n",
      " 29%|███████████████████████████▎                                                                  | 61/210 [00:00<00:00, 176.95it/s]\u001b[A\n",
      " 38%|███████████████████████████████████▎                                                          | 79/210 [00:00<00:00, 172.29it/s]\u001b[A\n",
      " 46%|███████████████████████████████████████████▍                                                  | 97/210 [00:00<00:00, 170.44it/s]\u001b[A\n",
      " 55%|██████████████████████████████████████████████████▉                                          | 115/210 [00:00<00:00, 170.46it/s]\u001b[A\n",
      " 63%|██████████████████████████████████████████████████████████▉                                  | 133/210 [00:00<00:00, 170.29it/s]\u001b[A\n",
      " 72%|██████████████████████████████████████████████████████████████████▊                          | 151/210 [00:00<00:00, 172.86it/s]\u001b[A\n",
      " 80%|██████████████████████████████████████████████████████████████████████████▊                  | 169/210 [00:00<00:00, 172.19it/s]\u001b[A\n",
      " 89%|██████████████████████████████████████████████████████████████████████████████████▊          | 187/210 [00:01<00:00, 171.90it/s]\u001b[A\n",
      "100%|█████████████████████████████████████████████████████████████████████████████████████████████| 210/210 [00:01<00:00, 171.95it/s]\u001b[A\n"
     ]
    },
    {
     "name": "stdout",
     "output_type": "stream",
     "text": [
      "53 ('(X0 == -1) and (X7 == 1)', 0.031286731326640636, 2461) 0.00031645569620253165\n"
     ]
    },
    {
     "name": "stderr",
     "output_type": "stream",
     "text": [
      "\n",
      "  0%|                                                                                                         | 0/52 [00:00<?, ?it/s]\u001b[A\n",
      " 37%|██████████████████████████████████▋                                                            | 19/52 [00:00<00:00, 184.93it/s]\u001b[A\n",
      "100%|███████████████████████████████████████████████████████████████████████████████████████████████| 52/52 [00:00<00:00, 183.51it/s]\u001b[A\n",
      " 60%|█████████████████████████████████████████████████████████▌                                      | 30/50 [12:39<08:20, 25.02s/it]"
     ]
    },
    {
     "name": "stdout",
     "output_type": "stream",
     "text": [
      "1.0 0.6702355460385439\n",
      "1.0 0.6702355460385439\n",
      "0.4812300319488818 0.494460402133771\n",
      "[1.01901827 0.77394711 1.23275458]\n",
      "Subgroup size is 25.0%\n",
      "Avg Brier Score on Dataset = 0.198\n",
      "Brier Score in Subgroup = 0.335\n",
      "Brier Score out of Subgroup = 0.153\n",
      "done fitting worst-case\n",
      "1 0.1 0.7729371848814978\n",
      "AFISP\n"
     ]
    },
    {
     "name": "stderr",
     "output_type": "stream",
     "text": [
      "During startup - Warning messages:\n",
      "1: Setting LC_CTYPE failed, using \"C\" \n",
      "2: Setting LC_COLLATE failed, using \"C\" \n",
      "3: Setting LC_TIME failed, using \"C\" \n",
      "4: Setting LC_MESSAGES failed, using \"C\" \n",
      "5: Setting LC_MONETARY failed, using \"C\" \n",
      "6: Setting LC_PAPER failed, using \"C\" \n",
      "7: Setting LC_MEASUREMENT failed, using \"C\" \n"
     ]
    },
    {
     "name": "stdout",
     "output_type": "stream",
     "text": [
      "[1] 2\n",
      "[1] \"Number of trees:  1000  - Stability  92.16  %.\"\n",
      "[1] \"Number of trees:  2000  - Stability  93.46  %.\"\n",
      "[1] \"Number of trees:  3000  - Stability  94.58  %.\"\n",
      "[1] \"Number of trees:  4000  - Stability  95.18  %.\"\n"
     ]
    },
    {
     "name": "stderr",
     "output_type": "stream",
     "text": [
      "\n",
      "100%|███████████████████████████████████████████████████████████████████████████████████████████████| 10/10 [00:00<00:00, 169.53it/s]\u001b[A\n"
     ]
    },
    {
     "name": "stdout",
     "output_type": "stream",
     "text": [
      "8 ('X1 >= 1', 0.2167942845889959, 5022) 0.016666666666666666\n"
     ]
    },
    {
     "name": "stderr",
     "output_type": "stream",
     "text": [
      "\n",
      "100%|█████████████████████████████████████████████████████████████████████████████████████████████████| 7/7 [00:00<00:00, 180.41it/s]\u001b[A\n"
     ]
    },
    {
     "name": "stdout",
     "output_type": "stream",
     "text": [
      "Running Clustering\n"
     ]
    },
    {
     "name": "stderr",
     "output_type": "stream",
     "text": [
      "During startup - Warning messages:\n",
      "1: Setting LC_CTYPE failed, using \"C\" \n",
      "2: Setting LC_COLLATE failed, using \"C\" \n",
      "3: Setting LC_TIME failed, using \"C\" \n",
      "4: Setting LC_MESSAGES failed, using \"C\" \n",
      "5: Setting LC_MONETARY failed, using \"C\" \n",
      "6: Setting LC_PAPER failed, using \"C\" \n",
      "7: Setting LC_MEASUREMENT failed, using \"C\" \n"
     ]
    },
    {
     "name": "stdout",
     "output_type": "stream",
     "text": [
      "[1] 2\n",
      "[1] \"Number of trees:  1000  - Stability  91.47  %.\"\n",
      "[1] \"Number of trees:  2000  - Stability  93.36  %.\"\n",
      "[1] \"Number of trees:  3000  - Stability  94.35  %.\"\n",
      "[1] \"Number of trees:  4000  - Stability  94.85  %.\"\n",
      "[1] \"Number of trees:  5000  - Stability  95.09  %.\"\n"
     ]
    },
    {
     "name": "stderr",
     "output_type": "stream",
     "text": [
      "\n",
      "100%|█████████████████████████████████████████████████████████████████████████████████████████████████| 9/9 [00:00<00:00, 159.17it/s]\u001b[A\n"
     ]
    },
    {
     "name": "stdout",
     "output_type": "stream",
     "text": [
      "6 ('X5 < 1', 0.013131353065372928, 4978) 0.0125\n"
     ]
    },
    {
     "name": "stderr",
     "output_type": "stream",
     "text": [
      "\n",
      "100%|█████████████████████████████████████████████████████████████████████████████████████████████████| 5/5 [00:00<00:00, 183.70it/s]\u001b[A\n",
      "\n",
      "  0%|                                                                                                        | 0/210 [00:00<?, ?it/s]\u001b[A\n",
      " 11%|██████████▋                                                                                   | 24/210 [00:00<00:00, 231.70it/s]\u001b[A\n",
      " 23%|█████████████████████▍                                                                        | 48/210 [00:00<00:00, 213.03it/s]\u001b[A\n",
      " 33%|███████████████████████████████▎                                                              | 70/210 [00:00<00:00, 208.51it/s]\u001b[A\n",
      " 43%|████████████████████████████████████████▋                                                     | 91/210 [00:00<00:00, 206.26it/s]\u001b[A\n",
      " 53%|█████████████████████████████████████████████████▌                                           | 112/210 [00:00<00:00, 204.08it/s]\u001b[A\n",
      " 63%|██████████████████████████████████████████████████████████▉                                  | 133/210 [00:00<00:00, 203.41it/s]\u001b[A\n",
      " 73%|████████████████████████████████████████████████████████████████████▏                        | 154/210 [00:00<00:00, 195.51it/s]\u001b[A\n",
      " 83%|█████████████████████████████████████████████████████████████████████████████                | 174/210 [00:00<00:00, 186.21it/s]\u001b[A\n",
      "100%|█████████████████████████████████████████████████████████████████████████████████████████████| 210/210 [00:01<00:00, 193.19it/s]\u001b[A\n"
     ]
    },
    {
     "name": "stdout",
     "output_type": "stream",
     "text": [
      "52 ('(X4 == -1) and (X7 == -1)', 0.0017117546531659857, 2357) 0.0003144654088050315\n"
     ]
    },
    {
     "name": "stderr",
     "output_type": "stream",
     "text": [
      "\n",
      "  0%|                                                                                                         | 0/51 [00:00<?, ?it/s]\u001b[A\n",
      " 37%|███████████████████████████████████▍                                                           | 19/51 [00:00<00:00, 186.12it/s]\u001b[A\n",
      "100%|███████████████████████████████████████████████████████████████████████████████████████████████| 51/51 [00:00<00:00, 187.56it/s]\u001b[A\n",
      " 62%|███████████████████████████████████████████████████████████▌                                    | 31/50 [13:04<07:53, 24.91s/it]"
     ]
    },
    {
     "name": "stdout",
     "output_type": "stream",
     "text": [
      "1.0 1.0\n",
      "1.0 0.6697886004816698\n",
      "0 0\n",
      "[-0.91470204  0.85153489  0.88201147  1.10766784 -0.79831613]\n",
      "Subgroup size is 25.3%\n",
      "Avg Brier Score on Dataset = 0.200\n",
      "Brier Score in Subgroup = 0.353\n",
      "Brier Score out of Subgroup = 0.148\n",
      "done fitting worst-case\n",
      "4 0.25 0.8206566588601508\n",
      "AFISP\n"
     ]
    },
    {
     "name": "stderr",
     "output_type": "stream",
     "text": [
      "During startup - Warning messages:\n",
      "1: Setting LC_CTYPE failed, using \"C\" \n",
      "2: Setting LC_COLLATE failed, using \"C\" \n",
      "3: Setting LC_TIME failed, using \"C\" \n",
      "4: Setting LC_MESSAGES failed, using \"C\" \n",
      "5: Setting LC_MONETARY failed, using \"C\" \n",
      "6: Setting LC_PAPER failed, using \"C\" \n",
      "7: Setting LC_MEASUREMENT failed, using \"C\" \n"
     ]
    },
    {
     "name": "stdout",
     "output_type": "stream",
     "text": [
      "[1] 2\n",
      "[1] \"Number of trees:  1000  - Stability  90.84  %.\"\n",
      "[1] \"Number of trees:  2000  - Stability  92.75  %.\"\n",
      "[1] \"Number of trees:  3000  - Stability  93.91  %.\"\n",
      "[1] \"Number of trees:  4000  - Stability  94.69  %.\"\n",
      "[1] \"Number of trees:  5000  - Stability  95.1  %.\"\n"
     ]
    },
    {
     "name": "stderr",
     "output_type": "stream",
     "text": [
      "\n",
      "100%|█████████████████████████████████████████████████████████████████████████████████████████████████| 9/9 [00:00<00:00, 177.51it/s]\u001b[A\n"
     ]
    },
    {
     "name": "stdout",
     "output_type": "stream",
     "text": [
      "5 ('X6 < 1', 0.024500451868363936, 5061) 0.01\n"
     ]
    },
    {
     "name": "stderr",
     "output_type": "stream",
     "text": [
      "\n",
      "100%|█████████████████████████████████████████████████████████████████████████████████████████████████| 4/4 [00:00<00:00, 198.19it/s]\u001b[A\n"
     ]
    },
    {
     "name": "stdout",
     "output_type": "stream",
     "text": [
      "Running Clustering\n"
     ]
    },
    {
     "name": "stderr",
     "output_type": "stream",
     "text": [
      "During startup - Warning messages:\n",
      "1: Setting LC_CTYPE failed, using \"C\" \n",
      "2: Setting LC_COLLATE failed, using \"C\" \n",
      "3: Setting LC_TIME failed, using \"C\" \n",
      "4: Setting LC_MESSAGES failed, using \"C\" \n",
      "5: Setting LC_MONETARY failed, using \"C\" \n",
      "6: Setting LC_PAPER failed, using \"C\" \n",
      "7: Setting LC_MEASUREMENT failed, using \"C\" \n"
     ]
    },
    {
     "name": "stdout",
     "output_type": "stream",
     "text": [
      "[1] 2\n",
      "[1] \"Number of trees:  1000  - Stability  92.09  %.\"\n",
      "[1] \"Number of trees:  2000  - Stability  94.18  %.\"\n",
      "[1] \"Number of trees:  3000  - Stability  94.41  %.\"\n",
      "[1] \"Number of trees:  4000  - Stability  94.74  %.\"\n",
      "[1] \"Number of trees:  5000  - Stability  95.21  %.\"\n"
     ]
    },
    {
     "name": "stderr",
     "output_type": "stream",
     "text": [
      "\n",
      "100%|███████████████████████████████████████████████████████████████████████████████████████████████| 10/10 [00:00<00:00, 178.16it/s]\u001b[A\n"
     ]
    },
    {
     "name": "stdout",
     "output_type": "stream",
     "text": [
      "5 ('X1 < 1', 0.23395772358007144, 5033) 0.008333333333333333\n"
     ]
    },
    {
     "name": "stderr",
     "output_type": "stream",
     "text": [
      "\n",
      "100%|█████████████████████████████████████████████████████████████████████████████████████████████████| 4/4 [00:00<00:00, 182.52it/s]\u001b[A\n",
      "\n",
      "  0%|                                                                                                        | 0/210 [00:00<?, ?it/s]\u001b[A\n",
      " 12%|███████████▋                                                                                  | 26/210 [00:00<00:00, 250.90it/s]\u001b[A\n",
      " 25%|███████████████████████▎                                                                      | 52/210 [00:00<00:00, 212.32it/s]\u001b[A\n",
      " 35%|█████████████████████████████████                                                             | 74/210 [00:00<00:00, 196.16it/s]\u001b[A\n",
      " 45%|██████████████████████████████████████████                                                    | 94/210 [00:00<00:00, 187.03it/s]\u001b[A\n",
      " 54%|██████████████████████████████████████████████████                                           | 113/210 [00:00<00:00, 183.08it/s]\u001b[A\n",
      " 63%|██████████████████████████████████████████████████████████▍                                  | 132/210 [00:00<00:00, 179.29it/s]\u001b[A\n",
      " 71%|██████████████████████████████████████████████████████████████████▍                          | 150/210 [00:00<00:00, 176.81it/s]\u001b[A\n",
      " 80%|██████████████████████████████████████████████████████████████████████████▍                  | 168/210 [00:00<00:00, 174.92it/s]\u001b[A\n",
      " 89%|██████████████████████████████████████████████████████████████████████████████████▎          | 186/210 [00:01<00:00, 173.90it/s]\u001b[A\n",
      "100%|█████████████████████████████████████████████████████████████████████████████████████████████| 210/210 [00:01<00:00, 180.42it/s]\u001b[A\n"
     ]
    },
    {
     "name": "stdout",
     "output_type": "stream",
     "text": [
      "40 ('(X8 == 1) and (X9 == 1)', 0.00038145470412054685, 2478) 0.00029239766081871346\n"
     ]
    },
    {
     "name": "stderr",
     "output_type": "stream",
     "text": [
      "\n",
      "  0%|                                                                                                         | 0/39 [00:00<?, ?it/s]\u001b[A\n",
      "100%|███████████████████████████████████████████████████████████████████████████████████████████████| 39/39 [00:00<00:00, 189.89it/s]\u001b[A\n",
      " 64%|█████████████████████████████████████████████████████████████▍                                  | 32/50 [13:29<07:31, 25.07s/it]"
     ]
    },
    {
     "name": "stdout",
     "output_type": "stream",
     "text": [
      "1.0 0.33594892937890675\n",
      "1.0 0.33594892937890675\n",
      "1.0 0.5043929712460063\n",
      "[-0.89130828  0.99377203  1.3408306  -1.0884713 ]\n",
      "Subgroup size is 24.9%\n",
      "Avg Brier Score on Dataset = 0.177\n",
      "Brier Score in Subgroup = 0.320\n",
      "Brier Score out of Subgroup = 0.130\n",
      "done fitting worst-case\n",
      "0 0.05 1.079568996320606\n",
      "AFISP\n"
     ]
    },
    {
     "name": "stderr",
     "output_type": "stream",
     "text": [
      "During startup - Warning messages:\n",
      "1: Setting LC_CTYPE failed, using \"C\" \n",
      "2: Setting LC_COLLATE failed, using \"C\" \n",
      "3: Setting LC_TIME failed, using \"C\" \n",
      "4: Setting LC_MESSAGES failed, using \"C\" \n",
      "5: Setting LC_MONETARY failed, using \"C\" \n",
      "6: Setting LC_PAPER failed, using \"C\" \n",
      "7: Setting LC_MEASUREMENT failed, using \"C\" \n"
     ]
    },
    {
     "name": "stdout",
     "output_type": "stream",
     "text": [
      "[1] 2\n",
      "[1] \"Number of trees:  1000  - Stability  91.61  %.\"\n",
      "[1] \"Number of trees:  2000  - Stability  93.98  %.\"\n",
      "[1] \"Number of trees:  3000  - Stability  94.64  %.\"\n",
      "[1] \"Number of trees:  4000  - Stability  95.19  %.\"\n"
     ]
    },
    {
     "name": "stderr",
     "output_type": "stream",
     "text": [
      "\n",
      "100%|███████████████████████████████████████████████████████████████████████████████████████████████| 10/10 [00:00<00:00, 207.78it/s]\u001b[A\n",
      "\n",
      "100%|███████████████████████████████████████████████████████████████████████████████████████████████| 10/10 [00:00<00:00, 229.59it/s]\u001b[A\n"
     ]
    },
    {
     "name": "stdout",
     "output_type": "stream",
     "text": [
      "Running Clustering\n"
     ]
    },
    {
     "name": "stderr",
     "output_type": "stream",
     "text": [
      "During startup - Warning messages:\n",
      "1: Setting LC_CTYPE failed, using \"C\" \n",
      "2: Setting LC_COLLATE failed, using \"C\" \n",
      "3: Setting LC_TIME failed, using \"C\" \n",
      "4: Setting LC_MESSAGES failed, using \"C\" \n",
      "5: Setting LC_MONETARY failed, using \"C\" \n",
      "6: Setting LC_PAPER failed, using \"C\" \n",
      "7: Setting LC_MEASUREMENT failed, using \"C\" \n"
     ]
    },
    {
     "name": "stdout",
     "output_type": "stream",
     "text": [
      "[1] 2\n",
      "[1] \"Number of trees:  1000  - Stability  90.9  %.\"\n",
      "[1] \"Number of trees:  2000  - Stability  92.11  %.\"\n",
      "[1] \"Number of trees:  3000  - Stability  92.81  %.\"\n",
      "[1] \"Number of trees:  4000  - Stability  93.72  %.\"\n",
      "[1] \"Number of trees:  5000  - Stability  94.27  %.\"\n",
      "[1] \"Number of trees:  6000  - Stability  94.57  %.\"\n",
      "[1] \"Number of trees:  7000  - Stability  94.98  %.\"\n",
      "[1] \"Number of trees:  8000  - Stability  95.51  %.\"\n"
     ]
    },
    {
     "name": "stderr",
     "output_type": "stream",
     "text": [
      "\n",
      "100%|█████████████████████████████████████████████████████████████████████████████████████████████████| 9/9 [00:00<00:00, 157.96it/s]\u001b[A\n"
     ]
    },
    {
     "name": "stdout",
     "output_type": "stream",
     "text": [
      "6 ('X0 < 1', 0.01886061548196339, 5012) 0.0125\n"
     ]
    },
    {
     "name": "stderr",
     "output_type": "stream",
     "text": [
      "\n",
      "100%|█████████████████████████████████████████████████████████████████████████████████████████████████| 5/5 [00:00<00:00, 188.38it/s]\u001b[A\n",
      "\n",
      "  0%|                                                                                                        | 0/210 [00:00<?, ?it/s]\u001b[A\n",
      " 10%|█████████▍                                                                                    | 21/210 [00:00<00:00, 205.86it/s]\u001b[A\n",
      " 20%|██████████████████▊                                                                           | 42/210 [00:00<00:00, 197.95it/s]\u001b[A\n",
      " 30%|███████████████████████████▊                                                                  | 62/210 [00:00<00:00, 188.72it/s]\u001b[A\n",
      " 39%|████████████████████████████████████▎                                                         | 81/210 [00:00<00:00, 180.13it/s]\u001b[A\n",
      " 48%|████████████████████████████████████████████▎                                                | 100/210 [00:00<00:00, 178.35it/s]\u001b[A\n",
      " 56%|████████████████████████████████████████████████████▎                                        | 118/210 [00:00<00:00, 177.23it/s]\u001b[A\n",
      " 65%|████████████████████████████████████████████████████████████▏                                | 136/210 [00:00<00:00, 173.51it/s]\u001b[A\n",
      " 74%|████████████████████████████████████████████████████████████████████▋                        | 155/210 [00:00<00:00, 176.42it/s]\u001b[A\n",
      " 82%|████████████████████████████████████████████████████████████████████████████▌                | 173/210 [00:00<00:00, 174.14it/s]\u001b[A\n",
      " 91%|████████████████████████████████████████████████████████████████████████████████████▌        | 191/210 [00:01<00:00, 174.08it/s]\u001b[A\n",
      "100%|█████████████████████████████████████████████████████████████████████████████████████████████| 210/210 [00:01<00:00, 176.86it/s]\u001b[A\n"
     ]
    },
    {
     "name": "stdout",
     "output_type": "stream",
     "text": [
      "37 ('(X3 == 1) and (X4 == -1)', 0.00034286637421317113, 2501) 0.00028735632183908046\n"
     ]
    },
    {
     "name": "stderr",
     "output_type": "stream",
     "text": [
      "\n",
      "  0%|                                                                                                         | 0/36 [00:00<?, ?it/s]\u001b[A\n",
      "100%|███████████████████████████████████████████████████████████████████████████████████████████████| 36/36 [00:00<00:00, 182.42it/s]\u001b[A\n",
      " 66%|███████████████████████████████████████████████████████████████▎                                | 33/50 [13:54<07:04, 24.99s/it]"
     ]
    },
    {
     "name": "stdout",
     "output_type": "stream",
     "text": [
      "1.0 0.667651800107469\n",
      "1.0 0.667651800107469\n",
      "0 0\n",
      "[-0.93747225  1.08941933  0.84380722  0.93280912  0.85359518  0.69848736\n",
      " -0.78887985]\n",
      "Subgroup size is 24.9%\n",
      "Avg Brier Score on Dataset = 0.192\n",
      "Brier Score in Subgroup = 0.365\n",
      "Brier Score out of Subgroup = 0.134\n",
      "done fitting worst-case\n",
      "4 0.25 0.8940709040013246\n",
      "AFISP\n"
     ]
    },
    {
     "name": "stderr",
     "output_type": "stream",
     "text": [
      "During startup - Warning messages:\n",
      "1: Setting LC_CTYPE failed, using \"C\" \n",
      "2: Setting LC_COLLATE failed, using \"C\" \n",
      "3: Setting LC_TIME failed, using \"C\" \n",
      "4: Setting LC_MESSAGES failed, using \"C\" \n",
      "5: Setting LC_MONETARY failed, using \"C\" \n",
      "6: Setting LC_PAPER failed, using \"C\" \n",
      "7: Setting LC_MEASUREMENT failed, using \"C\" \n"
     ]
    },
    {
     "name": "stdout",
     "output_type": "stream",
     "text": [
      "[1] 2\n",
      "[1] \"Number of trees:  1000  - Stability  90.73  %.\"\n",
      "[1] \"Number of trees:  2000  - Stability  92.1  %.\"\n",
      "[1] \"Number of trees:  3000  - Stability  93.63  %.\"\n",
      "[1] \"Number of trees:  4000  - Stability  94.41  %.\"\n",
      "[1] \"Number of trees:  5000  - Stability  95.22  %.\"\n"
     ]
    },
    {
     "name": "stderr",
     "output_type": "stream",
     "text": [
      "\n",
      "100%|█████████████████████████████████████████████████████████████████████████████████████████████████| 9/9 [00:00<00:00, 170.57it/s]\u001b[A\n"
     ]
    },
    {
     "name": "stdout",
     "output_type": "stream",
     "text": [
      "5 ('X1 >= 1', 0.011157255566414809, 4972) 0.01\n"
     ]
    },
    {
     "name": "stderr",
     "output_type": "stream",
     "text": [
      "\n",
      "100%|█████████████████████████████████████████████████████████████████████████████████████████████████| 4/4 [00:00<00:00, 183.23it/s]\u001b[A\n"
     ]
    },
    {
     "name": "stdout",
     "output_type": "stream",
     "text": [
      "Running Clustering\n"
     ]
    },
    {
     "name": "stderr",
     "output_type": "stream",
     "text": [
      "During startup - Warning messages:\n",
      "1: Setting LC_CTYPE failed, using \"C\" \n",
      "2: Setting LC_COLLATE failed, using \"C\" \n",
      "3: Setting LC_TIME failed, using \"C\" \n",
      "4: Setting LC_MESSAGES failed, using \"C\" \n",
      "5: Setting LC_MONETARY failed, using \"C\" \n",
      "6: Setting LC_PAPER failed, using \"C\" \n",
      "7: Setting LC_MEASUREMENT failed, using \"C\" \n"
     ]
    },
    {
     "name": "stdout",
     "output_type": "stream",
     "text": [
      "[1] 2\n",
      "[1] \"Number of trees:  1000  - Stability  90.64  %.\"\n",
      "[1] \"Number of trees:  2000  - Stability  93.03  %.\"\n",
      "[1] \"Number of trees:  3000  - Stability  94.66  %.\"\n",
      "[1] \"Number of trees:  4000  - Stability  95.51  %.\"\n"
     ]
    },
    {
     "name": "stderr",
     "output_type": "stream",
     "text": [
      "\n",
      "100%|█████████████████████████████████████████████████████████████████████████████████████████████████| 8/8 [00:00<00:00, 164.71it/s]\u001b[A\n"
     ]
    },
    {
     "name": "stdout",
     "output_type": "stream",
     "text": [
      "2 ('X6 >= 1 & X9 >= 1', 0.010231774641167887, 2487) 0.0071428571428571435\n"
     ]
    },
    {
     "name": "stderr",
     "output_type": "stream",
     "text": [
      "\n",
      "100%|█████████████████████████████████████████████████████████████████████████████████████████████████| 1/1 [00:00<00:00, 129.53it/s]\u001b[A\n",
      "\n",
      "  0%|                                                                                                        | 0/210 [00:00<?, ?it/s]\u001b[A\n",
      " 10%|█████████▊                                                                                    | 22/210 [00:00<00:00, 211.47it/s]\u001b[A\n",
      " 21%|███████████████████▋                                                                          | 44/210 [00:00<00:00, 193.65it/s]\u001b[A\n",
      " 30%|████████████████████████████▋                                                                 | 64/210 [00:00<00:00, 189.48it/s]\u001b[A\n",
      " 40%|█████████████████████████████████████▏                                                        | 83/210 [00:00<00:00, 188.61it/s]\u001b[A\n",
      " 49%|█████████████████████████████████████████████▏                                               | 102/210 [00:00<00:00, 186.64it/s]\u001b[A\n",
      " 58%|█████████████████████████████████████████████████████▌                                       | 121/210 [00:00<00:00, 179.61it/s]\u001b[A\n",
      " 66%|█████████████████████████████████████████████████████████████▌                               | 139/210 [00:00<00:00, 176.35it/s]\u001b[A\n",
      " 75%|█████████████████████████████████████████████████████████████████████▌                       | 157/210 [00:00<00:00, 174.22it/s]\u001b[A\n",
      " 83%|█████████████████████████████████████████████████████████████████████████████▌               | 175/210 [00:00<00:00, 174.63it/s]\u001b[A\n",
      "100%|█████████████████████████████████████████████████████████████████████████████████████████████| 210/210 [00:01<00:00, 179.62it/s]\u001b[A\n"
     ]
    },
    {
     "name": "stdout",
     "output_type": "stream",
     "text": [
      "39 ('(X1 == 1) and (X9 == 1)', 0.0009141890752888163, 2480) 0.00029069767441860465\n"
     ]
    },
    {
     "name": "stderr",
     "output_type": "stream",
     "text": [
      "\n",
      "  0%|                                                                                                         | 0/38 [00:00<?, ?it/s]\u001b[A\n",
      "100%|███████████████████████████████████████████████████████████████████████████████████████████████| 38/38 [00:00<00:00, 191.64it/s]\u001b[A\n",
      " 68%|█████████████████████████████████████████████████████████████████▎                              | 34/50 [14:19<06:39, 24.96s/it]"
     ]
    },
    {
     "name": "stdout",
     "output_type": "stream",
     "text": [
      "1.0 0.33355623913334226\n",
      "1.0 0.33355623913334226\n",
      "1.0 0.5036348949919225\n",
      "[-0.89455495  1.21033223  1.04863805  1.24641033  1.02495312]\n",
      "Subgroup size is 25.3%\n",
      "Avg Brier Score on Dataset = 0.194\n",
      "Brier Score in Subgroup = 0.374\n",
      "Brier Score out of Subgroup = 0.133\n",
      "done fitting worst-case\n",
      "4 0.25 0.8959413886978337\n",
      "AFISP\n"
     ]
    },
    {
     "name": "stderr",
     "output_type": "stream",
     "text": [
      "During startup - Warning messages:\n",
      "1: Setting LC_CTYPE failed, using \"C\" \n",
      "2: Setting LC_COLLATE failed, using \"C\" \n",
      "3: Setting LC_TIME failed, using \"C\" \n",
      "4: Setting LC_MESSAGES failed, using \"C\" \n",
      "5: Setting LC_MONETARY failed, using \"C\" \n",
      "6: Setting LC_PAPER failed, using \"C\" \n",
      "7: Setting LC_MEASUREMENT failed, using \"C\" \n"
     ]
    },
    {
     "name": "stdout",
     "output_type": "stream",
     "text": [
      "[1] 2\n",
      "[1] \"Number of trees:  1000  - Stability  90.03  %.\"\n",
      "[1] \"Number of trees:  2000  - Stability  92.01  %.\"\n",
      "[1] \"Number of trees:  3000  - Stability  91.96  %.\"\n",
      "[1] \"Number of trees:  4000  - Stability  92.8  %.\"\n",
      "[1] \"Number of trees:  5000  - Stability  93.57  %.\"\n",
      "[1] \"Number of trees:  6000  - Stability  94.32  %.\"\n",
      "[1] \"Number of trees:  7000  - Stability  94.28  %.\"\n",
      "[1] \"Number of trees:  8000  - Stability  94.49  %.\"\n",
      "[1] \"Number of trees:  9000  - Stability  95.1  %.\"\n"
     ]
    },
    {
     "name": "stderr",
     "output_type": "stream",
     "text": [
      "\n",
      "100%|███████████████████████████████████████████████████████████████████████████████████████████████| 10/10 [00:00<00:00, 185.88it/s]\u001b[A\n"
     ]
    },
    {
     "name": "stdout",
     "output_type": "stream",
     "text": [
      "6 ('X4 < 1', 0.3275841829381988, 4996) 0.01\n"
     ]
    },
    {
     "name": "stderr",
     "output_type": "stream",
     "text": [
      "\n",
      "100%|█████████████████████████████████████████████████████████████████████████████████████████████████| 5/5 [00:00<00:00, 195.35it/s]\u001b[A\n"
     ]
    },
    {
     "name": "stdout",
     "output_type": "stream",
     "text": [
      "Running Clustering\n"
     ]
    },
    {
     "name": "stderr",
     "output_type": "stream",
     "text": [
      "During startup - Warning messages:\n",
      "1: Setting LC_CTYPE failed, using \"C\" \n",
      "2: Setting LC_COLLATE failed, using \"C\" \n",
      "3: Setting LC_TIME failed, using \"C\" \n",
      "4: Setting LC_MESSAGES failed, using \"C\" \n",
      "5: Setting LC_MONETARY failed, using \"C\" \n",
      "6: Setting LC_PAPER failed, using \"C\" \n",
      "7: Setting LC_MEASUREMENT failed, using \"C\" \n"
     ]
    },
    {
     "name": "stdout",
     "output_type": "stream",
     "text": [
      "[1] 2\n",
      "[1] \"Number of trees:  1000  - Stability  89.42  %.\"\n",
      "[1] \"Number of trees:  2000  - Stability  92.49  %.\"\n",
      "[1] \"Number of trees:  3000  - Stability  93.3  %.\"\n",
      "[1] \"Number of trees:  4000  - Stability  93.98  %.\"\n",
      "[1] \"Number of trees:  5000  - Stability  93.86  %.\"\n",
      "[1] \"Number of trees:  6000  - Stability  94.61  %.\"\n",
      "[1] \"Number of trees:  7000  - Stability  94.78  %.\"\n",
      "[1] \"Number of trees:  8000  - Stability  94.92  %.\"\n",
      "[1] \"Number of trees:  9000  - Stability  95.18  %.\"\n"
     ]
    },
    {
     "name": "stderr",
     "output_type": "stream",
     "text": [
      "\n",
      "100%|███████████████████████████████████████████████████████████████████████████████████████████████| 10/10 [00:00<00:00, 158.23it/s]\u001b[A\n"
     ]
    },
    {
     "name": "stdout",
     "output_type": "stream",
     "text": [
      "5 ('X1 >= 1', 0.2579824120306089, 5006) 0.008333333333333333\n"
     ]
    },
    {
     "name": "stderr",
     "output_type": "stream",
     "text": [
      "\n",
      "100%|█████████████████████████████████████████████████████████████████████████████████████████████████| 4/4 [00:00<00:00, 171.29it/s]\u001b[A\n",
      "\n",
      "  0%|                                                                                                        | 0/210 [00:00<?, ?it/s]\u001b[A\n",
      " 11%|██████████▎                                                                                   | 23/210 [00:00<00:00, 222.82it/s]\u001b[A\n",
      " 22%|████████████████████▌                                                                         | 46/210 [00:00<00:00, 192.41it/s]\u001b[A\n",
      " 31%|█████████████████████████████▌                                                                | 66/210 [00:00<00:00, 185.40it/s]\u001b[A\n",
      " 40%|██████████████████████████████████████                                                        | 85/210 [00:00<00:00, 179.75it/s]\u001b[A\n",
      " 50%|██████████████████████████████████████████████                                               | 104/210 [00:00<00:00, 176.93it/s]\u001b[A\n",
      " 58%|██████████████████████████████████████████████████████                                       | 122/210 [00:00<00:00, 173.99it/s]\u001b[A\n",
      " 67%|██████████████████████████████████████████████████████████████                               | 140/210 [00:00<00:00, 170.50it/s]\u001b[A\n",
      " 75%|█████████████████████████████████████████████████████████████████████▉                       | 158/210 [00:00<00:00, 172.09it/s]\u001b[A\n",
      " 84%|█████████████████████████████████████████████████████████████████████████████▉               | 176/210 [00:00<00:00, 171.57it/s]\u001b[A\n",
      "100%|█████████████████████████████████████████████████████████████████████████████████████████████| 210/210 [00:01<00:00, 176.10it/s]\u001b[A\n"
     ]
    },
    {
     "name": "stdout",
     "output_type": "stream",
     "text": [
      "39 ('(X5 == 1) and (X6 == -1)', 0.0009015272072599346, 2566) 0.00029069767441860465\n"
     ]
    },
    {
     "name": "stderr",
     "output_type": "stream",
     "text": [
      "\n",
      "  0%|                                                                                                         | 0/38 [00:00<?, ?it/s]\u001b[A\n",
      "100%|███████████████████████████████████████████████████████████████████████████████████████████████| 38/38 [00:00<00:00, 194.70it/s]\u001b[A\n",
      " 70%|███████████████████████████████████████████████████████████████████▏                            | 35/50 [14:45<06:19, 25.27s/it]"
     ]
    },
    {
     "name": "stdout",
     "output_type": "stream",
     "text": [
      "1.0 0.3368784897633608\n",
      "1.0 0.3368784897633608\n",
      "1.0 0.504881450488145\n",
      "[0.6201074]\n",
      "Subgroup size is 24.3%\n",
      "Avg Brier Score on Dataset = 0.241\n",
      "Brier Score in Subgroup = 0.275\n",
      "Brier Score out of Subgroup = 0.230\n",
      "done fitting worst-case\n",
      "4 0.25 0.30337761278802133\n",
      "AFISP\n"
     ]
    },
    {
     "name": "stderr",
     "output_type": "stream",
     "text": [
      "During startup - Warning messages:\n",
      "1: Setting LC_CTYPE failed, using \"C\" \n",
      "2: Setting LC_COLLATE failed, using \"C\" \n",
      "3: Setting LC_TIME failed, using \"C\" \n",
      "4: Setting LC_MESSAGES failed, using \"C\" \n",
      "5: Setting LC_MONETARY failed, using \"C\" \n",
      "6: Setting LC_PAPER failed, using \"C\" \n",
      "7: Setting LC_MEASUREMENT failed, using \"C\" \n"
     ]
    },
    {
     "name": "stdout",
     "output_type": "stream",
     "text": [
      "[1] 2\n",
      "[1] \"Number of trees:  1000  - Stability  91.38  %.\"\n",
      "[1] \"Number of trees:  2000  - Stability  93.23  %.\"\n",
      "[1] \"Number of trees:  3000  - Stability  94.57  %.\"\n",
      "[1] \"Number of trees:  4000  - Stability  95.24  %.\"\n"
     ]
    },
    {
     "name": "stderr",
     "output_type": "stream",
     "text": [
      "\n",
      "100%|█████████████████████████████████████████████████████████████████████████████████████████████████| 8/8 [00:00<00:00, 161.65it/s]\u001b[A\n"
     ]
    },
    {
     "name": "stdout",
     "output_type": "stream",
     "text": [
      "6 ('X4 >= 1', 0.025882843971378126, 4961) 0.016666666666666666\n"
     ]
    },
    {
     "name": "stderr",
     "output_type": "stream",
     "text": [
      "\n",
      "100%|█████████████████████████████████████████████████████████████████████████████████████████████████| 5/5 [00:00<00:00, 183.33it/s]\u001b[A\n"
     ]
    },
    {
     "name": "stdout",
     "output_type": "stream",
     "text": [
      "Running Clustering\n"
     ]
    },
    {
     "name": "stderr",
     "output_type": "stream",
     "text": [
      "During startup - Warning messages:\n",
      "1: Setting LC_CTYPE failed, using \"C\" \n",
      "2: Setting LC_COLLATE failed, using \"C\" \n",
      "3: Setting LC_TIME failed, using \"C\" \n",
      "4: Setting LC_MESSAGES failed, using \"C\" \n",
      "5: Setting LC_MONETARY failed, using \"C\" \n",
      "6: Setting LC_PAPER failed, using \"C\" \n",
      "7: Setting LC_MEASUREMENT failed, using \"C\" \n"
     ]
    },
    {
     "name": "stdout",
     "output_type": "stream",
     "text": [
      "[1] 2\n",
      "[1] \"Number of trees:  1000  - Stability  91.18  %.\"\n",
      "[1] \"Number of trees:  2000  - Stability  94.07  %.\"\n",
      "[1] \"Number of trees:  3000  - Stability  95.01  %.\"\n"
     ]
    },
    {
     "name": "stderr",
     "output_type": "stream",
     "text": [
      "\n",
      "100%|███████████████████████████████████████████████████████████████████████████████████████████████| 10/10 [00:00<00:00, 161.40it/s]\u001b[A\n"
     ]
    },
    {
     "name": "stdout",
     "output_type": "stream",
     "text": [
      "6 ('X1 < 1', 0.36984187454576095, 5003) 0.01\n"
     ]
    },
    {
     "name": "stderr",
     "output_type": "stream",
     "text": [
      "\n",
      "100%|█████████████████████████████████████████████████████████████████████████████████████████████████| 5/5 [00:00<00:00, 173.73it/s]\u001b[A\n",
      "\n",
      "  0%|                                                                                                        | 0/210 [00:00<?, ?it/s]\u001b[A\n",
      " 12%|███████████▋                                                                                  | 26/210 [00:00<00:00, 252.40it/s]\u001b[A\n",
      " 25%|███████████████████████▎                                                                      | 52/210 [00:00<00:00, 235.76it/s]\u001b[A\n",
      " 36%|██████████████████████████████████                                                            | 76/210 [00:00<00:00, 229.36it/s]\u001b[A\n",
      " 47%|████████████████████████████████████████████▎                                                 | 99/210 [00:00<00:00, 213.66it/s]\u001b[A\n",
      " 58%|█████████████████████████████████████████████████████▌                                       | 121/210 [00:00<00:00, 195.65it/s]\u001b[A\n",
      " 67%|██████████████████████████████████████████████████████████████▍                              | 141/210 [00:00<00:00, 187.68it/s]\u001b[A\n",
      " 76%|██████████████████████████████████████████████████████████████████████▊                      | 160/210 [00:00<00:00, 182.61it/s]\u001b[A\n",
      " 85%|███████████████████████████████████████████████████████████████████████████████▎             | 179/210 [00:00<00:00, 177.36it/s]\u001b[A\n",
      "100%|█████████████████████████████████████████████████████████████████████████████████████████████| 210/210 [00:01<00:00, 189.76it/s]\u001b[A\n"
     ]
    },
    {
     "name": "stdout",
     "output_type": "stream",
     "text": [
      "36 ('(X2 == -1) and (X4 == -1)', 0.0003480522315054977, 2519) 0.00028571428571428574\n"
     ]
    },
    {
     "name": "stderr",
     "output_type": "stream",
     "text": [
      "\n",
      "  0%|                                                                                                         | 0/35 [00:00<?, ?it/s]\u001b[A\n",
      "100%|███████████████████████████████████████████████████████████████████████████████████████████████| 35/35 [00:00<00:00, 192.05it/s]\u001b[A\n",
      " 72%|█████████████████████████████████████████████████████████████████████                           | 36/50 [15:08<05:42, 24.43s/it]"
     ]
    },
    {
     "name": "stdout",
     "output_type": "stream",
     "text": [
      "0 0\n",
      "0 0\n",
      "0 0\n",
      "[0.51532686 1.21860948 1.05277321]\n",
      "Subgroup size is 24.4%\n",
      "Avg Brier Score on Dataset = 0.197\n",
      "Brier Score in Subgroup = 0.321\n",
      "Brier Score out of Subgroup = 0.156\n",
      "done fitting worst-case\n",
      "1 0.1 0.9306085613720104\n",
      "AFISP\n"
     ]
    },
    {
     "name": "stderr",
     "output_type": "stream",
     "text": [
      "During startup - Warning messages:\n",
      "1: Setting LC_CTYPE failed, using \"C\" \n",
      "2: Setting LC_COLLATE failed, using \"C\" \n",
      "3: Setting LC_TIME failed, using \"C\" \n",
      "4: Setting LC_MESSAGES failed, using \"C\" \n",
      "5: Setting LC_MONETARY failed, using \"C\" \n",
      "6: Setting LC_PAPER failed, using \"C\" \n",
      "7: Setting LC_MEASUREMENT failed, using \"C\" \n"
     ]
    },
    {
     "name": "stdout",
     "output_type": "stream",
     "text": [
      "[1] 2\n",
      "[1] \"Number of trees:  1000  - Stability  92.18  %.\"\n",
      "[1] \"Number of trees:  2000  - Stability  93.82  %.\"\n",
      "[1] \"Number of trees:  3000  - Stability  94.53  %.\"\n",
      "[1] \"Number of trees:  4000  - Stability  95.3  %.\"\n"
     ]
    },
    {
     "name": "stderr",
     "output_type": "stream",
     "text": [
      "\n",
      "100%|███████████████████████████████████████████████████████████████████████████████████████████████| 10/10 [00:00<00:00, 153.47it/s]\u001b[A\n"
     ]
    },
    {
     "name": "stdout",
     "output_type": "stream",
     "text": [
      "9 ('X1 < 1', 0.05939505958765612, 4995) 0.025\n"
     ]
    },
    {
     "name": "stderr",
     "output_type": "stream",
     "text": [
      "\n",
      "100%|█████████████████████████████████████████████████████████████████████████████████████████████████| 8/8 [00:00<00:00, 173.37it/s]\u001b[A\n"
     ]
    },
    {
     "name": "stdout",
     "output_type": "stream",
     "text": [
      "Running Clustering\n"
     ]
    },
    {
     "name": "stderr",
     "output_type": "stream",
     "text": [
      "During startup - Warning messages:\n",
      "1: Setting LC_CTYPE failed, using \"C\" \n",
      "2: Setting LC_COLLATE failed, using \"C\" \n",
      "3: Setting LC_TIME failed, using \"C\" \n",
      "4: Setting LC_MESSAGES failed, using \"C\" \n",
      "5: Setting LC_MONETARY failed, using \"C\" \n",
      "6: Setting LC_PAPER failed, using \"C\" \n",
      "7: Setting LC_MEASUREMENT failed, using \"C\" \n"
     ]
    },
    {
     "name": "stdout",
     "output_type": "stream",
     "text": [
      "[1] 2\n",
      "[1] \"Number of trees:  1000  - Stability  88.24  %.\"\n",
      "[1] \"Number of trees:  2000  - Stability  90.98  %.\"\n",
      "[1] \"Number of trees:  3000  - Stability  92.58  %.\"\n",
      "[1] \"Number of trees:  4000  - Stability  93.68  %.\"\n",
      "[1] \"Number of trees:  5000  - Stability  93.87  %.\"\n",
      "[1] \"Number of trees:  6000  - Stability  94.35  %.\"\n",
      "[1] \"Number of trees:  7000  - Stability  94.68  %.\"\n",
      "[1] \"Number of trees:  8000  - Stability  94.99  %.\"\n",
      "[1] \"Number of trees:  9000  - Stability  95.15  %.\"\n"
     ]
    },
    {
     "name": "stderr",
     "output_type": "stream",
     "text": [
      "\n",
      "100%|███████████████████████████████████████████████████████████████████████████████████████████████| 10/10 [00:00<00:00, 208.18it/s]\u001b[A\n"
     ]
    },
    {
     "name": "stdout",
     "output_type": "stream",
     "text": [
      "4 ('X9 >= 1', 0.43110703057831457, 5003) 0.0071428571428571435\n"
     ]
    },
    {
     "name": "stderr",
     "output_type": "stream",
     "text": [
      "\n",
      "100%|█████████████████████████████████████████████████████████████████████████████████████████████████| 3/3 [00:00<00:00, 217.92it/s]\u001b[A\n",
      "\n",
      "  0%|                                                                                                        | 0/210 [00:00<?, ?it/s]\u001b[A\n",
      " 11%|██████████▎                                                                                   | 23/210 [00:00<00:00, 228.65it/s]\u001b[A\n",
      " 22%|████████████████████▌                                                                         | 46/210 [00:00<00:00, 183.65it/s]\u001b[A\n",
      " 31%|█████████████████████████████                                                                 | 65/210 [00:00<00:00, 172.70it/s]\u001b[A\n",
      " 40%|█████████████████████████████████████▏                                                        | 83/210 [00:00<00:00, 164.35it/s]\u001b[A\n",
      " 48%|████████████████████████████████████████████▎                                                | 100/210 [00:00<00:00, 161.95it/s]\u001b[A\n",
      " 56%|███████████████████████████████████████████████████▊                                         | 117/210 [00:00<00:00, 155.74it/s]\u001b[A\n",
      " 63%|██████████████████████████████████████████████████████████▉                                  | 133/210 [00:00<00:00, 156.00it/s]\u001b[A\n",
      " 71%|█████████████████████████████████████████████████████████████████▉                           | 149/210 [00:00<00:00, 155.64it/s]\u001b[A\n",
      " 79%|█████████████████████████████████████████████████████████████████████████                    | 165/210 [00:01<00:00, 154.73it/s]\u001b[A\n",
      " 86%|████████████████████████████████████████████████████████████████████████████████▏            | 181/210 [00:01<00:00, 155.55it/s]\u001b[A\n",
      "100%|█████████████████████████████████████████████████████████████████████████████████████████████| 210/210 [00:01<00:00, 160.79it/s]\u001b[A\n"
     ]
    },
    {
     "name": "stdout",
     "output_type": "stream",
     "text": [
      "52 ('(X1 == -1) and (X6 == -1)', 0.0552114096810865, 2510) 0.0003144654088050315\n"
     ]
    },
    {
     "name": "stderr",
     "output_type": "stream",
     "text": [
      "\n",
      "  0%|                                                                                                         | 0/51 [00:00<?, ?it/s]\u001b[A\n",
      " 37%|███████████████████████████████████▍                                                           | 19/51 [00:00<00:00, 189.51it/s]\u001b[A\n",
      "100%|███████████████████████████████████████████████████████████████████████████████████████████████| 51/51 [00:00<00:00, 177.22it/s]\u001b[A\n",
      " 74%|███████████████████████████████████████████████████████████████████████                         | 37/50 [15:33<05:21, 24.70s/it]"
     ]
    },
    {
     "name": "stdout",
     "output_type": "stream",
     "text": [
      "1.0 0.6556540424388934\n",
      "1.0 0.6556540424388934\n",
      "0 0\n",
      "[ 1.19878926 -0.95336902]\n",
      "Subgroup size is 25.1%\n",
      "Avg Brier Score on Dataset = 0.210\n",
      "Brier Score in Subgroup = 0.333\n",
      "Brier Score out of Subgroup = 0.169\n",
      "done fitting worst-case\n",
      "12 0.6500000000000001 0.8489976695094782\n",
      "AFISP\n"
     ]
    },
    {
     "name": "stderr",
     "output_type": "stream",
     "text": [
      "During startup - Warning messages:\n",
      "1: Setting LC_CTYPE failed, using \"C\" \n",
      "2: Setting LC_COLLATE failed, using \"C\" \n",
      "3: Setting LC_TIME failed, using \"C\" \n",
      "4: Setting LC_MESSAGES failed, using \"C\" \n",
      "5: Setting LC_MONETARY failed, using \"C\" \n",
      "6: Setting LC_PAPER failed, using \"C\" \n",
      "7: Setting LC_MEASUREMENT failed, using \"C\" \n"
     ]
    },
    {
     "name": "stdout",
     "output_type": "stream",
     "text": [
      "[1] 2\n",
      "[1] \"Number of trees:  1000  - Stability  91.51  %.\"\n",
      "[1] \"Number of trees:  2000  - Stability  93.76  %.\"\n",
      "[1] \"Number of trees:  3000  - Stability  94.3  %.\"\n",
      "[1] \"Number of trees:  4000  - Stability  94.66  %.\"\n",
      "[1] \"Number of trees:  5000  - Stability  95.2  %.\"\n"
     ]
    },
    {
     "name": "stderr",
     "output_type": "stream",
     "text": [
      "\n",
      "100%|█████████████████████████████████████████████████████████████████████████████████████████████████| 8/8 [00:00<00:00, 157.49it/s]\u001b[A\n"
     ]
    },
    {
     "name": "stdout",
     "output_type": "stream",
     "text": [
      "4 ('X5 < 1', 0.1480318880077627, 4967) 0.01\n"
     ]
    },
    {
     "name": "stderr",
     "output_type": "stream",
     "text": [
      "\n",
      "100%|█████████████████████████████████████████████████████████████████████████████████████████████████| 3/3 [00:00<00:00, 169.83it/s]\u001b[A\n"
     ]
    },
    {
     "name": "stdout",
     "output_type": "stream",
     "text": [
      "Running Clustering\n"
     ]
    },
    {
     "name": "stderr",
     "output_type": "stream",
     "text": [
      "During startup - Warning messages:\n",
      "1: Setting LC_CTYPE failed, using \"C\" \n",
      "2: Setting LC_COLLATE failed, using \"C\" \n",
      "3: Setting LC_TIME failed, using \"C\" \n",
      "4: Setting LC_MESSAGES failed, using \"C\" \n",
      "5: Setting LC_MONETARY failed, using \"C\" \n",
      "6: Setting LC_PAPER failed, using \"C\" \n",
      "7: Setting LC_MEASUREMENT failed, using \"C\" \n"
     ]
    },
    {
     "name": "stdout",
     "output_type": "stream",
     "text": [
      "[1] 2\n",
      "[1] \"Number of trees:  1000  - Stability  90.17  %.\"\n",
      "[1] \"Number of trees:  2000  - Stability  93.02  %.\"\n",
      "[1] \"Number of trees:  3000  - Stability  93.83  %.\"\n",
      "[1] \"Number of trees:  4000  - Stability  94.93  %.\"\n",
      "[1] \"Number of trees:  5000  - Stability  95.49  %.\"\n"
     ]
    },
    {
     "name": "stderr",
     "output_type": "stream",
     "text": [
      "\n",
      "100%|███████████████████████████████████████████████████████████████████████████████████████████████| 10/10 [00:00<00:00, 165.16it/s]\u001b[A\n"
     ]
    },
    {
     "name": "stdout",
     "output_type": "stream",
     "text": [
      "5 ('X4 < 1', 0.23180052728694533, 4959) 0.008333333333333333\n"
     ]
    },
    {
     "name": "stderr",
     "output_type": "stream",
     "text": [
      "\n",
      "100%|█████████████████████████████████████████████████████████████████████████████████████████████████| 4/4 [00:00<00:00, 180.40it/s]\u001b[A\n",
      "\n",
      "  0%|                                                                                                        | 0/210 [00:00<?, ?it/s]\u001b[A\n",
      " 10%|████████▉                                                                                     | 20/210 [00:00<00:00, 197.66it/s]\u001b[A\n",
      " 19%|█████████████████▉                                                                            | 40/210 [00:00<00:00, 187.49it/s]\u001b[A\n",
      " 28%|██████████████████████████▍                                                                   | 59/210 [00:00<00:00, 179.51it/s]\u001b[A\n",
      " 37%|██████████████████████████████████▍                                                           | 77/210 [00:00<00:00, 174.70it/s]\u001b[A\n",
      " 46%|██████████████████████████████████████████▉                                                   | 96/210 [00:00<00:00, 176.78it/s]\u001b[A\n",
      " 54%|██████████████████████████████████████████████████▍                                          | 114/210 [00:00<00:00, 174.70it/s]\u001b[A\n",
      " 63%|██████████████████████████████████████████████████████████▍                                  | 132/210 [00:00<00:00, 174.19it/s]\u001b[A\n",
      " 71%|██████████████████████████████████████████████████████████████████▍                          | 150/210 [00:00<00:00, 169.59it/s]\u001b[A\n",
      " 80%|██████████████████████████████████████████████████████████████████████████▍                  | 168/210 [00:00<00:00, 170.83it/s]\u001b[A\n",
      " 89%|██████████████████████████████████████████████████████████████████████████████████▎          | 186/210 [00:01<00:00, 171.26it/s]\u001b[A\n",
      "100%|█████████████████████████████████████████████████████████████████████████████████████████████| 210/210 [00:01<00:00, 173.14it/s]\u001b[A\n"
     ]
    },
    {
     "name": "stdout",
     "output_type": "stream",
     "text": [
      "39 ('(X5 == -1) and (X8 == -1)', 0.01673650508917344, 2413) 0.00029069767441860465\n"
     ]
    },
    {
     "name": "stderr",
     "output_type": "stream",
     "text": [
      "\n",
      "  0%|                                                                                                         | 0/38 [00:00<?, ?it/s]\u001b[A\n",
      " 50%|███████████████████████████████████████████████▌                                               | 19/38 [00:00<00:00, 181.97it/s]\u001b[A\n",
      "100%|███████████████████████████████████████████████████████████████████████████████████████████████| 38/38 [00:00<00:00, 178.03it/s]\u001b[A\n",
      " 76%|████████████████████████████████████████████████████████████████████████▉                       | 38/50 [15:58<04:56, 24.74s/it]"
     ]
    },
    {
     "name": "stdout",
     "output_type": "stream",
     "text": [
      "1.0 1.0\n",
      "1.0 1.0\n",
      "0 0\n",
      "[ 0.93427413 -1.16753489  1.24095265  1.28888767]\n",
      "Subgroup size is 24.7%\n",
      "Avg Brier Score on Dataset = 0.205\n",
      "Brier Score in Subgroup = 0.382\n",
      "Brier Score out of Subgroup = 0.147\n",
      "done fitting worst-case\n",
      "3 0.2 1.0056778904239705\n",
      "AFISP\n"
     ]
    },
    {
     "name": "stderr",
     "output_type": "stream",
     "text": [
      "During startup - Warning messages:\n",
      "1: Setting LC_CTYPE failed, using \"C\" \n",
      "2: Setting LC_COLLATE failed, using \"C\" \n",
      "3: Setting LC_TIME failed, using \"C\" \n",
      "4: Setting LC_MESSAGES failed, using \"C\" \n",
      "5: Setting LC_MONETARY failed, using \"C\" \n",
      "6: Setting LC_PAPER failed, using \"C\" \n",
      "7: Setting LC_MEASUREMENT failed, using \"C\" \n"
     ]
    },
    {
     "name": "stdout",
     "output_type": "stream",
     "text": [
      "[1] 2\n",
      "[1] \"Number of trees:  1000  - Stability  91.8  %.\"\n",
      "[1] \"Number of trees:  2000  - Stability  93.24  %.\"\n",
      "[1] \"Number of trees:  3000  - Stability  94.73  %.\"\n",
      "[1] \"Number of trees:  4000  - Stability  94.9  %.\"\n",
      "[1] \"Number of trees:  5000  - Stability  95.8  %.\"\n"
     ]
    },
    {
     "name": "stderr",
     "output_type": "stream",
     "text": [
      "\n",
      "100%|███████████████████████████████████████████████████████████████████████████████████████████████| 10/10 [00:00<00:00, 170.32it/s]\u001b[A\n"
     ]
    },
    {
     "name": "stdout",
     "output_type": "stream",
     "text": [
      "10 ('X5 < 1', 0.2062635879641399, 5020) 0.05\n"
     ]
    },
    {
     "name": "stderr",
     "output_type": "stream",
     "text": [
      "\n",
      "100%|█████████████████████████████████████████████████████████████████████████████████████████████████| 9/9 [00:00<00:00, 184.18it/s]\u001b[A\n"
     ]
    },
    {
     "name": "stdout",
     "output_type": "stream",
     "text": [
      "Running Clustering\n"
     ]
    },
    {
     "name": "stderr",
     "output_type": "stream",
     "text": [
      "During startup - Warning messages:\n",
      "1: Setting LC_CTYPE failed, using \"C\" \n",
      "2: Setting LC_COLLATE failed, using \"C\" \n",
      "3: Setting LC_TIME failed, using \"C\" \n",
      "4: Setting LC_MESSAGES failed, using \"C\" \n",
      "5: Setting LC_MONETARY failed, using \"C\" \n",
      "6: Setting LC_PAPER failed, using \"C\" \n",
      "7: Setting LC_MEASUREMENT failed, using \"C\" \n"
     ]
    },
    {
     "name": "stdout",
     "output_type": "stream",
     "text": [
      "[1] 2\n",
      "[1] \"Number of trees:  1000  - Stability  90.29  %.\"\n",
      "[1] \"Number of trees:  2000  - Stability  93.01  %.\"\n",
      "[1] \"Number of trees:  3000  - Stability  93.82  %.\"\n",
      "[1] \"Number of trees:  4000  - Stability  94.65  %.\"\n",
      "[1] \"Number of trees:  5000  - Stability  95.35  %.\"\n"
     ]
    },
    {
     "name": "stderr",
     "output_type": "stream",
     "text": [
      "\n",
      "100%|███████████████████████████████████████████████████████████████████████████████████████████████| 10/10 [00:00<00:00, 170.22it/s]\u001b[A\n"
     ]
    },
    {
     "name": "stdout",
     "output_type": "stream",
     "text": [
      "6 ('X0 < 1 & X4 < 1', 0.030583238240222552, 2571) 0.01\n"
     ]
    },
    {
     "name": "stderr",
     "output_type": "stream",
     "text": [
      "\n",
      "100%|█████████████████████████████████████████████████████████████████████████████████████████████████| 5/5 [00:00<00:00, 185.76it/s]\u001b[A\n",
      "\n",
      "  0%|                                                                                                        | 0/210 [00:00<?, ?it/s]\u001b[A\n",
      " 10%|█████████▍                                                                                    | 21/210 [00:00<00:00, 200.08it/s]\u001b[A\n",
      " 20%|██████████████████▊                                                                           | 42/210 [00:00<00:00, 184.07it/s]\u001b[A\n",
      " 29%|███████████████████████████▎                                                                  | 61/210 [00:00<00:00, 177.79it/s]\u001b[A\n",
      " 38%|███████████████████████████████████▎                                                          | 79/210 [00:00<00:00, 173.12it/s]\u001b[A\n",
      " 46%|███████████████████████████████████████████▍                                                  | 97/210 [00:00<00:00, 167.66it/s]\u001b[A\n",
      " 54%|██████████████████████████████████████████████████▍                                          | 114/210 [00:00<00:00, 167.71it/s]\u001b[A\n",
      " 62%|██████████████████████████████████████████████████████████                                   | 131/210 [00:00<00:00, 166.64it/s]\u001b[A\n",
      " 71%|█████████████████████████████████████████████████████████████████▉                           | 149/210 [00:00<00:00, 170.19it/s]\u001b[A\n",
      " 80%|█████████████████████████████████████████████████████████████████████████▉                   | 167/210 [00:00<00:00, 171.00it/s]\u001b[A\n",
      " 88%|█████████████████████████████████████████████████████████████████████████████████▉           | 185/210 [00:01<00:00, 168.17it/s]\u001b[A\n",
      "100%|█████████████████████████████████████████████████████████████████████████████████████████████| 210/210 [00:01<00:00, 170.13it/s]\u001b[A\n"
     ]
    },
    {
     "name": "stdout",
     "output_type": "stream",
     "text": [
      "67 ('(X0 == -1) and (X4 == -1)', 0.030583238240222552, 2571) 0.00034722222222222224\n"
     ]
    },
    {
     "name": "stderr",
     "output_type": "stream",
     "text": [
      "\n",
      "  0%|                                                                                                         | 0/66 [00:00<?, ?it/s]\u001b[A\n",
      " 29%|███████████████████████████▎                                                                   | 19/66 [00:00<00:00, 186.76it/s]\u001b[A\n",
      " 58%|██████████████████████████████████████████████████████▋                                        | 38/66 [00:00<00:00, 182.93it/s]\u001b[A\n",
      "100%|███████████████████████████████████████████████████████████████████████████████████████████████| 66/66 [00:00<00:00, 179.75it/s]\u001b[A\n",
      " 78%|██████████████████████████████████████████████████████████████████████████▉                     | 39/50 [16:24<04:36, 25.17s/it]"
     ]
    },
    {
     "name": "stdout",
     "output_type": "stream",
     "text": [
      "1.0 0.3277188328912467\n",
      "1.0 0.3277188328912467\n",
      "1.0 0.4964838255977497\n",
      "[ 1.29146828  0.84005875 -0.93386236  1.08117676 -0.82950478 -1.07019295]\n",
      "Subgroup size is 25.4%\n",
      "Avg Brier Score on Dataset = 0.195\n",
      "Brier Score in Subgroup = 0.387\n",
      "Brier Score out of Subgroup = 0.129\n",
      "done fitting worst-case\n",
      "4 0.25 0.9814484104395755\n",
      "AFISP\n"
     ]
    },
    {
     "name": "stderr",
     "output_type": "stream",
     "text": [
      "During startup - Warning messages:\n",
      "1: Setting LC_CTYPE failed, using \"C\" \n",
      "2: Setting LC_COLLATE failed, using \"C\" \n",
      "3: Setting LC_TIME failed, using \"C\" \n",
      "4: Setting LC_MESSAGES failed, using \"C\" \n",
      "5: Setting LC_MONETARY failed, using \"C\" \n",
      "6: Setting LC_PAPER failed, using \"C\" \n",
      "7: Setting LC_MEASUREMENT failed, using \"C\" \n"
     ]
    },
    {
     "name": "stdout",
     "output_type": "stream",
     "text": [
      "[1] 2\n",
      "[1] \"Number of trees:  1000  - Stability  90.33  %.\"\n",
      "[1] \"Number of trees:  2000  - Stability  92.55  %.\"\n",
      "[1] \"Number of trees:  3000  - Stability  93.76  %.\"\n",
      "[1] \"Number of trees:  4000  - Stability  94.14  %.\"\n",
      "[1] \"Number of trees:  5000  - Stability  94.54  %.\"\n",
      "[1] \"Number of trees:  6000  - Stability  94.82  %.\"\n",
      "[1] \"Number of trees:  7000  - Stability  95.29  %.\"\n"
     ]
    },
    {
     "name": "stderr",
     "output_type": "stream",
     "text": [
      "\n",
      "100%|█████████████████████████████████████████████████████████████████████████████████████████████████| 9/9 [00:00<00:00, 165.76it/s]\u001b[A\n"
     ]
    },
    {
     "name": "stdout",
     "output_type": "stream",
     "text": [
      "8 ('X6 >= 1', 0.9947264264673343, 4905) 0.025\n"
     ]
    },
    {
     "name": "stderr",
     "output_type": "stream",
     "text": [
      "\n",
      "100%|█████████████████████████████████████████████████████████████████████████████████████████████████| 7/7 [00:00<00:00, 193.26it/s]\u001b[A\n"
     ]
    },
    {
     "name": "stdout",
     "output_type": "stream",
     "text": [
      "Running Clustering\n"
     ]
    },
    {
     "name": "stderr",
     "output_type": "stream",
     "text": [
      "During startup - Warning messages:\n",
      "1: Setting LC_CTYPE failed, using \"C\" \n",
      "2: Setting LC_COLLATE failed, using \"C\" \n",
      "3: Setting LC_TIME failed, using \"C\" \n",
      "4: Setting LC_MESSAGES failed, using \"C\" \n",
      "5: Setting LC_MONETARY failed, using \"C\" \n",
      "6: Setting LC_PAPER failed, using \"C\" \n",
      "7: Setting LC_MEASUREMENT failed, using \"C\" \n"
     ]
    },
    {
     "name": "stdout",
     "output_type": "stream",
     "text": [
      "[1] 2\n",
      "[1] \"Number of trees:  1000  - Stability  88.27  %.\"\n",
      "[1] \"Number of trees:  2000  - Stability  91.14  %.\"\n",
      "[1] \"Number of trees:  3000  - Stability  92.25  %.\"\n",
      "[1] \"Number of trees:  4000  - Stability  93.27  %.\"\n",
      "[1] \"Number of trees:  5000  - Stability  93.71  %.\"\n",
      "[1] \"Number of trees:  6000  - Stability  94.3  %.\"\n",
      "[1] \"Number of trees:  7000  - Stability  94.47  %.\"\n",
      "[1] \"Number of trees:  8000  - Stability  94.52  %.\"\n",
      "[1] \"Number of trees:  9000  - Stability  95.25  %.\"\n"
     ]
    },
    {
     "name": "stderr",
     "output_type": "stream",
     "text": [
      "\n",
      "100%|███████████████████████████████████████████████████████████████████████████████████████████████| 10/10 [00:00<00:00, 152.24it/s]\u001b[A\n"
     ]
    },
    {
     "name": "stdout",
     "output_type": "stream",
     "text": [
      "4 ('X9 >= 1', 0.00892287293169465, 5010) 0.0071428571428571435\n"
     ]
    },
    {
     "name": "stderr",
     "output_type": "stream",
     "text": [
      "\n",
      "100%|█████████████████████████████████████████████████████████████████████████████████████████████████| 3/3 [00:00<00:00, 157.19it/s]\u001b[A\n",
      "\n",
      "  0%|                                                                                                        | 0/210 [00:00<?, ?it/s]\u001b[A\n",
      " 10%|█████████▍                                                                                    | 21/210 [00:00<00:00, 201.54it/s]\u001b[A\n",
      " 20%|██████████████████▊                                                                           | 42/210 [00:00<00:00, 178.98it/s]\u001b[A\n",
      " 29%|███████████████████████████▎                                                                  | 61/210 [00:00<00:00, 175.37it/s]\u001b[A\n",
      " 38%|███████████████████████████████████▎                                                          | 79/210 [00:00<00:00, 171.51it/s]\u001b[A\n",
      " 46%|███████████████████████████████████████████▍                                                  | 97/210 [00:00<00:00, 168.38it/s]\u001b[A\n",
      " 54%|██████████████████████████████████████████████████▍                                          | 114/210 [00:00<00:00, 166.28it/s]\u001b[A\n",
      " 62%|██████████████████████████████████████████████████████████                                   | 131/210 [00:00<00:00, 166.38it/s]\u001b[A\n",
      " 70%|█████████████████████████████████████████████████████████████████▌                           | 148/210 [00:00<00:00, 164.35it/s]\u001b[A\n",
      " 79%|█████████████████████████████████████████████████████████████████████████                    | 165/210 [00:00<00:00, 165.47it/s]\u001b[A\n",
      " 87%|████████████████████████████████████████████████████████████████████████████████▌            | 182/210 [00:01<00:00, 165.56it/s]\u001b[A\n",
      "100%|█████████████████████████████████████████████████████████████████████████████████████████████| 210/210 [00:01<00:00, 168.61it/s]\u001b[A\n"
     ]
    },
    {
     "name": "stdout",
     "output_type": "stream",
     "text": [
      "39 ('(X0 == 1) and (X5 == 1)', 0.0003238726330482077, 2597) 0.00029069767441860465\n"
     ]
    },
    {
     "name": "stderr",
     "output_type": "stream",
     "text": [
      "\n",
      "  0%|                                                                                                         | 0/38 [00:00<?, ?it/s]\u001b[A\n",
      " 50%|███████████████████████████████████████████████▌                                               | 19/38 [00:00<00:00, 184.78it/s]\u001b[A\n",
      "100%|███████████████████████████████████████████████████████████████████████████████████████████████| 38/38 [00:00<00:00, 180.30it/s]\u001b[A\n",
      " 80%|████████████████████████████████████████████████████████████████████████████▊                   | 40/50 [16:49<04:12, 25.21s/it]"
     ]
    },
    {
     "name": "stdout",
     "output_type": "stream",
     "text": [
      "1.0 0.33731105807478123\n",
      "1.0 0.33731105807478123\n",
      "1.0 0.5\n",
      "[ 1.2435883   1.2040546   0.90417823  1.10712713 -1.07870665 -0.92530326\n",
      "  1.26285123]\n",
      "Subgroup size is 24.5%\n",
      "Avg Brier Score on Dataset = 0.171\n",
      "Brier Score in Subgroup = 0.378\n",
      "Brier Score out of Subgroup = 0.104\n",
      "done fitting worst-case\n",
      "4 0.25 1.0892836733556606\n",
      "AFISP\n"
     ]
    },
    {
     "name": "stderr",
     "output_type": "stream",
     "text": [
      "During startup - Warning messages:\n",
      "1: Setting LC_CTYPE failed, using \"C\" \n",
      "2: Setting LC_COLLATE failed, using \"C\" \n",
      "3: Setting LC_TIME failed, using \"C\" \n",
      "4: Setting LC_MESSAGES failed, using \"C\" \n",
      "5: Setting LC_MONETARY failed, using \"C\" \n",
      "6: Setting LC_PAPER failed, using \"C\" \n",
      "7: Setting LC_MEASUREMENT failed, using \"C\" \n"
     ]
    },
    {
     "name": "stdout",
     "output_type": "stream",
     "text": [
      "[1] 2\n",
      "[1] \"Number of trees:  1000  - Stability  90.58  %.\"\n",
      "[1] \"Number of trees:  2000  - Stability  92.29  %.\"\n",
      "[1] \"Number of trees:  3000  - Stability  92.91  %.\"\n",
      "[1] \"Number of trees:  4000  - Stability  93.28  %.\"\n",
      "[1] \"Number of trees:  5000  - Stability  93.93  %.\"\n",
      "[1] \"Number of trees:  6000  - Stability  94.12  %.\"\n",
      "[1] \"Number of trees:  7000  - Stability  94.06  %.\"\n",
      "[1] \"Number of trees:  8000  - Stability  94.29  %.\"\n",
      "[1] \"Number of trees:  9000  - Stability  94.48  %.\"\n",
      "[1] \"Number of trees:  10000  - Stability  94.89  %.\"\n",
      "[1] \"Number of trees:  11000  - Stability  95.08  %.\"\n"
     ]
    },
    {
     "name": "stderr",
     "output_type": "stream",
     "text": [
      "\n",
      "100%|█████████████████████████████████████████████████████████████████████████████████████████████████| 9/9 [00:00<00:00, 169.20it/s]\u001b[A\n"
     ]
    },
    {
     "name": "stdout",
     "output_type": "stream",
     "text": [
      "5 ('X0 < 1', 0.015667586406613174, 5020) 0.01\n"
     ]
    },
    {
     "name": "stderr",
     "output_type": "stream",
     "text": [
      "\n",
      "100%|█████████████████████████████████████████████████████████████████████████████████████████████████| 4/4 [00:00<00:00, 188.32it/s]\u001b[A\n"
     ]
    },
    {
     "name": "stdout",
     "output_type": "stream",
     "text": [
      "Running Clustering\n"
     ]
    },
    {
     "name": "stderr",
     "output_type": "stream",
     "text": [
      "During startup - Warning messages:\n",
      "1: Setting LC_CTYPE failed, using \"C\" \n",
      "2: Setting LC_COLLATE failed, using \"C\" \n",
      "3: Setting LC_TIME failed, using \"C\" \n",
      "4: Setting LC_MESSAGES failed, using \"C\" \n",
      "5: Setting LC_MONETARY failed, using \"C\" \n",
      "6: Setting LC_PAPER failed, using \"C\" \n",
      "7: Setting LC_MEASUREMENT failed, using \"C\" \n"
     ]
    },
    {
     "name": "stdout",
     "output_type": "stream",
     "text": [
      "[1] 2\n",
      "[1] \"Number of trees:  1000  - Stability  92.33  %.\"\n",
      "[1] \"Number of trees:  2000  - Stability  93.84  %.\"\n",
      "[1] \"Number of trees:  3000  - Stability  94.83  %.\"\n",
      "[1] \"Number of trees:  4000  - Stability  95.2  %.\"\n"
     ]
    },
    {
     "name": "stderr",
     "output_type": "stream",
     "text": [
      "\n",
      "100%|█████████████████████████████████████████████████████████████████████████████████████████████████| 6/6 [00:00<00:00, 146.97it/s]\u001b[A\n"
     ]
    },
    {
     "name": "stdout",
     "output_type": "stream",
     "text": [
      "3 ('X1 >= 1', 0.08250963334240198, 4981) 0.0125\n"
     ]
    },
    {
     "name": "stderr",
     "output_type": "stream",
     "text": [
      "\n",
      "100%|█████████████████████████████████████████████████████████████████████████████████████████████████| 2/2 [00:00<00:00, 142.81it/s]\u001b[A\n",
      "\n",
      "  0%|                                                                                                        | 0/210 [00:00<?, ?it/s]\u001b[A\n",
      " 11%|██████████▋                                                                                   | 24/210 [00:00<00:00, 238.29it/s]\u001b[A\n",
      " 23%|█████████████████████▍                                                                        | 48/210 [00:00<00:00, 199.97it/s]\u001b[A\n",
      " 33%|██████████████████████████████▉                                                               | 69/210 [00:00<00:00, 185.75it/s]\u001b[A\n",
      " 42%|███████████████████████████████████████▍                                                      | 88/210 [00:00<00:00, 180.07it/s]\u001b[A\n",
      " 51%|███████████████████████████████████████████████▍                                             | 107/210 [00:00<00:00, 175.31it/s]\u001b[A\n",
      " 60%|███████████████████████████████████████████████████████▎                                     | 125/210 [00:00<00:00, 171.96it/s]\u001b[A\n",
      " 68%|███████████████████████████████████████████████████████████████▎                             | 143/210 [00:00<00:00, 171.63it/s]\u001b[A\n",
      " 77%|███████████████████████████████████████████████████████████████████████▎                     | 161/210 [00:00<00:00, 169.17it/s]\u001b[A\n",
      " 85%|██████████████████████████████████████████████████████████████████████████████▊              | 178/210 [00:01<00:00, 169.12it/s]\u001b[A\n",
      "100%|█████████████████████████████████████████████████████████████████████████████████████████████| 210/210 [00:01<00:00, 175.21it/s]\u001b[A\n"
     ]
    },
    {
     "name": "stdout",
     "output_type": "stream",
     "text": [
      "37 ('(X0 == -1) and (X6 == -1)', 0.0027359374778333405, 2518) 0.00028735632183908046\n"
     ]
    },
    {
     "name": "stderr",
     "output_type": "stream",
     "text": [
      "\n",
      "  0%|                                                                                                         | 0/36 [00:00<?, ?it/s]\u001b[A\n",
      "100%|███████████████████████████████████████████████████████████████████████████████████████████████| 36/36 [00:00<00:00, 188.97it/s]\u001b[A\n",
      " 82%|██████████████████████████████████████████████████████████████████████████████▋                 | 41/50 [17:15<03:47, 25.28s/it]"
     ]
    },
    {
     "name": "stdout",
     "output_type": "stream",
     "text": [
      "1.0 0.32722653115806366\n",
      "1.0 0.32722653115806366\n",
      "1.0 0.4906757569681171\n",
      "[ 1.14735018 -0.71222668]\n",
      "Subgroup size is 24.8%\n",
      "Avg Brier Score on Dataset = 0.213\n",
      "Brier Score in Subgroup = 0.320\n",
      "Brier Score out of Subgroup = 0.177\n",
      "done fitting worst-case\n",
      "11 0.6000000000000001 0.7005503250458128\n",
      "AFISP\n"
     ]
    },
    {
     "name": "stderr",
     "output_type": "stream",
     "text": [
      "During startup - Warning messages:\n",
      "1: Setting LC_CTYPE failed, using \"C\" \n",
      "2: Setting LC_COLLATE failed, using \"C\" \n",
      "3: Setting LC_TIME failed, using \"C\" \n",
      "4: Setting LC_MESSAGES failed, using \"C\" \n",
      "5: Setting LC_MONETARY failed, using \"C\" \n",
      "6: Setting LC_PAPER failed, using \"C\" \n",
      "7: Setting LC_MEASUREMENT failed, using \"C\" \n"
     ]
    },
    {
     "name": "stdout",
     "output_type": "stream",
     "text": [
      "[1] 2\n",
      "[1] \"Number of trees:  1000  - Stability  91.79  %.\"\n",
      "[1] \"Number of trees:  2000  - Stability  93.39  %.\"\n",
      "[1] \"Number of trees:  3000  - Stability  94.28  %.\"\n",
      "[1] \"Number of trees:  4000  - Stability  94.21  %.\"\n",
      "[1] \"Number of trees:  5000  - Stability  94.84  %.\"\n",
      "[1] \"Number of trees:  6000  - Stability  95.75  %.\"\n"
     ]
    },
    {
     "name": "stderr",
     "output_type": "stream",
     "text": [
      "\n",
      "100%|█████████████████████████████████████████████████████████████████████████████████████████████████| 8/8 [00:00<00:00, 164.41it/s]\u001b[A\n"
     ]
    },
    {
     "name": "stdout",
     "output_type": "stream",
     "text": [
      "5 ('X5 >= 1', 0.04548134954360138, 4943) 0.0125\n"
     ]
    },
    {
     "name": "stderr",
     "output_type": "stream",
     "text": [
      "\n",
      "100%|█████████████████████████████████████████████████████████████████████████████████████████████████| 4/4 [00:00<00:00, 174.92it/s]\u001b[A\n"
     ]
    },
    {
     "name": "stdout",
     "output_type": "stream",
     "text": [
      "Running Clustering\n"
     ]
    },
    {
     "name": "stderr",
     "output_type": "stream",
     "text": [
      "During startup - Warning messages:\n",
      "1: Setting LC_CTYPE failed, using \"C\" \n",
      "2: Setting LC_COLLATE failed, using \"C\" \n",
      "3: Setting LC_TIME failed, using \"C\" \n",
      "4: Setting LC_MESSAGES failed, using \"C\" \n",
      "5: Setting LC_MONETARY failed, using \"C\" \n",
      "6: Setting LC_PAPER failed, using \"C\" \n",
      "7: Setting LC_MEASUREMENT failed, using \"C\" \n"
     ]
    },
    {
     "name": "stdout",
     "output_type": "stream",
     "text": [
      "[1] 2\n",
      "[1] \"Number of trees:  1000  - Stability  90.9  %.\"\n",
      "[1] \"Number of trees:  2000  - Stability  92.77  %.\"\n",
      "[1] \"Number of trees:  3000  - Stability  93.93  %.\"\n",
      "[1] \"Number of trees:  4000  - Stability  94.41  %.\"\n",
      "[1] \"Number of trees:  5000  - Stability  94.72  %.\"\n",
      "[1] \"Number of trees:  6000  - Stability  95.38  %.\"\n"
     ]
    },
    {
     "name": "stderr",
     "output_type": "stream",
     "text": [
      "\n",
      "100%|███████████████████████████████████████████████████████████████████████████████████████████████| 10/10 [00:00<00:00, 164.93it/s]\u001b[A\n"
     ]
    },
    {
     "name": "stdout",
     "output_type": "stream",
     "text": [
      "3 ('X5 >= 1', 0.04548134954360138, 4943) 0.00625\n"
     ]
    },
    {
     "name": "stderr",
     "output_type": "stream",
     "text": [
      "\n",
      "100%|█████████████████████████████████████████████████████████████████████████████████████████████████| 2/2 [00:00<00:00, 149.56it/s]\u001b[A\n",
      "\n",
      "  0%|                                                                                                        | 0/210 [00:00<?, ?it/s]\u001b[A\n",
      " 10%|█████████▊                                                                                    | 22/210 [00:00<00:00, 210.42it/s]\u001b[A\n",
      " 21%|███████████████████▋                                                                          | 44/210 [00:00<00:00, 197.82it/s]\u001b[A\n",
      " 30%|████████████████████████████▋                                                                 | 64/210 [00:00<00:00, 193.15it/s]\u001b[A\n",
      " 40%|█████████████████████████████████████▌                                                        | 84/210 [00:00<00:00, 188.62it/s]\u001b[A\n",
      " 50%|██████████████████████████████████████████████                                               | 104/210 [00:00<00:00, 189.70it/s]\u001b[A\n",
      " 59%|██████████████████████████████████████████████████████▍                                      | 123/210 [00:00<00:00, 188.68it/s]\u001b[A\n",
      " 68%|██████████████████████████████████████████████████████████████▉                              | 142/210 [00:00<00:00, 187.58it/s]\u001b[A\n",
      " 77%|███████████████████████████████████████████████████████████████████████▎                     | 161/210 [00:00<00:00, 187.63it/s]\u001b[A\n",
      " 86%|███████████████████████████████████████████████████████████████████████████████▋             | 180/210 [00:00<00:00, 187.83it/s]\u001b[A\n",
      "100%|█████████████████████████████████████████████████████████████████████████████████████████████| 210/210 [00:01<00:00, 189.02it/s]\u001b[A\n"
     ]
    },
    {
     "name": "stdout",
     "output_type": "stream",
     "text": [
      "39 ('(X5 == 1) and (X7 == 1)', 0.002649464274169071, 2452) 0.00029069767441860465\n"
     ]
    },
    {
     "name": "stderr",
     "output_type": "stream",
     "text": [
      "\n",
      "  0%|                                                                                                         | 0/38 [00:00<?, ?it/s]\u001b[A\n",
      "100%|███████████████████████████████████████████████████████████████████████████████████████████████| 38/38 [00:00<00:00, 199.98it/s]\u001b[A\n",
      " 84%|████████████████████████████████████████████████████████████████████████████████▋               | 42/50 [17:39<03:20, 25.05s/it]"
     ]
    },
    {
     "name": "stdout",
     "output_type": "stream",
     "text": [
      "1.0 1.0\n",
      "1.0 1.0\n",
      "0 0\n",
      "[-1.37449345 -1.02545493]\n",
      "Subgroup size is 25.8%\n",
      "Avg Brier Score on Dataset = 0.206\n",
      "Brier Score in Subgroup = 0.340\n",
      "Brier Score out of Subgroup = 0.160\n",
      "done fitting worst-case\n",
      "12 0.6500000000000001 0.8955623763017072\n",
      "AFISP\n"
     ]
    },
    {
     "name": "stderr",
     "output_type": "stream",
     "text": [
      "During startup - Warning messages:\n",
      "1: Setting LC_CTYPE failed, using \"C\" \n",
      "2: Setting LC_COLLATE failed, using \"C\" \n",
      "3: Setting LC_TIME failed, using \"C\" \n",
      "4: Setting LC_MESSAGES failed, using \"C\" \n",
      "5: Setting LC_MONETARY failed, using \"C\" \n",
      "6: Setting LC_PAPER failed, using \"C\" \n",
      "7: Setting LC_MEASUREMENT failed, using \"C\" \n"
     ]
    },
    {
     "name": "stdout",
     "output_type": "stream",
     "text": [
      "[1] 2\n",
      "[1] \"Number of trees:  1000  - Stability  89.1  %.\"\n",
      "[1] \"Number of trees:  2000  - Stability  90.81  %.\"\n",
      "[1] \"Number of trees:  3000  - Stability  90.87  %.\"\n",
      "[1] \"Number of trees:  4000  - Stability  92.46  %.\"\n",
      "[1] \"Number of trees:  5000  - Stability  92.55  %.\"\n",
      "[1] \"Number of trees:  6000  - Stability  92.64  %.\"\n",
      "[1] \"Number of trees:  7000  - Stability  93.23  %.\"\n",
      "[1] \"Number of trees:  8000  - Stability  93.38  %.\"\n",
      "[1] \"Number of trees:  9000  - Stability  93.83  %.\"\n",
      "[1] \"Number of trees:  10000  - Stability  94.05  %.\"\n",
      "[1] \"Number of trees:  11000  - Stability  94.14  %.\"\n",
      "[1] \"Number of trees:  12000  - Stability  94.18  %.\"\n",
      "[1] \"Number of trees:  13000  - Stability  94.83  %.\"\n",
      "[1] \"Number of trees:  14000  - Stability  94.72  %.\"\n",
      "[1] \"Number of trees:  15000  - Stability  94.81  %.\"\n",
      "[1] \"Number of trees:  16000  - Stability  94.88  %.\"\n",
      "[1] \"Number of trees:  17000  - Stability  94.76  %.\"\n",
      "[1] \"Number of trees:  18000  - Stability  95.02  %.\"\n"
     ]
    },
    {
     "name": "stderr",
     "output_type": "stream",
     "text": [
      "\n",
      "100%|█████████████████████████████████████████████████████████████████████████████████████████████████| 9/9 [00:00<00:00, 166.26it/s]\u001b[A\n"
     ]
    },
    {
     "name": "stdout",
     "output_type": "stream",
     "text": [
      "6 ('X5 < 1', 0.06853731345069837, 5028) 0.0125\n"
     ]
    },
    {
     "name": "stderr",
     "output_type": "stream",
     "text": [
      "\n",
      "100%|█████████████████████████████████████████████████████████████████████████████████████████████████| 5/5 [00:00<00:00, 168.73it/s]\u001b[A\n"
     ]
    },
    {
     "name": "stdout",
     "output_type": "stream",
     "text": [
      "Running Clustering\n"
     ]
    },
    {
     "name": "stderr",
     "output_type": "stream",
     "text": [
      "During startup - Warning messages:\n",
      "1: Setting LC_CTYPE failed, using \"C\" \n",
      "2: Setting LC_COLLATE failed, using \"C\" \n",
      "3: Setting LC_TIME failed, using \"C\" \n",
      "4: Setting LC_MESSAGES failed, using \"C\" \n",
      "5: Setting LC_MONETARY failed, using \"C\" \n",
      "6: Setting LC_PAPER failed, using \"C\" \n",
      "7: Setting LC_MEASUREMENT failed, using \"C\" \n"
     ]
    },
    {
     "name": "stdout",
     "output_type": "stream",
     "text": [
      "[1] 2\n",
      "[1] \"Number of trees:  1000  - Stability  91.65  %.\"\n",
      "[1] \"Number of trees:  2000  - Stability  92.8  %.\"\n",
      "[1] \"Number of trees:  3000  - Stability  93.76  %.\"\n",
      "[1] \"Number of trees:  4000  - Stability  94.48  %.\"\n",
      "[1] \"Number of trees:  5000  - Stability  94.51  %.\"\n",
      "[1] \"Number of trees:  6000  - Stability  94.96  %.\"\n",
      "[1] \"Number of trees:  7000  - Stability  95.06  %.\"\n"
     ]
    },
    {
     "name": "stderr",
     "output_type": "stream",
     "text": [
      "\n",
      "100%|█████████████████████████████████████████████████████████████████████████████████████████████████| 9/9 [00:00<00:00, 178.54it/s]\u001b[A\n"
     ]
    },
    {
     "name": "stdout",
     "output_type": "stream",
     "text": [
      "6 ('X7 >= 1', 0.28802716000833894, 5027) 0.0125\n"
     ]
    },
    {
     "name": "stderr",
     "output_type": "stream",
     "text": [
      "\n",
      "100%|█████████████████████████████████████████████████████████████████████████████████████████████████| 5/5 [00:00<00:00, 196.25it/s]\u001b[A\n",
      "\n",
      "  0%|                                                                                                        | 0/210 [00:00<?, ?it/s]\u001b[A\n",
      " 11%|██████████▋                                                                                   | 24/210 [00:00<00:00, 238.05it/s]\u001b[A\n",
      " 23%|█████████████████████▍                                                                        | 48/210 [00:00<00:00, 224.54it/s]\u001b[A\n",
      " 34%|███████████████████████████████▊                                                              | 71/210 [00:00<00:00, 210.67it/s]\u001b[A\n",
      " 44%|█████████████████████████████████████████▋                                                    | 93/210 [00:00<00:00, 202.13it/s]\u001b[A\n",
      " 54%|██████████████████████████████████████████████████▍                                          | 114/210 [00:00<00:00, 192.52it/s]\u001b[A\n",
      " 64%|███████████████████████████████████████████████████████████▎                                 | 134/210 [00:00<00:00, 188.13it/s]\u001b[A\n",
      " 73%|███████████████████████████████████████████████████████████████████▊                         | 153/210 [00:00<00:00, 185.43it/s]\u001b[A\n",
      " 82%|████████████████████████████████████████████████████████████████████████████▌                | 173/210 [00:00<00:00, 187.91it/s]\u001b[A\n",
      "100%|█████████████████████████████████████████████████████████████████████████████████████████████| 210/210 [00:01<00:00, 194.38it/s]\u001b[A\n"
     ]
    },
    {
     "name": "stdout",
     "output_type": "stream",
     "text": [
      "39 ('(X9 == -1)', 0.03633206752053008, 4977) 0.00029069767441860465\n"
     ]
    },
    {
     "name": "stderr",
     "output_type": "stream",
     "text": [
      "\n",
      "  0%|                                                                                                         | 0/38 [00:00<?, ?it/s]\u001b[A\n",
      "100%|███████████████████████████████████████████████████████████████████████████████████████████████| 38/38 [00:00<00:00, 200.93it/s]\u001b[A\n",
      " 86%|██████████████████████████████████████████████████████████████████████████████████▌             | 43/50 [18:06<02:58, 25.45s/it]"
     ]
    },
    {
     "name": "stdout",
     "output_type": "stream",
     "text": [
      "1.0 1.0\n",
      "1.0 1.0\n",
      "0 0\n",
      "[-1.08983625 -0.9547099  -0.55240641  0.68141494  1.68264335]\n",
      "Subgroup size is 25.2%\n",
      "Avg Brier Score on Dataset = 0.193\n",
      "Brier Score in Subgroup = 0.373\n",
      "Brier Score out of Subgroup = 0.132\n",
      "done fitting worst-case\n",
      "4 0.25 0.928919576245824\n",
      "AFISP\n"
     ]
    },
    {
     "name": "stderr",
     "output_type": "stream",
     "text": [
      "During startup - Warning messages:\n",
      "1: Setting LC_CTYPE failed, using \"C\" \n",
      "2: Setting LC_COLLATE failed, using \"C\" \n",
      "3: Setting LC_TIME failed, using \"C\" \n",
      "4: Setting LC_MESSAGES failed, using \"C\" \n",
      "5: Setting LC_MONETARY failed, using \"C\" \n",
      "6: Setting LC_PAPER failed, using \"C\" \n",
      "7: Setting LC_MEASUREMENT failed, using \"C\" \n"
     ]
    },
    {
     "name": "stdout",
     "output_type": "stream",
     "text": [
      "[1] 2\n",
      "[1] \"Number of trees:  1000  - Stability  90.53  %.\"\n",
      "[1] \"Number of trees:  2000  - Stability  92.9  %.\"\n",
      "[1] \"Number of trees:  3000  - Stability  93.54  %.\"\n",
      "[1] \"Number of trees:  4000  - Stability  94.26  %.\"\n",
      "[1] \"Number of trees:  5000  - Stability  95.06  %.\"\n"
     ]
    },
    {
     "name": "stderr",
     "output_type": "stream",
     "text": [
      "\n",
      "100%|█████████████████████████████████████████████████████████████████████████████████████████████████| 9/9 [00:00<00:00, 197.90it/s]\u001b[A\n"
     ]
    },
    {
     "name": "stdout",
     "output_type": "stream",
     "text": [
      "6 ('X1 >= 1', 0.10204224554638043, 5095) 0.0125\n"
     ]
    },
    {
     "name": "stderr",
     "output_type": "stream",
     "text": [
      "\n",
      "100%|█████████████████████████████████████████████████████████████████████████████████████████████████| 5/5 [00:00<00:00, 202.63it/s]\u001b[A\n"
     ]
    },
    {
     "name": "stdout",
     "output_type": "stream",
     "text": [
      "Running Clustering\n"
     ]
    },
    {
     "name": "stderr",
     "output_type": "stream",
     "text": [
      "During startup - Warning messages:\n",
      "1: Setting LC_CTYPE failed, using \"C\" \n",
      "2: Setting LC_COLLATE failed, using \"C\" \n",
      "3: Setting LC_TIME failed, using \"C\" \n",
      "4: Setting LC_MESSAGES failed, using \"C\" \n",
      "5: Setting LC_MONETARY failed, using \"C\" \n",
      "6: Setting LC_PAPER failed, using \"C\" \n",
      "7: Setting LC_MEASUREMENT failed, using \"C\" \n"
     ]
    },
    {
     "name": "stdout",
     "output_type": "stream",
     "text": [
      "[1] 2\n",
      "[1] \"Number of trees:  1000  - Stability  90.56  %.\"\n",
      "[1] \"Number of trees:  2000  - Stability  93.22  %.\"\n",
      "[1] \"Number of trees:  3000  - Stability  94.49  %.\"\n",
      "[1] \"Number of trees:  4000  - Stability  94.87  %.\"\n",
      "[1] \"Number of trees:  5000  - Stability  95.38  %.\"\n"
     ]
    },
    {
     "name": "stderr",
     "output_type": "stream",
     "text": [
      "\n",
      "100%|███████████████████████████████████████████████████████████████████████████████████████████████| 10/10 [00:00<00:00, 196.29it/s]\u001b[A\n"
     ]
    },
    {
     "name": "stdout",
     "output_type": "stream",
     "text": [
      "5 ('X1 >= 1 & X5 < 1', 0.02067507399358553, 2498) 0.008333333333333333\n"
     ]
    },
    {
     "name": "stderr",
     "output_type": "stream",
     "text": [
      "\n",
      "100%|█████████████████████████████████████████████████████████████████████████████████████████████████| 4/4 [00:00<00:00, 211.69it/s]\u001b[A\n",
      "\n",
      "  0%|                                                                                                        | 0/210 [00:00<?, ?it/s]\u001b[A\n",
      " 10%|█████████▊                                                                                    | 22/210 [00:00<00:00, 212.76it/s]\u001b[A\n",
      " 21%|███████████████████▋                                                                          | 44/210 [00:00<00:00, 197.27it/s]\u001b[A\n",
      " 30%|████████████████████████████▋                                                                 | 64/210 [00:00<00:00, 190.54it/s]\u001b[A\n",
      " 40%|█████████████████████████████████████▌                                                        | 84/210 [00:00<00:00, 191.08it/s]\u001b[A\n",
      " 50%|██████████████████████████████████████████████                                               | 104/210 [00:00<00:00, 193.30it/s]\u001b[A\n",
      " 59%|██████████████████████████████████████████████████████▉                                      | 124/210 [00:00<00:00, 192.69it/s]\u001b[A\n",
      " 69%|███████████████████████████████████████████████████████████████▊                             | 144/210 [00:00<00:00, 191.76it/s]\u001b[A\n",
      " 78%|████████████████████████████████████████████████████████████████████████▋                    | 164/210 [00:00<00:00, 191.82it/s]\u001b[A\n",
      " 88%|█████████████████████████████████████████████████████████████████████████████████▍           | 184/210 [00:00<00:00, 191.31it/s]\u001b[A\n",
      "100%|█████████████████████████████████████████████████████████████████████████████████████████████| 210/210 [00:01<00:00, 191.52it/s]\u001b[A\n"
     ]
    },
    {
     "name": "stdout",
     "output_type": "stream",
     "text": [
      "49 ('(X5 == 1) and (X9 == -1)', 0.00047116162374904373, 2482) 0.00030864197530864197\n"
     ]
    },
    {
     "name": "stderr",
     "output_type": "stream",
     "text": [
      "\n",
      "  0%|                                                                                                         | 0/48 [00:00<?, ?it/s]\u001b[A\n",
      " 46%|███████████████████████████████████████████▌                                                   | 22/48 [00:00<00:00, 213.19it/s]\u001b[A\n",
      "100%|███████████████████████████████████████████████████████████████████████████████████████████████| 48/48 [00:00<00:00, 202.61it/s]\u001b[A\n",
      " 88%|████████████████████████████████████████████████████████████████████████████████████▍           | 44/50 [18:30<02:31, 25.21s/it]"
     ]
    },
    {
     "name": "stdout",
     "output_type": "stream",
     "text": [
      "1.0 0.3353261591603561\n",
      "1.0 0.3353261591603561\n",
      "0 0\n",
      "[-1.02939717 -1.26106414  0.91307587]\n",
      "Subgroup size is 24.8%\n",
      "Avg Brier Score on Dataset = 0.177\n",
      "Brier Score in Subgroup = 0.304\n",
      "Brier Score out of Subgroup = 0.135\n",
      "done fitting worst-case\n",
      "14 0.7500000000000001 0.7894469969690917\n",
      "AFISP\n"
     ]
    },
    {
     "name": "stderr",
     "output_type": "stream",
     "text": [
      "During startup - Warning messages:\n",
      "1: Setting LC_CTYPE failed, using \"C\" \n",
      "2: Setting LC_COLLATE failed, using \"C\" \n",
      "3: Setting LC_TIME failed, using \"C\" \n",
      "4: Setting LC_MESSAGES failed, using \"C\" \n",
      "5: Setting LC_MONETARY failed, using \"C\" \n",
      "6: Setting LC_PAPER failed, using \"C\" \n",
      "7: Setting LC_MEASUREMENT failed, using \"C\" \n"
     ]
    },
    {
     "name": "stdout",
     "output_type": "stream",
     "text": [
      "[1] 2\n",
      "[1] \"Number of trees:  1000  - Stability  87.12  %.\"\n",
      "[1] \"Number of trees:  2000  - Stability  89.27  %.\"\n",
      "[1] \"Number of trees:  3000  - Stability  90.91  %.\"\n",
      "[1] \"Number of trees:  4000  - Stability  92.26  %.\"\n",
      "[1] \"Number of trees:  5000  - Stability  93.03  %.\"\n",
      "[1] \"Number of trees:  6000  - Stability  93.24  %.\"\n",
      "[1] \"Number of trees:  7000  - Stability  93.89  %.\"\n",
      "[1] \"Number of trees:  8000  - Stability  94.28  %.\"\n",
      "[1] \"Number of trees:  9000  - Stability  94.61  %.\"\n",
      "[1] \"Number of trees:  10000  - Stability  94.68  %.\"\n",
      "[1] \"Number of trees:  11000  - Stability  95.09  %.\"\n"
     ]
    },
    {
     "name": "stderr",
     "output_type": "stream",
     "text": [
      "\n",
      "100%|█████████████████████████████████████████████████████████████████████████████████████████████████| 7/7 [00:00<00:00, 179.56it/s]\u001b[A\n"
     ]
    },
    {
     "name": "stdout",
     "output_type": "stream",
     "text": [
      "2 ('X5 >= 1', 0.10587724245472332, 5030) 0.008333333333333333\n"
     ]
    },
    {
     "name": "stderr",
     "output_type": "stream",
     "text": [
      "\n",
      "100%|█████████████████████████████████████████████████████████████████████████████████████████████████| 1/1 [00:00<00:00, 163.34it/s]\u001b[A\n"
     ]
    },
    {
     "name": "stdout",
     "output_type": "stream",
     "text": [
      "Running Clustering\n"
     ]
    },
    {
     "name": "stderr",
     "output_type": "stream",
     "text": [
      "During startup - Warning messages:\n",
      "1: Setting LC_CTYPE failed, using \"C\" \n",
      "2: Setting LC_COLLATE failed, using \"C\" \n",
      "3: Setting LC_TIME failed, using \"C\" \n",
      "4: Setting LC_MESSAGES failed, using \"C\" \n",
      "5: Setting LC_MONETARY failed, using \"C\" \n",
      "6: Setting LC_PAPER failed, using \"C\" \n",
      "7: Setting LC_MEASUREMENT failed, using \"C\" \n"
     ]
    },
    {
     "name": "stdout",
     "output_type": "stream",
     "text": [
      "[1] 2\n",
      "[1] \"Number of trees:  1000  - Stability  89.87  %.\"\n",
      "[1] \"Number of trees:  2000  - Stability  91.96  %.\"\n",
      "[1] \"Number of trees:  3000  - Stability  92.32  %.\"\n",
      "[1] \"Number of trees:  4000  - Stability  93.03  %.\"\n",
      "[1] \"Number of trees:  5000  - Stability  94.25  %.\"\n",
      "[1] \"Number of trees:  6000  - Stability  94.6  %.\"\n",
      "[1] \"Number of trees:  7000  - Stability  94.94  %.\"\n",
      "[1] \"Number of trees:  8000  - Stability  95.25  %.\"\n"
     ]
    },
    {
     "name": "stderr",
     "output_type": "stream",
     "text": [
      "\n",
      "100%|███████████████████████████████████████████████████████████████████████████████████████████████| 10/10 [00:00<00:00, 180.03it/s]\u001b[A\n"
     ]
    },
    {
     "name": "stdout",
     "output_type": "stream",
     "text": [
      "5 ('X0 < 1', 0.20232565548194592, 5098) 0.008333333333333333\n"
     ]
    },
    {
     "name": "stderr",
     "output_type": "stream",
     "text": [
      "\n",
      "100%|█████████████████████████████████████████████████████████████████████████████████████████████████| 4/4 [00:00<00:00, 177.77it/s]\u001b[A\n",
      "\n",
      "  0%|                                                                                                        | 0/210 [00:00<?, ?it/s]\u001b[A\n",
      " 10%|█████████▊                                                                                    | 22/210 [00:00<00:00, 212.05it/s]\u001b[A\n",
      " 21%|███████████████████▋                                                                          | 44/210 [00:00<00:00, 198.99it/s]\u001b[A\n",
      " 30%|████████████████████████████▋                                                                 | 64/210 [00:00<00:00, 190.70it/s]\u001b[A\n",
      " 40%|█████████████████████████████████████▌                                                        | 84/210 [00:00<00:00, 190.97it/s]\u001b[A\n",
      " 50%|██████████████████████████████████████████████                                               | 104/210 [00:00<00:00, 188.62it/s]\u001b[A\n",
      " 59%|██████████████████████████████████████████████████████▍                                      | 123/210 [00:00<00:00, 187.87it/s]\u001b[A\n",
      " 68%|███████████████████████████████████████████████████████████████▎                             | 143/210 [00:00<00:00, 188.46it/s]\u001b[A\n",
      " 78%|████████████████████████████████████████████████████████████████████████▏                    | 163/210 [00:00<00:00, 189.35it/s]\u001b[A\n",
      " 87%|█████████████████████████████████████████████████████████████████████████████████            | 183/210 [00:00<00:00, 190.30it/s]\u001b[A\n",
      "100%|█████████████████████████████████████████████████████████████████████████████████████████████| 210/210 [00:01<00:00, 190.24it/s]\u001b[A\n"
     ]
    },
    {
     "name": "stdout",
     "output_type": "stream",
     "text": [
      "36 ('(X4 == -1) and (X6 == -1)', 0.0005940704899727864, 2440) 0.00028571428571428574\n"
     ]
    },
    {
     "name": "stderr",
     "output_type": "stream",
     "text": [
      "\n",
      "  0%|                                                                                                         | 0/35 [00:00<?, ?it/s]\u001b[A\n",
      "100%|███████████████████████████████████████████████████████████████████████████████████████████████| 35/35 [00:00<00:00, 212.55it/s]\u001b[A\n",
      " 90%|██████████████████████████████████████████████████████████████████████████████████████▍         | 45/50 [18:55<02:05, 25.17s/it]"
     ]
    },
    {
     "name": "stdout",
     "output_type": "stream",
     "text": [
      "0 0\n",
      "1.0 1.0\n",
      "0 0\n",
      "[-0.67440881  0.90276352  1.02197415]\n",
      "Subgroup size is 25.4%\n",
      "Avg Brier Score on Dataset = 0.212\n",
      "Brier Score in Subgroup = 0.334\n",
      "Brier Score out of Subgroup = 0.171\n",
      "done fitting worst-case\n",
      "16 0.8500000000000001 0.7479320828699589\n",
      "AFISP\n"
     ]
    },
    {
     "name": "stderr",
     "output_type": "stream",
     "text": [
      "During startup - Warning messages:\n",
      "1: Setting LC_CTYPE failed, using \"C\" \n",
      "2: Setting LC_COLLATE failed, using \"C\" \n",
      "3: Setting LC_TIME failed, using \"C\" \n",
      "4: Setting LC_MESSAGES failed, using \"C\" \n",
      "5: Setting LC_MONETARY failed, using \"C\" \n",
      "6: Setting LC_PAPER failed, using \"C\" \n",
      "7: Setting LC_MEASUREMENT failed, using \"C\" \n"
     ]
    },
    {
     "name": "stdout",
     "output_type": "stream",
     "text": [
      "[1] 2\n",
      "[1] \"Number of trees:  1000  - Stability  91.62  %.\"\n",
      "[1] \"Number of trees:  2000  - Stability  94.14  %.\"\n",
      "[1] \"Number of trees:  3000  - Stability  94.65  %.\"\n",
      "[1] \"Number of trees:  4000  - Stability  95.27  %.\"\n"
     ]
    },
    {
     "name": "stderr",
     "output_type": "stream",
     "text": [
      "\n",
      "100%|███████████████████████████████████████████████████████████████████████████████████████████████| 10/10 [00:00<00:00, 223.23it/s]\u001b[A\n"
     ]
    },
    {
     "name": "stdout",
     "output_type": "stream",
     "text": [
      "5 ('X7 < 1', 0.10370790002436338, 4926) 0.008333333333333333\n"
     ]
    },
    {
     "name": "stderr",
     "output_type": "stream",
     "text": [
      "\n",
      "100%|█████████████████████████████████████████████████████████████████████████████████████████████████| 4/4 [00:00<00:00, 207.25it/s]\u001b[A\n"
     ]
    },
    {
     "name": "stdout",
     "output_type": "stream",
     "text": [
      "Running Clustering\n"
     ]
    },
    {
     "name": "stderr",
     "output_type": "stream",
     "text": [
      "During startup - Warning messages:\n",
      "1: Setting LC_CTYPE failed, using \"C\" \n",
      "2: Setting LC_COLLATE failed, using \"C\" \n",
      "3: Setting LC_TIME failed, using \"C\" \n",
      "4: Setting LC_MESSAGES failed, using \"C\" \n",
      "5: Setting LC_MONETARY failed, using \"C\" \n",
      "6: Setting LC_PAPER failed, using \"C\" \n",
      "7: Setting LC_MEASUREMENT failed, using \"C\" \n"
     ]
    },
    {
     "name": "stdout",
     "output_type": "stream",
     "text": [
      "[1] 2\n",
      "[1] \"Number of trees:  1000  - Stability  88.18  %.\"\n",
      "[1] \"Number of trees:  2000  - Stability  90.04  %.\"\n",
      "[1] \"Number of trees:  3000  - Stability  91.73  %.\"\n",
      "[1] \"Number of trees:  4000  - Stability  92.56  %.\"\n",
      "[1] \"Number of trees:  5000  - Stability  93.09  %.\"\n",
      "[1] \"Number of trees:  6000  - Stability  93.39  %.\"\n",
      "[1] \"Number of trees:  7000  - Stability  93.97  %.\"\n",
      "[1] \"Number of trees:  8000  - Stability  93.45  %.\"\n",
      "[1] \"Number of trees:  9000  - Stability  93.55  %.\"\n",
      "[1] \"Number of trees:  10000  - Stability  94.22  %.\"\n",
      "[1] \"Number of trees:  11000  - Stability  93.86  %.\"\n",
      "[1] \"Number of trees:  12000  - Stability  94.09  %.\"\n",
      "[1] \"Number of trees:  13000  - Stability  94.33  %.\"\n",
      "[1] \"Number of trees:  14000  - Stability  94.54  %.\"\n",
      "[1] \"Number of trees:  15000  - Stability  94.96  %.\"\n",
      "[1] \"Number of trees:  16000  - Stability  94.87  %.\"\n",
      "[1] \"Number of trees:  17000  - Stability  94.72  %.\"\n",
      "[1] \"Number of trees:  18000  - Stability  95.03  %.\"\n"
     ]
    },
    {
     "name": "stderr",
     "output_type": "stream",
     "text": [
      "\n",
      "100%|███████████████████████████████████████████████████████████████████████████████████████████████| 10/10 [00:00<00:00, 181.93it/s]\u001b[A\n"
     ]
    },
    {
     "name": "stdout",
     "output_type": "stream",
     "text": [
      "5 ('X1 >= 1', 0.17258335924513424, 4973) 0.008333333333333333\n"
     ]
    },
    {
     "name": "stderr",
     "output_type": "stream",
     "text": [
      "\n",
      "100%|█████████████████████████████████████████████████████████████████████████████████████████████████| 4/4 [00:00<00:00, 202.69it/s]\u001b[A\n",
      "\n",
      "  0%|                                                                                                        | 0/210 [00:00<?, ?it/s]\u001b[A\n",
      " 10%|████████▉                                                                                     | 20/210 [00:00<00:00, 199.73it/s]\u001b[A\n",
      " 19%|█████████████████▉                                                                            | 40/210 [00:00<00:00, 185.38it/s]\u001b[A\n",
      " 28%|██████████████████████████▍                                                                   | 59/210 [00:00<00:00, 176.43it/s]\u001b[A\n",
      " 37%|██████████████████████████████████▍                                                           | 77/210 [00:00<00:00, 173.73it/s]\u001b[A\n",
      " 45%|██████████████████████████████████████████▌                                                   | 95/210 [00:00<00:00, 172.66it/s]\u001b[A\n",
      " 54%|██████████████████████████████████████████████████                                           | 113/210 [00:00<00:00, 170.93it/s]\u001b[A\n",
      " 62%|██████████████████████████████████████████████████████████                                   | 131/210 [00:00<00:00, 170.74it/s]\u001b[A\n",
      " 71%|█████████████████████████████████████████████████████████████████▉                           | 149/210 [00:00<00:00, 171.69it/s]\u001b[A\n",
      " 80%|██████████████████████████████████████████████████████████████████████████▍                  | 168/210 [00:00<00:00, 175.80it/s]\u001b[A\n",
      " 89%|██████████████████████████████████████████████████████████████████████████████████▎          | 186/210 [00:01<00:00, 174.63it/s]\u001b[A\n",
      "100%|█████████████████████████████████████████████████████████████████████████████████████████████| 210/210 [00:01<00:00, 174.24it/s]\u001b[A\n"
     ]
    },
    {
     "name": "stdout",
     "output_type": "stream",
     "text": [
      "40 ('(X0 == 1) and (X1 == 1)', 0.00044663001734722343, 2483) 0.00029239766081871346\n"
     ]
    },
    {
     "name": "stderr",
     "output_type": "stream",
     "text": [
      "\n",
      "  0%|                                                                                                         | 0/39 [00:00<?, ?it/s]\u001b[A\n",
      "100%|███████████████████████████████████████████████████████████████████████████████████████████████| 39/39 [00:00<00:00, 192.75it/s]\u001b[A\n",
      " 92%|████████████████████████████████████████████████████████████████████████████████████████▎       | 46/50 [19:21<01:41, 25.28s/it]"
     ]
    },
    {
     "name": "stdout",
     "output_type": "stream",
     "text": [
      "1.0 1.0\n",
      "1.0 1.0\n",
      "0 0\n",
      "[-1.23280586 -1.04834084 -0.63372403]\n",
      "Subgroup size is 25.4%\n",
      "Avg Brier Score on Dataset = 0.205\n",
      "Brier Score in Subgroup = 0.347\n",
      "Brier Score out of Subgroup = 0.156\n",
      "done fitting worst-case\n",
      "4 0.25 0.7819318423578792\n",
      "AFISP\n"
     ]
    },
    {
     "name": "stderr",
     "output_type": "stream",
     "text": [
      "During startup - Warning messages:\n",
      "1: Setting LC_CTYPE failed, using \"C\" \n",
      "2: Setting LC_COLLATE failed, using \"C\" \n",
      "3: Setting LC_TIME failed, using \"C\" \n",
      "4: Setting LC_MESSAGES failed, using \"C\" \n",
      "5: Setting LC_MONETARY failed, using \"C\" \n",
      "6: Setting LC_PAPER failed, using \"C\" \n",
      "7: Setting LC_MEASUREMENT failed, using \"C\" \n"
     ]
    },
    {
     "name": "stdout",
     "output_type": "stream",
     "text": [
      "[1] 2\n",
      "[1] \"Number of trees:  1000  - Stability  89.48  %.\"\n",
      "[1] \"Number of trees:  2000  - Stability  92.06  %.\"\n",
      "[1] \"Number of trees:  3000  - Stability  93.78  %.\"\n",
      "[1] \"Number of trees:  4000  - Stability  94.55  %.\"\n",
      "[1] \"Number of trees:  5000  - Stability  95.09  %.\"\n"
     ]
    },
    {
     "name": "stderr",
     "output_type": "stream",
     "text": [
      "\n",
      "100%|███████████████████████████████████████████████████████████████████████████████████████████████| 10/10 [00:00<00:00, 175.81it/s]\u001b[A\n"
     ]
    },
    {
     "name": "stdout",
     "output_type": "stream",
     "text": [
      "7 ('X5 < 1', 0.08579031642992072, 5068) 0.0125\n"
     ]
    },
    {
     "name": "stderr",
     "output_type": "stream",
     "text": [
      "\n",
      "100%|█████████████████████████████████████████████████████████████████████████████████████████████████| 6/6 [00:00<00:00, 197.87it/s]\u001b[A\n"
     ]
    },
    {
     "name": "stdout",
     "output_type": "stream",
     "text": [
      "Running Clustering\n"
     ]
    },
    {
     "name": "stderr",
     "output_type": "stream",
     "text": [
      "During startup - Warning messages:\n",
      "1: Setting LC_CTYPE failed, using \"C\" \n",
      "2: Setting LC_COLLATE failed, using \"C\" \n",
      "3: Setting LC_TIME failed, using \"C\" \n",
      "4: Setting LC_MESSAGES failed, using \"C\" \n",
      "5: Setting LC_MONETARY failed, using \"C\" \n",
      "6: Setting LC_PAPER failed, using \"C\" \n",
      "7: Setting LC_MEASUREMENT failed, using \"C\" \n"
     ]
    },
    {
     "name": "stdout",
     "output_type": "stream",
     "text": [
      "[1] 2\n",
      "[1] \"Number of trees:  1000  - Stability  91.86  %.\"\n",
      "[1] \"Number of trees:  2000  - Stability  93.72  %.\"\n",
      "[1] \"Number of trees:  3000  - Stability  94.69  %.\"\n",
      "[1] \"Number of trees:  4000  - Stability  95.32  %.\"\n"
     ]
    },
    {
     "name": "stderr",
     "output_type": "stream",
     "text": [
      "\n",
      "100%|███████████████████████████████████████████████████████████████████████████████████████████████| 10/10 [00:00<00:00, 177.28it/s]\u001b[A\n"
     ]
    },
    {
     "name": "stdout",
     "output_type": "stream",
     "text": [
      "4 ('X0 >= 1', 0.21418737673145077, 5050) 0.0071428571428571435\n"
     ]
    },
    {
     "name": "stderr",
     "output_type": "stream",
     "text": [
      "\n",
      "100%|█████████████████████████████████████████████████████████████████████████████████████████████████| 3/3 [00:00<00:00, 160.21it/s]\u001b[A\n",
      "\n",
      "  0%|                                                                                                        | 0/210 [00:00<?, ?it/s]\u001b[A\n",
      " 10%|█████████▊                                                                                    | 22/210 [00:00<00:00, 214.85it/s]\u001b[A\n",
      " 21%|███████████████████▋                                                                          | 44/210 [00:00<00:00, 188.75it/s]\u001b[A\n",
      " 30%|████████████████████████████▋                                                                 | 64/210 [00:00<00:00, 182.71it/s]\u001b[A\n",
      " 40%|█████████████████████████████████████▌                                                        | 84/210 [00:00<00:00, 184.90it/s]\u001b[A\n",
      " 49%|█████████████████████████████████████████████▌                                               | 103/210 [00:00<00:00, 184.85it/s]\u001b[A\n",
      " 58%|██████████████████████████████████████████████████████                                       | 122/210 [00:00<00:00, 182.21it/s]\u001b[A\n",
      " 67%|██████████████████████████████████████████████████████████████▍                              | 141/210 [00:00<00:00, 179.44it/s]\u001b[A\n",
      " 76%|██████████████████████████████████████████████████████████████████████▍                      | 159/210 [00:00<00:00, 176.31it/s]\u001b[A\n",
      " 84%|██████████████████████████████████████████████████████████████████████████████▍              | 177/210 [00:00<00:00, 174.27it/s]\u001b[A\n",
      "100%|█████████████████████████████████████████████████████████████████████████████████████████████| 210/210 [00:01<00:00, 178.17it/s]\u001b[A\n"
     ]
    },
    {
     "name": "stdout",
     "output_type": "stream",
     "text": [
      "40 ('(X4 == 1) and (X6 == -1)', 0.0030087285103392626, 2575) 0.00029239766081871346\n"
     ]
    },
    {
     "name": "stderr",
     "output_type": "stream",
     "text": [
      "\n",
      "  0%|                                                                                                         | 0/39 [00:00<?, ?it/s]\u001b[A\n",
      "100%|███████████████████████████████████████████████████████████████████████████████████████████████| 39/39 [00:00<00:00, 190.37it/s]\u001b[A\n",
      " 94%|██████████████████████████████████████████████████████████████████████████████████████████▏     | 47/50 [19:46<01:15, 25.10s/it]"
     ]
    },
    {
     "name": "stdout",
     "output_type": "stream",
     "text": [
      "1.0 0.5021782178217822\n",
      "1.0 0.5021782178217822\n",
      "1.0 0.5021782178217822\n",
      "[ 0.69849994 -1.54703673  0.61467134]\n",
      "Subgroup size is 25.6%\n",
      "Avg Brier Score on Dataset = 0.231\n",
      "Brier Score in Subgroup = 0.407\n",
      "Brier Score out of Subgroup = 0.171\n",
      "done fitting worst-case\n",
      "1 0.1 0.9575431415771434\n",
      "AFISP\n"
     ]
    },
    {
     "name": "stderr",
     "output_type": "stream",
     "text": [
      "During startup - Warning messages:\n",
      "1: Setting LC_CTYPE failed, using \"C\" \n",
      "2: Setting LC_COLLATE failed, using \"C\" \n",
      "3: Setting LC_TIME failed, using \"C\" \n",
      "4: Setting LC_MESSAGES failed, using \"C\" \n",
      "5: Setting LC_MONETARY failed, using \"C\" \n",
      "6: Setting LC_PAPER failed, using \"C\" \n",
      "7: Setting LC_MEASUREMENT failed, using \"C\" \n"
     ]
    },
    {
     "name": "stdout",
     "output_type": "stream",
     "text": [
      "[1] 2\n",
      "[1] \"Number of trees:  1000  - Stability  92.22  %.\"\n",
      "[1] \"Number of trees:  2000  - Stability  94.33  %.\"\n",
      "[1] \"Number of trees:  3000  - Stability  94.92  %.\"\n",
      "[1] \"Number of trees:  4000  - Stability  95.67  %.\"\n"
     ]
    },
    {
     "name": "stderr",
     "output_type": "stream",
     "text": [
      "\n",
      "100%|███████████████████████████████████████████████████████████████████████████████████████████████| 10/10 [00:00<00:00, 169.50it/s]\u001b[A\n"
     ]
    },
    {
     "name": "stdout",
     "output_type": "stream",
     "text": [
      "9 ('X5 >= 1', 0.12860537621295592, 4974) 0.025\n"
     ]
    },
    {
     "name": "stderr",
     "output_type": "stream",
     "text": [
      "\n",
      "100%|█████████████████████████████████████████████████████████████████████████████████████████████████| 8/8 [00:00<00:00, 192.14it/s]\u001b[A\n"
     ]
    },
    {
     "name": "stdout",
     "output_type": "stream",
     "text": [
      "Running Clustering\n"
     ]
    },
    {
     "name": "stderr",
     "output_type": "stream",
     "text": [
      "During startup - Warning messages:\n",
      "1: Setting LC_CTYPE failed, using \"C\" \n",
      "2: Setting LC_COLLATE failed, using \"C\" \n",
      "3: Setting LC_TIME failed, using \"C\" \n",
      "4: Setting LC_MESSAGES failed, using \"C\" \n",
      "5: Setting LC_MONETARY failed, using \"C\" \n",
      "6: Setting LC_PAPER failed, using \"C\" \n",
      "7: Setting LC_MEASUREMENT failed, using \"C\" \n"
     ]
    },
    {
     "name": "stdout",
     "output_type": "stream",
     "text": [
      "[1] 2\n",
      "[1] \"Number of trees:  1000  - Stability  89.52  %.\"\n",
      "[1] \"Number of trees:  2000  - Stability  92.11  %.\"\n",
      "[1] \"Number of trees:  3000  - Stability  93.69  %.\"\n",
      "[1] \"Number of trees:  4000  - Stability  94.27  %.\"\n",
      "[1] \"Number of trees:  5000  - Stability  94.8  %.\"\n",
      "[1] \"Number of trees:  6000  - Stability  95.12  %.\"\n"
     ]
    },
    {
     "name": "stderr",
     "output_type": "stream",
     "text": [
      "\n",
      "100%|███████████████████████████████████████████████████████████████████████████████████████████████| 10/10 [00:00<00:00, 161.56it/s]\u001b[A\n"
     ]
    },
    {
     "name": "stdout",
     "output_type": "stream",
     "text": [
      "6 ('X5 >= 1', 0.12860537621295592, 4974) 0.01\n"
     ]
    },
    {
     "name": "stderr",
     "output_type": "stream",
     "text": [
      "\n",
      "100%|█████████████████████████████████████████████████████████████████████████████████████████████████| 5/5 [00:00<00:00, 183.58it/s]\u001b[A\n",
      "\n",
      "  0%|                                                                                                        | 0/210 [00:00<?, ?it/s]\u001b[A\n",
      " 10%|████████▉                                                                                     | 20/210 [00:00<00:00, 195.84it/s]\u001b[A\n",
      " 19%|█████████████████▉                                                                            | 40/210 [00:00<00:00, 187.15it/s]\u001b[A\n",
      " 28%|██████████████████████████▍                                                                   | 59/210 [00:00<00:00, 186.02it/s]\u001b[A\n",
      " 37%|██████████████████████████████████▉                                                           | 78/210 [00:00<00:00, 183.90it/s]\u001b[A\n",
      " 46%|███████████████████████████████████████████▍                                                  | 97/210 [00:00<00:00, 182.62it/s]\u001b[A\n",
      " 55%|███████████████████████████████████████████████████▎                                         | 116/210 [00:00<00:00, 182.24it/s]\u001b[A\n",
      " 64%|███████████████████████████████████████████████████████████▊                                 | 135/210 [00:00<00:00, 181.11it/s]\u001b[A\n",
      " 73%|████████████████████████████████████████████████████████████████████▏                        | 154/210 [00:00<00:00, 176.40it/s]\u001b[A\n",
      " 82%|████████████████████████████████████████████████████████████████████████████▏                | 172/210 [00:00<00:00, 174.13it/s]\u001b[A\n",
      " 90%|████████████████████████████████████████████████████████████████████████████████████▏        | 190/210 [00:01<00:00, 172.36it/s]\u001b[A\n",
      "100%|█████████████████████████████████████████████████████████████████████████████████████████████| 210/210 [00:01<00:00, 177.09it/s]\u001b[A\n"
     ]
    },
    {
     "name": "stdout",
     "output_type": "stream",
     "text": [
      "53 ('(X6 == 1)', 0.010326157509142462, 4934) 0.00031645569620253165\n"
     ]
    },
    {
     "name": "stderr",
     "output_type": "stream",
     "text": [
      "\n",
      "  0%|                                                                                                         | 0/52 [00:00<?, ?it/s]\u001b[A\n",
      " 38%|████████████████████████████████████▌                                                          | 20/52 [00:00<00:00, 193.37it/s]\u001b[A\n",
      "100%|███████████████████████████████████████████████████████████████████████████████████████████████| 52/52 [00:00<00:00, 187.77it/s]\u001b[A\n",
      " 96%|████████████████████████████████████████████████████████████████████████████████████████████▏   | 48/50 [20:11<00:50, 25.10s/it]"
     ]
    },
    {
     "name": "stdout",
     "output_type": "stream",
     "text": [
      "1.0 0.339710375979806\n",
      "1.0 0.339710375979806\n",
      "1.0 0.339710375979806\n",
      "[ 0.84430434  0.82646393  0.66350203 -0.67651789]\n",
      "Subgroup size is 25.0%\n",
      "Avg Brier Score on Dataset = 0.213\n",
      "Brier Score in Subgroup = 0.328\n",
      "Brier Score out of Subgroup = 0.175\n",
      "done fitting worst-case\n",
      "17 0.9000000000000001 0.8033380245787675\n",
      "AFISP\n"
     ]
    },
    {
     "name": "stderr",
     "output_type": "stream",
     "text": [
      "During startup - Warning messages:\n",
      "1: Setting LC_CTYPE failed, using \"C\" \n",
      "2: Setting LC_COLLATE failed, using \"C\" \n",
      "3: Setting LC_TIME failed, using \"C\" \n",
      "4: Setting LC_MESSAGES failed, using \"C\" \n",
      "5: Setting LC_MONETARY failed, using \"C\" \n",
      "6: Setting LC_PAPER failed, using \"C\" \n",
      "7: Setting LC_MEASUREMENT failed, using \"C\" \n"
     ]
    },
    {
     "name": "stdout",
     "output_type": "stream",
     "text": [
      "[1] 2\n",
      "[1] \"Number of trees:  1000  - Stability  90.04  %.\"\n",
      "[1] \"Number of trees:  2000  - Stability  91.91  %.\"\n",
      "[1] \"Number of trees:  3000  - Stability  93.04  %.\"\n",
      "[1] \"Number of trees:  4000  - Stability  94.23  %.\"\n",
      "[1] \"Number of trees:  5000  - Stability  94.66  %.\"\n",
      "[1] \"Number of trees:  6000  - Stability  94.87  %.\"\n",
      "[1] \"Number of trees:  7000  - Stability  95.37  %.\"\n"
     ]
    },
    {
     "name": "stderr",
     "output_type": "stream",
     "text": [
      "\n",
      "100%|█████████████████████████████████████████████████████████████████████████████████████████████████| 9/9 [00:00<00:00, 169.26it/s]\u001b[A\n"
     ]
    },
    {
     "name": "stdout",
     "output_type": "stream",
     "text": [
      "4 ('X4 < 1', 0.24991655428959347, 4978) 0.008333333333333333\n"
     ]
    },
    {
     "name": "stderr",
     "output_type": "stream",
     "text": [
      "\n",
      "100%|█████████████████████████████████████████████████████████████████████████████████████████████████| 3/3 [00:00<00:00, 231.55it/s]\u001b[A\n"
     ]
    },
    {
     "name": "stdout",
     "output_type": "stream",
     "text": [
      "Running Clustering\n"
     ]
    },
    {
     "name": "stderr",
     "output_type": "stream",
     "text": [
      "During startup - Warning messages:\n",
      "1: Setting LC_CTYPE failed, using \"C\" \n",
      "2: Setting LC_COLLATE failed, using \"C\" \n",
      "3: Setting LC_TIME failed, using \"C\" \n",
      "4: Setting LC_MESSAGES failed, using \"C\" \n",
      "5: Setting LC_MONETARY failed, using \"C\" \n",
      "6: Setting LC_PAPER failed, using \"C\" \n",
      "7: Setting LC_MEASUREMENT failed, using \"C\" \n"
     ]
    },
    {
     "name": "stdout",
     "output_type": "stream",
     "text": [
      "[1] 2\n",
      "[1] \"Number of trees:  1000  - Stability  90.38  %.\"\n",
      "[1] \"Number of trees:  2000  - Stability  92.96  %.\"\n",
      "[1] \"Number of trees:  3000  - Stability  93.46  %.\"\n",
      "[1] \"Number of trees:  4000  - Stability  93.83  %.\"\n",
      "[1] \"Number of trees:  5000  - Stability  94.48  %.\"\n",
      "[1] \"Number of trees:  6000  - Stability  94.66  %.\"\n",
      "[1] \"Number of trees:  7000  - Stability  94.97  %.\"\n",
      "[1] \"Number of trees:  8000  - Stability  95.37  %.\"\n"
     ]
    },
    {
     "name": "stderr",
     "output_type": "stream",
     "text": [
      "\n",
      "100%|███████████████████████████████████████████████████████████████████████████████████████████████| 10/10 [00:00<00:00, 166.56it/s]\u001b[A\n"
     ]
    },
    {
     "name": "stdout",
     "output_type": "stream",
     "text": [
      "5 ('X6 < 1 & X8 >= 1', 0.4212142560055786, 2463) 0.008333333333333333\n"
     ]
    },
    {
     "name": "stderr",
     "output_type": "stream",
     "text": [
      "\n",
      "100%|█████████████████████████████████████████████████████████████████████████████████████████████████| 4/4 [00:00<00:00, 178.44it/s]\u001b[A\n",
      "\n",
      "  0%|                                                                                                        | 0/210 [00:00<?, ?it/s]\u001b[A\n",
      " 11%|██████████▋                                                                                   | 24/210 [00:00<00:00, 237.29it/s]\u001b[A\n",
      " 23%|█████████████████████▍                                                                        | 48/210 [00:00<00:00, 210.63it/s]\u001b[A\n",
      " 33%|███████████████████████████████▎                                                              | 70/210 [00:00<00:00, 199.50it/s]\u001b[A\n",
      " 43%|████████████████████████████████████████▋                                                     | 91/210 [00:00<00:00, 195.38it/s]\u001b[A\n",
      " 53%|█████████████████████████████████████████████████▏                                           | 111/210 [00:00<00:00, 191.62it/s]\u001b[A\n",
      " 62%|██████████████████████████████████████████████████████████                                   | 131/210 [00:00<00:00, 186.74it/s]\u001b[A\n",
      " 71%|██████████████████████████████████████████████████████████████████▍                          | 150/210 [00:00<00:00, 186.70it/s]\u001b[A\n",
      " 80%|██████████████████████████████████████████████████████████████████████████▊                  | 169/210 [00:00<00:00, 186.60it/s]\u001b[A\n",
      " 90%|███████████████████████████████████████████████████████████████████████████████████▎         | 188/210 [00:00<00:00, 186.08it/s]\u001b[A\n",
      "100%|█████████████████████████████████████████████████████████████████████████████████████████████| 210/210 [00:01<00:00, 191.01it/s]\u001b[A\n"
     ]
    },
    {
     "name": "stdout",
     "output_type": "stream",
     "text": [
      "43 ('(X8 == 1) and (X9 == 1)', 0.002212928530457837, 2494) 0.00029761904761904765\n"
     ]
    },
    {
     "name": "stderr",
     "output_type": "stream",
     "text": [
      "\n",
      "  0%|                                                                                                         | 0/42 [00:00<?, ?it/s]\u001b[A\n",
      "100%|███████████████████████████████████████████████████████████████████████████████████████████████| 42/42 [00:00<00:00, 231.54it/s]\u001b[A\n",
      " 98%|██████████████████████████████████████████████████████████████████████████████████████████████  | 49/50 [20:35<00:24, 24.97s/it]"
     ]
    },
    {
     "name": "stdout",
     "output_type": "stream",
     "text": [
      "0 0\n",
      "1.0 1.0\n",
      "0 0\n",
      "[-0.84999239]\n",
      "Subgroup size is 25.0%\n",
      "Avg Brier Score on Dataset = 0.231\n",
      "Brier Score in Subgroup = 0.292\n",
      "Brier Score out of Subgroup = 0.211\n",
      "done fitting worst-case\n",
      "4 0.25 0.4300779173954859\n",
      "AFISP\n"
     ]
    },
    {
     "name": "stderr",
     "output_type": "stream",
     "text": [
      "During startup - Warning messages:\n",
      "1: Setting LC_CTYPE failed, using \"C\" \n",
      "2: Setting LC_COLLATE failed, using \"C\" \n",
      "3: Setting LC_TIME failed, using \"C\" \n",
      "4: Setting LC_MESSAGES failed, using \"C\" \n",
      "5: Setting LC_MONETARY failed, using \"C\" \n",
      "6: Setting LC_PAPER failed, using \"C\" \n",
      "7: Setting LC_MEASUREMENT failed, using \"C\" \n"
     ]
    },
    {
     "name": "stdout",
     "output_type": "stream",
     "text": [
      "[1] 2\n",
      "[1] \"Number of trees:  1000  - Stability  90.58  %.\"\n",
      "[1] \"Number of trees:  2000  - Stability  92.57  %.\"\n",
      "[1] \"Number of trees:  3000  - Stability  93.56  %.\"\n",
      "[1] \"Number of trees:  4000  - Stability  94.41  %.\"\n",
      "[1] \"Number of trees:  5000  - Stability  95.24  %.\"\n"
     ]
    },
    {
     "name": "stderr",
     "output_type": "stream",
     "text": [
      "\n",
      "100%|█████████████████████████████████████████████████████████████████████████████████████████████████| 9/9 [00:00<00:00, 158.10it/s]\u001b[A\n"
     ]
    },
    {
     "name": "stdout",
     "output_type": "stream",
     "text": [
      "6 ('X4 < 1', 0.045599090085054646, 5014) 0.0125\n"
     ]
    },
    {
     "name": "stderr",
     "output_type": "stream",
     "text": [
      "\n",
      "100%|█████████████████████████████████████████████████████████████████████████████████████████████████| 5/5 [00:00<00:00, 165.42it/s]\u001b[A\n"
     ]
    },
    {
     "name": "stdout",
     "output_type": "stream",
     "text": [
      "Running Clustering\n"
     ]
    },
    {
     "name": "stderr",
     "output_type": "stream",
     "text": [
      "During startup - Warning messages:\n",
      "1: Setting LC_CTYPE failed, using \"C\" \n",
      "2: Setting LC_COLLATE failed, using \"C\" \n",
      "3: Setting LC_TIME failed, using \"C\" \n",
      "4: Setting LC_MESSAGES failed, using \"C\" \n",
      "5: Setting LC_MONETARY failed, using \"C\" \n",
      "6: Setting LC_PAPER failed, using \"C\" \n",
      "7: Setting LC_MEASUREMENT failed, using \"C\" \n"
     ]
    },
    {
     "name": "stdout",
     "output_type": "stream",
     "text": [
      "[1] 2\n",
      "[1] \"Number of trees:  1000  - Stability  92.54  %.\"\n",
      "[1] \"Number of trees:  2000  - Stability  93.42  %.\"\n",
      "[1] \"Number of trees:  3000  - Stability  95.3  %.\"\n"
     ]
    },
    {
     "name": "stderr",
     "output_type": "stream",
     "text": [
      "\n",
      "100%|█████████████████████████████████████████████████████████████████████████████████████████████████| 9/9 [00:00<00:00, 158.22it/s]\u001b[A\n"
     ]
    },
    {
     "name": "stdout",
     "output_type": "stream",
     "text": [
      "2 ('X9 < 1', 0.10524488254898157, 4963) 0.00625\n"
     ]
    },
    {
     "name": "stderr",
     "output_type": "stream",
     "text": [
      "\n",
      "100%|█████████████████████████████████████████████████████████████████████████████████████████████████| 1/1 [00:00<00:00, 138.53it/s]\u001b[A\n",
      "\n",
      "  0%|                                                                                                        | 0/210 [00:00<?, ?it/s]\u001b[A\n",
      " 10%|████████▉                                                                                     | 20/210 [00:00<00:00, 193.79it/s]\u001b[A\n",
      " 19%|█████████████████▉                                                                            | 40/210 [00:00<00:00, 179.18it/s]\u001b[A\n",
      " 28%|█████████████████████████▉                                                                    | 58/210 [00:00<00:00, 175.48it/s]\u001b[A\n",
      " 36%|██████████████████████████████████                                                            | 76/210 [00:00<00:00, 171.92it/s]\u001b[A\n",
      " 45%|██████████████████████████████████████████                                                    | 94/210 [00:00<00:00, 170.75it/s]\u001b[A\n",
      " 53%|█████████████████████████████████████████████████▌                                           | 112/210 [00:00<00:00, 171.29it/s]\u001b[A\n",
      " 62%|█████████████████████████████████████████████████████████▌                                   | 130/210 [00:00<00:00, 169.05it/s]\u001b[A\n",
      " 70%|█████████████████████████████████████████████████████████████████▌                           | 148/210 [00:00<00:00, 169.57it/s]\u001b[A\n",
      " 79%|█████████████████████████████████████████████████████████████████████████                    | 165/210 [00:00<00:00, 169.59it/s]\u001b[A\n",
      " 87%|████████████████████████████████████████████████████████████████████████████████▌            | 182/210 [00:01<00:00, 167.73it/s]\u001b[A\n",
      "100%|█████████████████████████████████████████████████████████████████████████████████████████████| 210/210 [00:01<00:00, 170.10it/s]\u001b[A\n"
     ]
    },
    {
     "name": "stdout",
     "output_type": "stream",
     "text": [
      "37 ('(X4 == -1) and (X9 == -1)', 0.019874806857332814, 2488) 0.00028735632183908046\n"
     ]
    },
    {
     "name": "stderr",
     "output_type": "stream",
     "text": [
      "\n",
      "  0%|                                                                                                         | 0/36 [00:00<?, ?it/s]\u001b[A\n",
      "100%|███████████████████████████████████████████████████████████████████████████████████████████████| 36/36 [00:00<00:00, 188.26it/s]\u001b[A\n",
      "100%|████████████████████████████████████████████████████████████████████████████████████████████████| 50/50 [20:59<00:00, 25.19s/it]"
     ]
    },
    {
     "name": "stdout",
     "output_type": "stream",
     "text": [
      "1.0 1.0\n",
      "1.0 1.0\n",
      "0 0\n"
     ]
    },
    {
     "name": "stderr",
     "output_type": "stream",
     "text": [
      "\n"
     ]
    }
   ],
   "source": [
    "num_iters = 50\n",
    "\n",
    "recalls = []\n",
    "precisions = []\n",
    "top_recalls = []\n",
    "top_precisions = []\n",
    "methods = []\n",
    "iters = []\n",
    "\n",
    "for i in tqdm(range(num_iters)):\n",
    "    a_res, s_res, c_res, a_res_top, s_res_top, c_res_top = well_specified(False)\n",
    "    recalls += [a_res[0], s_res[0], c_res[0]]\n",
    "    precisions += [a_res[1], s_res[1], c_res[1]]\n",
    "    top_recalls += [a_res_top[0], s_res_top[0], c_res_top[0]]\n",
    "    top_precisions += [a_res_top[1], s_res_top[1], c_res_top[1]]\n",
    "    methods += ['AFISP', 'SliceFinder', 'Clustering']\n",
    "    iters += [i, i, i]"
   ]
  },
  {
   "cell_type": "code",
   "execution_count": 11,
   "metadata": {},
   "outputs": [],
   "source": [
    "wellspec_df = pd.DataFrame({\n",
    "    \"Recall\": recalls,\n",
    "    \"Precision\": precisions,\n",
    "    \"Method\" : methods,\n",
    "    \"Iteration\": iters,\n",
    "    })\n",
    "\n",
    "wellspec_df_top = pd.DataFrame({\n",
    "    \"Recall\": top_recalls,\n",
    "    \"Precision\": top_precisions,\n",
    "    \"Method\" : methods,\n",
    "    \"Iteration\": iters,\n",
    "    })"
   ]
  },
  {
   "cell_type": "code",
   "execution_count": 67,
   "metadata": {},
   "outputs": [
    {
     "data": {
      "text/plain": [
       "0.98"
      ]
     },
     "execution_count": 67,
     "metadata": {},
     "output_type": "execute_result"
    }
   ],
   "source": [
    "(wellspec_df.query('Method == \"SliceFinder\"').Recall > 0).mean()"
   ]
  },
  {
   "cell_type": "code",
   "execution_count": 68,
   "metadata": {},
   "outputs": [
    {
     "data": {
      "text/html": [
       "<div>\n",
       "<style scoped>\n",
       "    .dataframe tbody tr th:only-of-type {\n",
       "        vertical-align: middle;\n",
       "    }\n",
       "\n",
       "    .dataframe tbody tr th {\n",
       "        vertical-align: top;\n",
       "    }\n",
       "\n",
       "    .dataframe thead th {\n",
       "        text-align: right;\n",
       "    }\n",
       "</style>\n",
       "<table border=\"1\" class=\"dataframe\">\n",
       "  <thead>\n",
       "    <tr style=\"text-align: right;\">\n",
       "      <th>Method</th>\n",
       "      <th>AFISP</th>\n",
       "      <th>Clustering</th>\n",
       "      <th>SliceFinder</th>\n",
       "    </tr>\n",
       "  </thead>\n",
       "  <tbody>\n",
       "    <tr>\n",
       "      <th>Accuracy</th>\n",
       "      <td>0.86</td>\n",
       "      <td>0.48</td>\n",
       "      <td>0.98</td>\n",
       "    </tr>\n",
       "  </tbody>\n",
       "</table>\n",
       "</div>"
      ],
      "text/plain": [
       "Method    AFISP  Clustering  SliceFinder\n",
       "Accuracy   0.86        0.48         0.98"
      ]
     },
     "execution_count": 68,
     "metadata": {},
     "output_type": "execute_result"
    }
   ],
   "source": [
    "deg2_df = wellspec_df.copy()\n",
    "# count how many times method found the right rule amongst any of the rules it extracted.\n",
    "deg2_df['Accuracy'] = deg2_df.eval(\"Recall > 0\")\n",
    "deg2_df[[\"Method\", \"Accuracy\"]].groupby(\"Method\").mean().transpose()"
   ]
  },
  {
   "cell_type": "code",
   "execution_count": 71,
   "metadata": {},
   "outputs": [],
   "source": [
    "# wilson score interval\n",
    "ns = deg2_df[[\"Method\", \"Accuracy\"]].groupby(\"Method\").sum().reset_index().query('Method != \"Clustering\"').Accuracy\n",
    "n = 50\n",
    "z = 1.96\n",
    "p = (ns + 0.5*z**2)/(n + z**2)\n",
    "err = (z / (n+z**2))*np.sqrt(ns * (n-ns)/n + z**2/4)"
   ]
  },
  {
   "cell_type": "code",
   "execution_count": 72,
   "metadata": {},
   "outputs": [
    {
     "data": {
      "text/plain": [
       "(0    0.834314\n",
       " 2    0.945752\n",
       " Name: Accuracy, dtype: float64,\n",
       " 0    0.930493\n",
       " 2    0.996461\n",
       " Name: Accuracy, dtype: float64,\n",
       " 0    0.738135\n",
       " 2    0.895043\n",
       " Name: Accuracy, dtype: float64)"
      ]
     },
     "execution_count": 72,
     "metadata": {},
     "output_type": "execute_result"
    }
   ],
   "source": [
    "p, p + err, p - err"
   ]
  },
  {
   "cell_type": "code",
   "execution_count": 84,
   "metadata": {},
   "outputs": [
    {
     "data": {
      "image/png": "[encoded data removed]",
      "text/plain": [
       "<Figure size 330x250 with 1 Axes>"
      ]
     },
     "metadata": {
      "image/png": {
       "height": 216,
       "width": 301
      }
     },
     "output_type": "display_data"
    }
   ],
   "source": [
    "\n",
    "bar_df = deg2_df[[\"Method\", \"Accuracy\"]].groupby(\"Method\").mean().reset_index()\n",
    "bar_df = bar_df.query('Method != \"Clustering\"')\n",
    "erb = 1.96 * np.sqrt(bar_df.Accuracy * (1-bar_df.Accuracy)/50)\n",
    "plt.bar(bar_df.Method, p, yerr=err, capsize=2, alpha=0.75)\n",
    "plt.ylabel('Accuracy')\n",
    "plt.savefig(\"fig/simulation_accuracy.pdf\", dpi=360)"
   ]
  }
 ],
 "metadata": {
  "kernelspec": {
   "display_name": "Python 3 (ipykernel)",
   "language": "python",
   "name": "python3"
  },
  "language_info": {
   "codemirror_mode": {
    "name": "ipython",
    "version": 3
   },
   "file_extension": ".py",
   "mimetype": "text/x-python",
   "name": "python",
   "nbconvert_exporter": "python",
   "pygments_lexer": "ipython3",
   "version": "3.10.12"
  }
 },
 "nbformat": 4,
 "nbformat_minor": 4
}
