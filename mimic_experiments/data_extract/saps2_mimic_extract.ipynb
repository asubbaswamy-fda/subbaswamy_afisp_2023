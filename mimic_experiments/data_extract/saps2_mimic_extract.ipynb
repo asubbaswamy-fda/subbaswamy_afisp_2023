{
 "cells": [
  {
   "cell_type": "code",
   "execution_count": 305,
   "metadata": {},
   "outputs": [
    {
     "name": "stdout",
     "output_type": "stream",
     "text": [
      "The autoreload extension is already loaded. To reload it, use:\n",
      "  %reload_ext autoreload\n"
     ]
    }
   ],
   "source": [
    "%load_ext autoreload\n",
    "%autoreload 2\n",
    "import copy, math, os, pickle, time, pandas as pd, numpy as np, scipy.stats as ss\n",
    "from tqdm import tqdm\n",
    "import functools\n",
    "\n",
    "from sklearn.linear_model import LogisticRegression\n",
    "from sklearn.ensemble import RandomForestClassifier\n",
    "from sklearn.metrics import average_precision_score, roc_auc_score, accuracy_score, f1_score\n",
    "\n",
    "import torch, torch.utils.data as utils, torch.nn as nn, torch.nn.functional as F, torch.optim as optim\n",
    "from torch.autograd import Variable\n",
    "from torch.nn.parameter import Parameter"
   ]
  },
  {
   "cell_type": "code",
   "execution_count": null,
   "metadata": {},
   "outputs": [],
   "source": []
  },
  {
   "cell_type": "code",
   "execution_count": 5,
   "metadata": {},
   "outputs": [],
   "source": [
    "DATA_FILEPATH = '/data/adarsh/mimic_iii_extraction/all_hourly_data.h5'"
   ]
  },
  {
   "cell_type": "code",
   "execution_count": 8,
   "metadata": {},
   "outputs": [],
   "source": [
    "# All flattened version\n",
    "vitals  = pd.read_hdf(DATA_FILEPATH, 'vitals_labs')\n",
    "# flatten multi index\n",
    "vitals.columns = [' '.join(col).strip() for col in vitals.columns.values]\n",
    "vitals = vitals.reset_index()\n",
    "statics = pd.read_hdf(DATA_FILEPATH, 'patients').reset_index()\n",
    "icd_codes = pd.read_hdf(DATA_FILEPATH, 'codes').reset_index()\n",
    "treatments = pd.read_hdf(DATA_FILEPATH, 'interventions').reset_index()"
   ]
  },
  {
   "cell_type": "code",
   "execution_count": 139,
   "metadata": {
    "tags": []
   },
   "outputs": [],
   "source": [
    "# unflattened version\n",
    "vitals  = pd.read_hdf(DATA_FILEPATH, 'vitals_labs').reset_index(['hadm_id','icustay_id'])\n",
    "statics = pd.read_hdf(DATA_FILEPATH, 'patients').reset_index(['hadm_id','icustay_id'])\n",
    "icd_codes = pd.read_hdf(DATA_FILEPATH, 'codes').reset_index(['hadm_id','icustay_id'])\n",
    "treatments = pd.read_hdf(DATA_FILEPATH, 'interventions').reset_index(['hadm_id','icustay_id'])"
   ]
  },
  {
   "cell_type": "code",
   "execution_count": null,
   "metadata": {
    "tags": []
   },
   "outputs": [],
   "source": []
  },
  {
   "cell_type": "code",
   "execution_count": 202,
   "metadata": {
    "tags": []
   },
   "outputs": [],
   "source": [
    "saps_vital_features = ['heart rate',\n",
    "                       'systolic blood pressure',\n",
    "                       'temperature',\n",
    "                       'blood urea nitrogen',\n",
    "                       'white blood cell count',\n",
    "                       'potassium',\n",
    "                       'sodium',\n",
    "                       'bicarbonate',\n",
    "                       'bilirubin',\n",
    "                       'glascow coma scale total',\n",
    "                       'partial pressure of oxygen',\n",
    "                       'fraction inspired oxygen'\n",
    "                      ]\n",
    "saps_static_features = ['age', 'admission_type']\n",
    "\n",
    "aids_icd = ['042', '043', '044']\n",
    "\n",
    "\n",
    "\n",
    "metastatic_cancer_icd = [str(x) \n",
    "                         for x in list(range(19600, 19920)) + \n",
    "                         list(range(20970, 20976)) +\n",
    "                         ['20979', '78951']\n",
    "                        ] \n",
    "\n",
    "hematologic_malignancy_icd = [str(x) \n",
    "                              for x in \n",
    "                              list(range(20000, 20239)) + \n",
    "                              list(range(20240, 20249)) +\n",
    "                              list(range(20250, 20303)) + \n",
    "                              list(range(20310, 20313)) +\n",
    "                              list(range(20302, 20383)) +\n",
    "                              list(range(20400, 20523)) + \n",
    "                              list(range(20580, 20703)) +\n",
    "                              list(range(20720, 20893)) +\n",
    "                              list(range(23860, 23870)) +\n",
    "                              list(range(27330, 27340))\n",
    "                             ]\n",
    "\n"
   ]
  },
  {
   "cell_type": "code",
   "execution_count": 228,
   "metadata": {
    "tags": []
   },
   "outputs": [],
   "source": [
    "subject_ids = np.array(sorted(statics.index.unique().values))"
   ]
  },
  {
   "cell_type": "code",
   "execution_count": 338,
   "metadata": {
    "tags": []
   },
   "outputs": [],
   "source": [
    "# taken from https://github.com/MIT-LCP/mimic-code/blob/52d7df53348a6e25dfbe795c0e28c389efc40be9/mimic-iii/concepts/severityscores/sapsii.sql\n",
    "def check_icd_AIDS(code_list):\n",
    "    def AIDS_check(code):\n",
    "        substr = code[0:3]\n",
    "        return (substr <= '044') and (substr >= '042')\n",
    "    check_list = [AIDS_check(code) for code in code_list]\n",
    "    return(np.any(check_list))"
   ]
  },
  {
   "cell_type": "code",
   "execution_count": 339,
   "metadata": {
    "tags": []
   },
   "outputs": [],
   "source": [
    "# taken from https://github.com/MIT-LCP/mimic-code/blob/52d7df53348a6e25dfbe795c0e28c389efc40be9/mimic-iii/concepts/severityscores/sapsii.sql\n",
    "def check_icd_metastatic_cancer(code_list):\n",
    "    def cancer_check(code):\n",
    "        substr = code[0:4]\n",
    "        check1 = (substr <= '1991') and (substr >= '1960')\n",
    "        check2 = (code <= '20975') and (code >= '20970')\n",
    "        check3 = (code == '20979') or (code == '78951')\n",
    "        return(check1 or check2 or check3)\n",
    "    \n",
    "    check_list = [cancer_check(code) for code in code_list]\n",
    "    return(np.any(check_list))"
   ]
  },
  {
   "cell_type": "code",
   "execution_count": 344,
   "metadata": {
    "tags": []
   },
   "outputs": [],
   "source": [
    "# taken from https://github.com/MIT-LCP/mimic-code/blob/52d7df53348a6e25dfbe795c0e28c389efc40be9/mimic-iii/concepts/severityscores/sapsii.sql\n",
    "def check_icd_hem_malignancy(code_list):\n",
    "    def malig_check(code):\n",
    "        substr = code[0:4]\n",
    "        check1 = substr in ['2386', '2733']\n",
    "        check2 = '20000' <= code <= '20238'\n",
    "        check3 = '20240' <= code <= '20248'\n",
    "        check4 = '20250' <= code <= '20302'\n",
    "        check5 = '20310' <= code <= '20312'\n",
    "        check6 = '20302' <= code <= '20382'\n",
    "        check7 = '20400' <= code <= '20522'\n",
    "        check8 = '20580' <= code <= '20702'\n",
    "        check9 = '20720' <= code <= '20892'\n",
    "        \n",
    "        return(np.any([check1, check2, check3, check4, check5, check6, check7, check8, check9]))\n",
    "        \n",
    "    check_list = [malig_check(code) for code in code_list]\n",
    "    return(np.any(check_list))"
   ]
  },
  {
   "cell_type": "code",
   "execution_count": 357,
   "metadata": {
    "tags": []
   },
   "outputs": [],
   "source": [
    "# This is slow\n",
    "\n",
    "def extract_chronic_conditions(subject_ids):\n",
    "    aids_list = []\n",
    "    cancer_list = []\n",
    "    malignancy_list = []\n",
    "\n",
    "    for i, sid in enumerate(tqdm(subject_ids)):\n",
    "        by_hour_codes = icd_codes.loc[sid].query('hours_in < 24')['icd9_codes'].values\n",
    "        pt_collected_codes = list(functools.reduce(lambda a, b: set(a) | set(b), by_hour_codes))\n",
    "\n",
    "        aids_list.append(1 * check_icd_AIDS(pt_collected_codes))\n",
    "        cancer_list.append(1 * check_icd_metastatic_cancer(pt_collected_codes))\n",
    "        malignancy_list.append(1 * check_icd_hem_malignancy(pt_collected_codes))\n",
    "    \n",
    "    icd_data = np.vstack([aids_list, cancer_list, malignancy_list]).T\n",
    "    icd_df = pd.DataFrame(data=icd_data, \n",
    "                          index=subject_ids,\n",
    "                          columns=['AIDS', 'metastatic cancer', 'hematologic malignancy']\n",
    "                         )\n",
    "    icd_df.index.name = 'subject_id'\n",
    "    return(icd_df)"
   ]
  },
  {
   "cell_type": "code",
   "execution_count": 358,
   "metadata": {
    "tags": []
   },
   "outputs": [
    {
     "name": "stderr",
     "output_type": "stream",
     "text": [
      "100%|██████████| 34386/34386 [05:09<00:00, 111.08it/s]"
     ]
    },
    {
     "name": "stdout",
     "output_type": "stream",
     "text": [
      "(34386, 3)\n"
     ]
    },
    {
     "name": "stderr",
     "output_type": "stream",
     "text": [
      "\n"
     ]
    }
   ],
   "source": [
    "extracted_chronic_df = extract_chronic_conditions(subject_ids)"
   ]
  },
  {
   "cell_type": "code",
   "execution_count": 409,
   "metadata": {
    "tags": []
   },
   "outputs": [],
   "source": [
    "def extract_vitals(subject_ids):\n",
    "    # get extreme values of the first 24 hours of data\n",
    "    column_names = []\n",
    "    columns = []\n",
    "    \n",
    "    for i, vital_feature in enumerate(tqdm(saps_vital_features)):\n",
    "        vital_feature_df = (vitals.\n",
    "                            loc[subject_ids].\n",
    "                            query('hours_in < 24')\n",
    "                            [vital_feature]\n",
    "                            ['mean']\n",
    "                            .groupby('subject_id')\n",
    "                           )\n",
    "        min_values = vital_feature_df.min().values\n",
    "        max_values = vital_feature_df.max().values\n",
    "        \n",
    "        columns.append([min_values, max_values])\n",
    "        column_names += [vital_feature + \" min\", vital_feature + \" max\"]\n",
    "\n",
    "    columns = np.vstack(columns).T\n",
    "    vitals_df = pd.DataFrame(data=columns, columns=column_names, index=subject_ids)\n",
    "    vitals_df.index.name = 'subject_id'\n",
    "    \n",
    "    return(vitals_df)"
   ]
  },
  {
   "cell_type": "code",
   "execution_count": 410,
   "metadata": {
    "tags": []
   },
   "outputs": [
    {
     "name": "stderr",
     "output_type": "stream",
     "text": [
      "100%|██████████| 12/12 [00:45<00:00,  3.77s/it]\n"
     ]
    }
   ],
   "source": [
    "extracted_vitals_df = extract_vitals(subject_ids)"
   ]
  },
  {
   "cell_type": "code",
   "execution_count": 277,
   "metadata": {
    "tags": []
   },
   "outputs": [],
   "source": [
    "extracted_statics_df = pd.get_dummies(statics.loc[subject_ids][saps_static_features])"
   ]
  },
  {
   "cell_type": "code",
   "execution_count": 372,
   "metadata": {},
   "outputs": [],
   "source": [
    "# training model to predict hospital mortality\n",
    "outcome_df = statics.loc[subject_ids][['mort_hosp']]"
   ]
  },
  {
   "cell_type": "code",
   "execution_count": 487,
   "metadata": {},
   "outputs": [],
   "source": [
    "# very simple imputation strategy for vitals\n",
    "missing_value = -9999\n",
    "imputed_vitals_df = extracted_vitals_df.fillna(missing_value)"
   ]
  },
  {
   "cell_type": "code",
   "execution_count": 488,
   "metadata": {},
   "outputs": [],
   "source": [
    "ml_ready_df = outcome_df.join([imputed_vitals_df, extracted_chronic_df, extracted_statics_df])"
   ]
  },
  {
   "cell_type": "code",
   "execution_count": 405,
   "metadata": {
    "tags": []
   },
   "outputs": [],
   "source": [
    "candidate_static_shortcuts = ['ethnicity', 'insurance']"
   ]
  },
  {
   "cell_type": "code",
   "execution_count": 441,
   "metadata": {
    "tags": []
   },
   "outputs": [],
   "source": [
    "candidate_treatment_shortcuts = ['vent', 'vaso', 'adenosine', 'dobutamine',\n",
    "       'dopamine', 'epinephrine', 'isuprel', 'milrinone', 'norepinephrine',\n",
    "       'phenylephrine', 'vasopressin', 'colloid_bolus', 'crystalloid_bolus',\n",
    "       'nivdurations']"
   ]
  },
  {
   "cell_type": "code",
   "execution_count": 442,
   "metadata": {
    "tags": []
   },
   "outputs": [],
   "source": [
    "static_shortcut_df = pd.get_dummies(statics.loc[subject_ids][candidate_static_shortcuts])"
   ]
  },
  {
   "cell_type": "code",
   "execution_count": 446,
   "metadata": {
    "tags": []
   },
   "outputs": [],
   "source": [
    "treatment_shortcut_df = (treatments.\n",
    "                         loc[subject_ids].\n",
    "                         query('hours_in < 24')[candidate_treatment_shortcuts].\n",
    "                         groupby('subject_id').\n",
    "                         sum()\n",
    "                        )"
   ]
  },
  {
   "cell_type": "code",
   "execution_count": 447,
   "metadata": {
    "tags": []
   },
   "outputs": [],
   "source": [
    "treatment_shortcut_df = treatment_shortcut_df.apply(lambda x: (x > 0) * 1, axis=1)"
   ]
  },
  {
   "cell_type": "code",
   "execution_count": 461,
   "metadata": {
    "tags": []
   },
   "outputs": [],
   "source": [
    "missing_df = (extracted_vitals_df.\n",
    "              loc[subject_ids][[x for x in extracted_vitals_df.columns if 'min' in x]].\n",
    "              isnull().\n",
    "              apply(lambda x: x*1)\n",
    "             )\n",
    "missing_df.columns = [\" \".join(x.split()[:-1] + ['missing']) for x in missing_df.columns]"
   ]
  },
  {
   "cell_type": "code",
   "execution_count": 484,
   "metadata": {
    "tags": []
   },
   "outputs": [],
   "source": [
    "candidate_shortcuts_df = static_shortcut_df.join([treatment_shortcut_df, missing_df])"
   ]
  },
  {
   "cell_type": "code",
   "execution_count": 489,
   "metadata": {
    "tags": []
   },
   "outputs": [],
   "source": [
    "candidate_shortcuts_df.to_csv('candidate_shortcuts.csv')"
   ]
  },
  {
   "cell_type": "code",
   "execution_count": 490,
   "metadata": {
    "tags": []
   },
   "outputs": [],
   "source": [
    "ml_ready_df.to_csv('model_dataset.csv')"
   ]
  },
  {
   "cell_type": "code",
   "execution_count": null,
   "metadata": {},
   "outputs": [],
   "source": []
  },
  {
   "cell_type": "code",
   "execution_count": null,
   "metadata": {},
   "outputs": [],
   "source": []
  },
  {
   "cell_type": "code",
   "execution_count": null,
   "metadata": {},
   "outputs": [],
   "source": []
  },
  {
   "cell_type": "code",
   "execution_count": null,
   "metadata": {},
   "outputs": [],
   "source": []
  },
  {
   "cell_type": "code",
   "execution_count": null,
   "metadata": {},
   "outputs": [],
   "source": []
  },
  {
   "cell_type": "code",
   "execution_count": null,
   "metadata": {},
   "outputs": [],
   "source": []
  }
 ],
 "metadata": {
  "kernelspec": {
   "display_name": "Python 3 (ipykernel)",
   "language": "python",
   "name": "python3"
  },
  "language_info": {
   "codemirror_mode": {
    "name": "ipython",
    "version": 3
   },
   "file_extension": ".py",
   "mimetype": "text/x-python",
   "name": "python",
   "nbconvert_exporter": "python",
   "pygments_lexer": "ipython3",
   "version": "3.10.12"
  }
 },
 "nbformat": 4,
 "nbformat_minor": 4
}
