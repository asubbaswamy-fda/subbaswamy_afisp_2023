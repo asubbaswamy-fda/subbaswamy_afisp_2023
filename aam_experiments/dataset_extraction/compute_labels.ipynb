{
 "cells": [
  {
   "cell_type": "code",
   "execution_count": null,
   "metadata": {},
   "outputs": [],
   "source": [
    "import pandas as pd\n",
    "# import modin.pandas as pd\n",
    "import numpy as np\n",
    "import pickle as pkl\n",
    "from os import listdir, walk\n",
    "from os.path import isfile, join\n",
    "from dask.distributed import Client\n",
    "import dask.dataframe as dd\n",
    "\n",
    "import datetime\n",
    "\n",
    "import json\n",
    "import time\n",
    "\n",
    "import matplotlib.pyplot as plt\n",
    "pd.options.mode.chained_assignment = None\n",
    "\n",
    "%matplotlib inline"
   ]
  },
  {
   "cell_type": "code",
   "execution_count": null,
   "metadata": {},
   "outputs": [],
   "source": [
    "care_defs = pd.read_csv(filepath+'/care_unit_defs.csv')\n",
    "# SMH 3A L&D is a maternity unit.\n",
    "care_defs.at[care_defs.loc[care_defs.care_unit == 'SMH 3A L&D'].index[0], 'maternity'] = True"
   ]
  },
  {
   "cell_type": "code",
   "execution_count": null,
   "metadata": {},
   "outputs": [],
   "source": [
    "pat_enc = pd.read_csv(filepath+'/pat_enc.csv')"
   ]
  },
  {
   "cell_type": "code",
   "execution_count": null,
   "metadata": {},
   "outputs": [],
   "source": [
    "df = dd.read_csv('/data/deidentified_trews_deployment_data/cdm/cdm_t.csv')"
   ]
  },
  {
   "cell_type": "code",
   "execution_count": null,
   "metadata": {},
   "outputs": [],
   "source": [
    "cohort = pd.read_csv(\"/data/adarsh/fda_project_data/study_cohort.csv\")"
   ]
  },
  {
   "cell_type": "code",
   "execution_count": null,
   "metadata": {},
   "outputs": [],
   "source": [
    "cohort['admit_time'] = pd.to_datetime(cohort.admit_time)"
   ]
  },
  {
   "cell_type": "code",
   "execution_count": null,
   "metadata": {},
   "outputs": [],
   "source": [
    "cohort_enc_ids = cohort.enc_id.unique()"
   ]
  },
  {
   "cell_type": "code",
   "execution_count": null,
   "metadata": {},
   "outputs": [],
   "source": [
    "# use dask default scheduling\n",
    "start = time.time()\n",
    "\n",
    "# find all rows in cdm_t corresponding to the study cohort\n",
    "cdm_t = df.loc[df.enc_id.isin(cohort_enc_ids)].compute()\n",
    "\n",
    "end = time.time()\n",
    "print((end-start)/60.)"
   ]
  },
  {
   "cell_type": "code",
   "execution_count": null,
   "metadata": {},
   "outputs": [],
   "source": [
    "# Outcome definition\n",
    "# a) transfer to the ICU, where patient stayed in the ICU for >=6 hours or died in the ICU, 1\n",
    "# b) death outside the ICU, 2\n",
    "# c) transfer to the ICU where patient stayed for <6 hours and patient went to operating room aftewards, 3\n",
    "\n",
    "# Strategy: compute each outcome separately\n",
    "# Combine results and pick first outcome for each patient"
   ]
  },
  {
   "cell_type": "code",
   "execution_count": null,
   "metadata": {},
   "outputs": [],
   "source": [
    "# Things to compute: death and time of death\n",
    "# time spent in ICU"
   ]
  },
  {
   "cell_type": "code",
   "execution_count": null,
   "metadata": {},
   "outputs": [],
   "source": [
    "# compute table of patients who died and their time of death\n",
    "discharge_df = cdm_t.query(\"fid == 'discharge'\")"
   ]
  },
  {
   "cell_type": "code",
   "execution_count": null,
   "metadata": {},
   "outputs": [],
   "source": [
    "# convert json value to columns\n",
    "json_df = pd.json_normalize(discharge_df.value.apply(json.loads))"
   ]
  },
  {
   "cell_type": "code",
   "execution_count": null,
   "metadata": {},
   "outputs": [],
   "source": [
    "discharge_df['department'] = json_df.department.values\n",
    "discharge_df['disposition'] = json_df.disposition.values"
   ]
  },
  {
   "cell_type": "code",
   "execution_count": null,
   "metadata": {},
   "outputs": [],
   "source": [
    "discharge_df = discharge_df[['dataset_id', 'enc_id', 'tsp', 'department', 'disposition']]"
   ]
  },
  {
   "cell_type": "code",
   "execution_count": null,
   "metadata": {},
   "outputs": [],
   "source": [
    "mortality_df = discharge_df.loc[discharge_df.disposition.str.contains('Expired')]\n",
    "mortality_df['tsp'] = pd.to_datetime(mortality_df.tsp)\n",
    "mortality_df = mortality_df.rename(columns = {'tsp': 'death_time'}).drop(['disposition', 'dataset_id'], axis=1)"
   ]
  },
  {
   "cell_type": "code",
   "execution_count": null,
   "metadata": {},
   "outputs": [],
   "source": [
    "# was the unit the patient died in the ICU?\n",
    "mortality_df = mortality_df.merge(care_defs.rename(columns={'care_unit':'department'})[['department', 'level_of_care']])"
   ]
  },
  {
   "cell_type": "code",
   "execution_count": null,
   "metadata": {},
   "outputs": [],
   "source": [
    "mortality_df['died_in_icu'] = mortality_df.level_of_care == 'icu'\n",
    "mortality_df = mortality_df.drop('level_of_care', axis=1)"
   ]
  },
  {
   "cell_type": "code",
   "execution_count": null,
   "metadata": {},
   "outputs": [],
   "source": [
    "mortality_df = mortality_df.rename(columns={'death_time':'event_time'})"
   ]
  },
  {
   "cell_type": "code",
   "execution_count": null,
   "metadata": {},
   "outputs": [],
   "source": [
    "outcome_df = mortality_df.query('died_in_icu == False')[['enc_id', 'event_time']]"
   ]
  },
  {
   "cell_type": "code",
   "execution_count": null,
   "metadata": {},
   "outputs": [],
   "source": [
    "# death outside the icu; outcome label 2\n",
    "outcome_df['outcome'] = 2"
   ]
  },
  {
   "cell_type": "code",
   "execution_count": null,
   "metadata": {},
   "outputs": [],
   "source": [
    "# death outside the icu; outcome label 1\n",
    "icu_death_df = mortality_df.query('died_in_icu == True')[['enc_id', 'event_time']]\n",
    "icu_death_df['outcome'] = 1"
   ]
  },
  {
   "cell_type": "code",
   "execution_count": null,
   "metadata": {},
   "outputs": [],
   "source": [
    "outcome_df = pd.concat([outcome_df, icu_death_df])"
   ]
  },
  {
   "cell_type": "markdown",
   "metadata": {},
   "source": [
    "## Now computing outcomes related to length of stay in ICU"
   ]
  },
  {
   "cell_type": "code",
   "execution_count": null,
   "metadata": {},
   "outputs": [],
   "source": [
    "# now we need to find out how long a patient's ICU stay was\n",
    "care_unit_rows = cdm_t.query(\"fid == 'care_unit'\")"
   ]
  },
  {
   "cell_type": "code",
   "execution_count": null,
   "metadata": {},
   "outputs": [],
   "source": [
    "care_unit_rows = (care_unit_rows\n",
    "                  .rename(columns={'value':'care_unit'})\n",
    "                  .merge(care_defs[['hospital', 'care_unit', 'level_of_care']], on='care_unit', how='left'))"
   ]
  },
  {
   "cell_type": "code",
   "execution_count": null,
   "metadata": {},
   "outputs": [],
   "source": [
    "care_unit_rows['tsp'] = pd.to_datetime(care_unit_rows.tsp)"
   ]
  },
  {
   "cell_type": "code",
   "execution_count": null,
   "metadata": {},
   "outputs": [],
   "source": [
    "care_unit_rows = care_unit_rows.sort_values(['enc_id', 'tsp'])"
   ]
  },
  {
   "cell_type": "code",
   "execution_count": null,
   "metadata": {},
   "outputs": [],
   "source": [
    "# all the times patients were in the ICU\n",
    "icu_times = care_unit_rows.query(\"level_of_care == 'icu'\")"
   ]
  },
  {
   "cell_type": "code",
   "execution_count": null,
   "metadata": {},
   "outputs": [],
   "source": [
    "icu_times['icu_start_tsp'] = icu_times['tsp']"
   ]
  },
  {
   "cell_type": "code",
   "execution_count": null,
   "metadata": {},
   "outputs": [],
   "source": [
    "max_icu_times = np.max(icu_times.groupby('enc_id', as_index=False).size()['size'])"
   ]
  },
  {
   "cell_type": "code",
   "execution_count": null,
   "metadata": {},
   "outputs": [],
   "source": [
    "non_icu_care_unit_rows = care_unit_rows.query(\"level_of_care != 'icu'\")"
   ]
  },
  {
   "cell_type": "code",
   "execution_count": null,
   "metadata": {},
   "outputs": [],
   "source": [
    "# for each patient's first icu stay: we will make the dataframe containing their information\n",
    "# get first icu stay information\n",
    "nth_icu_stay = icu_times.groupby('enc_id', as_index=False).nth(0)[['enc_id', 'icu_start_tsp']]\n",
    "\n",
    "# get first unit after the icu stay\n",
    "next_unit_df = (non_icu_care_unit_rows\n",
    "                .merge(nth_icu_stay, on='enc_id', how='left')\n",
    "                .query('tsp > icu_start_tsp')\n",
    "                .groupby('enc_id', as_index=False).nth(0)\n",
    "                .rename(columns={'tsp':'next_unit_tsp', \n",
    "                                 'care_unit':'next_care_unit', \n",
    "                                 'level_of_care':'next_level_of_care'})\n",
    "               [['enc_id', 'next_unit_tsp', 'next_care_unit', 'next_level_of_care', 'icu_start_tsp']])\n",
    "icu_los_df = icu_times.merge(next_unit_df, on=['enc_id', 'icu_start_tsp'], how='inner')"
   ]
  },
  {
   "cell_type": "code",
   "execution_count": null,
   "metadata": {},
   "outputs": [],
   "source": [
    "# now, for the remaining stays\n",
    "# do this for each icu stay\n",
    "for icu_count in range(1, max_icu_times):\n",
    "\n",
    "    nth_icu_stay = icu_times.groupby('enc_id', as_index=False).nth(icu_count)[['enc_id', 'icu_start_tsp']]\n",
    "\n",
    "    # get first unit after the icu stay\n",
    "    next_unit_df = (non_icu_care_unit_rows\n",
    "                    .merge(nth_icu_stay, on='enc_id', how='left')\n",
    "                    .query('tsp > icu_start_tsp')\n",
    "                    .groupby('enc_id', as_index=False).nth(0)\n",
    "                    .rename(columns={'tsp':'next_unit_tsp', \n",
    "                                     'care_unit':'next_care_unit', \n",
    "                                     'level_of_care':'next_level_of_care'})\n",
    "                   [['enc_id', 'next_unit_tsp', 'next_care_unit', 'next_level_of_care', 'icu_start_tsp']])\n",
    "    icu_los_df = pd.concat([icu_los_df, icu_times.merge(next_unit_df, on=['enc_id', 'icu_start_tsp'], how='inner')])"
   ]
  },
  {
   "cell_type": "code",
   "execution_count": null,
   "metadata": {},
   "outputs": [],
   "source": [
    "# compute duration of each icu stay\n",
    "icu_los_df['icu_los'] = icu_los_df['next_unit_tsp'] - icu_los_df['icu_start_tsp']\n",
    "icu_los_df = icu_los_df.rename(columns={'tsp':'event_time'})"
   ]
  },
  {
   "cell_type": "code",
   "execution_count": null,
   "metadata": {},
   "outputs": [],
   "source": [
    "# icu stays of at least 6 hours are outcome 1\n",
    "long_icu_stay = icu_los_df.loc[icu_los_df.icu_los >= datetime.timedelta(hours=6)]\n",
    "long_icu_stay['outcome'] = 1\n",
    "outcome_df = pd.concat([outcome_df, long_icu_stay[['enc_id', 'event_time', 'outcome']]])"
   ]
  },
  {
   "cell_type": "code",
   "execution_count": null,
   "metadata": {},
   "outputs": [],
   "source": [
    "# icu stays of less than 6 hours and next unit was surgery\n",
    "short_icu_stay = (icu_los_df\n",
    "                  .loc[icu_los_df.icu_los < datetime.timedelta(hours=6)]\n",
    "                  .query(\"next_level_of_care == 'surgery'\"))\n",
    "short_icu_stay['outcome'] = 3\n",
    "outcome_df = pd.concat([outcome_df, short_icu_stay[['enc_id', 'event_time', 'outcome']]])"
   ]
  },
  {
   "cell_type": "code",
   "execution_count": null,
   "metadata": {},
   "outputs": [],
   "source": [
    "# get first instance of outcome for each patient\n",
    "outcome_df = outcome_df.sort_values(['enc_id', 'event_time']).groupby('enc_id', as_index=False).nth(0)"
   ]
  },
  {
   "cell_type": "code",
   "execution_count": null,
   "metadata": {},
   "outputs": [],
   "source": [
    "# add outcome information to cohort df\n",
    "cohort = cohort.merge(outcome_df, on='enc_id', how='left')"
   ]
  },
  {
   "cell_type": "code",
   "execution_count": null,
   "metadata": {},
   "outputs": [],
   "source": [
    "# everyone else did not experience the outcome\n",
    "cohort['outcome'] = cohort['outcome'].fillna(0)"
   ]
  },
  {
   "cell_type": "code",
   "execution_count": null,
   "metadata": {},
   "outputs": [],
   "source": [
    "discharge_times = (care_unit_rows\n",
    "                   .groupby('enc_id', as_index=False)\n",
    "                   .nth(-1)\n",
    "                   .rename(columns={'tsp':'discharge_time'})\n",
    "                   [['enc_id', 'discharge_time']])"
   ]
  },
  {
   "cell_type": "code",
   "execution_count": null,
   "metadata": {},
   "outputs": [],
   "source": [
    "cohort = cohort.merge(discharge_times)"
   ]
  },
  {
   "cell_type": "code",
   "execution_count": null,
   "metadata": {},
   "outputs": [],
   "source": [
    "cohort"
   ]
  },
  {
   "cell_type": "code",
   "execution_count": null,
   "metadata": {},
   "outputs": [],
   "source": [
    "# if eventtime is null then use the discharge time, otherwise use the existing event time\n",
    "cohort['event_time'] = np.where(np.isnan(cohort.event_time.values), \n",
    "                                cohort.discharge_time, \n",
    "                                cohort.event_time)"
   ]
  },
  {
   "cell_type": "code",
   "execution_count": null,
   "metadata": {},
   "outputs": [],
   "source": [
    "cohort.to_csv(\"/data/adarsh/fda_project_data/study_cohort_with_outcome.csv\", index=False)"
   ]
  },
  {
   "cell_type": "code",
   "execution_count": null,
   "metadata": {},
   "outputs": [],
   "source": [
    "### Dataset with max LOS of 15 days\n",
    "cohort = pd.read_csv(\"/data/adarsh/fda_project_data/study_cohort_with_outcome.csv\")"
   ]
  },
  {
   "cell_type": "code",
   "execution_count": null,
   "metadata": {},
   "outputs": [],
   "source": [
    "cohort['admit_time'] = pd.to_datetime(cohort['admit_time'])\n",
    "cohort['event_time'] = pd.to_datetime(cohort['event_time'])\n",
    "cohort['discharge_time'] = pd.to_datetime(cohort['discharge_time'])\n",
    "# reduce LOS to 15 days\n",
    "cohort['los'] = cohort['event_time'] - cohort['admit_time']\n",
    "\n",
    "# max time we would make a prediction\n",
    "cohort['last_obs_time'] = cohort['admit_time'] + datetime.timedelta(days=15)\n",
    "\n",
    "# if patient had outcome, but it is more than 15 days + 12 hours from admission, then we won't predict it\n",
    "# occurring in the next 12 hours so outcome is 0\n",
    "cohort.loc[(cohort.outcome != 0) \n",
    "           & (cohort.event_time > (cohort.last_obs_time + datetime.timedelta(hours=12))), ['outcome']] = 0"
   ]
  },
  {
   "cell_type": "code",
   "execution_count": null,
   "metadata": {},
   "outputs": [],
   "source": [
    "# last observation time is:\n",
    "# min(event time, admit + 15 days) for people with outcome not 0\n",
    "\n",
    "# min(admit + 15 days, discharge time) for people with outcome 0\n",
    "cohort['end_time'] = np.where(cohort.outcome == 0, np.minimum(cohort.discharge_time, cohort.last_obs_time), cohort.last_obs_time)\n",
    "\n",
    "# if you have outcome, then last observation time is min(event_time, admit + 15 days)\n",
    "cohort['end_time'] = np.where(cohort.outcome != 0, np.minimum(cohort.event_time, cohort.last_obs_time), cohort.end_time)"
   ]
  },
  {
   "cell_type": "code",
   "execution_count": null,
   "metadata": {},
   "outputs": [],
   "source": [
    "cohort = cohort.drop(columns=['los', 'discharge_time', 'last_obs_time'])"
   ]
  },
  {
   "cell_type": "code",
   "execution_count": null,
   "metadata": {},
   "outputs": [],
   "source": [
    "cohort"
   ]
  },
  {
   "cell_type": "code",
   "execution_count": null,
   "metadata": {},
   "outputs": [],
   "source": [
    "# patient cohort where LOS (and labels) updated to be less than 15 days\n",
    "cohort.to_csv(\"/data/adarsh/fda_project_data/study_cohort_with_outcome_truncated_15days.csv\", index=False)"
   ]
  },
  {
   "cell_type": "code",
   "execution_count": null,
   "metadata": {},
   "outputs": [],
   "source": []
  },
  {
   "cell_type": "code",
   "execution_count": null,
   "metadata": {},
   "outputs": [],
   "source": []
  }
 ],
 "metadata": {
  "kernelspec": {
   "display_name": "Python 3 (ipykernel)",
   "language": "python",
   "name": "python3"
  },
  "language_info": {
   "codemirror_mode": {
    "name": "ipython",
    "version": 3
   },
   "file_extension": ".py",
   "mimetype": "text/x-python",
   "name": "python",
   "nbconvert_exporter": "python",
   "pygments_lexer": "ipython3",
   "version": "3.10.12"
  }
 },
 "nbformat": 4,
 "nbformat_minor": 4
}
