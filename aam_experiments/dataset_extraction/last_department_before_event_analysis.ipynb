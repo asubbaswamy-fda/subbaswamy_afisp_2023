{
 "cells": [
  {
   "cell_type": "code",
   "execution_count": null,
   "metadata": {},
   "outputs": [],
   "source": [
    "import pandas as pd\n",
    "# import modin.pandas as pd\n",
    "import numpy as np\n",
    "import pickle as pkl\n",
    "from os import listdir, walk\n",
    "from os.path import isfile, join\n",
    "from dask.distributed import Client\n",
    "import dask.dataframe as dd\n",
    "\n",
    "import datetime\n",
    "\n",
    "import json\n",
    "import time\n",
    "\n",
    "import matplotlib.pyplot as plt\n",
    "pd.options.mode.chained_assignment = None\n",
    "\n",
    "%matplotlib inline"
   ]
  },
  {
   "cell_type": "code",
   "execution_count": null,
   "metadata": {},
   "outputs": [],
   "source": [
    "care_defs = pd.read_csv('/data/deidentified_trews_deployment_data/cdm/care_unit_defs.csv')\n",
    "# SMH 3A L&D is a maternity unit. Not marked in the file\n",
    "care_defs.at[care_defs.loc[care_defs.care_unit == 'SMH 3A L&D'].index[0], 'maternity'] = True"
   ]
  },
  {
   "cell_type": "code",
   "execution_count": null,
   "metadata": {},
   "outputs": [],
   "source": [
    "pat_enc = pd.read_csv('/data/deidentified_trews_deployment_data/cdm/pat_enc.csv')"
   ]
  },
  {
   "cell_type": "code",
   "execution_count": null,
   "metadata": {},
   "outputs": [],
   "source": [
    "df = dd.read_csv('/data/deidentified_trews_deployment_data/cdm/cdm_t.csv')"
   ]
  },
  {
   "cell_type": "code",
   "execution_count": null,
   "metadata": {},
   "outputs": [],
   "source": [
    "# patient cohort where LOS (and labels) updated to be less than 15 days\n",
    "cohort = pd.read_csv(\"/data/adarsh/fda_project_data/study_cohort_with_outcome_truncated_15days.csv\")"
   ]
  },
  {
   "cell_type": "code",
   "execution_count": null,
   "metadata": {},
   "outputs": [],
   "source": [
    "cohort['admit_time'] = pd.to_datetime(cohort.admit_time)"
   ]
  },
  {
   "cell_type": "code",
   "execution_count": null,
   "metadata": {},
   "outputs": [],
   "source": [
    "ed_wrong_alert_ids = np.load(\"/data/adarsh/fda_project_data/predictions/ed_admits_wrong_alerts.npy\")"
   ]
  },
  {
   "cell_type": "code",
   "execution_count": null,
   "metadata": {},
   "outputs": [],
   "source": [
    "test_ids = np.load(\"/data/adarsh/fda_project_data/predictions/test_outcome_1_ids.npy\")"
   ]
  },
  {
   "cell_type": "code",
   "execution_count": null,
   "metadata": {},
   "outputs": [],
   "source": [
    "test_cohort = cohort.query('enc_id in @test_ids')"
   ]
  },
  {
   "cell_type": "code",
   "execution_count": null,
   "metadata": {},
   "outputs": [],
   "source": [
    "# use dask default scheduling\n",
    "start = time.time()\n",
    "\n",
    "# find all rows in cdm_t corresponding to the study cohort\n",
    "cdm_t = df.loc[df.enc_id.isin(test_ids)].compute()\n",
    "\n",
    "end = time.time()\n",
    "print((end-start)/60.)"
   ]
  },
  {
   "cell_type": "markdown",
   "metadata": {},
   "source": [
    "## Find last department before event"
   ]
  },
  {
   "cell_type": "code",
   "execution_count": null,
   "metadata": {},
   "outputs": [],
   "source": [
    "care_unit_df = cdm_t.query('fid == \"care_unit\"')"
   ]
  },
  {
   "cell_type": "code",
   "execution_count": null,
   "metadata": {},
   "outputs": [],
   "source": [
    "care_unit_df = test_cohort.merge(care_unit_df[['enc_id', 'tsp', 'value']], how='left', on=['enc_id'])"
   ]
  },
  {
   "cell_type": "code",
   "execution_count": null,
   "metadata": {},
   "outputs": [],
   "source": [
    "care_unit_df['tsp'] = pd.to_datetime(care_unit_df.tsp)\n",
    "care_unit_df['end_time'] = pd.to_datetime(care_unit_df.end_time)\n",
    "care_unit_df['admit_time'] = pd.to_datetime(care_unit_df.admit_time)"
   ]
  },
  {
   "cell_type": "code",
   "execution_count": null,
   "metadata": {},
   "outputs": [],
   "source": [
    "care_unit_df = care_unit_df.rename(columns={'value':'care_unit'})"
   ]
  },
  {
   "cell_type": "code",
   "execution_count": null,
   "metadata": {},
   "outputs": [],
   "source": [
    "care_unit_df = care_unit_df.merge(care_defs[['care_unit', 'level_of_care', 'pediatric', 'maternity']], how='left', on='care_unit')"
   ]
  },
  {
   "cell_type": "code",
   "execution_count": null,
   "metadata": {},
   "outputs": [],
   "source": [
    "care_unit_df['level_of_care'] = care_unit_df.level_of_care.fillna('other')"
   ]
  },
  {
   "cell_type": "code",
   "execution_count": null,
   "metadata": {},
   "outputs": [],
   "source": [
    "dep_df = care_unit_df.query('level_of_care != \"icu\" and tsp < end_time').sort_values(by=['enc_id', 'tsp']).groupby('enc_id', as_index=False).nth(-1)"
   ]
  },
  {
   "cell_type": "code",
   "execution_count": null,
   "metadata": {},
   "outputs": [],
   "source": [
    "dep_df.query('level_of_care == \"other\" and enc_id in @ed_wrong_alert_ids').care_unit"
   ]
  },
  {
   "cell_type": "code",
   "execution_count": null,
   "metadata": {},
   "outputs": [],
   "source": [
    "dep_df.query('enc_id in @ed_wrong_alert_ids and level_of_care == \"surgery\"').shape[0]/ed_wrong_alert_ids.shape[0]"
   ]
  },
  {
   "cell_type": "code",
   "execution_count": null,
   "metadata": {},
   "outputs": [],
   "source": []
  },
  {
   "cell_type": "code",
   "execution_count": null,
   "metadata": {},
   "outputs": [],
   "source": [
    "dep_df.query('enc_id in @ed_wrong_alert_ids')[['enc_id', 'hospital', 'level_of_care']].groupby(['hospital', 'level_of_care']).count()"
   ]
  },
  {
   "cell_type": "code",
   "execution_count": null,
   "metadata": {},
   "outputs": [],
   "source": [
    "dep_df.query('enc_id in @ed_wrong_alert_ids and hospital != \"JHH\"')[['enc_id', 'hospital', 'level_of_care']].groupby(['hospital', 'level_of_care']).count().enc_id.plot(kind='barh', title='Last Department')"
   ]
  },
  {
   "cell_type": "code",
   "execution_count": null,
   "metadata": {},
   "outputs": [],
   "source": [
    "dep_df[['enc_id', 'hospital', 'level_of_care']].groupby(['hospital', 'level_of_care']).count().enc_id.plot(kind='barh')"
   ]
  },
  {
   "cell_type": "markdown",
   "metadata": {},
   "source": [
    "## First department"
   ]
  },
  {
   "cell_type": "code",
   "execution_count": null,
   "metadata": {},
   "outputs": [],
   "source": [
    "first_df = care_unit_df.query('tsp >= admit_time').groupby('enc_id', as_index=False).nth(0)"
   ]
  },
  {
   "cell_type": "code",
   "execution_count": null,
   "metadata": {},
   "outputs": [],
   "source": [
    "first_df"
   ]
  },
  {
   "cell_type": "code",
   "execution_count": null,
   "metadata": {},
   "outputs": [],
   "source": [
    "first_df.query('enc_id in @ed_wrong_alert_ids and hospital != \"JHH\"')[['enc_id', 'hospital', 'level_of_care']].groupby(['hospital', 'level_of_care']).count().plot(kind='barh', title='First Department after ED')"
   ]
  },
  {
   "cell_type": "code",
   "execution_count": null,
   "metadata": {},
   "outputs": [],
   "source": [
    "first_df.query('hospital != \"JHH\"')[['enc_id', 'hospital', 'level_of_care']].groupby(['hospital', 'level_of_care']).count().enc_id.plot(kind='barh', figsize=(6,6), title='First Department')"
   ]
  },
  {
   "cell_type": "code",
   "execution_count": null,
   "metadata": {},
   "outputs": [],
   "source": [
    "event_department_info = first_df.rename(columns = {'care_unit':'first_unit', 'level_of_care':'first_level'})"
   ]
  },
  {
   "cell_type": "code",
   "execution_count": null,
   "metadata": {},
   "outputs": [],
   "source": [
    "event_department_info = event_department_info[['enc_id', 'first_unit', 'first_level']]"
   ]
  },
  {
   "cell_type": "code",
   "execution_count": null,
   "metadata": {},
   "outputs": [],
   "source": [
    "event_department_info = event_department_info.merge(dep_df[['enc_id', 'care_unit', 'level_of_care']], how='left', on='enc_id')"
   ]
  },
  {
   "cell_type": "code",
   "execution_count": null,
   "metadata": {},
   "outputs": [],
   "source": [
    "event_department_info = event_department_info.rename(columns = {'care_unit':'last_unit', 'level_of_care':'last_level'})"
   ]
  },
  {
   "cell_type": "code",
   "execution_count": null,
   "metadata": {},
   "outputs": [],
   "source": [
    "event_department_info.to_csv(\"/data/adarsh/fda_project_data/event_pt_care_unit_df.csv\", index=False)"
   ]
  },
  {
   "cell_type": "code",
   "execution_count": null,
   "metadata": {},
   "outputs": [],
   "source": [
    "surgery_df = cdm_t.query('fid == \"surgery_proc\"')"
   ]
  },
  {
   "cell_type": "code",
   "execution_count": null,
   "metadata": {},
   "outputs": [],
   "source": [
    "json_df = pd.json_normalize(surgery_df.value.apply(json.loads))"
   ]
  },
  {
   "cell_type": "code",
   "execution_count": null,
   "metadata": {},
   "outputs": [],
   "source": [
    "for c in json_df.columns:\n",
    "    print(c)\n",
    "    surgery_df[c] = json_df[c].values"
   ]
  },
  {
   "cell_type": "code",
   "execution_count": null,
   "metadata": {},
   "outputs": [],
   "source": [
    "surgery_df"
   ]
  },
  {
   "cell_type": "code",
   "execution_count": null,
   "metadata": {},
   "outputs": [],
   "source": [
    "pd.json_normalize(cdm_s.query('fid == \"chief_complaint\" and enc_id in @wrong_ed_alert_ids').value.apply(json.loads).apply(lambda x: x[0]))"
   ]
  },
  {
   "cell_type": "code",
   "execution_count": null,
   "metadata": {},
   "outputs": [],
   "source": [
    "cdm_t.query('enc_id in @ed_wrong_alert_ids and fid == \"surgery_proc\"').value.apply(json.loads))"
   ]
  },
  {
   "cell_type": "code",
   "execution_count": null,
   "metadata": {},
   "outputs": [],
   "source": []
  }
 ],
 "metadata": {
  "kernelspec": {
   "display_name": "Python 3 (ipykernel)",
   "language": "python",
   "name": "python3"
  },
  "language_info": {
   "codemirror_mode": {
    "name": "ipython",
    "version": 3
   },
   "file_extension": ".py",
   "mimetype": "text/x-python",
   "name": "python",
   "nbconvert_exporter": "python",
   "pygments_lexer": "ipython3",
   "version": "3.10.12"
  }
 },
 "nbformat": 4,
 "nbformat_minor": 4
}
