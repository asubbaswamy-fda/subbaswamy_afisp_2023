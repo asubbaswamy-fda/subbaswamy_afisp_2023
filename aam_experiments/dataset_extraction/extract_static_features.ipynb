{
 "cells": [
  {
   "cell_type": "code",
   "execution_count": null,
   "metadata": {},
   "outputs": [],
   "source": [
    "import pandas as pd\n",
    "# import modin.pandas as pd\n",
    "import numpy as np\n",
    "import pickle as pkl\n",
    "from os import listdir, walk\n",
    "from os.path import isfile, join\n",
    "from dask.distributed import Client\n",
    "import dask.dataframe as dd\n",
    "\n",
    "import datetime\n",
    "\n",
    "import json\n",
    "import time\n",
    "\n",
    "import matplotlib.pyplot as plt\n",
    "pd.options.mode.chained_assignment = None\n",
    "\n",
    "%matplotlib inline"
   ]
  },
  {
   "cell_type": "code",
   "execution_count": null,
   "metadata": {},
   "outputs": [],
   "source": [
    "pred_df = pd.read_hdf('/data/adarsh/fda_project_data/aam_lab_and_vital_features_with_spo2.h5')"
   ]
  },
  {
   "cell_type": "code",
   "execution_count": null,
   "metadata": {},
   "outputs": [],
   "source": [
    "pred_df.columns"
   ]
  },
  {
   "cell_type": "code",
   "execution_count": null,
   "metadata": {},
   "outputs": [],
   "source": [
    "cohort = pd.read_csv(\"/data/adarsh/fda_project_data/study_cohort_with_outcome_truncated_15days.csv\")"
   ]
  },
  {
   "cell_type": "code",
   "execution_count": null,
   "metadata": {},
   "outputs": [],
   "source": [
    "cohort_event_times = pd.read_csv(\"/data/adarsh/fda_project_data/study_cohort_with_outcome.csv\")\n",
    "cohort_event_times = cohort_event_times[['enc_id', 'event_time']]"
   ]
  },
  {
   "cell_type": "code",
   "execution_count": null,
   "metadata": {},
   "outputs": [],
   "source": [
    "cohort = cohort.merge(cohort_event_times, on=['enc_id'], how='left')"
   ]
  },
  {
   "cell_type": "code",
   "execution_count": null,
   "metadata": {},
   "outputs": [],
   "source": [
    "cdm_s = pd.read_csv(\"/data/deidentified_trews_deployment_data/cdm/cdm_s.csv\")"
   ]
  },
  {
   "cell_type": "code",
   "execution_count": null,
   "metadata": {},
   "outputs": [],
   "source": []
  },
  {
   "cell_type": "code",
   "execution_count": null,
   "metadata": {},
   "outputs": [],
   "source": [
    "cdm_g = pd.read_csv(\"/data/adarsh/fda_project_data/cdm_g.csv\")"
   ]
  },
  {
   "cell_type": "markdown",
   "metadata": {},
   "source": [
    "## Extract demographic features"
   ]
  },
  {
   "cell_type": "code",
   "execution_count": null,
   "metadata": {},
   "outputs": [],
   "source": [
    "age_df = cdm_s.loc[cdm_s.enc_id.isin(pred_df.enc_id)].query(\"fid == 'age'\")[['enc_id', 'value']]\n",
    "age_df = age_df.rename(columns={'value':'age'})"
   ]
  },
  {
   "cell_type": "code",
   "execution_count": null,
   "metadata": {},
   "outputs": [],
   "source": [
    "gender_df = cdm_s.loc[cdm_s.enc_id.isin(pred_df.enc_id)].query(\"fid == 'gender'\")[['enc_id', 'value']]\n",
    "gender_df = gender_df.rename(columns={'value':'gender'})"
   ]
  },
  {
   "cell_type": "code",
   "execution_count": null,
   "metadata": {},
   "outputs": [],
   "source": [
    "pred_df = pred_df.merge(age_df, on=['enc_id'], how='left')"
   ]
  },
  {
   "cell_type": "code",
   "execution_count": null,
   "metadata": {},
   "outputs": [],
   "source": [
    "pred_df = pred_df.merge(gender_df, on=['enc_id'], how='left')"
   ]
  },
  {
   "cell_type": "markdown",
   "metadata": {},
   "source": [
    "## LOS feature"
   ]
  },
  {
   "cell_type": "code",
   "execution_count": null,
   "metadata": {},
   "outputs": [],
   "source": [
    "first_time_df = pred_df.groupby('enc_id', as_index=False).nth(0)[['enc_id', 'obs_time']].rename(columns={'obs_time':'first_time'})\n",
    "pred_df = pred_df.merge(first_time_df, on=['enc_id'], how='left')"
   ]
  },
  {
   "cell_type": "code",
   "execution_count": null,
   "metadata": {},
   "outputs": [],
   "source": [
    "# transpired length of stay in hours\n",
    "pred_df['first_time'] = ((pred_df.obs_time.astype('int64') // 10**9) - (pred_df['first_time'].astype('int64') // 10**9)) / 60 / 60"
   ]
  },
  {
   "cell_type": "code",
   "execution_count": null,
   "metadata": {},
   "outputs": [],
   "source": [
    "pred_df = pred_df.rename(columns={'first_time':'los'})"
   ]
  },
  {
   "cell_type": "code",
   "execution_count": null,
   "metadata": {},
   "outputs": [],
   "source": [
    "# Add hospital feature\n",
    "pred_df = pred_df.merge(cohort[['enc_id', 'hospital']], on='enc_id', how='left')"
   ]
  },
  {
   "cell_type": "markdown",
   "metadata": {},
   "source": [
    "## Add labels to this dataset"
   ]
  },
  {
   "cell_type": "code",
   "execution_count": null,
   "metadata": {},
   "outputs": [],
   "source": [
    "pred_df = pred_df.merge(cohort[['enc_id', 'outcome', 'event_time']], on='enc_id', how='left')"
   ]
  },
  {
   "cell_type": "code",
   "execution_count": null,
   "metadata": {},
   "outputs": [],
   "source": [
    "pred_df['event_time'] = pd.to_datetime(pred_df.event_time)"
   ]
  },
  {
   "cell_type": "code",
   "execution_count": null,
   "metadata": {},
   "outputs": [],
   "source": [
    "# label is 1 if outcome is non-zero and event time is <= 12 hours from obs time"
   ]
  },
  {
   "cell_type": "code",
   "execution_count": null,
   "metadata": {},
   "outputs": [],
   "source": [
    "pred_df['label'] = (pred_df['event_time'] - pred_df['obs_time'] <= datetime.timedelta(hours = 12)) & (pred_df['outcome'] != 0)"
   ]
  },
  {
   "cell_type": "code",
   "execution_count": null,
   "metadata": {},
   "outputs": [],
   "source": [
    "pred_df['label'] = pred_df.label.astype(np.int)"
   ]
  },
  {
   "cell_type": "code",
   "execution_count": null,
   "metadata": {},
   "outputs": [],
   "source": [
    "pred_df = pred_df.drop(columns=['event_time', 'outcome'])"
   ]
  },
  {
   "cell_type": "code",
   "execution_count": null,
   "metadata": {},
   "outputs": [],
   "source": []
  },
  {
   "cell_type": "markdown",
   "metadata": {},
   "source": [
    "## Admit type feature"
   ]
  },
  {
   "cell_type": "code",
   "execution_count": null,
   "metadata": {},
   "outputs": [],
   "source": [
    "# TODO: add surgical categories, for now will just use emergency/not emergency"
   ]
  },
  {
   "cell_type": "code",
   "execution_count": null,
   "metadata": {},
   "outputs": [],
   "source": [
    "ed_admit_types = ['Trauma: Emergency Room Visit in which the Trauma Team is Activated.', \n",
    "                  'Urgent: The patient required immediate attention for the care and treatment of a physical disorder.', \n",
    "                  'Emergency: The patient required immediate medical intervention as a result of severe, life threatening, or potentially disabling conditions.']"
   ]
  },
  {
   "cell_type": "code",
   "execution_count": null,
   "metadata": {},
   "outputs": [],
   "source": [
    "admit_df = cdm_s.loc[cdm_s.enc_id.isin(pred_df.enc_id)].query('fid == \"admit_type\"')"
   ]
  },
  {
   "cell_type": "code",
   "execution_count": null,
   "metadata": {},
   "outputs": [],
   "source": [
    "admit_df['ed_admit'] = admit_df.value.isin(ed_admit_types).astype(np.int)"
   ]
  },
  {
   "cell_type": "code",
   "execution_count": null,
   "metadata": {},
   "outputs": [],
   "source": [
    "admit_df = admit_df[['enc_id', 'ed_admit']]"
   ]
  },
  {
   "cell_type": "code",
   "execution_count": null,
   "metadata": {},
   "outputs": [],
   "source": [
    "pred_df = pred_df.merge(admit_df, on='enc_id', how='left')"
   ]
  },
  {
   "cell_type": "code",
   "execution_count": null,
   "metadata": {},
   "outputs": [],
   "source": [
    "pred_df.to_hdf('/data/adarsh/fda_project_data/raw_complete_dataset.h5', key='s', mode='w')"
   ]
  },
  {
   "cell_type": "markdown",
   "metadata": {},
   "source": [
    "# Imputation and computing AAM model features"
   ]
  },
  {
   "cell_type": "code",
   "execution_count": null,
   "metadata": {},
   "outputs": [],
   "source": [
    "vital_vars = ['nbp_dias', 'nbp_sys', 'heart_rate', 'spo2', 'resp_rate', 'temperature', 'gcs']\n",
    "lab_vars = ['anion_gap', 'bicarbonate', 'glucose', 'hematocrit', 'lactate', 'bun', 'creatinine', 'sodium',\n",
    "            'troponin', 'wbc']"
   ]
  },
  {
   "cell_type": "code",
   "execution_count": null,
   "metadata": {},
   "outputs": [],
   "source": [
    "aam_df.head()"
   ]
  },
  {
   "cell_type": "code",
   "execution_count": null,
   "metadata": {},
   "outputs": [],
   "source": [
    "pred_df.columns"
   ]
  },
  {
   "cell_type": "code",
   "execution_count": null,
   "metadata": {},
   "outputs": [],
   "source": [
    "# impute vitals and labs\n",
    "suffixes = ['_latest', '_high', '_low', '_worst']\n",
    "for var in vital_vars + lab_vars:\n",
    "    query_string = var+\"_popmean\"\n",
    "    default_value = cdm_g.query('fid == @query_string')['value'].values[0]\n",
    "    if var in vital_vars:\n",
    "        for suffix in suffixes:\n",
    "            pred_df[var + suffix] = pred_df[var+suffix].fillna(default_value)\n",
    "    else:\n",
    "        pred_df[var] = pred_df[var].fillna(default_value)"
   ]
  },
  {
   "cell_type": "code",
   "execution_count": null,
   "metadata": {},
   "outputs": [],
   "source": [
    "def sigmoid(x):\n",
    "     return 1./(1 + np.exp(-x))"
   ]
  },
  {
   "cell_type": "code",
   "execution_count": null,
   "metadata": {},
   "outputs": [],
   "source": [
    "def invert_feature_transforms(frame):\n",
    "    nf = frame.copy()\n",
    "    nf['bicarbonate'] =  np.sqrt(frame.bicarbonate)\n",
    "    nf['hematocrit'] = frame.hematocrit_cu**(1./3)\n",
    "    nf['bun'] = np.exp(frame.bun_log)\n",
    "    nf['creatinine'] = np.exp(np.sqrt(frame.creatinine_log_sq))\n",
    "    nf['nbp_sys_latest'] = frame.nbp_sys_latest_cu**(1./3)\n",
    "    nf['heart_rate_latest'] = frame.heart_rate_latest_cu**(1./3)\n",
    "    nf['heart_rate_instability'] = np.exp(np.sqrt(frame.heart_rate_instability_log_sq))\n",
    "    nf['spo2_instability'] = np.exp(frame.spo2_instability_log)\n",
    "    nf['spo2_latest'] = sigmoid(frame.spo2_latest_logit_cu**(1./3))\n",
    "    nf['spo2_worst'] = sigomid(frame.spo2_worst_logit)\n",
    "    nf['resp_rate_instability'] = np.exp(frame.resp_rate_instability_log)\n",
    "    nf['temperature_instability'] = np.exp(np.sqrt(frame.temperature_instability_log_sq))\n",
    "    nf['temperature_latest'] = np.sqrt(frame.temperature_latest_sq)\n",
    "    nf['resp_rate_latest'] = frame.resp_rate_latest_cu ** (1./3)\n",
    "    nf['los'] = np.exp(frame.los_log) - 1\n",
    "    nf['age'] = np.exp(frame.age_log)"
   ]
  },
  {
   "cell_type": "code",
   "execution_count": null,
   "metadata": {},
   "outputs": [],
   "source": [
    "aam_df = pred_df[['enc_id', 'obs_time', 'label']].copy()"
   ]
  },
  {
   "cell_type": "code",
   "execution_count": null,
   "metadata": {},
   "outputs": [],
   "source": [
    "aam_df['anion_gap'] = pred_df.anion_gap"
   ]
  },
  {
   "cell_type": "code",
   "execution_count": null,
   "metadata": {},
   "outputs": [],
   "source": [
    "aam_df['bicarbonate_sq'] = pred_df.bicarbonate**2"
   ]
  },
  {
   "cell_type": "code",
   "execution_count": null,
   "metadata": {},
   "outputs": [],
   "source": [
    "aam_df['glucose'] = pred_df.glucose"
   ]
  },
  {
   "cell_type": "code",
   "execution_count": null,
   "metadata": {},
   "outputs": [],
   "source": [
    "aam_df['hematocrit_cu'] = pred_df.hematocrit**3"
   ]
  },
  {
   "cell_type": "code",
   "execution_count": null,
   "metadata": {},
   "outputs": [],
   "source": [
    "aam_df['lactate'] = pred_df.lactate"
   ]
  },
  {
   "cell_type": "code",
   "execution_count": null,
   "metadata": {},
   "outputs": [],
   "source": [
    "aam_df['bun_log'] = np.log(pred_df.bun)"
   ]
  },
  {
   "cell_type": "code",
   "execution_count": null,
   "metadata": {},
   "outputs": [],
   "source": [
    "aam_df['creatinine_log_sq'] = np.log(pred_df.creatinine)**2"
   ]
  },
  {
   "cell_type": "code",
   "execution_count": null,
   "metadata": {},
   "outputs": [],
   "source": [
    "aam_df['sodium'] = pred_df.sodium"
   ]
  },
  {
   "cell_type": "code",
   "execution_count": null,
   "metadata": {},
   "outputs": [],
   "source": [
    "aam_df['troponin'] = pred_df.troponin"
   ]
  },
  {
   "cell_type": "code",
   "execution_count": null,
   "metadata": {},
   "outputs": [],
   "source": [
    "aam_df['troponin_missing'] = pred_df.troponin_missing"
   ]
  },
  {
   "cell_type": "code",
   "execution_count": null,
   "metadata": {},
   "outputs": [],
   "source": [
    "aam_df['wbc'] = pred_df.wbc"
   ]
  },
  {
   "cell_type": "code",
   "execution_count": null,
   "metadata": {},
   "outputs": [],
   "source": [
    "aam_df['nbp_dias_latest_sq'] = pred_df.nbp_dias_latest**2"
   ]
  },
  {
   "cell_type": "code",
   "execution_count": null,
   "metadata": {},
   "outputs": [],
   "source": [
    "aam_df['nbp_sys_instability'] = pred_df.nbp_sys_high - pred_df.nbp_sys_low"
   ]
  },
  {
   "cell_type": "code",
   "execution_count": null,
   "metadata": {},
   "outputs": [],
   "source": [
    "aam_df['nbp_sys_latest_cu'] = pred_df.nbp_sys_latest**3"
   ]
  },
  {
   "cell_type": "code",
   "execution_count": null,
   "metadata": {},
   "outputs": [],
   "source": [
    "aam_df['heart_rate_latest_cu'] = pred_df.heart_rate_latest**3"
   ]
  },
  {
   "cell_type": "code",
   "execution_count": null,
   "metadata": {},
   "outputs": [],
   "source": [
    "aam_df['heart_rate_instability_log_sq'] = np.log((pred_df.heart_rate_high - pred_df.heart_rate_low)\n",
    "                                                 .replace({0:1}))**2"
   ]
  },
  {
   "cell_type": "code",
   "execution_count": null,
   "metadata": {},
   "outputs": [],
   "source": [
    "aam_df['spo2_instability_log'] = np.log((pred_df.spo2_high - pred_df.spo2_low).replace({0:1}))"
   ]
  },
  {
   "cell_type": "code",
   "execution_count": null,
   "metadata": {},
   "outputs": [],
   "source": [
    "def logit(x):\n",
    "    return np.log(x/(1. - x))"
   ]
  },
  {
   "cell_type": "code",
   "execution_count": null,
   "metadata": {},
   "outputs": [],
   "source": [
    "aam_df['spo2_latest_logit_cu'] = logit(pred_df.spo2_latest.replace({0:1, 100:99})/100.)**3"
   ]
  },
  {
   "cell_type": "code",
   "execution_count": null,
   "metadata": {},
   "outputs": [],
   "source": [
    "aam_df['spo2_worst_logit'] = logit(pred_df.spo2_worst.replace({0:1, 100:99})/100.)"
   ]
  },
  {
   "cell_type": "code",
   "execution_count": null,
   "metadata": {},
   "outputs": [],
   "source": [
    "aam_df['resp_rate_instability_log'] = np.log((pred_df.resp_rate_high - pred_df.resp_rate_low).replace({0:1}))"
   ]
  },
  {
   "cell_type": "code",
   "execution_count": null,
   "metadata": {},
   "outputs": [],
   "source": [
    "aam_df['temperature_instability_log_sq'] = np.log((pred_df.temperature_high - pred_df.temperature_low)\n",
    "                                                  .replace({0:1}))**2"
   ]
  },
  {
   "cell_type": "code",
   "execution_count": null,
   "metadata": {},
   "outputs": [],
   "source": [
    "aam_df['temperature_latest_sq'] = pred_df.temperature_latest**2"
   ]
  },
  {
   "cell_type": "code",
   "execution_count": null,
   "metadata": {},
   "outputs": [],
   "source": [
    "aam_df['resp_rate_latest_cu'] = pred_df.resp_rate_latest**3"
   ]
  },
  {
   "cell_type": "code",
   "execution_count": null,
   "metadata": {},
   "outputs": [],
   "source": [
    "aam_df['resp_rate_worst'] = pred_df.resp_rate_worst "
   ]
  },
  {
   "cell_type": "code",
   "execution_count": null,
   "metadata": {},
   "outputs": [],
   "source": [
    "aam_df['gcs_latest'] = pred_df.gcs_latest"
   ]
  },
  {
   "cell_type": "code",
   "execution_count": null,
   "metadata": {},
   "outputs": [],
   "source": [
    "aam_df['anion_gap_bicarbonate_ratio'] = (pred_df.anion_gap / pred_df.bicarbonate)*1000"
   ]
  },
  {
   "cell_type": "code",
   "execution_count": null,
   "metadata": {},
   "outputs": [],
   "source": [
    "aam_df['shock_index'] = pred_df.heart_rate_latest / pred_df.nbp_sys_latest"
   ]
  },
  {
   "cell_type": "code",
   "execution_count": null,
   "metadata": {},
   "outputs": [],
   "source": [
    "aam_df['los_log'] = np.log(pred_df.los + 1)"
   ]
  },
  {
   "cell_type": "code",
   "execution_count": null,
   "metadata": {},
   "outputs": [],
   "source": [
    "aam_df['age_log'] = np.log(pred_df.age.replace({'>= 90':90}).astype(np.double))"
   ]
  },
  {
   "cell_type": "code",
   "execution_count": null,
   "metadata": {},
   "outputs": [],
   "source": [
    "aam_df['sex'] = pred_df['gender'].astype(np.int)"
   ]
  },
  {
   "cell_type": "code",
   "execution_count": null,
   "metadata": {},
   "outputs": [],
   "source": [
    "season_dummies = pd.get_dummies(pred_df['season'])"
   ]
  },
  {
   "cell_type": "code",
   "execution_count": null,
   "metadata": {},
   "outputs": [],
   "source": [
    "aam_df['season_1'] = season_dummies[1]\n",
    "aam_df['season_2'] = season_dummies[2]\n",
    "aam_df['season_3'] = season_dummies[3]"
   ]
  },
  {
   "cell_type": "code",
   "execution_count": null,
   "metadata": {},
   "outputs": [],
   "source": [
    "time_of_day_dummies = pd.get_dummies(pred_df['time_of_day'])"
   ]
  },
  {
   "cell_type": "code",
   "execution_count": null,
   "metadata": {},
   "outputs": [],
   "source": [
    "aam_df['time_of_day_1'] = time_of_day_dummies[1]\n",
    "aam_df['time_of_day_2'] = time_of_day_dummies[2]\n",
    "aam_df['time_of_day_3'] = time_of_day_dummies[3]"
   ]
  },
  {
   "cell_type": "code",
   "execution_count": null,
   "metadata": {},
   "outputs": [],
   "source": [
    "aam_df['ed_admit'] = pred_df.ed_admit"
   ]
  },
  {
   "cell_type": "code",
   "execution_count": null,
   "metadata": {},
   "outputs": [],
   "source": [
    "hospital_dummies = pd.get_dummies(pred_df.hospital)"
   ]
  },
  {
   "cell_type": "code",
   "execution_count": null,
   "metadata": {},
   "outputs": [],
   "source": [
    "hospital_dummies"
   ]
  },
  {
   "cell_type": "code",
   "execution_count": null,
   "metadata": {},
   "outputs": [],
   "source": [
    "aam_df['hospital_bmc'] = hospital_dummies['BMC']\n",
    "aam_df['hospital_hcgh'] = hospital_dummies['HCGH']\n",
    "aam_df['hospital_jhh'] = hospital_dummies['JHH']\n",
    "aam_df['hospital_sh'] = hospital_dummies['SH']\n",
    "aam_df['hospital_smh'] = hospital_dummies['SMH']"
   ]
  },
  {
   "cell_type": "code",
   "execution_count": null,
   "metadata": {},
   "outputs": [],
   "source": []
  },
  {
   "cell_type": "code",
   "execution_count": null,
   "metadata": {},
   "outputs": [],
   "source": [
    "aam_df.to_hdf('/data/adarsh/fda_project_data/aam_model_dataset.h5', key='s', mode='w')"
   ]
  },
  {
   "cell_type": "code",
   "execution_count": null,
   "metadata": {},
   "outputs": [],
   "source": [
    "# aam_df.to_csv(\"/data/adarsh/fda_project_data/aam_model_dataset.csv\", index=False)"
   ]
  },
  {
   "cell_type": "code",
   "execution_count": null,
   "metadata": {},
   "outputs": [],
   "source": [
    "cdm_g"
   ]
  },
  {
   "cell_type": "code",
   "execution_count": null,
   "metadata": {},
   "outputs": [],
   "source": [
    "pred_df.query('label==1').groupby(['enc_id'], as_index=False).nth(0).groupby('hospital', as_index=False).count()"
   ]
  },
  {
   "cell_type": "code",
   "execution_count": null,
   "metadata": {},
   "outputs": [],
   "source": []
  }
 ],
 "metadata": {
  "kernelspec": {
   "display_name": "Python 3 (ipykernel)",
   "language": "python",
   "name": "python3"
  },
  "language_info": {
   "codemirror_mode": {
    "name": "ipython",
    "version": 3
   },
   "file_extension": ".py",
   "mimetype": "text/x-python",
   "name": "python",
   "nbconvert_exporter": "python",
   "pygments_lexer": "ipython3",
   "version": "3.10.12"
  }
 },
 "nbformat": 4,
 "nbformat_minor": 4
}
