{
 "cells": [
  {
   "cell_type": "code",
   "execution_count": null,
   "metadata": {},
   "outputs": [],
   "source": [
    "import pandas as pd\n",
    "# import modin.pandas as pd\n",
    "import numpy as np\n",
    "import pickle as pkl\n",
    "from os import listdir, walk\n",
    "from os.path import isfile, join\n",
    "from dask.distributed import Client\n",
    "import dask.dataframe as dd\n",
    "\n",
    "import time\n",
    "\n",
    "import matplotlib.pyplot as plt\n",
    "\n",
    "%matplotlib inline"
   ]
  },
  {
   "cell_type": "code",
   "execution_count": null,
   "metadata": {},
   "outputs": [],
   "source": [
    "care_defs = pd.read_csv('/data/deidentified_trews_deployment_data/cdm/care_unit_defs.csv')\n",
    "# SMH 3A L&D is a maternity unit. Not marked in the file\n",
    "care_defs.at[care_defs.loc[care_defs.care_unit == 'SMH 3A L&D'].index[0], 'maternity'] = True"
   ]
  },
  {
   "cell_type": "code",
   "execution_count": null,
   "metadata": {},
   "outputs": [],
   "source": [
    "pat_enc = pd.read_csv('/data/deidentified_trews_deployment_data/cdm/pat_enc.csv')"
   ]
  },
  {
   "cell_type": "code",
   "execution_count": null,
   "metadata": {},
   "outputs": [],
   "source": [
    "pat_enc.pat_id.unique().shape"
   ]
  },
  {
   "cell_type": "code",
   "execution_count": null,
   "metadata": {},
   "outputs": [],
   "source": [
    "pat_enc"
   ]
  },
  {
   "cell_type": "code",
   "execution_count": null,
   "metadata": {},
   "outputs": [],
   "source": [
    "df = dd.read_csv('/data/deidentified_trews_deployment_data/cdm/cdm_t.csv')"
   ]
  },
  {
   "cell_type": "code",
   "execution_count": null,
   "metadata": {},
   "outputs": [],
   "source": [
    "# inclusion critera: > 18\n",
    "# not admitted to hospital for childbirth\n",
    "# were admitted to hospital (so have a department after ED)\n",
    "# First, find childbirth ids and exclude them\n",
    "# Second, find admits to non-ED departments. Get admit time as well\n",
    "# Third, find ED patients who went to non-ED, non-discharge departments. Get admit time\n",
    "# Combine step 2 and step 3 dataframes"
   ]
  },
  {
   "cell_type": "code",
   "execution_count": null,
   "metadata": {},
   "outputs": [],
   "source": [
    "cdm_s = pd.read_csv('/data/deidentified_trews_deployment_data/cdm/cdm_s.csv')"
   ]
  },
  {
   "cell_type": "code",
   "execution_count": null,
   "metadata": {},
   "outputs": [],
   "source": [
    "childbirth_admit_types = ['Delivery - Emergent: L&D Patients treated in the ED',\n",
    "                          'Delivery: Patients Who Are Assessed on L&D for a desired pregnancy', \n",
    "                          'Newborn: Born during this patient admission']\n",
    "\n",
    "\n",
    "# Find enc_ids not associated with childbirth admissions\n",
    "non_childbirth_encids = (cdm_s.loc[cdm_s.fid == 'admit_type']\n",
    "                         .query('value not in @childbirth_admit_types')\n",
    "                         .enc_id.unique())"
   ]
  },
  {
   "cell_type": "code",
   "execution_count": null,
   "metadata": {},
   "outputs": [],
   "source": [
    "# use dask default scheduling\n",
    "start = time.time()\n",
    "\n",
    "# find all rows in cdm_t that have an enc_id not associated with childbirth admissions\n",
    "non_childbirth_df = df.loc[df.enc_id.isin(non_childbirth_encids)].compute()\n",
    "\n",
    "end = time.time()\n",
    "print((end-start)/60.)"
   ]
  },
  {
   "cell_type": "code",
   "execution_count": null,
   "metadata": {},
   "outputs": [],
   "source": [
    "ncb_care_unit_rows = non_childbirth_df.loc[non_childbirth_df.fid == 'care_unit']"
   ]
  },
  {
   "cell_type": "code",
   "execution_count": null,
   "metadata": {},
   "outputs": [],
   "source": [
    "# merge nonchildbirth care unit rows with patient ids\n",
    "ncb_care_unit_rows = ncb_care_unit_rows.merge(pat_enc[['enc_id', 'pat_id']], on='enc_id', how='left')"
   ]
  },
  {
   "cell_type": "code",
   "execution_count": null,
   "metadata": {},
   "outputs": [],
   "source": [
    "ncb_care_unit_rows = (ncb_care_unit_rows\n",
    "                      .rename(columns={'value':'care_unit'})\n",
    "                      .merge(care_defs[['hospital', \n",
    "                                        'care_unit', \n",
    "                                        'level_of_care', \n",
    "                                        'maternity']], on='care_unit', how='left'))"
   ]
  },
  {
   "cell_type": "code",
   "execution_count": null,
   "metadata": {},
   "outputs": [],
   "source": [
    "ncb_care_unit_rows['tsp'] = pd.to_datetime(ncb_care_unit_rows.tsp)"
   ]
  },
  {
   "cell_type": "code",
   "execution_count": null,
   "metadata": {},
   "outputs": [],
   "source": [
    "ncb_care_unit_rows = ncb_care_unit_rows.sort_values(['pat_id', 'tsp'])"
   ]
  },
  {
   "cell_type": "code",
   "execution_count": null,
   "metadata": {},
   "outputs": [],
   "source": [
    "ncb_care_unit_rows"
   ]
  },
  {
   "cell_type": "code",
   "execution_count": null,
   "metadata": {},
   "outputs": [],
   "source": [
    "# disinclude patients whose first unit is a maternity unit\n",
    "ncb_pat_ids = ncb_care_unit_rows.groupby('pat_id', as_index=False).nth(0).query('maternity == False').pat_id.values\n",
    "ncb_care_unit_rows = ncb_care_unit_rows.loc[ncb_care_unit_rows.pat_id.isin(ncb_pat_ids)]"
   ]
  },
  {
   "cell_type": "code",
   "execution_count": null,
   "metadata": {},
   "outputs": [],
   "source": [
    "# disinclude patients whose first unit is icu. we are predicting unplanned icu transfer\n",
    "ncb_pat_ids = ncb_care_unit_rows.groupby('pat_id', as_index=False).nth(0).query('level_of_care != \"icu\"').pat_id.values\n",
    "ncb_care_unit_rows = ncb_care_unit_rows.loc[ncb_care_unit_rows.pat_id.isin(ncb_pat_ids)]"
   ]
  },
  {
   "cell_type": "code",
   "execution_count": null,
   "metadata": {},
   "outputs": [],
   "source": [
    "ncb_care_unit_rows"
   ]
  },
  {
   "cell_type": "code",
   "execution_count": null,
   "metadata": {},
   "outputs": [],
   "source": [
    "# find patients whose first unit was not ED\n",
    "# get admission time\n",
    "non_ed_pts = (ncb_care_unit_rows\n",
    "              .groupby('pat_id', as_index=False).nth(0).query(\"level_of_care != 'icu'\")\n",
    "              .query('level_of_care != \"emergency\"')[['enc_id', 'pat_id', 'tsp', 'hospital']])"
   ]
  },
  {
   "cell_type": "code",
   "execution_count": null,
   "metadata": {},
   "outputs": [],
   "source": [
    "# patients whose first unit was the ED\n",
    "ed_admit_pat_ids = (ncb_care_unit_rows\n",
    "                .groupby('pat_id', as_index=False)\n",
    "                .nth(0).query('level_of_care == \"emergency\"')['pat_id']\n",
    "                .values)"
   ]
  },
  {
   "cell_type": "code",
   "execution_count": null,
   "metadata": {},
   "outputs": [],
   "source": [
    "ed_admit_enc_ids = (ncb_care_unit_rows\n",
    "                    .loc[ncb_care_unit_rows.pat_id.isin(ed_admit_pat_ids)]\n",
    "                    .groupby('pat_id', as_index=False)\n",
    "                    .nth(0)['enc_id'])"
   ]
  },
  {
   "cell_type": "code",
   "execution_count": null,
   "metadata": {},
   "outputs": [],
   "source": [
    "# Find the patients who are admitted to a main ward from the ED\n",
    "# So their first ward after the ED is not discharge, and is not the ICU\n",
    "ed_pts = (ncb_care_unit_rows\n",
    "                    .loc[ncb_care_unit_rows.enc_id.isin(ed_admit_enc_ids)]\n",
    "                    .query('care_unit != \"Discharge\"')\n",
    "                    .query('level_of_care != \"emergency\"')\n",
    "                    .groupby('enc_id', as_index=False).nth(0)\n",
    "                    .query(\"level_of_care != 'icu'\")[['enc_id', 'pat_id', 'tsp', 'hospital']])"
   ]
  },
  {
   "cell_type": "code",
   "execution_count": null,
   "metadata": {},
   "outputs": [],
   "source": [
    "cohort = pd.concat([non_ed_pts, ed_pts])"
   ]
  },
  {
   "cell_type": "code",
   "execution_count": null,
   "metadata": {},
   "outputs": [],
   "source": [
    "cohort = cohort.rename(columns={'tsp':'admit_time'})"
   ]
  },
  {
   "cell_type": "code",
   "execution_count": null,
   "metadata": {},
   "outputs": [],
   "source": [
    "# 304986 patient encounters!"
   ]
  },
  {
   "cell_type": "code",
   "execution_count": null,
   "metadata": {},
   "outputs": [],
   "source": [
    "cohort.to_csv(\"/data/adarsh/fda_project_data/study_cohort.csv\", index=False)"
   ]
  },
  {
   "cell_type": "code",
   "execution_count": null,
   "metadata": {},
   "outputs": [],
   "source": []
  },
  {
   "cell_type": "code",
   "execution_count": null,
   "metadata": {},
   "outputs": [],
   "source": []
  }
 ],
 "metadata": {
  "kernelspec": {
   "display_name": "Python 3 (ipykernel)",
   "language": "python",
   "name": "python3"
  },
  "language_info": {
   "codemirror_mode": {
    "name": "ipython",
    "version": 3
   },
   "file_extension": ".py",
   "mimetype": "text/x-python",
   "name": "python",
   "nbconvert_exporter": "python",
   "pygments_lexer": "ipython3",
   "version": "3.10.12"
  }
 },
 "nbformat": 4,
 "nbformat_minor": 4
}
