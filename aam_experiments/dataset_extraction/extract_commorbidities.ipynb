{
 "cells": [
  {
   "cell_type": "code",
   "execution_count": null,
   "metadata": {},
   "outputs": [],
   "source": [
    "import pandas as pd\n",
    "# import modin.pandas as pd\n",
    "import numpy as np\n",
    "import pickle as pkl\n",
    "from os import listdir, walk\n",
    "from os.path import isfile, join\n",
    "from dask.distributed import Client\n",
    "import dask.dataframe as dd\n",
    "\n",
    "import datetime\n",
    "\n",
    "import json\n",
    "import time\n",
    "\n",
    "import matplotlib.pyplot as plt\n",
    "pd.options.mode.chained_assignment = None\n",
    "\n",
    "%matplotlib inline"
   ]
  },
  {
   "cell_type": "code",
   "execution_count": null,
   "metadata": {},
   "outputs": [],
   "source": [
    "# extracting admission source, chief complaint, and COPS2 commorbidity groupings"
   ]
  },
  {
   "cell_type": "code",
   "execution_count": null,
   "metadata": {},
   "outputs": [],
   "source": [
    "cdm_s = pd.read_csv(\"/data/deidentified_trews_deployment_data/cdm/cdm_s.csv\")"
   ]
  },
  {
   "cell_type": "code",
   "execution_count": null,
   "metadata": {},
   "outputs": [],
   "source": [
    "conditions = set()\n",
    "for x in sorted(cdm_s.fid.unique()):\n",
    "    sstring_index1 = x.find('_final_diag')\n",
    "    sstring_index2 = x.find('_diag')\n",
    "    sstring_index3 = x.find('_hist')\n",
    "    if sstring_index1 > 0:\n",
    "        sstring = x[:sstring_index1]\n",
    "    elif sstring_index2  > 0:\n",
    "        sstring = x[:sstring_index2]\n",
    "    elif sstring_index3 > 0:\n",
    "        sstring = x[:sstring_index3]\n",
    "    conditions.add(sstring)"
   ]
  },
  {
   "cell_type": "code",
   "execution_count": null,
   "metadata": {},
   "outputs": [],
   "source": [
    "conditions"
   ]
  },
  {
   "cell_type": "code",
   "execution_count": null,
   "metadata": {},
   "outputs": [],
   "source": [
    "sorted(cdm_s.fid.unique())"
   ]
  },
  {
   "cell_type": "code",
   "execution_count": null,
   "metadata": {},
   "outputs": [],
   "source": [
    "aam_df = pd.read_hdf('/data/adarsh/fda_project_data/aam_model_dataset.h5')"
   ]
  },
  {
   "cell_type": "code",
   "execution_count": null,
   "metadata": {},
   "outputs": [],
   "source": [
    "# just need the ids\n",
    "aam_df = aam_df[['enc_id']].groupby('enc_id', as_index=False).nth(0)"
   ]
  },
  {
   "cell_type": "code",
   "execution_count": null,
   "metadata": {},
   "outputs": [],
   "source": [
    "enc_ids = aam_df.enc_id.unique()"
   ]
  },
  {
   "cell_type": "code",
   "execution_count": null,
   "metadata": {},
   "outputs": [],
   "source": [
    "# admit_sources = ['Home or Workplace or Non-Health Care Facility', \"Physician's office or clinic\", \"Skilled Nursing Facility, Intermediate Care Facility or Assisted Living Facility\"]\n",
    "home_admits = cdm_s.loc[cdm_s.enc_id.isin(enc_ids)].query(\"fid == 'admit_source'\").query('value == \"Home or Workplace or Non-Health Care Facility\"')[['enc_id']] # [['enc_id', 'value']].value.unique()\n",
    "home_admits['admit_source'] = 1\n",
    "\n",
    "clinic_string = \"Physician's office or clinic\"\n",
    "clinic_admits = cdm_s.loc[cdm_s.enc_id.isin(enc_ids)].query(\"fid == 'admit_source'\").query('value == @clinic_string')[['enc_id']] # [['enc_id', 'value']].value.unique() \n",
    "clinic_admits['admit_source'] = 2\n",
    "\n",
    "# 0 is everything else"
   ]
  },
  {
   "cell_type": "code",
   "execution_count": null,
   "metadata": {},
   "outputs": [],
   "source": [
    "aam_df = aam_df.merge(pd.concat([home_admits, clinic_admits]), on='enc_id', how='left')"
   ]
  },
  {
   "cell_type": "code",
   "execution_count": null,
   "metadata": {},
   "outputs": [],
   "source": [
    "aam_df['admit_source'] = aam_df.admit_source.fillna(0)"
   ]
  },
  {
   "cell_type": "code",
   "execution_count": null,
   "metadata": {},
   "outputs": [],
   "source": [
    "condition_df.shape[0]"
   ]
  },
  {
   "cell_type": "code",
   "execution_count": null,
   "metadata": {},
   "outputs": [],
   "source": [
    "cdm_s = cdm_s.loc[cdm_s.enc_id.isin(enc_ids)]"
   ]
  },
  {
   "cell_type": "code",
   "execution_count": null,
   "metadata": {},
   "outputs": [],
   "source": [
    "condition_df"
   ]
  },
  {
   "cell_type": "code",
   "execution_count": null,
   "metadata": {},
   "outputs": [],
   "source": [
    "# now we get comorbidities\n",
    "suffixes = ['_diag', '_final_diag', '_hist']\n",
    "for condition in conditions:\n",
    "    condition_names = [condition + suffix for suffix in suffixes]\n",
    "    condition_df = cdm_s.query(\"fid in @condition_names\").groupby('enc_id', as_index=False).nth(0)\n",
    "    condition_df[condition] = 1\n",
    "    aam_df = aam_df.merge(condition_df[['enc_id', condition]], on='enc_id', how='left')\n",
    "    aam_df[condition] = aam_df[condition].fillna(0)\n",
    "    print(condition, condition_df.shape[0])"
   ]
  },
  {
   "cell_type": "code",
   "execution_count": null,
   "metadata": {},
   "outputs": [],
   "source": [
    "aam_df"
   ]
  },
  {
   "cell_type": "code",
   "execution_count": null,
   "metadata": {},
   "outputs": [],
   "source": [
    "# TODO: get chief complaint"
   ]
  },
  {
   "cell_type": "code",
   "execution_count": null,
   "metadata": {},
   "outputs": [],
   "source": [
    "aam_df"
   ]
  },
  {
   "cell_type": "code",
   "execution_count": null,
   "metadata": {},
   "outputs": [],
   "source": [
    "aam_df.to_csv(\"/data/adarsh/fda_project_data/study_cohort_commorbidity_features.csv\", index=False)"
   ]
  },
  {
   "cell_type": "code",
   "execution_count": null,
   "metadata": {},
   "outputs": [],
   "source": [
    "cdm_s.query('fid == \"chief_complaint\"')"
   ]
  },
  {
   "cell_type": "code",
   "execution_count": null,
   "metadata": {},
   "outputs": [],
   "source": [
    "wrong_ed_alert_ids = np.load(\"/data/adarsh/fda_project_data/predictions/ed_admits_wrong_alerts.npy\")"
   ]
  },
  {
   "cell_type": "code",
   "execution_count": null,
   "metadata": {},
   "outputs": [],
   "source": [
    "complaints = cdm_s.query('fid == \"chief_complaint\" and enc_id in @wrong_ed_alert_ids').value.values"
   ]
  },
  {
   "cell_type": "code",
   "execution_count": null,
   "metadata": {},
   "outputs": [],
   "source": [
    "wrong_ed_complaint_df = cdm_s.query('fid == \"chief_complaint\" and enc_id in @wrong_ed_alert_ids')"
   ]
  },
  {
   "cell_type": "code",
   "execution_count": null,
   "metadata": {},
   "outputs": [],
   "source": [
    "complaints"
   ]
  },
  {
   "cell_type": "code",
   "execution_count": null,
   "metadata": {},
   "outputs": [],
   "source": [
    "json.loads(complaints[0])[0]['reason']"
   ]
  },
  {
   "cell_type": "code",
   "execution_count": null,
   "metadata": {},
   "outputs": [],
   "source": []
  },
  {
   "cell_type": "code",
   "execution_count": null,
   "metadata": {},
   "outputs": [],
   "source": [
    "unrolled_complaints = pd.json_normalize(cdm_s.query('fid == \"chief_complaint\" and enc_id in @wrong_ed_alert_ids').value.apply(json.loads).apply(lambda x: x[0]))"
   ]
  },
  {
   "cell_type": "code",
   "execution_count": null,
   "metadata": {},
   "outputs": [],
   "source": [
    "wrong_ed_complaint_df['reason'] = unrolled_complaints['reason'].values\n",
    "wrong_ed_complaint_df['comments'] = unrolled_complaints['comments'].values"
   ]
  },
  {
   "cell_type": "code",
   "execution_count": null,
   "metadata": {},
   "outputs": [],
   "source": [
    "complaint_counts = wrong_ed_complaint_df[['enc_id', 'reason']].groupby('reason', as_index=False).count().sort_values('enc_id', ascending=False)"
   ]
  },
  {
   "cell_type": "code",
   "execution_count": null,
   "metadata": {},
   "outputs": [],
   "source": [
    "complaint_counts.reason.values"
   ]
  },
  {
   "cell_type": "code",
   "execution_count": null,
   "metadata": {},
   "outputs": [],
   "source": [
    "complaint_counts.query('enc_id > 10')"
   ]
  },
  {
   "cell_type": "code",
   "execution_count": null,
   "metadata": {},
   "outputs": [],
   "source": []
  }
 ],
 "metadata": {
  "kernelspec": {
   "display_name": "Python 3 (ipykernel)",
   "language": "python",
   "name": "python3"
  },
  "language_info": {
   "codemirror_mode": {
    "name": "ipython",
    "version": 3
   },
   "file_extension": ".py",
   "mimetype": "text/x-python",
   "name": "python",
   "nbconvert_exporter": "python",
   "pygments_lexer": "ipython3",
   "version": "3.10.12"
  }
 },
 "nbformat": 4,
 "nbformat_minor": 4
}
